{
 "cells": [
  {
   "cell_type": "markdown",
   "metadata": {},
   "source": [
    "# 02 Performance Analysis\n",
    "\n",
    "本章我们介绍一些常用的Python 性能分析的工具和方法。"
   ]
  },
  {
   "cell_type": "markdown",
   "metadata": {},
   "source": [
    "## 1. Measure computation time\n",
    "\n",
    "首先，我们讨论一下如何衡量一个函数的运行时间。\n",
    "\n",
    "我们已菲波纳西数列为例，函数如下。"
   ]
  },
  {
   "cell_type": "code",
   "execution_count": 2,
   "metadata": {},
   "outputs": [],
   "source": [
    "def fibonacci(n): \n",
    "    if n<0: \n",
    "        print(\"Incorrect input\") \n",
    "    # First Fibonacci number is 0 \n",
    "    elif n==1: \n",
    "        return 0\n",
    "    # Second Fibonacci number is 1 \n",
    "    elif n==2: \n",
    "        return 1\n",
    "    else: \n",
    "        return fibonacci(n-1) + fibonacci(n-2) "
   ]
  },
  {
   "cell_type": "markdown",
   "metadata": {},
   "source": [
    "### 方法1: 使用`time.time()` 函数\n",
    "\n",
    "This is a quick and dirty mothod."
   ]
  },
  {
   "cell_type": "code",
   "execution_count": 3,
   "metadata": {},
   "outputs": [],
   "source": [
    "import time"
   ]
  },
  {
   "cell_type": "code",
   "execution_count": 4,
   "metadata": {},
   "outputs": [
    {
     "name": "stdout",
     "output_type": "stream",
     "text": [
      "result:  5702887\n",
      "time consumption:  3.197543144226074\n"
     ]
    }
   ],
   "source": [
    "t_start = time.time()\n",
    "result = fibonacci(35)\n",
    "t_end = time.time()\n",
    "\n",
    "print('result: ', result)\n",
    "print('time consumption: ', t_end - t_start)"
   ]
  },
  {
   "cell_type": "code",
   "execution_count": 5,
   "metadata": {},
   "outputs": [],
   "source": [
    "from functools import wraps\n",
    "\n",
    "def timefn(fn):\n",
    "    @wraps(fn)\n",
    "    def measure_time(*args, **kwargs):\n",
    "        t_start = time.time()\n",
    "        result = fn(*args, **kwargs)\n",
    "        t_end = time.time()\n",
    "        \n",
    "        print('@timefn: {} took {} seconds.'.format(fn.__name__, str(t_end - t_start)))\n",
    "        return result\n",
    "    \n",
    "    return measure_time"
   ]
  },
  {
   "cell_type": "markdown",
   "metadata": {},
   "source": [
    "### 方法2: 使用修饰器"
   ]
  },
  {
   "cell_type": "code",
   "execution_count": 6,
   "metadata": {},
   "outputs": [],
   "source": [
    "@timefn\n",
    "def fibonacci_2(n): \n",
    "    if n<0: \n",
    "        print(\"Incorrect input\") \n",
    "    # First Fibonacci number is 0 \n",
    "    elif n==1: \n",
    "        return 0\n",
    "    # Second Fibonacci number is 1 \n",
    "    elif n==2: \n",
    "        return 1\n",
    "    else: \n",
    "        return fibonacci(n-1) + fibonacci(n-2) "
   ]
  },
  {
   "cell_type": "code",
   "execution_count": 7,
   "metadata": {},
   "outputs": [
    {
     "name": "stdout",
     "output_type": "stream",
     "text": [
      "@timefn: fibonacci_2 took 3.2178399562835693 seconds.\n",
      "result:  5702887\n",
      "time consumption:  3.218092918395996\n"
     ]
    }
   ],
   "source": [
    "t_start = time.time()\n",
    "result = fibonacci_2(35)\n",
    "t_end = time.time()\n",
    "\n",
    "print('result: ', result)\n",
    "print('time consumption: ', t_end - t_start)"
   ]
  },
  {
   "cell_type": "markdown",
   "metadata": {},
   "source": [
    "### 方法3: `timeit`\n",
    "\n",
    "`python -m timeit -n 5 -r 5 -s \"import julia1\" \"julia1.calc_pure_python(desired_width=1000, max_iterations=300)\"`\n",
    "\n",
    "- `-n` numner, #time of statement\n",
    "- `-r` repeat, #time to repeat \n",
    "\n",
    "执行r次，每次执行n遍\n",
    "\n",
    "在notebook 中可以直接使用`%timeit` 执行。"
   ]
  },
  {
   "cell_type": "code",
   "execution_count": 10,
   "metadata": {},
   "outputs": [
    {
     "name": "stdout",
     "output_type": "stream",
     "text": [
      "@timefn: fibonacci_2 took 3.148715019226074 seconds.\n",
      "@timefn: fibonacci_2 took 3.094666004180908 seconds.\n",
      "@timefn: fibonacci_2 took 3.0998528003692627 seconds.\n",
      "@timefn: fibonacci_2 took 3.1102662086486816 seconds.\n",
      "@timefn: fibonacci_2 took 3.101901054382324 seconds.\n",
      "@timefn: fibonacci_2 took 3.0955021381378174 seconds.\n",
      "@timefn: fibonacci_2 took 3.1246137619018555 seconds.\n",
      "@timefn: fibonacci_2 took 3.091104030609131 seconds.\n",
      "@timefn: fibonacci_2 took 3.1242449283599854 seconds.\n",
      "@timefn: fibonacci_2 took 3.106576919555664 seconds.\n",
      "@timefn: fibonacci_2 took 3.0907037258148193 seconds.\n",
      "@timefn: fibonacci_2 took 3.1099021434783936 seconds.\n",
      "@timefn: fibonacci_2 took 3.105059862136841 seconds.\n",
      "@timefn: fibonacci_2 took 3.1034622192382812 seconds.\n",
      "@timefn: fibonacci_2 took 3.1010360717773438 seconds.\n",
      "3.11 s ± 3.8 ms per loop (mean ± std. dev. of 3 runs, 5 loops each)\n"
     ]
    }
   ],
   "source": [
    "%timeit -n 5 -r 3 fibonacci_2(35)"
   ]
  },
  {
   "cell_type": "markdown",
   "metadata": {},
   "source": [
    "同时，我们可以在程序执行的时候对资源进行监测，如下图所示，我们看到了CPU 的变化。\n",
    "\n",
    "![](./figures/cpu.png)"
   ]
  },
  {
   "cell_type": "markdown",
   "metadata": {},
   "source": [
    "### 方法4: 使用UNIX 操作系统的time 命令\n",
    "\n",
    "使用 `-p` 开关，可以得到三个结果：\n",
    "- real: 整体耗时 \n",
    "- user: CPU 花在任务上的时间\n",
    "- sys: 内河函数耗费时间\n",
    "\n",
    "![](./figures/time.png)\n",
    "\n",
    "一般说来，user + sys = real，上图中极小的差值可能是花费在IO等待上。\n",
    "\n",
    "在mac 电脑上，可以安装gnu-time package:\n",
    "\n",
    "`brew install gnu-time`\n",
    "\n",
    "然后我们可以使用以下命令查看更多信息：\n",
    "\n",
    "`gtime --verbose python xxx.py`\n",
    "\n",
    "类似于下面的结果：\n",
    "\n",
    "```bash\n",
    "$ /usr/bin/time --verbose python julia1_nopil.py\n",
    "Length of x: 1000\n",
    "Total elements: 1000000\n",
    "calculate_z_serial_purepython took 12.3145110607 seconds\n",
    "    Command being timed: \"python julia1_nopil.py\"\n",
    "    User time (seconds): 13.46\n",
    "    System time (seconds): 0.05\n",
    "    Percent of CPU this job got: 99%\n",
    "    Elapsed (wall clock) time (h:mm:ss or m:ss): 0:13.53\n",
    "    Average shared text size (kbytes): 0\n",
    "    Average unshared data size (kbytes): 0\n",
    "    Average stack size (kbytes): 0\n",
    "    Average total size (kbytes): 0\n",
    "    Maximum resident set size (kbytes): 131952\n",
    "    Average resident set size (kbytes): 0\n",
    "    Major (requiring I/O) page faults: 0\n",
    "    Minor (reclaiming a frame) page faults: 58974\n",
    "    Voluntary context switches: 3\n",
    "    Involuntary context switches: 26\n",
    "    Swaps: 0\n",
    "    File system inputs: 0\n",
    "    File system outputs: 1968\n",
    "    Socket messages sent: 0\n",
    "    Socket messages received: 0\n",
    "    Signals delivered: 0\n",
    "    Page size (bytes): 4096\n",
    "    Exit status: 0\n",
    "```\n",
    "\n",
    "比较关键的指标是：\n",
    "\n",
    "```Major (requiring I/O) page faults: 0```"
   ]
  },
  {
   "cell_type": "code",
   "execution_count": null,
   "metadata": {},
   "outputs": [],
   "source": [
    "\n"
   ]
  }
 ],
 "metadata": {
  "kernelspec": {
   "display_name": "Python 3",
   "language": "python",
   "name": "python3"
  },
  "language_info": {
   "codemirror_mode": {
    "name": "ipython",
    "version": 3
   },
   "file_extension": ".py",
   "mimetype": "text/x-python",
   "name": "python",
   "nbconvert_exporter": "python",
   "pygments_lexer": "ipython3",
   "version": "3.6.4"
  }
 },
 "nbformat": 4,
 "nbformat_minor": 2
}
