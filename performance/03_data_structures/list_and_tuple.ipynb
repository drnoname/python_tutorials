{
 "cells": [
  {
   "cell_type": "markdown",
   "metadata": {},
   "source": [
    "# 列表和数组\n",
    "\n",
    "高性能编程最重要的事情是了解你的数据结构所能提供的性能保证。(understanding the guarantees of the data structures you use.)\n",
    "\n",
    "所以，我们需要掌握：\n",
    "- understanding what questions you are trying to ask of your data and \n",
    "- picking a data structure that can answer these questions quickly\n",
    "\n",
    "#### 编写高效代码的原则：\n",
    "- 选择正确的数据结构并坚持使用它\n",
    "    - 注意，有时为了使用更高效的数据结构，可能需要更高的代价来构建它(例如，字典)。\n",
    "- 通用的代码会比为某个特定问题设计的代码慢得多\n",
    "    - 例如，列表的数据类型可能不同，如果都为数字，使用numpy 会更高效。\n",
    "    - 非数字的数据，可以使用blist 和array\n",
    "\n"
   ]
  },
  {
   "cell_type": "markdown",
   "metadata": {},
   "source": [
    "## 1. 数组 (Array)\n",
    "Lists and tuples are a class of data structures called arrays.\n",
    "\n",
    "通常，我们创建一个数组的时候，需要和操作系统kernel 交互，在内存中分配M 个连续的地址。例如下图所示，我们在内存中分配了6个连续的地址空间，第一个元素是列表的长度，后面五个地址空间用于存储对象的地址引用。\n",
    "\n",
    "<img src=\"figures/arrays.png\" alt=\"drawing\" width=\"600\"/>\n",
    "\n",
    "通过index 对list 的查找时间是$O(1)$. 下面我们可以看出，两个长度不同的lists，获取其特定index 的元素时间相同(极为相近)。"
   ]
  },
  {
   "cell_type": "code",
   "execution_count": 4,
   "metadata": {},
   "outputs": [
    {
     "name": "stdout",
     "output_type": "stream",
     "text": [
      "lenth of list:  10\n",
      "99.1 ns ± 1.81 ns per loop (mean ± std. dev. of 7 runs, 10000000 loops each)\n"
     ]
    }
   ],
   "source": [
    "l = range(10)\n",
    "print('lenth of list: ', len(l))\n",
    "%timeit l[5]"
   ]
  },
  {
   "cell_type": "code",
   "execution_count": 5,
   "metadata": {},
   "outputs": [
    {
     "name": "stdout",
     "output_type": "stream",
     "text": [
      "lenth of list:  1000000\n",
      "96.1 ns ± 1.17 ns per loop (mean ± std. dev. of 7 runs, 10000000 loops each)\n"
     ]
    }
   ],
   "source": [
    "l = range(1000000)\n",
    "print('lenth of list: ', len(l))\n",
    "%timeit l[5]"
   ]
  },
  {
   "cell_type": "markdown",
   "metadata": {},
   "source": [
    "如果我们想通过值来获取它在一个列表中的index(例如，判断某list 中是否包含某元素)，解决这个方法的基本方法叫线性搜索, 其算法复杂度为$O(n)$。"
   ]
  },
  {
   "cell_type": "code",
   "execution_count": 10,
   "metadata": {},
   "outputs": [],
   "source": [
    "# list.index() 的方法\n",
    "\n",
    "def linear_search(value, lst):\n",
    "    for i, item in enumerate(lst):\n",
    "        if item == value:\n",
    "            return i\n",
    "    return -1"
   ]
  },
  {
   "cell_type": "code",
   "execution_count": 9,
   "metadata": {},
   "outputs": [
    {
     "name": "stdout",
     "output_type": "stream",
     "text": [
      "1\n",
      "-1\n"
     ]
    }
   ],
   "source": [
    "lst = [9, 18, 18, 19, 29, 42, 56, 61, 88, 95]\n",
    "\n",
    "print(linear_search(18, lst))\n",
    "print(linear_search(1, lst))"
   ]
  },
  {
   "cell_type": "markdown",
   "metadata": {},
   "source": [
    "高效搜索的必备要素：\n",
    "- 排序算法\n",
    "- 搜索算法\n",
    "\n",
    "解决这个问题的一个方法是，首先对列表进行排序，然后使用较快的二分查找。"
   ]
  },
  {
   "cell_type": "markdown",
   "metadata": {},
   "source": [
    "### 1.1 排序\n",
    "\n",
    "Python内建的排序使用了Tim Sort, 混用了插入排序 (insertion sort)和合并排序(merge sort). 在最差情况下复杂度为$O(n)$."
   ]
  },
  {
   "cell_type": "markdown",
   "metadata": {},
   "source": [
    "### 1.2 搜索\n",
    "\n",
    "二分搜索复杂度$O(log n)$"
   ]
  },
  {
   "cell_type": "code",
   "execution_count": 11,
   "metadata": {},
   "outputs": [],
   "source": [
    "def binary_search(value, lst):\n",
    "    imin, imax = 0, len(lst)\n",
    "    while True:\n",
    "        if imin >= imax:\n",
    "            return -1\n",
    "        \n",
    "        mid_point = (imin + imax) // 2\n",
    "        \n",
    "        if lst[mid_point] > value:\n",
    "            imax = mid_point\n",
    "            \n",
    "        elif lst[mid_point] < value:\n",
    "            imin = mid_point\n",
    "            \n",
    "        else: \n",
    "            return mid_point"
   ]
  },
  {
   "cell_type": "code",
   "execution_count": 12,
   "metadata": {},
   "outputs": [
    {
     "name": "stdout",
     "output_type": "stream",
     "text": [
      "2\n",
      "-1\n"
     ]
    }
   ],
   "source": [
    "print(binary_search(18, lst))\n",
    "print(binary_search(1, lst))"
   ]
  },
  {
   "cell_type": "markdown",
   "metadata": {},
   "source": [
    "我们可以看出，我们找到了第二个18，而非第一次出现的index."
   ]
  },
  {
   "cell_type": "markdown",
   "metadata": {},
   "source": [
    "#### list v.s. dict\n",
    "\n",
    "- 查找字典的时间复杂度为$O(1)$, 但是构建字典的复杂读为$O(n)$.\n",
    "- 字典要求没有重复的key，list 中可以用相同的元素"
   ]
  },
  {
   "cell_type": "markdown",
   "metadata": {},
   "source": [
    "#### bisect module\n",
    "\n",
    "- `bisect.insort(lst, value)` 保持排序的同时往列表中添加元素\n",
    "- `bisect.bisect_left(lst, value)` 基于优化的二分查找，返回离搜索值最近的元素(并大于搜索值)的index"
   ]
  },
  {
   "cell_type": "markdown",
   "metadata": {},
   "source": []
  },
  {
   "cell_type": "code",
   "execution_count": 26,
   "metadata": {},
   "outputs": [],
   "source": [
    "import bisect\n",
    "import random\n",
    "\n",
    "important_numbers = []\n",
    "for i in range(10):\n",
    "    new_number = random.randint(0, 1000)\n",
    "    bisect.insort(important_numbers, new_number)"
   ]
  },
  {
   "cell_type": "code",
   "execution_count": 34,
   "metadata": {},
   "outputs": [
    {
     "name": "stdout",
     "output_type": "stream",
     "text": [
      "[161, 234, 275, 298, 312, 363, 640, 668, 744, 746]\n"
     ]
    }
   ],
   "source": [
    "# important_numbers will already be in order because we inserted new elements\n",
    "# with bisect.insort\n",
    "print(important_numbers)"
   ]
  },
  {
   "cell_type": "code",
   "execution_count": null,
   "metadata": {},
   "outputs": [],
   "source": [
    "def find_closest(lst, value):\n",
    "    # bisect.bisect_left will return the first value in the lst\n",
    "    # that is greater than the value\n",
    "    i = bisect.bisect_left(lst, value)\n",
    "    \n",
    "    print('i: ', i)\n",
    "    \n",
    "    if i == len(lst):\n",
    "        return i - 1\n",
    "    \n",
    "    elif lst[i] == value:\n",
    "        return i\n",
    "    \n",
    "    elif i > 0:\n",
    "        j = i - 1\n",
    "        \n",
    "        # since we know the value is larger than needle (and vice versa for the\n",
    "        # value at j), we don't need to use absolute values here\n",
    "        if lst[i] - value > value - lst[j]:\n",
    "            return j\n",
    "    return i"
   ]
  },
  {
   "cell_type": "code",
   "execution_count": 41,
   "metadata": {},
   "outputs": [
    {
     "name": "stdout",
     "output_type": "stream",
     "text": [
      "i:  0\n",
      "closest_index:  0\n",
      "Closest value to -250:  161\n"
     ]
    }
   ],
   "source": [
    "closest_index = find_closest(important_numbers, -250)\n",
    "print('closest_index: ', closest_index)\n",
    "print(\"Closest value to -250: \", important_numbers[closest_index])"
   ]
  },
  {
   "cell_type": "code",
   "execution_count": 42,
   "metadata": {},
   "outputs": [
    {
     "name": "stdout",
     "output_type": "stream",
     "text": [
      "i:  6\n",
      "closest_index:  5\n",
      "Closest value to 500:  363\n"
     ]
    }
   ],
   "source": [
    "closest_index = find_closest(important_numbers, 500)\n",
    "print('closest_index: ', closest_index)\n",
    "print(\"Closest value to 500: \", important_numbers[closest_index])"
   ]
  },
  {
   "cell_type": "code",
   "execution_count": 43,
   "metadata": {},
   "outputs": [
    {
     "name": "stdout",
     "output_type": "stream",
     "text": [
      "i:  10\n",
      "closest_index:  9\n",
      "Closest value to 1100:  746\n"
     ]
    }
   ],
   "source": [
    "closest_index = find_closest(important_numbers, 1100)\n",
    "print('closest_index: ', closest_index)\n",
    "print(\"Closest value to 1100: \", important_numbers[closest_index])"
   ]
  },
  {
   "cell_type": "markdown",
   "metadata": {},
   "source": [
    "## 2. 列表\n",
    "\n",
    "#### 动态改变长度\n",
    "\n",
    "当列表(长度为N)的空间用完，再执行append 操作时，Python会做如下操作：\n",
    "- 创建一个新的列表，长度为M+N \n",
    "- 将N个元素复制到新的列表\n",
    "\n",
    "因为copy 是一个很昂贵的操作(尤其当列表的长度很长的时候)，所以每次扩容，会在N 的基础上向后多扩M个元素，避免以后再进行append 操作时，需要再次移动前面的所有元素。\n",
    "\n",
    "新分配的单元个数M 和N 的关系如下(此处需要check 以下)："
   ]
  },
  {
   "cell_type": "code",
   "execution_count": 17,
   "metadata": {},
   "outputs": [],
   "source": [
    "def calculate_M(N):\n",
    "    return (N >> 3) + (3 if N < 9 else 6)"
   ]
  },
  {
   "cell_type": "code",
   "execution_count": 18,
   "metadata": {},
   "outputs": [
    {
     "name": "stdout",
     "output_type": "stream",
     "text": [
      "M =  3\n",
      "M =  3\n",
      "M =  3\n",
      "M =  3\n",
      "M =  3\n",
      "M =  3\n",
      "M =  3\n",
      "M =  3\n",
      "M =  4\n",
      "M =  7\n"
     ]
    }
   ],
   "source": [
    "for N in range(10):\n",
    "    print('M = ', calculate_M(N))"
   ]
  },
  {
   "cell_type": "markdown",
   "metadata": {},
   "source": [
    "下图展示了一个列表在多次添加时的内存变化示例。\n",
    "\n",
    "<img src=\"figures/list_append.png\" alt=\"drawing\" width=\"200\"/>\n",
    "\n",
    "第一次扩容(超额分配)发生在第一次向列表添加元素的时候。在列表创建是，完全是按需的。"
   ]
  },
  {
   "cell_type": "markdown",
   "metadata": {},
   "source": [
    "## 3. 元组\n",
    "\n",
    "元组和列表的区别总结与下表：\n",
    "\n",
    "|               list               |                tuple               |\n",
    "|--------------------------------|----------------------------------|\n",
    "| 动态，长度可变，元素可变         | 静态，长度不可变，元素不可变       |\n",
    "| 需要操作系统内核在内存中分配资源 | 资源缓存，无需操作系统内核分配资源 |\n",
    "| 分配的资源一般大于实际所需资源   | 分配资源等于实际数据所需资源       |\n",
    "| 相对较重量级数据结构(比字典轻)   | 轻量级数据结构                     |"
   ]
  },
  {
   "cell_type": "markdown",
   "metadata": {},
   "source": [
    "从下面我们可以看出，初始化一个数组要比初始化一个元组慢5倍左右。"
   ]
  },
  {
   "cell_type": "code",
   "execution_count": 19,
   "metadata": {},
   "outputs": [
    {
     "name": "stdout",
     "output_type": "stream",
     "text": [
      "90.8 ns ± 1.13 ns per loop (mean ± std. dev. of 7 runs, 10000000 loops each)\n"
     ]
    }
   ],
   "source": [
    "%timeit l = [0,1,2,3,4,5,6,7,8,9]"
   ]
  },
  {
   "cell_type": "code",
   "execution_count": 20,
   "metadata": {},
   "outputs": [
    {
     "name": "stdout",
     "output_type": "stream",
     "text": [
      "16.9 ns ± 0.216 ns per loop (mean ± std. dev. of 7 runs, 100000000 loops each)\n"
     ]
    }
   ],
   "source": [
    "%timeit l = (0,1,2,3,4,5,6,7,8,9)"
   ]
  },
  {
   "cell_type": "code",
   "execution_count": null,
   "metadata": {},
   "outputs": [],
   "source": []
  }
 ],
 "metadata": {
  "kernelspec": {
   "display_name": "Python 3",
   "language": "python",
   "name": "python3"
  },
  "language_info": {
   "codemirror_mode": {
    "name": "ipython",
    "version": 3
   },
   "file_extension": ".py",
   "mimetype": "text/x-python",
   "name": "python",
   "nbconvert_exporter": "python",
   "pygments_lexer": "ipython3",
   "version": "3.6.4"
  }
 },
 "nbformat": 4,
 "nbformat_minor": 2
}
