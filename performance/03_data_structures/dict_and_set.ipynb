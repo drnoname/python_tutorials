{
 "cells": [
  {
   "cell_type": "markdown",
   "metadata": {},
   "source": [
    "# 字典和集合\n",
    "\n",
    "集合和字典很像，只是不包含value，是一堆key 的组合。\n",
    "\n",
    "使用字典和集合的优势:\n",
    "- 查询和插入的时间复杂度均为$O(1)$(使用底层数据结构: 开放地址散列表)。\n",
    "\n",
    "局限性是：\n",
    "- 通常会使用更大的内存\n",
    "- 实际速度取决于散列函数(虽然复杂度为$O(1)$)"
   ]
  },
  {
   "cell_type": "markdown",
   "metadata": {},
   "source": [
    "## 1. 字典和集合基础\n",
    "\n",
    "### 1.1 字典\n",
    "\n",
    "下面，我们看如何使用一个列表来实现电话簿查询功能。"
   ]
  },
  {
   "cell_type": "markdown",
   "metadata": {},
   "source": [
    "#### 列表版本"
   ]
  },
  {
   "cell_type": "code",
   "execution_count": 1,
   "metadata": {},
   "outputs": [],
   "source": [
    "phonebook = [\n",
    "    (\"John Doe\", \"555-555-5555\"),\n",
    "    (\"Albert Einstein\", \"212-555-5555\"),\n",
    "]"
   ]
  },
  {
   "cell_type": "code",
   "execution_count": 5,
   "metadata": {},
   "outputs": [],
   "source": [
    "def find_phonenumber(phonebook, input_name):\n",
    "    for name, phone in phonebook:\n",
    "        if name == input_name:\n",
    "            return phone\n",
    "    return None"
   ]
  },
  {
   "cell_type": "code",
   "execution_count": 6,
   "metadata": {},
   "outputs": [
    {
     "data": {
      "text/plain": [
       "'555-555-5555'"
      ]
     },
     "execution_count": 6,
     "metadata": {},
     "output_type": "execute_result"
    }
   ],
   "source": [
    "find_phonenumber(phonebook, \"John Doe\")  # 找到"
   ]
  },
  {
   "cell_type": "code",
   "execution_count": 7,
   "metadata": {},
   "outputs": [],
   "source": [
    "find_phonenumber(phonebook, \"Obama\")  # 没找到"
   ]
  },
  {
   "cell_type": "markdown",
   "metadata": {},
   "source": [
    "#### 字典版本"
   ]
  },
  {
   "cell_type": "code",
   "execution_count": 8,
   "metadata": {},
   "outputs": [],
   "source": [
    "phonebook = {\n",
    "    \"John Doe\": \"555-555-5555\",\n",
    "    \"Albert Einstein\" : \"212-555-5555\",\n",
    "}"
   ]
  },
  {
   "cell_type": "code",
   "execution_count": 9,
   "metadata": {},
   "outputs": [
    {
     "data": {
      "text/plain": [
       "'555-555-5555'"
      ]
     },
     "execution_count": 9,
     "metadata": {},
     "output_type": "execute_result"
    }
   ],
   "source": [
    "phonebook[\"John Doe\"]  # 找到，返回结果"
   ]
  },
  {
   "cell_type": "code",
   "execution_count": 10,
   "metadata": {},
   "outputs": [
    {
     "ename": "KeyError",
     "evalue": "'Obama'",
     "output_type": "error",
     "traceback": [
      "\u001b[0;31m---------------------------------------------------------------------------\u001b[0m",
      "\u001b[0;31mKeyError\u001b[0m                                  Traceback (most recent call last)",
      "\u001b[0;32m<ipython-input-10-5b9c19d879b8>\u001b[0m in \u001b[0;36m<module>\u001b[0;34m()\u001b[0m\n\u001b[0;32m----> 1\u001b[0;31m \u001b[0mphonebook\u001b[0m\u001b[0;34m[\u001b[0m\u001b[0;34m\"Obama\"\u001b[0m\u001b[0;34m]\u001b[0m\u001b[0;34m\u001b[0m\u001b[0m\n\u001b[0m",
      "\u001b[0;31mKeyError\u001b[0m: 'Obama'"
     ]
    }
   ],
   "source": [
    "phonebook[\"Obama\"]  # 找不到，抛出KeyError"
   ]
  },
  {
   "cell_type": "markdown",
   "metadata": {},
   "source": [
    "#### 注意\n",
    "\n",
    "一般在字典查询是要使用try...except... 来捕捉异常。"
   ]
  },
  {
   "cell_type": "markdown",
   "metadata": {},
   "source": [
    "### 1.2 集合"
   ]
  },
  {
   "cell_type": "code",
   "execution_count": 16,
   "metadata": {},
   "outputs": [],
   "source": [
    "phonebook = [\n",
    "(\"John Doe\", \"555-555-5555\"),\n",
    "(\"Albert Einstein\", \"212-555-5555\"),\n",
    "(\"John Murphey\", \"202-555-5555\"),\n",
    "(\"Albert Rutherford\", \"647-555-5555\"),\n",
    "(\"Elaine Bodian\", \"301-555-5555\"),\n",
    "]"
   ]
  },
  {
   "cell_type": "markdown",
   "metadata": {},
   "source": [
    "下面我们写两个函数来计算一个列表中的unique first name. `list_unique_names`使用列表，`set_unique_names` 使用集合。\n",
    "\n",
    "我们可以看出，上面phonebook 中有5个人，其中有两个人的first name 是John，两个人叫Albert。所以unique first name 应该是3个。"
   ]
  },
  {
   "cell_type": "code",
   "execution_count": 23,
   "metadata": {},
   "outputs": [],
   "source": [
    "def list_unique_names(phonebook):\n",
    "    unique_names = []  # 使用列表存储unique names\n",
    "    for name, phonenumber in phonebook:  # 复杂度 O(n)\n",
    "        first_name, last_name = name.split(\" \", 1)\n",
    "        for unique in unique_names: #  复杂度 O(n) \n",
    "            if unique == first_name: \n",
    "                break\n",
    "        else:  # else 和for loop 一起使用，意味着没有loop 中所有的if 都没有执行，然后执行loop 之外的else. \n",
    "            unique_names.append(first_name)\n",
    "    return len(unique_names)"
   ]
  },
  {
   "cell_type": "code",
   "execution_count": 14,
   "metadata": {},
   "outputs": [],
   "source": [
    "def set_unique_names(phonebook):\n",
    "    unique_names = set()  # 使用集合存储unique names\n",
    "    for name, phonenumber in phonebook:  # 复杂度 O(n)\n",
    "        first_name, last_name = name.split(\" \", 1)\n",
    "        unique_names.add(first_name) #  无需遍历unique_names 复杂度O(1)\n",
    "    return len(unique_names)"
   ]
  },
  {
   "cell_type": "code",
   "execution_count": 21,
   "metadata": {},
   "outputs": [
    {
     "data": {
      "text/plain": [
       "3"
      ]
     },
     "execution_count": 21,
     "metadata": {},
     "output_type": "execute_result"
    }
   ],
   "source": [
    "list_unique_names(phonebook)"
   ]
  },
  {
   "cell_type": "code",
   "execution_count": 17,
   "metadata": {},
   "outputs": [
    {
     "data": {
      "text/plain": [
       "3"
      ]
     },
     "execution_count": 17,
     "metadata": {},
     "output_type": "execute_result"
    }
   ],
   "source": [
    "set_unique_names(phonebook)"
   ]
  },
  {
   "cell_type": "markdown",
   "metadata": {},
   "source": [
    "`list_unique_names` 内部循环的复杂度为$O(n)$, 外部循环的复杂度也是$O(n)$, 所以整个方法的复杂度为$O(n^2)$.\n",
    "\n",
    "`set_unique_names` 内部循环的复杂度为$O(1)$, 外部循环的复杂度是$O(n)$, 所以整个方法的复杂度为$O(n)$.\n",
    "\n",
    "对于有10,000 entries 和 7,422 unique first name 的phonebook，我们使用`list_unique_names` 的时间为2.5s左右，使用`set_unique_names` 的时间为9.5ms。\n",
    "\n",
    "#### 注意\n",
    "\n",
    "我们在`list_unique_names` 函数中在for loop 之后使用了else. More explaination can be find [here](https://stackoverflow.com/questions/9979970/why-does-python-use-else-after-for-and-while-loops).\n",
    "\n",
    "A common construct is to run a loop until something is found and then to break out of the loop. The problem is that if I break out of the loop or the loop ends I need to determine which case happened. One method is to create a flag or store variable that will let me do a second test to see how the loop was exited.\n",
    "\n",
    "For example assume that I need to search through a list and process each item until a flag item is found and then stop processing. If the flag item is missing then an exception needs to be raised."
   ]
  },
  {
   "cell_type": "markdown",
   "metadata": {},
   "source": [
    "## 2. 字典和集合如何工作"
   ]
  },
  {
   "cell_type": "markdown",
   "metadata": {},
   "source": [
    "### 2.1 插入\n",
    "\n",
    "插入数据的位置取决于两个因素：\n",
    "- 键的散列值\n",
    "    - 计算key 的散列值 \n",
    "    - 通过掩码来得到一个有效的数组索引。掩码用于截断一个数字，通常意味着取这段数字的最后几位。假如我们数组长度为10，我们可以使用一位十进制的掩码，假如我们数组长度为1024，我们可以使用10位2进制的掩码。\n",
    "- 该值如何跟其他对象比较\n",
    "    - 如果该索引对应的内存单元为空，则可以存储；\n",
    "    - 如果该索引对应的内存单元不为空，我们需要判断内存单元中的值和我们要插入的值(value)是否相同(`cmp`)：\n",
    "        - 如果相同，说明该值已保存，则返回\n",
    "        - 如果不相同，我们需要计算出一个新的索引，这一方法称为嗅探(probing).\n",
    "\n",
    "#### 插入示例\n",
    "假设我们要用字典存储以下数据：\n",
    "\n",
    "```python\n",
    "data = {\n",
    "    \"Rome\": 4,\n",
    "    \"San Francisco\": 3,\n",
    "    \"New York\": 5,\n",
    "    \"Barcelona\": 2,\n",
    "}\n",
    "```\n",
    "我们首先定义hash 函数和掩码：\n",
    "- hash 函数: 对key 的第一个字符应用ord 函数，返回一个整数。`ord(key[0])`\n",
    "- 掩码: 对于一个拥有四个元素的字典，将分配8个地址单元(最小)，因此掩码位数为三位，即0b111($2^3=8$).\n",
    "\n",
    "接下来，我们演示以下数据插入的流程。\n",
    "\n",
    "1. 例如下图，我们首先插入数据: {key = Rome, value = 4}. `ord('R')` 的结果是82，二进制为'0b1010010'. 然后3位掩码，即取最低3位作为数组索引(0b010)，即2. 所以该条数据将被插入数组第3个位置(数组的index 从0开始)。\n",
    "\n",
    "2. 接下来，我们插入数据{key = San Francisco, value = 3}. `ord('S')` 的结果是83，二进制为'0b1010011'. 因此索引为3(0b011)，即插入数组第三个位置。\n",
    "\n",
    "3. 接下来，我们插入数据{key = New York, value = 5}. `ord('N')` 的结果是78，二进制为'0b1001110'. 因此索引为6(0b110)，即插入数组第7个位置。\n",
    "\n",
    "4. 最后，我们插入数据{key = Barcelona, value = 2}. `ord('B')` 的结果是66，'0b1000010'. 因此索引为2(0b010)，即插入数组第3个位置。这时，我们发现发生了碰撞。\n",
    "\n",
    "5. 然后我们进行嗅探，这里我们使用线性嗅探(linear probing). 假设我们的嗅探是：i = (5 * i + 1) & mask. i 是初始的散列值，这里位66. 所以下一个嗅探位置数5*66+1 =341. 二进制为: '0b101010101'.通过掩码后所以为5(0b101),即插入数组第6个位置。这时，我们看出第六个位置为空，则准许插入。\n",
    "\n",
    "整个过程如下图所示。\n",
    "\n",
    "<img src=\"figures/insert_hash.png\" alt=\"drawing\" width=\"400\"/>\n",
    "\n",
    "⚠️hash 表存储的时候会存储key 和value，用于查询。"
   ]
  },
  {
   "cell_type": "code",
   "execution_count": 30,
   "metadata": {},
   "outputs": [
    {
     "data": {
      "text/plain": [
       "'0b1010010'"
      ]
     },
     "execution_count": 30,
     "metadata": {},
     "output_type": "execute_result"
    }
   ],
   "source": [
    "bin(ord('R'))"
   ]
  },
  {
   "cell_type": "code",
   "execution_count": 31,
   "metadata": {},
   "outputs": [
    {
     "data": {
      "text/plain": [
       "'0b1010011'"
      ]
     },
     "execution_count": 31,
     "metadata": {},
     "output_type": "execute_result"
    }
   ],
   "source": [
    "bin(ord('S'))"
   ]
  },
  {
   "cell_type": "code",
   "execution_count": 32,
   "metadata": {},
   "outputs": [
    {
     "data": {
      "text/plain": [
       "'0b1001110'"
      ]
     },
     "execution_count": 32,
     "metadata": {},
     "output_type": "execute_result"
    }
   ],
   "source": [
    "bin(ord('N'))"
   ]
  },
  {
   "cell_type": "code",
   "execution_count": 33,
   "metadata": {},
   "outputs": [
    {
     "data": {
      "text/plain": [
       "'0b1000010'"
      ]
     },
     "execution_count": 33,
     "metadata": {},
     "output_type": "execute_result"
    }
   ],
   "source": [
    "bin(ord('B'))"
   ]
  },
  {
   "cell_type": "code",
   "execution_count": 37,
   "metadata": {},
   "outputs": [
    {
     "data": {
      "text/plain": [
       "'0b101010101'"
      ]
     },
     "execution_count": 37,
     "metadata": {},
     "output_type": "execute_result"
    }
   ],
   "source": [
    "bin(5*66 + 11)"
   ]
  },
  {
   "cell_type": "code",
   "execution_count": 38,
   "metadata": {},
   "outputs": [
    {
     "data": {
      "text/plain": [
       "341"
      ]
     },
     "execution_count": 38,
     "metadata": {},
     "output_type": "execute_result"
    }
   ],
   "source": [
    "5*66 + 11"
   ]
  },
  {
   "cell_type": "markdown",
   "metadata": {},
   "source": [
    "### 2.2 查找\n",
    "\n",
    "查找的过程与插入的过程相似，我们只对产生碰撞的情况做一个说明。\n",
    "\n",
    "假设我们需要查询key = Barcelona 的value. \n",
    "1. 首先`ord('B')` 的结果是66，'0b1000010'. \n",
    "2. 通过掩码计算，索引为2(0b010)，即数组第3个位置。\n",
    "3. 我们发现，存在第三个位置的key 是Rome，这时，我们知道发生了碰撞。\n",
    "4. 然后我们进行嗅探，这里同样使用线性嗅探(linear probing). i = (5 * i + 1) & mask. 所以下一个嗅探位置数5*66+1 =341. 二进制为: '0b101010101'.通过掩码后所以为5(0b101),即插入数组第6个位置。\n",
    "5. 这时，我们发现第六个位置为的key 是Barcelona，则返回其值2。\n",
    "\n",
    "如果找到的是一个空，我们则可以判定该元素不在字典中。"
   ]
  },
  {
   "cell_type": "markdown",
   "metadata": {},
   "source": [
    "### 2.3 删除\n",
    "\n",
    "删除一个元素，可能导致的问题是查询出错。\n",
    "\n",
    "例如，我们删除了上面三列表中的Rome 数据。则在查询是，我们通过散列函数+掩码找到第三个位置单元，我们发现这是一个空的单元，因此我们判定当前字典并不包含Barcelona。会导致错误。\n",
    "\n",
    "实际上Python 会在删除的内存单元写入一个特殊值，来表示该桶虽空，但是其后可能还有别的因碰撞二插入的值，需要继续嗅探。"
   ]
  },
  {
   "cell_type": "markdown",
   "metadata": {},
   "source": [
    "### 2.4 改变大小(resize)\n",
    "\n",
    "上面已经提到，初始化一个字典的最小长度是8. \n",
    "- 每次改变大小，会扩容到以前的4倍\n",
    "- 超过50000 个元素后，每次扩容到原先的2倍\n",
    "\n",
    "即：8, 32, 128, 512, 8192, 32768, 131072, 262144, ...\n",
    "\n",
    "研究显示，一个不超过2/3 的表在具有最佳空间节约的同时依然具有不错的散列碰撞避免率。"
   ]
  },
  {
   "cell_type": "markdown",
   "metadata": {},
   "source": [
    "## 3. 散列函数和熵\n",
    "\n",
    "### 3.1 Python 对象的散列表\n",
    "\n",
    "`__hash__` and `__cmp__`\n",
    "\n",
    "- int/float: bit value\n",
    "- tuple/string: content\n",
    "- list: not support hashing - values can change.\n",
    "- User-defined classes: 默认的散列函数返回内存中的位置(id function), 默认的比较是否相等也是比较地址。\n",
    "\n",
    "这样的默认，在有时会出现歧义，例如："
   ]
  },
  {
   "cell_type": "code",
   "execution_count": 48,
   "metadata": {},
   "outputs": [],
   "source": [
    "class Point():\n",
    "    def __init__(self, x, y):\n",
    "        self.x, self.y = x, y"
   ]
  },
  {
   "cell_type": "code",
   "execution_count": 49,
   "metadata": {},
   "outputs": [],
   "source": [
    "p1 = Point(1,1)\n",
    "p2 = Point(1,1)"
   ]
  },
  {
   "cell_type": "code",
   "execution_count": 50,
   "metadata": {},
   "outputs": [],
   "source": [
    "points = set([p1, p2])"
   ]
  },
  {
   "cell_type": "code",
   "execution_count": 51,
   "metadata": {},
   "outputs": [
    {
     "data": {
      "text/plain": [
       "2"
      ]
     },
     "execution_count": 51,
     "metadata": {},
     "output_type": "execute_result"
    }
   ],
   "source": [
    "len(points)"
   ]
  },
  {
   "cell_type": "code",
   "execution_count": 52,
   "metadata": {},
   "outputs": [
    {
     "data": {
      "text/plain": [
       "False"
      ]
     },
     "execution_count": 52,
     "metadata": {},
     "output_type": "execute_result"
    }
   ],
   "source": [
    "p1 == p2"
   ]
  },
  {
   "cell_type": "markdown",
   "metadata": {},
   "source": [
    "我们可以看出，p1 和p2 其实是一个点，因为是两个对象，在内存中占有不同的内存地址，因此使用默认的方法会判断成两个点。未解决这个问题，我们可以重写`__hash__` 和`__eq__`方法。"
   ]
  },
  {
   "cell_type": "code",
   "execution_count": 53,
   "metadata": {},
   "outputs": [],
   "source": [
    "class MyPoint():\n",
    "    def __init__(self, x, y):\n",
    "        self.x, self.y = x, y\n",
    "        \n",
    "    def __hash__(self):\n",
    "        return hash((self.x, self.y))  # 返回一个tuple 的hash值\n",
    "    \n",
    "    def __eq__(self, another_point):\n",
    "        return self.x == another_point.x and self.y == another_point.y"
   ]
  },
  {
   "cell_type": "code",
   "execution_count": 54,
   "metadata": {},
   "outputs": [],
   "source": [
    "p1 = MyPoint(1,1)\n",
    "p2 = MyPoint(1,1)"
   ]
  },
  {
   "cell_type": "code",
   "execution_count": 55,
   "metadata": {},
   "outputs": [
    {
     "data": {
      "text/plain": [
       "True"
      ]
     },
     "execution_count": 55,
     "metadata": {},
     "output_type": "execute_result"
    }
   ],
   "source": [
    "p1 == p2"
   ]
  },
  {
   "cell_type": "code",
   "execution_count": 56,
   "metadata": {},
   "outputs": [],
   "source": [
    "points = set([p1, p2])"
   ]
  },
  {
   "cell_type": "code",
   "execution_count": 58,
   "metadata": {},
   "outputs": [
    {
     "data": {
      "text/plain": [
       "1"
      ]
     },
     "execution_count": 58,
     "metadata": {},
     "output_type": "execute_result"
    }
   ],
   "source": [
    "len(points)  # 因为p1 p2 被判断成一个点，因此set 长度为1"
   ]
  },
  {
   "cell_type": "markdown",
   "metadata": {},
   "source": [
    "### 3.2 散列函数的熵\n",
    "\n",
    "我们可以看出，无论是插入还是查询，碰撞发生的太多，会频繁的嗅探其他索引值，因此会极大的影响效率。如果一个字典中所有的key 都碰撞，则搜索字典和搜索列表的复杂度一样$O(n)$.\n",
    "\n",
    "通常，我们希望数据可以均匀的分布在存储空间中(依托于一个好的散列函数)。数据的均匀程度称为负载因素(load factor), 它跟散列函数的熵有关。\n",
    "\n",
    "衡量散列函数分布均匀程度的标准被称为散列函数的熵。\n",
    "\n",
    "$$S = -\\Sigma p(i)log(p(i))$$\n",
    "\n",
    "p(i) 是散列函数给出值为i 的概率(这通常取决于你的应用场景)。所以完美的散列函数是根据场景决定的。如果所有值的概率相同，则熵最小，分布最均匀，我们称这样的散列函数为完美散列函数。\n",
    "\n",
    "#### 确定掩码长度\n",
    "\n",
    "如果字典的大小为N，则我们为保证性能，我们需要保证N 为约2/3 的空间，那我们需要N*3/2 大小的空间。例如N=1039，则我们需要1559个存储空间。也就是说，我们的字典需要2048个存储位置。我们需要的掩码是bin(2018-1) = '0b11111111111'."
   ]
  },
  {
   "cell_type": "code",
   "execution_count": 59,
   "metadata": {},
   "outputs": [
    {
     "data": {
      "text/plain": [
       "'0b11111111111'"
      ]
     },
     "execution_count": 59,
     "metadata": {},
     "output_type": "execute_result"
    }
   ],
   "source": [
    "bin(2048 - 1)"
   ]
  },
  {
   "cell_type": "markdown",
   "metadata": {},
   "source": [
    "#### good v.s. bad\n",
    "\n",
    "下面我们来展示一个好的哈希函数和一个坏的哈希函数的区别。\n",
    "\n",
    "- bad one: 对于所有输入都返回相同的值, 即所有元素都会碰撞\n",
    "- good one: "
   ]
  },
  {
   "cell_type": "code",
   "execution_count": 60,
   "metadata": {},
   "outputs": [],
   "source": [
    "class BadHash(str):\n",
    "    def __hash__(self):\n",
    "        return 42\n",
    "\n",
    "class GoodHash(str):\n",
    "    def __hash__(self):\n",
    "        \"\"\"\n",
    "        This is a slightly optimized version of twoletter_hash\n",
    "        \"\"\"\n",
    "        return ord(self[1]) + 26 * ord(self[0]) - 2619"
   ]
  },
  {
   "cell_type": "code",
   "execution_count": 62,
   "metadata": {},
   "outputs": [],
   "source": [
    "import string\n",
    "\n",
    "baddict = set()\n",
    "gooddict = set()\n",
    "\n",
    "for i in string.ascii_lowercase:\n",
    "    for j in string.ascii_lowercase:\n",
    "        key = i + j\n",
    "        baddict.add(BadHash(key))\n",
    "        gooddict.add(GoodHash(key))"
   ]
  },
  {
   "cell_type": "code",
   "execution_count": 77,
   "metadata": {},
   "outputs": [
    {
     "name": "stdout",
     "output_type": "stream",
     "text": [
      "17.177631378173828\n"
     ]
    }
   ],
   "source": [
    "import time\n",
    "\n",
    "t1 = time.time()\n",
    "for i in range(1000000):\n",
    "    key = BadHash('zz')\n",
    "    key in baddict\n",
    "t2 = time.time()\n",
    "print(t2-t1)"
   ]
  },
  {
   "cell_type": "code",
   "execution_count": 74,
   "metadata": {},
   "outputs": [
    {
     "name": "stdout",
     "output_type": "stream",
     "text": [
      "0.035019874572753906\n"
     ]
    }
   ],
   "source": [
    "import time\n",
    "\n",
    "t1 = time.time()\n",
    "for i in range(1000000):\n",
    "    key = GoodHash('zz')\n",
    "    key in gooddict\n",
    "t2 = time.time()\n",
    "print(t2-t1)"
   ]
  },
  {
   "cell_type": "markdown",
   "metadata": {},
   "source": [
    "可以看到，频繁的hash 碰撞，导致频繁嗅探，会严重影响效率。"
   ]
  },
  {
   "cell_type": "markdown",
   "metadata": {},
   "source": [
    "## 4. 字典和命名空间\n",
    "\n",
    "Python 命名空间的管理使用了字典。\n",
    "\n",
    "当Python 访问一个标量，函数或模块是：\n",
    "- 首先找`locals()`数组 -- 优化过，很快\n",
    "- 没找到，查找`globals()`字典\n",
    "- 最后，搜索`__builtin__` 对象，其内置了一个`locals()`字典"
   ]
  },
  {
   "cell_type": "code",
   "execution_count": 79,
   "metadata": {},
   "outputs": [],
   "source": [
    "import math\n",
    "from math import sin\n",
    "\n",
    "def test1(x):  # 381ns\n",
    "    return math.sin(x)\n",
    "\n",
    "def test2(x):\n",
    "    return sin(x)  # 311ns\n",
    "\n",
    "def test3(x, sin=math.sin):  # 306ns\n",
    "    return sin(x) "
   ]
  },
  {
   "cell_type": "code",
   "execution_count": 83,
   "metadata": {},
   "outputs": [
    {
     "name": "stdout",
     "output_type": "stream",
     "text": [
      "212 ns ± 6.37 ns per loop (mean ± std. dev. of 7 runs, 1000000 loops each)\n"
     ]
    }
   ],
   "source": [
    "%timeit test1(123456)"
   ]
  },
  {
   "cell_type": "code",
   "execution_count": 85,
   "metadata": {},
   "outputs": [
    {
     "name": "stdout",
     "output_type": "stream",
     "text": [
      "195 ns ± 3.18 ns per loop (mean ± std. dev. of 7 runs, 10000000 loops each)\n"
     ]
    }
   ],
   "source": [
    "%timeit test2(123456)"
   ]
  },
  {
   "cell_type": "code",
   "execution_count": 86,
   "metadata": {},
   "outputs": [
    {
     "name": "stdout",
     "output_type": "stream",
     "text": [
      "180 ns ± 2.39 ns per loop (mean ± std. dev. of 7 runs, 10000000 loops each)\n"
     ]
    }
   ],
   "source": [
    "%timeit test3(123456)"
   ]
  },
  {
   "cell_type": "markdown",
   "metadata": {},
   "source": [
    "我们可以看到第三种方法最快。原因是，第三种方法没有做字典查询。我们通过dis 模块来解析命名空间的解析。"
   ]
  },
  {
   "cell_type": "code",
   "execution_count": 88,
   "metadata": {},
   "outputs": [
    {
     "name": "stdout",
     "output_type": "stream",
     "text": [
      "  5           0 LOAD_GLOBAL              0 (math)\n",
      "              2 LOAD_ATTR                1 (sin)\n",
      "              4 LOAD_FAST                0 (x)\n",
      "              6 CALL_FUNCTION            1\n",
      "              8 RETURN_VALUE\n"
     ]
    }
   ],
   "source": [
    "import dis \n",
    "\n",
    "dis.dis(test1)\n",
    "\n",
    "'''\n",
    "  5           0 LOAD_GLOBAL              0 (math)  -- dict 查找\n",
    "              2 LOAD_ATTR                1 (sin)   -- dict 查找\n",
    "              4 LOAD_FAST                0 (x)     -- local 查找\n",
    "              6 CALL_FUNCTION            1\n",
    "              8 RETURN_VALUE\n",
    "'''"
   ]
  },
  {
   "cell_type": "code",
   "execution_count": 89,
   "metadata": {},
   "outputs": [
    {
     "name": "stdout",
     "output_type": "stream",
     "text": [
      "  8           0 LOAD_GLOBAL              0 (sin)\n",
      "              2 LOAD_FAST                0 (x)\n",
      "              4 CALL_FUNCTION            1\n",
      "              6 RETURN_VALUE\n"
     ]
    }
   ],
   "source": [
    "dis.dis(test2)\n",
    "\n",
    "'''\n",
    "  8           0 LOAD_GLOBAL              0 (sin)  -- dict 查找\n",
    "              2 LOAD_FAST                0 (x)    -- local 查找\n",
    "              4 CALL_FUNCTION            1\n",
    "              6 RETURN_VALUE\n",
    "'''"
   ]
  },
  {
   "cell_type": "code",
   "execution_count": 90,
   "metadata": {},
   "outputs": [
    {
     "name": "stdout",
     "output_type": "stream",
     "text": [
      " 11           0 LOAD_FAST                1 (sin)\n",
      "              2 LOAD_FAST                0 (x)\n",
      "              4 CALL_FUNCTION            1\n",
      "              6 RETURN_VALUE\n"
     ]
    }
   ],
   "source": [
    "dis.dis(test3)\n",
    "\n",
    "'''\n",
    " 11           0 LOAD_FAST                1 (sin)  -- local 查找\n",
    "              2 LOAD_FAST                0 (x)    -- local 查找\n",
    "              4 CALL_FUNCTION            1\n",
    "              6 RETURN_VALUE\n",
    "'''"
   ]
  },
  {
   "cell_type": "markdown",
   "metadata": {},
   "source": [
    "通常的一个技巧是，再循环前设置一个本地变量来保存一个函数的全局引用。"
   ]
  },
  {
   "cell_type": "code",
   "execution_count": 95,
   "metadata": {},
   "outputs": [],
   "source": [
    "def tight_loop_slow(iterations):\n",
    "    \"\"\"\n",
    "    >>> %timeit tight_loop_slow(10000000)\n",
    "    1 loops, best of 3: 2.21 s per loop\n",
    "    \"\"\"\n",
    "    result = 0\n",
    "    for i in range(iterations):\n",
    "        # this call to sin requires a global lookup\n",
    "        result += sin(i)"
   ]
  },
  {
   "cell_type": "code",
   "execution_count": 96,
   "metadata": {},
   "outputs": [],
   "source": [
    "def tight_loop_fast(iterations):\n",
    "    \"\"\"\n",
    "    >>> %timeit tight_loop_fast(10000000)\n",
    "    1 loops, best of 3: 2.02 s per loop\n",
    "    \"\"\"\n",
    "    result = 0\n",
    "    local_sin = sin\n",
    "    for i in range(iterations):\n",
    "        # this call to local_sin requires a local lookup\n",
    "        result += local_sin(i)"
   ]
  },
  {
   "cell_type": "code",
   "execution_count": 97,
   "metadata": {},
   "outputs": [
    {
     "name": "stdout",
     "output_type": "stream",
     "text": [
      "1.51 s ± 71.5 ms per loop (mean ± std. dev. of 7 runs, 1 loop each)\n"
     ]
    }
   ],
   "source": [
    "%timeit tight_loop_slow(10000000)"
   ]
  },
  {
   "cell_type": "code",
   "execution_count": 98,
   "metadata": {},
   "outputs": [
    {
     "name": "stdout",
     "output_type": "stream",
     "text": [
      "1.45 s ± 124 ms per loop (mean ± std. dev. of 7 runs, 1 loop each)\n"
     ]
    }
   ],
   "source": [
    "%timeit tight_loop_fast(10000000)"
   ]
  },
  {
   "cell_type": "markdown",
   "metadata": {},
   "source": [
    "我们可以看出，第二种方法比较快，虽然这种增益并不大。"
   ]
  },
  {
   "cell_type": "code",
   "execution_count": null,
   "metadata": {},
   "outputs": [],
   "source": []
  }
 ],
 "metadata": {
  "kernelspec": {
   "display_name": "Python 3",
   "language": "python",
   "name": "python3"
  },
  "language_info": {
   "codemirror_mode": {
    "name": "ipython",
    "version": 3
   },
   "file_extension": ".py",
   "mimetype": "text/x-python",
   "name": "python",
   "nbconvert_exporter": "python",
   "pygments_lexer": "ipython3",
   "version": "3.6.4"
  }
 },
 "nbformat": 4,
 "nbformat_minor": 2
}
