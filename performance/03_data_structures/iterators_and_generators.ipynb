{
 "cells": [
  {
   "cell_type": "markdown",
   "metadata": {},
   "source": [
    "# 迭代器和生成器\n",
    "\n",
    "⚠️本文有关迭代器的基础知识需要好好梳理以下\n",
    "\n",
    "- 生成器是怎样节约内存的？\n",
    "- 使用生成器的最佳时机是什么？\n",
    "- 如何用itertools 来创建复杂的生成器工作流？\n",
    "- 延迟估值何时有益，何时无益？\n",
    "\n",
    "生成器的好处是：节省内存.\n",
    "\n",
    "⚠️生成器的状态的数量很重要，如果保存的状态很少，比较适合生成器。反之，如果一个函数需要很多状态，却输出很少的数据，那么预先的列表会更好。"
   ]
  },
  {
   "cell_type": "markdown",
   "metadata": {},
   "source": [
    "## 1. 生成器\n",
    "\n",
    "在Python 中，我们通常使用for 循环：\n",
    "\n",
    "```python\n",
    "for i in range(10):\n",
    "    print(i)\n",
    "```\n",
    "\n",
    "这里的range 函数就是一个生成器。"
   ]
  },
  {
   "cell_type": "code",
   "execution_count": 2,
   "metadata": {},
   "outputs": [],
   "source": [
    "def my_range (start, stop, step=1):\n",
    "    while start < stop:\n",
    "        yield start\n",
    "        start += step"
   ]
  },
  {
   "cell_type": "code",
   "execution_count": 4,
   "metadata": {},
   "outputs": [
    {
     "name": "stdout",
     "output_type": "stream",
     "text": [
      "0\n",
      "1\n",
      "2\n",
      "3\n",
      "4\n"
     ]
    }
   ],
   "source": [
    "for i in my_range(0,5):\n",
    "    print(i)"
   ]
  },
  {
   "cell_type": "markdown",
   "metadata": {},
   "source": [
    "`my_range` 函数每次执行到yield 的地方，发射出(emit)一个值，然后整个函数的状态保持在内存中，直到下次调用的时候继续执行。\n",
    "\n",
    "### 迭代器\n",
    "\n",
    "for 循环要求被循环的对象支持迭代，这就要求我们生产一个**迭代器**。我们可以使用Python内置的iter 函数。\n",
    "- 数组，元组，字典，集合返回一个对象的内部元素(或键)的迭代器\n",
    "- 对于复杂的对象，iter 函数返回对象的`__iter__` 方法\n",
    "\n",
    "因此，下面两个方法等同。"
   ]
  },
  {
   "cell_type": "code",
   "execution_count": 14,
   "metadata": {},
   "outputs": [
    {
     "data": {
      "text/plain": [
       "<bound method my_object.__iter__ of <__main__.my_object object at 0x112244780>>"
      ]
     },
     "execution_count": 14,
     "metadata": {},
     "output_type": "execute_result"
    }
   ],
   "source": [
    "class my_object:\n",
    "    \n",
    "    def __init__(self):\n",
    "        self.lst = [1,2,3,4,5]\n",
    "    \n",
    "    def __iter__(self):\n",
    "        return iter(self.lst)\n",
    "\n",
    "my_obj = my_object()\n",
    "my_obj.__iter__"
   ]
  },
  {
   "cell_type": "code",
   "execution_count": 15,
   "metadata": {},
   "outputs": [
    {
     "name": "stdout",
     "output_type": "stream",
     "text": [
      "1\n",
      "2\n",
      "3\n",
      "4\n",
      "5\n"
     ]
    }
   ],
   "source": [
    "for i in my_obj:\n",
    "    print(i)"
   ]
  },
  {
   "cell_type": "code",
   "execution_count": 17,
   "metadata": {},
   "outputs": [
    {
     "ename": "AttributeError",
     "evalue": "'list_iterator' object has no attribute 'next'",
     "output_type": "error",
     "traceback": [
      "\u001b[0;31m---------------------------------------------------------------------------\u001b[0m",
      "\u001b[0;31mAttributeError\u001b[0m                            Traceback (most recent call last)",
      "\u001b[0;32m<ipython-input-17-6cacaccc61e6>\u001b[0m in \u001b[0;36m<module>\u001b[0;34m()\u001b[0m\n\u001b[1;32m      2\u001b[0m \u001b[0;32mwhile\u001b[0m \u001b[0;32mTrue\u001b[0m\u001b[0;34m:\u001b[0m\u001b[0;34m\u001b[0m\u001b[0m\n\u001b[1;32m      3\u001b[0m     \u001b[0;32mtry\u001b[0m\u001b[0;34m:\u001b[0m\u001b[0;34m\u001b[0m\u001b[0m\n\u001b[0;32m----> 4\u001b[0;31m         \u001b[0mi\u001b[0m \u001b[0;34m=\u001b[0m \u001b[0mlst_iter\u001b[0m\u001b[0;34m.\u001b[0m\u001b[0mnext\u001b[0m\u001b[0;34m(\u001b[0m\u001b[0;34m)\u001b[0m\u001b[0;34m\u001b[0m\u001b[0m\n\u001b[0m\u001b[1;32m      5\u001b[0m         \u001b[0mprint\u001b[0m\u001b[0;34m(\u001b[0m\u001b[0mi\u001b[0m\u001b[0;34m)\u001b[0m\u001b[0;34m\u001b[0m\u001b[0m\n\u001b[1;32m      6\u001b[0m     \u001b[0;32mexcept\u001b[0m \u001b[0mStopIteration\u001b[0m\u001b[0;34m:\u001b[0m\u001b[0;34m\u001b[0m\u001b[0m\n",
      "\u001b[0;31mAttributeError\u001b[0m: 'list_iterator' object has no attribute 'next'"
     ]
    }
   ],
   "source": [
    "lst_iter = iter(my_obj)\n",
    "\n",
    "while True:\n",
    "    try: \n",
    "        i = lst_iter.next()\n",
    "        print(i)\n",
    "    except StopIteration:\n",
    "        break"
   ]
  },
  {
   "cell_type": "code",
   "execution_count": 8,
   "metadata": {},
   "outputs": [
    {
     "data": {
      "text/plain": [
       "<list_iterator at 0x1121cc6d8>"
      ]
     },
     "execution_count": 8,
     "metadata": {},
     "output_type": "execute_result"
    }
   ],
   "source": [
    "lst_iter"
   ]
  },
  {
   "cell_type": "markdown",
   "metadata": {},
   "source": [
    "#### 使用生成器的好处\n",
    "\n",
    "问题：找到一个列表中能被3整除的数的个数。\n"
   ]
  },
  {
   "cell_type": "code",
   "execution_count": 22,
   "metadata": {},
   "outputs": [],
   "source": [
    "numbers = [x for x in range(100)]"
   ]
  },
  {
   "cell_type": "code",
   "execution_count": 25,
   "metadata": {},
   "outputs": [
    {
     "data": {
      "text/plain": [
       "34"
      ]
     },
     "execution_count": 25,
     "metadata": {},
     "output_type": "execute_result"
    }
   ],
   "source": [
    "result = len([n for n in numbers if n % 3 == 0])\n",
    "result"
   ]
  },
  {
   "cell_type": "markdown",
   "metadata": {},
   "source": [
    "上面这个方法使用了list comprehension，分配了内存，但是却没什么用（如果以后再不使用这个被3整除的数组）。\n",
    "\n",
    "我们可以使用生成器，但是生成器没有length 属性，所以我们要换个思路。"
   ]
  },
  {
   "cell_type": "code",
   "execution_count": 28,
   "metadata": {},
   "outputs": [],
   "source": [
    "result = sum((1 for n in numbers if n % 3 == 0))"
   ]
  },
  {
   "cell_type": "code",
   "execution_count": 29,
   "metadata": {},
   "outputs": [
    {
     "data": {
      "text/plain": [
       "34"
      ]
     },
     "execution_count": 29,
     "metadata": {},
     "output_type": "execute_result"
    }
   ],
   "source": [
    "result"
   ]
  },
  {
   "cell_type": "markdown",
   "metadata": {},
   "source": [
    "这里，我们每次遇到一个能被3整除的数字就发射一个1，然后求和，就可以获得个数。两个代码的性能几乎一样，但是第二个版本所需要的内存远远小于第一个。"
   ]
  },
  {
   "cell_type": "markdown",
   "metadata": {},
   "source": [
    "## 2. 无穷数列的迭代器\n",
    "\n",
    "如果我们只需要保存有限个状态，并发射当前值，生成器可以被用来长生无穷数列，例如斐波纳西数列 ———— 保留两个状态，生成下一个数。\n",
    "\n",
    "下面我们想打印出所有小于100的奇数的菲波纳西数列，我们有以下几个方法："
   ]
  },
  {
   "cell_type": "markdown",
   "metadata": {},
   "source": [
    "#### 方法1"
   ]
  },
  {
   "cell_type": "code",
   "execution_count": 47,
   "metadata": {},
   "outputs": [
    {
     "name": "stdout",
     "output_type": "stream",
     "text": [
      "1\n",
      "1\n",
      "3\n",
      "5\n",
      "13\n",
      "21\n",
      "55\n",
      "89\n"
     ]
    }
   ],
   "source": [
    "def solution1():\n",
    "    i, j = 0, 1\n",
    "    count = 0\n",
    "    while j < 100:\n",
    "        \n",
    "        if j % 2:\n",
    "            print(j)\n",
    "        \n",
    "        i, j = j, i + j\n",
    "        \n",
    "solution1()"
   ]
  },
  {
   "cell_type": "markdown",
   "metadata": {},
   "source": [
    "这种方法的问题在于，他一次做了很多事，隐藏了真实的计算逻辑，也不容易扩展。\n",
    "\n",
    "比如，我们要求打印出\"5000以内的xxxx数列中的奇数\"，则需要要对代码有较大的改动。"
   ]
  },
  {
   "cell_type": "markdown",
   "metadata": {},
   "source": [
    "#### 方法2\n",
    "\n",
    "我们吸取方法1的教训，把逻辑拆开，分别为两个截断：\n",
    "- 生成下一个菲波纳西数列的数（数据生成） --- 生成器\n",
    "- 判断这个值是否小于100（数据转化/计算）--- 专注于计算代码"
   ]
  },
  {
   "cell_type": "code",
   "execution_count": 39,
   "metadata": {},
   "outputs": [],
   "source": [
    "def fibonacci():\n",
    "    i, j = 0, 1\n",
    "    while True:\n",
    "        yield j\n",
    "        i, j = j, i + j"
   ]
  },
  {
   "cell_type": "code",
   "execution_count": 48,
   "metadata": {},
   "outputs": [],
   "source": [
    "def solution2():\n",
    "    for i in fibonacci():\n",
    "        if i > 100:\n",
    "            break\n",
    "        if i % 2:\n",
    "            print(i)"
   ]
  },
  {
   "cell_type": "code",
   "execution_count": 49,
   "metadata": {},
   "outputs": [
    {
     "name": "stdout",
     "output_type": "stream",
     "text": [
      "1\n",
      "1\n",
      "3\n",
      "5\n",
      "13\n",
      "21\n",
      "55\n",
      "89\n"
     ]
    }
   ],
   "source": [
    "solution2()"
   ]
  },
  {
   "cell_type": "markdown",
   "metadata": {},
   "source": [
    "我们可以看出，这个方法看上去很直观，易于开发者理解和调试。\n",
    "\n",
    "在者，而且这个函数可以变得更加通用，可以不止对菲波纳西数列进行判断，也可以对任何一个数列的生成器进行判断。"
   ]
  },
  {
   "cell_type": "markdown",
   "metadata": {},
   "source": [
    "#### 方法3"
   ]
  },
  {
   "cell_type": "code",
   "execution_count": 53,
   "metadata": {},
   "outputs": [],
   "source": [
    "from itertools import islice\n",
    "\n",
    "def solution3():\n",
    "    cond = lambda x: x % 2 and x < 100  # 条件\n",
    "    first_100 = islice(fibonacci(), 0, 10)  # 生成0 - 100 的斐波纳西数列 --- ⚠️THIS IS WRONG 因为我们不知道个数\n",
    "    for x in first_100:\n",
    "        if cond:\n",
    "            print(x) "
   ]
  },
  {
   "cell_type": "code",
   "execution_count": 54,
   "metadata": {},
   "outputs": [
    {
     "name": "stdout",
     "output_type": "stream",
     "text": [
      "1\n",
      "1\n",
      "2\n",
      "3\n",
      "5\n",
      "8\n",
      "13\n",
      "21\n",
      "34\n",
      "55\n"
     ]
    }
   ],
   "source": [
    "solution3()"
   ]
  },
  {
   "cell_type": "markdown",
   "metadata": {},
   "source": [
    "这个方法不是很好理解。\n",
    "\n",
    "从上面3个方法我们可以看出，方法2是最好的方法。因为分工明确：生成器用于生成数据，其他函数用于处理(操作)数据。"
   ]
  },
  {
   "cell_type": "markdown",
   "metadata": {},
   "source": [
    "## 3. 生成器的延迟估值\n",
    "\n",
    "Benefits with a generator is by dealing only with the current values of interest.\n",
    "\n",
    "在计算的任意时间点，我们都只能访问当前值，无法访问数列中的其他元素。single-pass / online\n",
    "\n",
    "很多模块和函数可以配合生成器一起使用，例如，itertools。它提供了map, reduce, filter, zip 的生成器版本。\n",
    "- islice: Allows slicing a potentially infinite generator\n",
    "- chain: Chains together multiple generators\n",
    "- takewhile: Adds a condition that will end a generator\n",
    "- cycle: Makes a finite generator infinite by constantly repeating it\n",
    "\n",
    "#### Example\n",
    "\n",
    "对于一个时序数据，每秒钟一个点，一共20年。那么我们有20*365*365*24*60*60 = 630,720,000 个数据点(注意，我们按一年365天估算)。这将是一个很大的数据集，如果我们想做一些异常检测，我们无法一次读入内存。下面我们演示如何使用生成器来实现这个功能。\n",
    "\n",
    "数据格式： `timestamp, value`\n",
    "\n",
    "异常定义：对于每个数据点，比同一天均值超出三倍标准差之外的数字被定义为异常值(3-sigma 方法)。\n",
    "\n",
    "⚠️这里有问题，代码跑不通，待第二版。"
   ]
  },
  {
   "cell_type": "code",
   "execution_count": 55,
   "metadata": {},
   "outputs": [
    {
     "ename": "ImportError",
     "evalue": "cannot import name 'rand'",
     "output_type": "error",
     "traceback": [
      "\u001b[0;31m---------------------------------------------------------------------------\u001b[0m",
      "\u001b[0;31mImportError\u001b[0m                               Traceback (most recent call last)",
      "\u001b[0;32m<ipython-input-55-e43e0a26f482>\u001b[0m in \u001b[0;36m<module>\u001b[0;34m()\u001b[0m\n\u001b[0;32m----> 1\u001b[0;31m \u001b[0;32mfrom\u001b[0m \u001b[0mrandom\u001b[0m \u001b[0;32mimport\u001b[0m \u001b[0mnormalvariate\u001b[0m\u001b[0;34m,\u001b[0m \u001b[0mrand\u001b[0m\u001b[0;34m\u001b[0m\u001b[0m\n\u001b[0m\u001b[1;32m      2\u001b[0m \u001b[0;32mfrom\u001b[0m \u001b[0mitertools\u001b[0m \u001b[0;32mimport\u001b[0m \u001b[0mcount\u001b[0m\u001b[0;34m\u001b[0m\u001b[0m\n\u001b[1;32m      3\u001b[0m \u001b[0;34m\u001b[0m\u001b[0m\n\u001b[1;32m      4\u001b[0m \u001b[0;32mdef\u001b[0m \u001b[0mread_data\u001b[0m\u001b[0;34m(\u001b[0m\u001b[0mfilename\u001b[0m\u001b[0;34m)\u001b[0m\u001b[0;34m:\u001b[0m\u001b[0;34m\u001b[0m\u001b[0m\n\u001b[1;32m      5\u001b[0m     \"\"\"\n",
      "\u001b[0;31mImportError\u001b[0m: cannot import name 'rand'"
     ]
    }
   ],
   "source": [
    "from random import normalvariate, rand\n",
    "from itertools import count\n",
    "\n",
    "def read_data(filename):\n",
    "    \"\"\"\n",
    "    每次读取文件的一行\n",
    "    \"\"\"\n",
    "    with open(filename) as fd:\n",
    "        for line in fd:\n",
    "            data = line.strip().split(',')\n",
    "            yield map(int, data)\n",
    "\n",
    "def read_fake_data(filename):\n",
    "    for i in count():\n",
    "        sigma = rand() * 10\n",
    "        yield (i, normalvariate(0, sigma))"
   ]
  },
  {
   "cell_type": "markdown",
   "metadata": {},
   "source": [
    "然后我们使用groupby 将同一天的timestamp 分在一组。\n",
    "\n",
    "#### 输入：2个参数\n",
    "- 一组数据\n",
    "- 用于分组的关键字函数: 我们可以使用lambda 函数返回一个date 对象。\n",
    "\n",
    "#### 返回：生成器\n",
    "\n",
    "生成的每一个值都是一个元组，元组内包含该组的关键字和改组的所有元素的生成器。\n",
    "\n",
    "#### 例如：\n",
    "The only limitation is that groups will only be formed for data that is sequential.\n",
    "\n",
    "如果我们给一个序列，AAABBAA，则返回三个groups:\n",
    "- A: [A A A]\n",
    "- B: [B B]\n",
    "- A: [A A]\n",
    "\n",
    "同一天的数据会有相同的date 对象，用于分组。"
   ]
  },
  {
   "cell_type": "code",
   "execution_count": 57,
   "metadata": {},
   "outputs": [],
   "source": [
    "from datetime import date\n",
    "from itertools import groupby\n",
    "\n",
    "def day_grouper(iterable):\n",
    "    \n",
    "    key = lambda timestamp, value : date.fromtimestamp(timestamp)\n",
    "    \n",
    "    return groupby(iterable, key)"
   ]
  },
  {
   "cell_type": "code",
   "execution_count": 59,
   "metadata": {},
   "outputs": [],
   "source": [
    "import math\n",
    "\n",
    "def check_anomaly(day, day_data):\n",
    "    # We find the mean, standard deviation, and maximum values for the day.\n",
    "    # Using a single-pass mean/standard deviation algorithm allows us to only\n",
    "    # read through the day's data once.\n",
    "    n = 0\n",
    "    mean = 0\n",
    "    M2 = 0\n",
    "    max_value = None\n",
    "    for timestamp, value in day_data:\n",
    "        n += 1\n",
    "        delta = value - mean\n",
    "        mean = mean + delta/n\n",
    "        M2 += delta*(value - mean)\n",
    "        max_value = max(max_value, value)\n",
    "    variance = M2/(n - 1)\n",
    "    standard_deviation = math.sqrt(variance)\n",
    "    \n",
    "    # Here is the actual check of whether that day's data is anomalous. If it\n",
    "    # is, we return the value of the day; otherwise, we return false.\n",
    "    if max_value > mean + 3 * standard_deviation:\n",
    "        return day\n",
    "    return False"
   ]
  },
  {
   "cell_type": "markdown",
   "metadata": {},
   "source": [
    "## to-check\n",
    "\n",
    "- linecache\n",
    "- collections.deque"
   ]
  },
  {
   "cell_type": "code",
   "execution_count": null,
   "metadata": {},
   "outputs": [],
   "source": []
  }
 ],
 "metadata": {
  "kernelspec": {
   "display_name": "Python 3",
   "language": "python",
   "name": "python3"
  },
  "language_info": {
   "codemirror_mode": {
    "name": "ipython",
    "version": 3
   },
   "file_extension": ".py",
   "mimetype": "text/x-python",
   "name": "python",
   "nbconvert_exporter": "python",
   "pygments_lexer": "ipython3",
   "version": "3.6.4"
  }
 },
 "nbformat": 4,
 "nbformat_minor": 2
}
