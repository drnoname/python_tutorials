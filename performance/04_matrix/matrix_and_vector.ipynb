{
 "cells": [
  {
   "cell_type": "markdown",
   "metadata": {},
   "source": [
    "# 矩阵和矢量计算\n",
    "\n",
    "- 矢量计算的瓶颈在哪里？\n",
    "- 用什么工具查看CPU 进行计算时的效率？\n",
    "- numpy 为什么更好？\n",
    "- cache-miss 和page-faults 是什么\n",
    "- 如何追踪代码中的内存分配\n",
    "\n",
    "The only thing the computer knows how to do is operate on numbers, and knowing how to do several of those calculations at once will speed up your program.\n",
    "\n",
    "本章，我们通过扩散式求解(diffusion equation) 来讲述这个问题的复杂度并理解CPU 层面发生了什么。"
   ]
  },
  {
   "cell_type": "markdown",
   "metadata": {},
   "source": [
    "## 1. 扩散式求解(diffusion equation)\n",
    "\n",
    "扩散，是流体移动并试图均匀混合的一种方式。Diffusion is one of the mechanisms that moves fluids and tries to make them uniformly mixed.\n",
    "\n",
    "扩散等式可以被写成一个1阶偏微分方程。Stated as a partial differential equation in one dimension (1D), the diffusion equation is written as:\n",
    "\n",
    "$$\\frac{\\partial}{\\partial t}u(x, t) = D \\frac{\\partial^2}{\\partial x^2}u(x, t)$$\n",
    "\n",
    "u: 扩散质量的矢量。比如，矢量的0表示纯水，1表示纯染料，0和1之间的值表示混合液体(比例不同)。如果这个矢量是一个2D矩阵，或者3D矩阵，就可以代表一个区域或空间。我们考虑一个场景，在一杯纯水中滴入一滴墨水，墨水会扩散开来。所以我们用一个3D矩阵来建模这种情况。\n",
    "\n",
    "D: 扩散系数，D越大表明越容易扩散。\n",
    "\n",
    "扩散方程也称为热方程，U表示一个区域的温度，D描述了材料的热传导能力。在下面的例子中，我们选取D=1.\n",
    "\n",
    "下面，我们通过欧拉法将微分方程写成差分形式。\n",
    "\n",
    "$$\\frac{\\partial}{\\partial t}u(x, t) = \\frac{u(x, t+dt) - u(x,t)}{dt}$$\n",
    "\n",
    "我们可以转化为初值问题(或柯西问题)。\n",
    "\n",
    "$$u(x,t + dt) = u(x,t) + dt*D*\\frac{u(x + dx, t) + u(x - dx, t) + 2*u(x,t)}{dx^2}$$\n",
    "\n",
    "我们设置D=1,dx=1.\n",
    "\n",
    "更多有关diffusion equation 可以参见[这里](https://en.wikipedia.org/wiki/Diffusion_equation)."
   ]
  },
  {
   "cell_type": "code",
   "execution_count": null,
   "metadata": {},
   "outputs": [],
   "source": []
  },
  {
   "cell_type": "code",
   "execution_count": null,
   "metadata": {},
   "outputs": [],
   "source": []
  },
  {
   "cell_type": "code",
   "execution_count": null,
   "metadata": {},
   "outputs": [],
   "source": []
  },
  {
   "cell_type": "code",
   "execution_count": null,
   "metadata": {},
   "outputs": [],
   "source": []
  },
  {
   "cell_type": "code",
   "execution_count": null,
   "metadata": {},
   "outputs": [],
   "source": []
  },
  {
   "cell_type": "code",
   "execution_count": null,
   "metadata": {},
   "outputs": [],
   "source": []
  },
  {
   "cell_type": "code",
   "execution_count": null,
   "metadata": {},
   "outputs": [],
   "source": []
  },
  {
   "cell_type": "markdown",
   "metadata": {},
   "source": [
    "## Tips\n",
    "\n",
    "- 不要急于在性能分析前进行优化"
   ]
  },
  {
   "cell_type": "code",
   "execution_count": null,
   "metadata": {},
   "outputs": [],
   "source": []
  }
 ],
 "metadata": {
  "kernelspec": {
   "display_name": "Python 3",
   "language": "python",
   "name": "python3"
  },
  "language_info": {
   "codemirror_mode": {
    "name": "ipython",
    "version": 3
   },
   "file_extension": ".py",
   "mimetype": "text/x-python",
   "name": "python",
   "nbconvert_exporter": "python",
   "pygments_lexer": "ipython3",
   "version": "3.6.4"
  }
 },
 "nbformat": 4,
 "nbformat_minor": 2
}
