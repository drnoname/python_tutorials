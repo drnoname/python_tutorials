{
 "cells": [
  {
   "cell_type": "markdown",
   "metadata": {},
   "source": [
    "# Chapter 2: An Array of Sequences\n",
    "\n",
    "有些操作，对String, List, tables 是相同的（例如：`for element in list_a`）。这三种数据结构又称作Trains。"
   ]
  },
  {
   "cell_type": "markdown",
   "metadata": {},
   "source": [
    "## 1. Overview of  Build-In Sequences\n",
    "\n",
    "The standard library offers a rich selection of sequence types implemented in C:\n",
    "- Container sequences: hold references to the objects they contain (可以理解成一个指针或是引用)\n",
    "    - list, tuple, and collections.deque can hold items of different types.\n",
    "- Flat sequences: store the value of each item within its own memory (直接存值)\n",
    "    - primitive values: str, bytes, bytearray, memoryview, and array.array hold items of one type.\n",
    "    \n",
    "另外，可以根据一个sequence 是否是mutable，分为两类：\n",
    "- mutable sequences\n",
    "    - list, bytearray, array.array, collections.deque, and memoryview\n",
    "- Immutable sequences\n",
    "    - tuple, str, and bytes\n",
    "    \n",
    "最常用的sequence 是list，下面我们先从list 开始。"
   ]
  },
  {
   "cell_type": "markdown",
   "metadata": {},
   "source": [
    "### 1.1 List Comprehension"
   ]
  },
  {
   "cell_type": "code",
   "execution_count": 1,
   "metadata": {},
   "outputs": [],
   "source": [
    "list_a = [1,2,3,4,5]\n",
    "list_b = []"
   ]
  },
  {
   "cell_type": "markdown",
   "metadata": {},
   "source": [
    "#### 方法1: for loop"
   ]
  },
  {
   "cell_type": "code",
   "execution_count": 2,
   "metadata": {},
   "outputs": [
    {
     "data": {
      "text/plain": [
       "['1', '2', '3', '4', '5']"
      ]
     },
     "execution_count": 2,
     "metadata": {},
     "output_type": "execute_result"
    }
   ],
   "source": [
    "for element in list_a:\n",
    "    list_b.append(str(element))\n",
    "list_b"
   ]
  },
  {
   "cell_type": "markdown",
   "metadata": {},
   "source": [
    "#### 方法2: List Comprehension\n",
    "\n",
    "list comprehension 只做一件事：生成一个新的list"
   ]
  },
  {
   "cell_type": "code",
   "execution_count": 3,
   "metadata": {},
   "outputs": [
    {
     "data": {
      "text/plain": [
       "['1', '2', '3', '4', '5']"
      ]
     },
     "execution_count": 3,
     "metadata": {},
     "output_type": "execute_result"
    }
   ],
   "source": [
    "list_c = [str(element) for element in list_a]\n",
    "list_c"
   ]
  },
  {
   "cell_type": "markdown",
   "metadata": {},
   "source": [
    "#### Listcomps v.s. map and filter\n",
    "\n",
    "Map and filter: more details in Chapter 5."
   ]
  },
  {
   "cell_type": "code",
   "execution_count": 4,
   "metadata": {},
   "outputs": [
    {
     "data": {
      "text/plain": [
       "['3', '4', '5']"
      ]
     },
     "execution_count": 4,
     "metadata": {},
     "output_type": "execute_result"
    }
   ],
   "source": [
    "list_d = [str(element) for element in list_a if element > 2]\n",
    "list_d"
   ]
  },
  {
   "cell_type": "code",
   "execution_count": 9,
   "metadata": {},
   "outputs": [
    {
     "data": {
      "text/plain": [
       "['3', '4', '5']"
      ]
     },
     "execution_count": 9,
     "metadata": {},
     "output_type": "execute_result"
    }
   ],
   "source": [
    "list_5 = list(filter(lambda c: int(c) > 2, map(str, list_a)))\n",
    "list_5"
   ]
  },
  {
   "cell_type": "markdown",
   "metadata": {},
   "source": [
    "#### 使用list comprehension 实现cartesian products\n",
    "\n",
    "generate lists from the Cartesian product of two or more iterables."
   ]
  },
  {
   "cell_type": "code",
   "execution_count": 11,
   "metadata": {},
   "outputs": [
    {
     "data": {
      "text/plain": [
       "[('black', 'S'),\n",
       " ('black', 'M'),\n",
       " ('black', 'L'),\n",
       " ('white', 'S'),\n",
       " ('white', 'M'),\n",
       " ('white', 'L')]"
      ]
     },
     "execution_count": 11,
     "metadata": {},
     "output_type": "execute_result"
    }
   ],
   "source": [
    "colors = ['black', 'white']\n",
    "sizes = ['S', 'M', 'L']\n",
    "tshirts = [(color, size) for color in colors for size in sizes] # list of tuples\n",
    "tshirts"
   ]
  },
  {
   "cell_type": "markdown",
   "metadata": {},
   "source": [
    "如果不用list comprehension，我们需要写两个for loop 嵌套"
   ]
  },
  {
   "cell_type": "markdown",
   "metadata": {},
   "source": [
    "### 1.2 Generator Expression\n",
    "\n",
    "用来生成其他类型的sequences (tuples, arrays)\n",
    "\n",
    "Genexps use the same syntax as listcomps, but are enclosed in parentheses rather than brackets\n",
    "\n",
    "下面我们看tuple"
   ]
  },
  {
   "cell_type": "code",
   "execution_count": 14,
   "metadata": {},
   "outputs": [
    {
     "data": {
      "text/plain": [
       "('1', '2', '3', '4', '5')"
      ]
     },
     "execution_count": 14,
     "metadata": {},
     "output_type": "execute_result"
    }
   ],
   "source": [
    "tuple_a = tuple(str(element) for element in list_a)\n",
    "tuple_a"
   ]
  },
  {
   "cell_type": "markdown",
   "metadata": {},
   "source": [
    "The generator expression yields items one by one; a list with all six T-shirt variations is never produced in this example.\n",
    "\n",
    "如果只用一次，使用generator 会很快，尤其当item 很多的时候。\n",
    "\n",
    "更多关于generator 的信息，参见Chapter 14."
   ]
  },
  {
   "cell_type": "code",
   "execution_count": 17,
   "metadata": {},
   "outputs": [
    {
     "name": "stdout",
     "output_type": "stream",
     "text": [
      "black S\n",
      "black M\n",
      "black L\n",
      "white S\n",
      "white M\n",
      "white L\n"
     ]
    }
   ],
   "source": [
    "for tshirt in ('%s %s' % (c, s) for c in colors for s in sizes):\n",
    "    print(tshirt)"
   ]
  },
  {
   "cell_type": "markdown",
   "metadata": {},
   "source": [
    "## 2. Tuples Are Not Just Immutable Lists\n",
    "\n",
    "#### mutable v.s. immutable\n",
    "A mutable object can be changed after it's created, and an immutable object can't.\n",
    "\n",
    "Tuple 的两个作用：\n",
    "1. Tuple 可以看作是不可更改的list (immutable list)\n",
    "2. 因为tuple 的顺序是不可以改的，所以tuple 可以看作\"record\" with no field name."
   ]
  },
  {
   "cell_type": "markdown",
   "metadata": {},
   "source": [
    "### 2.1 Tuple as immutable list\n",
    "\n",
    "list 的所有方法，tuple 都支持 (除了增加和删除)，参见下表。\n",
    "\n",
    "<img src=\"figures/tuple_as_immutable_list_1.png\" width=\"500\"/>\n",
    "<img src=\"figures/tuple_as_immutable_list_2.png\" width=\"500\"/>"
   ]
  },
  {
   "cell_type": "markdown",
   "metadata": {},
   "source": [
    "#### extend"
   ]
  },
  {
   "cell_type": "code",
   "execution_count": 3,
   "metadata": {},
   "outputs": [
    {
     "data": {
      "text/plain": [
       "[1, 2, 3, 4, 5, 6]"
      ]
     },
     "execution_count": 3,
     "metadata": {},
     "output_type": "execute_result"
    }
   ],
   "source": [
    "list_1 = [1,2,3]\n",
    "list_2 = [4,5,6]\n",
    "list_1.__add__(list_2)"
   ]
  },
  {
   "cell_type": "code",
   "execution_count": 4,
   "metadata": {},
   "outputs": [
    {
     "data": {
      "text/plain": [
       "(1, 2, 3, 4, 5, 6)"
      ]
     },
     "execution_count": 4,
     "metadata": {},
     "output_type": "execute_result"
    }
   ],
   "source": [
    "tuple_1 = (1, 2, 3)\n",
    "tuple_2 = (4, 5, 6)\n",
    "tuple_1.__add__(tuple_2)"
   ]
  },
  {
   "cell_type": "markdown",
   "metadata": {},
   "source": [
    "#### slicing"
   ]
  },
  {
   "cell_type": "code",
   "execution_count": 7,
   "metadata": {},
   "outputs": [
    {
     "data": {
      "text/plain": [
       "[1, 2]"
      ]
     },
     "execution_count": 7,
     "metadata": {},
     "output_type": "execute_result"
    }
   ],
   "source": [
    "list_1[:2]"
   ]
  },
  {
   "cell_type": "code",
   "execution_count": 8,
   "metadata": {},
   "outputs": [
    {
     "data": {
      "text/plain": [
       "(1, 2)"
      ]
     },
     "execution_count": 8,
     "metadata": {},
     "output_type": "execute_result"
    }
   ],
   "source": [
    "tuple_1[:2]"
   ]
  },
  {
   "cell_type": "markdown",
   "metadata": {},
   "source": [
    "### 2.2 Tuple as record\n",
    "\n",
    "**tuple unpacking**\n",
    "\n",
    "#### 1. parallel assignnment\n",
    "- swapping\n",
    "- return multiple value of a function"
   ]
  },
  {
   "cell_type": "code",
   "execution_count": 10,
   "metadata": {},
   "outputs": [],
   "source": [
    "la_coordinates = (33.9425, -118.408056)"
   ]
  },
  {
   "cell_type": "code",
   "execution_count": 12,
   "metadata": {},
   "outputs": [
    {
     "data": {
      "text/plain": [
       "33.9425"
      ]
     },
     "execution_count": 12,
     "metadata": {},
     "output_type": "execute_result"
    }
   ],
   "source": [
    "latitude = la_coordinates[0]\n",
    "latitude"
   ]
  },
  {
   "cell_type": "code",
   "execution_count": 14,
   "metadata": {},
   "outputs": [
    {
     "data": {
      "text/plain": [
       "-118.408056"
      ]
     },
     "execution_count": 14,
     "metadata": {},
     "output_type": "execute_result"
    }
   ],
   "source": [
    "longitude = la_coordinates[1]\n",
    "longitude"
   ]
  },
  {
   "cell_type": "markdown",
   "metadata": {},
   "source": [
    "以上是分别赋值，下面我们看parallel assignment"
   ]
  },
  {
   "cell_type": "code",
   "execution_count": 15,
   "metadata": {},
   "outputs": [
    {
     "name": "stdout",
     "output_type": "stream",
     "text": [
      "33.9425\n",
      "-118.408056\n"
     ]
    }
   ],
   "source": [
    "latitude, longitude = la_coordinates\n",
    "print(latitude)\n",
    "print(longitude)"
   ]
  },
  {
   "cell_type": "markdown",
   "metadata": {},
   "source": [
    "**第一个用处**：\n",
    "\n",
    "parallel assignment 一个常用的场景是swapping without temporary variable"
   ]
  },
  {
   "cell_type": "code",
   "execution_count": 17,
   "metadata": {},
   "outputs": [
    {
     "name": "stdout",
     "output_type": "stream",
     "text": [
      "a:  1\n",
      "b:  5\n",
      "a:  5\n",
      "b:  1\n"
     ]
    }
   ],
   "source": [
    "a = 1\n",
    "b = 5\n",
    "print ('a: ', a)\n",
    "print('b: ', b)\n",
    "\n",
    "# swap\n",
    "c = a\n",
    "a = b\n",
    "b = c\n",
    "print ('a: ', a)\n",
    "print('b: ', b)"
   ]
  },
  {
   "cell_type": "code",
   "execution_count": 18,
   "metadata": {},
   "outputs": [
    {
     "name": "stdout",
     "output_type": "stream",
     "text": [
      "a:  1\n",
      "b:  5\n",
      "a:  5\n",
      "b:  1\n"
     ]
    }
   ],
   "source": [
    "a = 1\n",
    "b = 5\n",
    "print ('a: ', a)\n",
    "print('b: ', b)\n",
    "\n",
    "# 使用parallel assignment \n",
    "b, a = a, b # 一行代码实现\n",
    "print ('a: ', a)\n",
    "print('b: ', b)"
   ]
  },
  {
   "cell_type": "markdown",
   "metadata": {},
   "source": [
    "**第二个用处**：\n",
    "\n",
    "enable functions to return multiple values in a way that is convenient to the caller."
   ]
  },
  {
   "cell_type": "code",
   "execution_count": 21,
   "metadata": {},
   "outputs": [],
   "source": [
    "def get_first_two_elements(list_a):\n",
    "    return list_a[0], list_a[1]"
   ]
  },
  {
   "cell_type": "code",
   "execution_count": 20,
   "metadata": {},
   "outputs": [],
   "source": [
    "list_a = [1, 2]"
   ]
  },
  {
   "cell_type": "code",
   "execution_count": 22,
   "metadata": {},
   "outputs": [
    {
     "name": "stdout",
     "output_type": "stream",
     "text": [
      "1\n",
      "2\n"
     ]
    }
   ],
   "source": [
    "a, b = get_first_two_elements(list_a)\n",
    "print(a)\n",
    "print(b)"
   ]
  },
  {
   "cell_type": "markdown",
   "metadata": {},
   "source": [
    "可以用一个dummy variable `_` 作为一个place holder，表明不在意某个变量"
   ]
  },
  {
   "cell_type": "code",
   "execution_count": 23,
   "metadata": {},
   "outputs": [
    {
     "name": "stdout",
     "output_type": "stream",
     "text": [
      "2\n"
     ]
    }
   ],
   "source": [
    "_, b = get_first_two_elements(list_a)\n",
    "print(b)"
   ]
  },
  {
   "cell_type": "code",
   "execution_count": 24,
   "metadata": {},
   "outputs": [],
   "source": [
    "import os\n",
    "_, filename = os.path.split('/home/myname/paper.tex')"
   ]
  },
  {
   "cell_type": "code",
   "execution_count": 25,
   "metadata": {},
   "outputs": [
    {
     "data": {
      "text/plain": [
       "'paper.tex'"
      ]
     },
     "execution_count": 25,
     "metadata": {},
     "output_type": "execute_result"
    }
   ],
   "source": [
    "filename"
   ]
  },
  {
   "cell_type": "markdown",
   "metadata": {},
   "source": [
    "可以使用 `*args` 来匹配多个items"
   ]
  },
  {
   "cell_type": "code",
   "execution_count": 38,
   "metadata": {},
   "outputs": [
    {
     "name": "stdout",
     "output_type": "stream",
     "text": [
      "0\n",
      "1\n",
      "[2, 3, 4]\n"
     ]
    }
   ],
   "source": [
    "a, b, *c = range(5)\n",
    "print(a)\n",
    "print(b)\n",
    "print(c)"
   ]
  },
  {
   "cell_type": "code",
   "execution_count": 40,
   "metadata": {},
   "outputs": [
    {
     "name": "stdout",
     "output_type": "stream",
     "text": [
      "0\n",
      "1\n",
      "[2]\n"
     ]
    }
   ],
   "source": [
    "a, b, *c = range(3)\n",
    "print(a)\n",
    "print(b)\n",
    "print(c)"
   ]
  },
  {
   "cell_type": "code",
   "execution_count": 41,
   "metadata": {},
   "outputs": [
    {
     "name": "stdout",
     "output_type": "stream",
     "text": [
      "0\n",
      "1\n",
      "[]\n"
     ]
    }
   ],
   "source": [
    "a, b, *c = range(2)\n",
    "print(a)\n",
    "print(b)\n",
    "print(c)"
   ]
  },
  {
   "cell_type": "markdown",
   "metadata": {},
   "source": [
    "`*args` 可以出现在任意位置"
   ]
  },
  {
   "cell_type": "code",
   "execution_count": 42,
   "metadata": {},
   "outputs": [
    {
     "name": "stdout",
     "output_type": "stream",
     "text": [
      "0\n",
      "[1, 2, 3]\n",
      "4\n"
     ]
    }
   ],
   "source": [
    "a, *b, c = range(5)\n",
    "print(a)\n",
    "print(b)\n",
    "print(c)"
   ]
  },
  {
   "cell_type": "markdown",
   "metadata": {},
   "source": [
    "`*args` 只能出现一次，否则会报错"
   ]
  },
  {
   "cell_type": "code",
   "execution_count": 43,
   "metadata": {},
   "outputs": [
    {
     "ename": "SyntaxError",
     "evalue": "two starred expressions in assignment (<ipython-input-43-3678e28f7358>, line 1)",
     "output_type": "error",
     "traceback": [
      "\u001b[0;36m  File \u001b[0;32m\"<ipython-input-43-3678e28f7358>\"\u001b[0;36m, line \u001b[0;32m1\u001b[0m\n\u001b[0;31m    a, *b, *c = range(2)\u001b[0m\n\u001b[0m                        ^\u001b[0m\n\u001b[0;31mSyntaxError\u001b[0m\u001b[0;31m:\u001b[0m two starred expressions in assignment\n"
     ]
    }
   ],
   "source": [
    "a, *b, *c = range(2)\n",
    "print(a)\n",
    "print(b)\n",
    "print(c)"
   ]
  },
  {
   "cell_type": "markdown",
   "metadata": {},
   "source": [
    "#### 2. Nested Tuple Unpacking"
   ]
  },
  {
   "cell_type": "code",
   "execution_count": 71,
   "metadata": {},
   "outputs": [],
   "source": [
    "cities = [('Tokyo', 'JP', 36.933, (35.689722, 139.691667)),\n",
    "          ('Delhi', 'IND', 21.935, (28.613889, 77.208889)),\n",
    "          ('Mexico City', 'MX', 20.142, (19.43333, -99.133333))]"
   ]
  },
  {
   "cell_type": "code",
   "execution_count": 76,
   "metadata": {},
   "outputs": [
    {
     "name": "stdout",
     "output_type": "stream",
     "text": [
      " | Longitude\n",
      "Tokyo | 139.691667\n",
      "Delhi | 77.208889\n"
     ]
    }
   ],
   "source": [
    "print('{} | {}'.format('', 'Longitude'))\n",
    "for city, country, population, (latitude, longitude) in cities:\n",
    "    # 只显示东半球的城市\n",
    "    if longitude > 0:\n",
    "        print ('{} | {}'.format(city, longitude))"
   ]
  },
  {
   "cell_type": "markdown",
   "metadata": {},
   "source": [
    "#### 表格对齐"
   ]
  },
  {
   "cell_type": "code",
   "execution_count": 79,
   "metadata": {},
   "outputs": [
    {
     "name": "stdout",
     "output_type": "stream",
     "text": [
      "                | Longitude\n",
      "Tokyo           |  139.6917\n",
      "Delhi           |   77.2089\n"
     ]
    }
   ],
   "source": [
    "print('{:15} | {:^6}'.format('', 'Longitude'))\n",
    "for city, country, population, (latitude, longitude) in cities:\n",
    "    # 只显示东半球的城市\n",
    "    if longitude > 0:\n",
    "        print ('{:15} | {:9.4f}'.format(city, longitude))"
   ]
  },
  {
   "cell_type": "markdown",
   "metadata": {},
   "source": [
    "Tuple 用来表示一个record 有一个问题，就是只能按顺序表示每个field 的意思，但是没有field name。\n",
    "如果想加入field name，则需要一namedtuple 对象。"
   ]
  },
  {
   "cell_type": "markdown",
   "metadata": {},
   "source": [
    "#### 3. Name Tuples\n",
    "\n",
    "**注意** Named Tuple 对象所占内存大小与tuple 一样，因为field name 信息存在class 定义中而非object 的attribute 中。"
   ]
  },
  {
   "cell_type": "code",
   "execution_count": 44,
   "metadata": {},
   "outputs": [],
   "source": [
    "from collections import namedtuple"
   ]
  },
  {
   "cell_type": "code",
   "execution_count": 54,
   "metadata": {},
   "outputs": [],
   "source": [
    "# 定义一个named tuple 类\n",
    "# 参数1: class name (city)\n",
    "# 参数2: list of field name (iterable of strings / single space delimited string)\n",
    "City = namedtuple('City', 'name country population coordinates') # Using single space delimited string\n",
    "tokyo = City('Tokyo', 'JP', 36.933, (35.689722, 139.691667))"
   ]
  },
  {
   "cell_type": "code",
   "execution_count": 55,
   "metadata": {},
   "outputs": [
    {
     "data": {
      "text/plain": [
       "City(name='Tokyo', country='JP', population=36.933, coordinates=(35.689722, 139.691667))"
      ]
     },
     "execution_count": 55,
     "metadata": {},
     "output_type": "execute_result"
    }
   ],
   "source": [
    "tokyo"
   ]
  },
  {
   "cell_type": "code",
   "execution_count": 56,
   "metadata": {},
   "outputs": [
    {
     "data": {
      "text/plain": [
       "(35.689722, 139.691667)"
      ]
     },
     "execution_count": 56,
     "metadata": {},
     "output_type": "execute_result"
    }
   ],
   "source": [
    "tokyo.coordinates # 使用.field_name 来访问每个field"
   ]
  },
  {
   "cell_type": "code",
   "execution_count": 58,
   "metadata": {},
   "outputs": [],
   "source": [
    "City2 = namedtuple('City', ['name', 'Country', 'Population', 'Coordinates']) # using iterable of strings\n",
    "tokyo2 = City2('Tokyo', 'JP', 36.933, (35.689722, 139.691667))"
   ]
  },
  {
   "cell_type": "code",
   "execution_count": 59,
   "metadata": {},
   "outputs": [
    {
     "data": {
      "text/plain": [
       "City(name='Tokyo', Country='JP', Population=36.933, Coordinates=(35.689722, 139.691667))"
      ]
     },
     "execution_count": 59,
     "metadata": {},
     "output_type": "execute_result"
    }
   ],
   "source": [
    "tokyo2"
   ]
  },
  {
   "cell_type": "markdown",
   "metadata": {},
   "source": [
    "namedtuple 有三个比较关键的attribtues 和methods:\n",
    "- `_fields`: 获取所有field 信息 \n",
    "- `_make(interable)`: 通过一个iterable 来构建一个namedtuple\n",
    "- `_asDict()`: 将namedtuple 转换成一个`collection.OrderedDict` 对象 "
   ]
  },
  {
   "cell_type": "code",
   "execution_count": 60,
   "metadata": {},
   "outputs": [
    {
     "data": {
      "text/plain": [
       "('name', 'country', 'population', 'coordinates')"
      ]
     },
     "execution_count": 60,
     "metadata": {},
     "output_type": "execute_result"
    }
   ],
   "source": [
    "tokyo._fields"
   ]
  },
  {
   "cell_type": "code",
   "execution_count": 61,
   "metadata": {},
   "outputs": [
    {
     "data": {
      "text/plain": [
       "('name', 'country', 'population', 'coordinates')"
      ]
     },
     "execution_count": 61,
     "metadata": {},
     "output_type": "execute_result"
    }
   ],
   "source": [
    "City._fields"
   ]
  },
  {
   "cell_type": "code",
   "execution_count": 62,
   "metadata": {},
   "outputs": [],
   "source": [
    "delhi_data = ('Delhi', 'IND', 21.935, (28.613889, 77.208889))"
   ]
  },
  {
   "cell_type": "code",
   "execution_count": 63,
   "metadata": {},
   "outputs": [],
   "source": [
    "delhi = City._make(delhi_data)"
   ]
  },
  {
   "cell_type": "code",
   "execution_count": 64,
   "metadata": {},
   "outputs": [
    {
     "data": {
      "text/plain": [
       "City(name='Delhi', country='IND', population=21.935, coordinates=(28.613889, 77.208889))"
      ]
     },
     "execution_count": 64,
     "metadata": {},
     "output_type": "execute_result"
    }
   ],
   "source": [
    "delhi"
   ]
  },
  {
   "cell_type": "code",
   "execution_count": 68,
   "metadata": {},
   "outputs": [
    {
     "data": {
      "text/plain": [
       "OrderedDict([('name', 'Delhi'),\n",
       "             ('country', 'IND'),\n",
       "             ('population', 21.935),\n",
       "             ('coordinates', (28.613889, 77.208889))])"
      ]
     },
     "execution_count": 68,
     "metadata": {},
     "output_type": "execute_result"
    }
   ],
   "source": [
    "delhi._asdict()"
   ]
  },
  {
   "cell_type": "markdown",
   "metadata": {},
   "source": [
    "可以通过`asdict()`做显示上的优化"
   ]
  },
  {
   "cell_type": "code",
   "execution_count": 69,
   "metadata": {},
   "outputs": [
    {
     "name": "stdout",
     "output_type": "stream",
     "text": [
      "name: Delhi\n",
      "country: IND\n",
      "population: 21.935\n",
      "coordinates: (28.613889, 77.208889)\n"
     ]
    }
   ],
   "source": [
    "for key, value in delhi._asdict().items():\n",
    "    print(key + ':', value)"
   ]
  },
  {
   "cell_type": "code",
   "execution_count": null,
   "metadata": {},
   "outputs": [],
   "source": []
  }
 ],
 "metadata": {
  "kernelspec": {
   "display_name": "Python 3",
   "language": "python",
   "name": "python3"
  },
  "language_info": {
   "codemirror_mode": {
    "name": "ipython",
    "version": 3
   },
   "file_extension": ".py",
   "mimetype": "text/x-python",
   "name": "python",
   "nbconvert_exporter": "python",
   "pygments_lexer": "ipython3",
   "version": "3.6.4"
  }
 },
 "nbformat": 4,
 "nbformat_minor": 2
}
