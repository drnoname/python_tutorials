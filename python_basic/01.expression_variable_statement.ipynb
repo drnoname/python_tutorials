{
 "cells": [
  {
   "cell_type": "markdown",
   "metadata": {},
   "source": [
    "# 变量，表达式和语句"
   ]
  },
  {
   "cell_type": "markdown",
   "metadata": {},
   "source": [
    "## 1 什么是程序？\n",
    "\n",
    "程序：一组定义如何计算的**指令**集合。所有指令分为五类：\n",
    "\n",
    "- 输入\n",
    "- 输出\n",
    "- 数学计算\n",
    "- 条件执行\n",
    "- 重复"
   ]
  },
  {
   "cell_type": "code",
   "execution_count": 2,
   "metadata": {},
   "outputs": [
    {
     "name": "stdout",
     "output_type": "stream",
     "text": [
      "42\n",
      "42\n",
      "36\n",
      "4\n"
     ]
    }
   ],
   "source": [
    "# 数学计算\n",
    "\n",
    "print (40 + 2)\n",
    "print (6 * 7)\n",
    "print (6**2) # 注意，在某些语言中，可以用6^2 来表示6的2次方；^ 在python 中表示按位XOR\n",
    "print (6 ^ 2) # 6: 110, 2: 010 -> 110 XOR 010 = 100 = 4"
   ]
  },
  {
   "cell_type": "markdown",
   "metadata": {},
   "source": [
    "每一个值有一个类型，常见的类型有整型，字符串，浮点型等等。"
   ]
  },
  {
   "cell_type": "code",
   "execution_count": 3,
   "metadata": {},
   "outputs": [
    {
     "data": {
      "text/plain": [
       "str"
      ]
     },
     "execution_count": 3,
     "metadata": {},
     "output_type": "execute_result"
    }
   ],
   "source": [
    "type('2')"
   ]
  },
  {
   "cell_type": "code",
   "execution_count": 4,
   "metadata": {},
   "outputs": [
    {
     "data": {
      "text/plain": [
       "int"
      ]
     },
     "execution_count": 4,
     "metadata": {},
     "output_type": "execute_result"
    }
   ],
   "source": [
    "type(2)"
   ]
  },
  {
   "cell_type": "code",
   "execution_count": 5,
   "metadata": {},
   "outputs": [
    {
     "data": {
      "text/plain": [
       "float"
      ]
     },
     "execution_count": 5,
     "metadata": {},
     "output_type": "execute_result"
    }
   ],
   "source": [
    "type(2.0)"
   ]
  },
  {
   "cell_type": "markdown",
   "metadata": {},
   "source": [
    "### 1.1 形式语言自然语言\n",
    "\n",
    "**形式语言**是为了特殊的目的设计的语言。例如，数学。编程是为了表达计算过程而设计出来的形式语言。\n",
    "\n",
    "形式语言倾向于对语法做出严格的限制（设想Java 编译出错，试图把一个整数赋值给一个字符串）。\n",
    "\n",
    "语法规则有两种，分别适用于记号（token）和结构（structure）。\n",
    "\n",
    "语法分析：类似于自然语言，想要理解一句话，首先要理解句子的结构是什么。\n",
    "\n",
    "形式语言和自然语言的区别：\n",
    "\n",
    "- 歧义性：自然语言充满歧义\n",
    "\n",
    "- 冗余性：为弥补歧义，减少误解，自然语言采用大量冗余\n",
    "\n",
    "- 字面性：自然语言充满比喻\n",
    "\n",
    "形式语言的密度大于自然语言，因此阅读需要花费更多时间。"
   ]
  },
  {
   "cell_type": "markdown",
   "metadata": {},
   "source": [
    "### 1.2 Debugging\n",
    "\n",
    "一个程序可能出现3种类型的错误：\n",
    "- 语法错误（编译发现）\n",
    "- 运行时错误（运行发现）-- Exception\n",
    "- 语意错误（逻辑问题）-- 定位语意问题比较麻烦"
   ]
  },
  {
   "cell_type": "markdown",
   "metadata": {},
   "source": [
    "### 1.3 Excercise "
   ]
  },
  {
   "cell_type": "markdown",
   "metadata": {},
   "source": [
    "#### E1. 尝试给每个数字带上正负标识\n",
    "\n",
    "结论：没有影响"
   ]
  },
  {
   "cell_type": "code",
   "execution_count": 6,
   "metadata": {},
   "outputs": [
    {
     "data": {
      "text/plain": [
       "6"
      ]
     },
     "execution_count": 6,
     "metadata": {},
     "output_type": "execute_result"
    }
   ],
   "source": [
    "2++4"
   ]
  },
  {
   "cell_type": "code",
   "execution_count": 7,
   "metadata": {},
   "outputs": [
    {
     "data": {
      "text/plain": [
       "-2"
      ]
     },
     "execution_count": 7,
     "metadata": {},
     "output_type": "execute_result"
    }
   ],
   "source": [
    "2+-4"
   ]
  },
  {
   "cell_type": "code",
   "execution_count": 8,
   "metadata": {},
   "outputs": [
    {
     "data": {
      "text/plain": [
       "6"
      ]
     },
     "execution_count": 8,
     "metadata": {},
     "output_type": "execute_result"
    }
   ],
   "source": [
    "+2++4"
   ]
  },
  {
   "cell_type": "markdown",
   "metadata": {},
   "source": [
    "#### E2. 在数字前放0 （在自然语言中，02 和 2 是一样的）\n",
    "\n",
    "结论：语法错误"
   ]
  },
  {
   "cell_type": "code",
   "execution_count": 9,
   "metadata": {},
   "outputs": [
    {
     "ename": "SyntaxError",
     "evalue": "invalid token (<ipython-input-9-f92c44d653a7>, line 1)",
     "output_type": "error",
     "traceback": [
      "\u001b[0;36m  File \u001b[0;32m\"<ipython-input-9-f92c44d653a7>\"\u001b[0;36m, line \u001b[0;32m1\u001b[0m\n\u001b[0;31m    2+02\u001b[0m\n\u001b[0m       ^\u001b[0m\n\u001b[0;31mSyntaxError\u001b[0m\u001b[0;31m:\u001b[0m invalid token\n"
     ]
    }
   ],
   "source": [
    "2+02"
   ]
  },
  {
   "cell_type": "code",
   "execution_count": 10,
   "metadata": {},
   "outputs": [
    {
     "ename": "SyntaxError",
     "evalue": "invalid token (<ipython-input-10-b55a496e64a8>, line 1)",
     "output_type": "error",
     "traceback": [
      "\u001b[0;36m  File \u001b[0;32m\"<ipython-input-10-b55a496e64a8>\"\u001b[0;36m, line \u001b[0;32m1\u001b[0m\n\u001b[0;31m    02+2\u001b[0m\n\u001b[0m     ^\u001b[0m\n\u001b[0;31mSyntaxError\u001b[0m\u001b[0;31m:\u001b[0m invalid token\n"
     ]
    }
   ],
   "source": [
    "02+2"
   ]
  },
  {
   "cell_type": "code",
   "execution_count": null,
   "metadata": {},
   "outputs": [],
   "source": []
  },
  {
   "cell_type": "markdown",
   "metadata": {},
   "source": [
    "## 2 变量"
   ]
  },
  {
   "cell_type": "markdown",
   "metadata": {},
   "source": [
    "编程语言最强大的特性之一就是————**操纵变量的能力**。变量是指向一个值的名称。\n",
    "\n",
    "通常，选择有意义的变量名————表示变量的用途。\n",
    "建议变量名使用小写字母开头。多个词组成的变量名可以用_连接。\n",
    "\n",
    "Python 2 有31 个关键字，不能用于变量名（例如 class）。"
   ]
  },
  {
   "cell_type": "markdown",
   "metadata": {},
   "source": [
    "### 2.1 状态图\n",
    "\n",
    "写下变量名称，并用箭头指向其值。\n",
    "\n",
    "<img src=\"./fig/cha02_state_diagram.png\" width=\"350\">"
   ]
  },
  {
   "cell_type": "markdown",
   "metadata": {},
   "source": [
    "### 2.2 表达式和语句\n",
    "\n",
    "**表达式**：值，变量，操作符的组合\n",
    "\n",
    "单独的一个值，单独的一个变量都可以看作一个表达式\n",
    "\n",
    "Intepretor 接受一个表达式，会对其做计算，求值。\n",
    "\n",
    "**语句**：产生效果的单元代码\n",
    "\n",
    "例如：\n",
    "\n",
    "print(1+1)\n",
    "\n",
    "- 1+1: 表达式\n",
    "- print(1+1): 语句\n",
    "\n",
    "#### 操作符优先级规则：PEMDAS\n",
    "\n",
    "- 括号 Parentheses\n",
    "- 乘方 Exponentiation\n",
    "- 乘法除法 Multiplication/Devision\n",
    "- 加法减法 Addition/Substraction\n"
   ]
  },
  {
   "cell_type": "markdown",
   "metadata": {},
   "source": [
    "### 2.3 字符串操作\n",
    "\n",
    "- 拼接 concatenation -- 使用+\n",
    "- 重复 -- 使用*\n",
    "\n",
    "从下面的例子中可以看出，a*3 = a+a+a ,无论a是数字还是字符串"
   ]
  },
  {
   "cell_type": "code",
   "execution_count": 4,
   "metadata": {},
   "outputs": [],
   "source": [
    "a = 'hello'\n",
    "b = 'world'"
   ]
  },
  {
   "cell_type": "code",
   "execution_count": 5,
   "metadata": {},
   "outputs": [
    {
     "data": {
      "text/plain": [
       "'helloworld'"
      ]
     },
     "execution_count": 5,
     "metadata": {},
     "output_type": "execute_result"
    }
   ],
   "source": [
    "a+b #拼接"
   ]
  },
  {
   "cell_type": "code",
   "execution_count": 7,
   "metadata": {},
   "outputs": [
    {
     "data": {
      "text/plain": [
       "'hellohellohello'"
      ]
     },
     "execution_count": 7,
     "metadata": {},
     "output_type": "execute_result"
    }
   ],
   "source": [
    "a*3 #重复"
   ]
  },
  {
   "cell_type": "code",
   "execution_count": 8,
   "metadata": {},
   "outputs": [
    {
     "data": {
      "text/plain": [
       "'hellohellohello'"
      ]
     },
     "execution_count": 8,
     "metadata": {},
     "output_type": "execute_result"
    }
   ],
   "source": [
    "a+a+a"
   ]
  },
  {
   "cell_type": "markdown",
   "metadata": {},
   "source": [
    "### 2.4 注释\n",
    "\n",
    "注释最重要的是解释**为什么这么做**，而不是做了什么。因为代码本身就说明了做了什么。\n",
    "\n",
    "例如，对一些数学计算做解释。\n",
    "\n",
    "注释的方法：\n",
    "\n",
    "- 以# 开头"
   ]
  },
  {
   "cell_type": "markdown",
   "metadata": {},
   "source": [
    "### 2.5 Debugging\n",
    "\n",
    "#### 1. 语法错误\n",
    "\n",
    "程序结构以及结构的规则。编译报错。\n",
    "\n",
    "#### 2. 运行错误\n",
    "\n",
    "也称为**异常**。运行报错。\n",
    "\n",
    "#### 3. 语意错误\n",
    "\n",
    "通常不会报错，是逻辑问题。"
   ]
  },
  {
   "cell_type": "markdown",
   "metadata": {},
   "source": [
    "### 2.6 Exercise"
   ]
  },
  {
   "cell_type": "markdown",
   "metadata": {},
   "source": [
    "#### E1. Assignment Error"
   ]
  },
  {
   "cell_type": "code",
   "execution_count": 15,
   "metadata": {},
   "outputs": [
    {
     "ename": "SyntaxError",
     "evalue": "can't assign to literal (<ipython-input-15-8937d43122dc>, line 2)",
     "output_type": "error",
     "traceback": [
      "\u001b[0;36m  File \u001b[0;32m\"<ipython-input-15-8937d43122dc>\"\u001b[0;36m, line \u001b[0;32m2\u001b[0m\n\u001b[0;31m    42 = n\u001b[0m\n\u001b[0m          ^\u001b[0m\n\u001b[0;31mSyntaxError\u001b[0m\u001b[0;31m:\u001b[0m can't assign to literal\n"
     ]
    }
   ],
   "source": [
    "# 实验1:颠倒赋值\n",
    "n = 42\n",
    "42 = n"
   ]
  },
  {
   "cell_type": "code",
   "execution_count": 1,
   "metadata": {},
   "outputs": [],
   "source": [
    "# 实验2: 行末加标点\n",
    "\n",
    "n = 42; # case 2: 测试末尾加分号"
   ]
  },
  {
   "cell_type": "code",
   "execution_count": 2,
   "metadata": {},
   "outputs": [],
   "source": [
    "n = 42. # case 2: 测试末尾加句号"
   ]
  },
  {
   "cell_type": "code",
   "execution_count": 3,
   "metadata": {},
   "outputs": [
    {
     "name": "stdout",
     "output_type": "stream",
     "text": [
      "1\n",
      "1\n",
      "<class 'int'>\n",
      "<class 'int'>\n"
     ]
    }
   ],
   "source": [
    "# 实验3: 传递赋值\n",
    "x=y=1\n",
    "print(x)\n",
    "print(y)\n",
    "print(type(x))\n",
    "print(type(y))"
   ]
  },
  {
   "cell_type": "code",
   "execution_count": 4,
   "metadata": {},
   "outputs": [
    {
     "ename": "NameError",
     "evalue": "name 'xy' is not defined",
     "output_type": "error",
     "traceback": [
      "\u001b[0;31m---------------------------------------------------------------------------\u001b[0m",
      "\u001b[0;31mNameError\u001b[0m                                 Traceback (most recent call last)",
      "\u001b[0;32m<ipython-input-4-a6cf7d3ef036>\u001b[0m in \u001b[0;36m<module>\u001b[0;34m()\u001b[0m\n\u001b[1;32m      1\u001b[0m \u001b[0;31m# 实验4: 省略乘号（同自然语言）\u001b[0m\u001b[0;34m\u001b[0m\u001b[0;34m\u001b[0m\u001b[0m\n\u001b[0;32m----> 2\u001b[0;31m \u001b[0mxy\u001b[0m \u001b[0;31m# 直接输出xy，省略operator -- 自然语言中，看作x*y\u001b[0m\u001b[0;34m\u001b[0m\u001b[0m\n\u001b[0m",
      "\u001b[0;31mNameError\u001b[0m: name 'xy' is not defined"
     ]
    }
   ],
   "source": [
    "# 实验4: 省略乘号（同自然语言）\n",
    "xy # 直接输出xy，省略operator -- 自然语言中，看作x*y"
   ]
  },
  {
   "cell_type": "markdown",
   "metadata": {},
   "source": [
    "## Keywords: \n",
    "\n",
    "- high-level language\n",
    "- portability\n",
    "- float-point\n",
    "- nature language / formal language\n",
    "- token\n",
    "- syntax\n",
    "- parse\n",
    "- state diagram\n",
    "- operand / operator / expression / statement\n",
    "- order of operations\n",
    "- syntax error\n",
    "- semantics error"
   ]
  },
  {
   "cell_type": "code",
   "execution_count": null,
   "metadata": {},
   "outputs": [],
   "source": []
  }
 ],
 "metadata": {
  "kernelspec": {
   "display_name": "Python 3",
   "language": "python",
   "name": "python3"
  },
  "language_info": {
   "codemirror_mode": {
    "name": "ipython",
    "version": 3
   },
   "file_extension": ".py",
   "mimetype": "text/x-python",
   "name": "python",
   "nbconvert_exporter": "python",
   "pygments_lexer": "ipython3",
   "version": "3.6.4"
  }
 },
 "nbformat": 4,
 "nbformat_minor": 2
}
