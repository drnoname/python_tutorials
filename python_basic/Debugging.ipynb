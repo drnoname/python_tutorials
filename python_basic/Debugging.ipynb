{
 "cells": [
  {
   "cell_type": "markdown",
   "metadata": {},
   "source": [
    "# 调试\n",
    "\n",
    "这部分主要介绍python 程序调试的一般方法：\n",
    "- 异常处理\n",
    "- 断言\n",
    "- 日志\n",
    "- 调试器(IDE， 例如PyCharm)"
   ]
  },
  {
   "cell_type": "markdown",
   "metadata": {},
   "source": [
    "## 1. 抛出异常\n",
    "\n",
    "`try...except...` 处理异常，使得程序不至于崩溃。\n",
    "\n",
    "抛出异常使用`raise` 关键字。"
   ]
  },
  {
   "cell_type": "code",
   "execution_count": 1,
   "metadata": {},
   "outputs": [
    {
     "ename": "Exception",
     "evalue": "This is the error message...",
     "output_type": "error",
     "traceback": [
      "\u001b[0;31m---------------------------------------------------------------------------\u001b[0m",
      "\u001b[0;31mException\u001b[0m                                 Traceback (most recent call last)",
      "\u001b[0;32m<ipython-input-1-c1b208a3796e>\u001b[0m in \u001b[0;36m<module>\u001b[0;34m()\u001b[0m\n\u001b[0;32m----> 1\u001b[0;31m \u001b[0;32mraise\u001b[0m \u001b[0mException\u001b[0m\u001b[0;34m(\u001b[0m\u001b[0;34m'This is the error message...'\u001b[0m\u001b[0;34m)\u001b[0m\u001b[0;34m\u001b[0m\u001b[0m\n\u001b[0m",
      "\u001b[0;31mException\u001b[0m: This is the error message..."
     ]
    }
   ],
   "source": [
    "raise Exception('This is the error message...')"
   ]
  },
  {
   "cell_type": "markdown",
   "metadata": {},
   "source": [
    "通常是调用某函数的代码知道如何处理异常，而不是某个函数本身。\n",
    "\n",
    "即，在调用函数的地方，使用`try...except...`. 而被调用函数内部，使用`raise`."
   ]
  },
  {
   "cell_type": "code",
   "execution_count": 4,
   "metadata": {},
   "outputs": [],
   "source": [
    "def addition(num1, num2):\n",
    "    if type(num1) == str or type(num2) == str:\n",
    "        raise Exception('Input must be number, not String.')\n",
    "    if num1 < 0:\n",
    "        raise Exception('Operant must be positive.')\n",
    "    \n",
    "    return num1 + num2"
   ]
  },
  {
   "cell_type": "code",
   "execution_count": 7,
   "metadata": {},
   "outputs": [
    {
     "name": "stdout",
     "output_type": "stream",
     "text": [
      "The result is:  2.5\n"
     ]
    }
   ],
   "source": [
    "a = 1\n",
    "b = 1.5\n",
    "\n",
    "try:\n",
    "    print('The result is: ', addition(a, b))\n",
    "except Exception as err:  # 返回的Exception 对象保存在err 变量中\n",
    "    print('An exception happend: ', str(err))"
   ]
  },
  {
   "cell_type": "code",
   "execution_count": 8,
   "metadata": {},
   "outputs": [
    {
     "name": "stdout",
     "output_type": "stream",
     "text": [
      "An exception happend:  Input must be number, not String.\n"
     ]
    }
   ],
   "source": [
    "a = '1'\n",
    "b = 1.5\n",
    "\n",
    "try:\n",
    "    print('The result is: ', addition(a, b))\n",
    "except Exception as err:\n",
    "    print('An exception happend: ', str(err))"
   ]
  },
  {
   "cell_type": "code",
   "execution_count": 9,
   "metadata": {},
   "outputs": [
    {
     "name": "stdout",
     "output_type": "stream",
     "text": [
      "An exception happend:  Operant must be positive.\n"
     ]
    }
   ],
   "source": [
    "a = -1\n",
    "b = 1.5\n",
    "\n",
    "try:\n",
    "    print('The result is: ', addition(a, b))\n",
    "except Exception as err:\n",
    "    print('An exception happend: ', str(err))"
   ]
  },
  {
   "cell_type": "markdown",
   "metadata": {},
   "source": [
    "如果Python 遇到错误，会生成一些错误信息，成为**反向跟踪**。反向跟踪包含了出错信息，导致该错误的代码行号，以及导致该错误的函数调用序列————调用栈。"
   ]
  },
  {
   "cell_type": "code",
   "execution_count": 10,
   "metadata": {},
   "outputs": [],
   "source": [
    "def func1():\n",
    "    func2()\n",
    "\n",
    "def func2():\n",
    "    func3()\n",
    "    \n",
    "def func3():\n",
    "    raise Exception('This is an exception.')"
   ]
  },
  {
   "cell_type": "code",
   "execution_count": 11,
   "metadata": {},
   "outputs": [
    {
     "ename": "Exception",
     "evalue": "This is an exception.",
     "output_type": "error",
     "traceback": [
      "\u001b[0;31m---------------------------------------------------------------------------\u001b[0m",
      "\u001b[0;31mException\u001b[0m                                 Traceback (most recent call last)",
      "\u001b[0;32m<ipython-input-11-d88c41ef3303>\u001b[0m in \u001b[0;36m<module>\u001b[0;34m()\u001b[0m\n\u001b[0;32m----> 1\u001b[0;31m \u001b[0mfunc1\u001b[0m\u001b[0;34m(\u001b[0m\u001b[0;34m)\u001b[0m\u001b[0;34m\u001b[0m\u001b[0m\n\u001b[0m",
      "\u001b[0;32m<ipython-input-10-e99e33326193>\u001b[0m in \u001b[0;36mfunc1\u001b[0;34m()\u001b[0m\n\u001b[1;32m      1\u001b[0m \u001b[0;32mdef\u001b[0m \u001b[0mfunc1\u001b[0m\u001b[0;34m(\u001b[0m\u001b[0;34m)\u001b[0m\u001b[0;34m:\u001b[0m\u001b[0;34m\u001b[0m\u001b[0m\n\u001b[0;32m----> 2\u001b[0;31m     \u001b[0mfunc2\u001b[0m\u001b[0;34m(\u001b[0m\u001b[0;34m)\u001b[0m\u001b[0;34m\u001b[0m\u001b[0m\n\u001b[0m\u001b[1;32m      3\u001b[0m \u001b[0;34m\u001b[0m\u001b[0m\n\u001b[1;32m      4\u001b[0m \u001b[0;32mdef\u001b[0m \u001b[0mfunc2\u001b[0m\u001b[0;34m(\u001b[0m\u001b[0;34m)\u001b[0m\u001b[0;34m:\u001b[0m\u001b[0;34m\u001b[0m\u001b[0m\n\u001b[1;32m      5\u001b[0m     \u001b[0mfunc3\u001b[0m\u001b[0;34m(\u001b[0m\u001b[0;34m)\u001b[0m\u001b[0;34m\u001b[0m\u001b[0m\n",
      "\u001b[0;32m<ipython-input-10-e99e33326193>\u001b[0m in \u001b[0;36mfunc2\u001b[0;34m()\u001b[0m\n\u001b[1;32m      3\u001b[0m \u001b[0;34m\u001b[0m\u001b[0m\n\u001b[1;32m      4\u001b[0m \u001b[0;32mdef\u001b[0m \u001b[0mfunc2\u001b[0m\u001b[0;34m(\u001b[0m\u001b[0;34m)\u001b[0m\u001b[0;34m:\u001b[0m\u001b[0;34m\u001b[0m\u001b[0m\n\u001b[0;32m----> 5\u001b[0;31m     \u001b[0mfunc3\u001b[0m\u001b[0;34m(\u001b[0m\u001b[0;34m)\u001b[0m\u001b[0;34m\u001b[0m\u001b[0m\n\u001b[0m\u001b[1;32m      6\u001b[0m \u001b[0;34m\u001b[0m\u001b[0m\n\u001b[1;32m      7\u001b[0m \u001b[0;32mdef\u001b[0m \u001b[0mfunc3\u001b[0m\u001b[0;34m(\u001b[0m\u001b[0;34m)\u001b[0m\u001b[0;34m:\u001b[0m\u001b[0;34m\u001b[0m\u001b[0m\n",
      "\u001b[0;32m<ipython-input-10-e99e33326193>\u001b[0m in \u001b[0;36mfunc3\u001b[0;34m()\u001b[0m\n\u001b[1;32m      6\u001b[0m \u001b[0;34m\u001b[0m\u001b[0m\n\u001b[1;32m      7\u001b[0m \u001b[0;32mdef\u001b[0m \u001b[0mfunc3\u001b[0m\u001b[0;34m(\u001b[0m\u001b[0;34m)\u001b[0m\u001b[0;34m:\u001b[0m\u001b[0;34m\u001b[0m\u001b[0m\n\u001b[0;32m----> 8\u001b[0;31m     \u001b[0;32mraise\u001b[0m \u001b[0mException\u001b[0m\u001b[0;34m(\u001b[0m\u001b[0;34m'This is an exception.'\u001b[0m\u001b[0;34m)\u001b[0m\u001b[0;34m\u001b[0m\u001b[0m\n\u001b[0m",
      "\u001b[0;31mException\u001b[0m: This is an exception."
     ]
    }
   ],
   "source": [
    "func1()"
   ]
  },
  {
   "cell_type": "markdown",
   "metadata": {},
   "source": [
    "如上所示，如果只抛出异常，没有处理，就会显示反向跟踪。也可以调用`traceback.format_exc()`, 得到它的字符串形式。"
   ]
  },
  {
   "cell_type": "code",
   "execution_count": 13,
   "metadata": {},
   "outputs": [
    {
     "name": "stdout",
     "output_type": "stream",
     "text": [
      "Traceback (most recent call last):\n",
      "  File \"<ipython-input-13-5114bd522492>\", line 4, in <module>\n",
      "    raise Exception('This is an exception.')\n",
      "Exception: This is an exception.\n",
      "\n"
     ]
    }
   ],
   "source": [
    "import traceback\n",
    "\n",
    "try:\n",
    "    raise Exception('This is an exception.')\n",
    "except:\n",
    "    print(traceback.format_exc())  # 获取了打印在console 的异常信息的字符串形式。"
   ]
  },
  {
   "cell_type": "markdown",
   "metadata": {},
   "source": [
    "## 2. 断言\n",
    "\n",
    "使用`assert()` 检查代码是否有做一些明显错误的事。如果检查失败，则会抛出异常。\n",
    "\n",
    "`assert()` 语句包含以下部分：\n",
    "- assert 关键字\n",
    "- 条件(求值为True 或False)\n",
    "- 逗号\n",
    "- 当条件为False 时显示字符串"
   ]
  },
  {
   "cell_type": "code",
   "execution_count": 14,
   "metadata": {},
   "outputs": [
    {
     "ename": "AssertionError",
     "evalue": "You are too young",
     "output_type": "error",
     "traceback": [
      "\u001b[0;31m---------------------------------------------------------------------------\u001b[0m",
      "\u001b[0;31mAssertionError\u001b[0m                            Traceback (most recent call last)",
      "\u001b[0;32m<ipython-input-14-69417521f5ed>\u001b[0m in \u001b[0;36m<module>\u001b[0;34m()\u001b[0m\n\u001b[1;32m      1\u001b[0m \u001b[0mage\u001b[0m \u001b[0;34m=\u001b[0m \u001b[0;36m20\u001b[0m\u001b[0;34m\u001b[0m\u001b[0m\n\u001b[0;32m----> 2\u001b[0;31m \u001b[0;32massert\u001b[0m \u001b[0mage\u001b[0m \u001b[0;34m>=\u001b[0m \u001b[0;36m30\u001b[0m\u001b[0;34m,\u001b[0m \u001b[0;34m'You are too young'\u001b[0m  \u001b[0;31m# 通过断言判断age 应该至少为30岁\u001b[0m\u001b[0;34m\u001b[0m\u001b[0m\n\u001b[0m",
      "\u001b[0;31mAssertionError\u001b[0m: You are too young"
     ]
    }
   ],
   "source": [
    "age = 20\n",
    "assert age >= 30, 'You are too young'  # 通过断言判断age 应该至少为30岁 "
   ]
  },
  {
   "cell_type": "markdown",
   "metadata": {},
   "source": [
    "注意，`assert()` 不同于`Exception`，不应该通过`try...except...` 来处理。\n",
    "\n",
    "例如下面这个例子，如果assert 失败，程序就应该崩溃。这样可以让缺陷更快的暴露出来，直接就被你发现了。"
   ]
  },
  {
   "cell_type": "code",
   "execution_count": 15,
   "metadata": {},
   "outputs": [],
   "source": [
    "def print_age(age):\n",
    "    assert age >= 30, 'You are too young.'\n",
    "    \n",
    "    print('Age: ', age)"
   ]
  },
  {
   "cell_type": "code",
   "execution_count": 16,
   "metadata": {},
   "outputs": [
    {
     "name": "stdout",
     "output_type": "stream",
     "text": [
      "Age:  30\n"
     ]
    }
   ],
   "source": [
    "age = 30\n",
    "\n",
    "try:\n",
    "    print_age(age)\n",
    "except Exception as err:\n",
    "    print('Err: ', err)"
   ]
  },
  {
   "cell_type": "code",
   "execution_count": 17,
   "metadata": {},
   "outputs": [
    {
     "name": "stdout",
     "output_type": "stream",
     "text": [
      "Err:  You are too young.\n"
     ]
    }
   ],
   "source": [
    "age = 20\n",
    "\n",
    "try:\n",
    "    print_age(age)\n",
    "except Exception as err:\n",
    "    print('Err: ', err)"
   ]
  },
  {
   "cell_type": "markdown",
   "metadata": {},
   "source": [
    "#### Example：交通信号灯\n",
    "\n",
    "ref: Al Sweigart - Automate The Boring Stuff With Python_ Practical Programming For Total Beginners-No Starch Press (2017) page 178 "
   ]
  },
  {
   "cell_type": "markdown",
   "metadata": {},
   "source": [
    "#### 禁用断言\n",
    "\n",
    "在代码启动时，可以添加 `-O` 选项，禁用断言。断言时针对开发的，不是针对产品的，所以可以在生产环境中禁用断言。"
   ]
  },
  {
   "cell_type": "markdown",
   "metadata": {},
   "source": [
    "## 3. 日志"
   ]
  },
  {
   "cell_type": "markdown",
   "metadata": {},
   "source": [
    "### 3.1 使用日志模块"
   ]
  },
  {
   "cell_type": "code",
   "execution_count": 18,
   "metadata": {},
   "outputs": [],
   "source": [
    "import logging\n",
    "\n",
    "logging.basicConfig(level=logging.DEBUG, format=' %(asctime)s - %(levelname)s - %(message)s')"
   ]
  },
  {
   "cell_type": "markdown",
   "metadata": {},
   "source": [
    "当python 记录一个日志事件时，会创建一个LogRecord 对象。"
   ]
  },
  {
   "cell_type": "code",
   "execution_count": 19,
   "metadata": {},
   "outputs": [
    {
     "name": "stderr",
     "output_type": "stream",
     "text": [
      " 2020-03-25 10:41:01,881 - DEBUG - test log.\n"
     ]
    }
   ],
   "source": [
    "logging.debug('test log.')"
   ]
  },
  {
   "cell_type": "markdown",
   "metadata": {},
   "source": [
    "不要使用print，因为产品化的时候需要花很多时间将print 删除。使用logging模块，可以使用`logging.disable()` 禁用。\n",
    "\n",
    "该方法传入一个参数，会禁用该日志级别以及比该日志级别更低的日志。"
   ]
  },
  {
   "cell_type": "code",
   "execution_count": 20,
   "metadata": {},
   "outputs": [
    {
     "name": "stderr",
     "output_type": "stream",
     "text": [
      " 2020-03-25 10:49:50,239 - DEBUG - test log1.\n",
      " 2020-03-25 10:49:50,241 - DEBUG - test log2.\n"
     ]
    }
   ],
   "source": [
    "logging.debug('test log1.')\n",
    "logging.debug('test log2.')\n",
    "\n",
    "logging.disable(logging.CRITICAL)\n",
    "\n",
    "logging.debug('test log3.')\n",
    "logging.debug('test log4.')"
   ]
  },
  {
   "cell_type": "markdown",
   "metadata": {},
   "source": [
    "我们可以看出，打印了两条日志后，我们禁用了CRITICAL 以及更低级别的日志。后面的两条debug日志就不会继续打印了。"
   ]
  },
  {
   "cell_type": "markdown",
   "metadata": {},
   "source": [
    "### 3.2 日志级别\n",
    "\n",
    "前面我们已经看到，在basicConfig() 中设置level 关键字参数。下面我们介绍一下日志级别。\n",
    "\n",
    "| 日志级别      | 函数          |描述。        |\n",
    "| ------------- |:-------------:| \n",
    "| DEBUG           | logging.debug()| 最低级别，用于小问题，诊断问题时才需要这些消息 |\n",
    "| INFO         | logging.info()    | 记录一般事件|\n",
    "| WARNING          | logging.warning()|可能的问题，当前不会阻止程序工作，但未来可能带来问题|\n",
    "| ERROR            | logging.error()          |记录错误信息|\n",
    "| CRITICAL            | logging.critical()    |致命错误，导致程序完全停止工作|\n"
   ]
  },
  {
   "cell_type": "markdown",
   "metadata": {},
   "source": [
    "### 3.3 打印日志到文件"
   ]
  },
  {
   "cell_type": "code",
   "execution_count": null,
   "metadata": {},
   "outputs": [],
   "source": [
    "# logging.basicConfig(filename='myAPP.log', level=logging.DEBUG, format=' %(asctime)s - %(levelname)s - %(message)s')"
   ]
  },
  {
   "cell_type": "code",
   "execution_count": null,
   "metadata": {},
   "outputs": [],
   "source": []
  },
  {
   "cell_type": "code",
   "execution_count": null,
   "metadata": {},
   "outputs": [],
   "source": []
  },
  {
   "cell_type": "code",
   "execution_count": null,
   "metadata": {},
   "outputs": [],
   "source": []
  },
  {
   "cell_type": "code",
   "execution_count": null,
   "metadata": {},
   "outputs": [],
   "source": []
  }
 ],
 "metadata": {
  "kernelspec": {
   "display_name": "Python 3",
   "language": "python",
   "name": "python3"
  },
  "language_info": {
   "codemirror_mode": {
    "name": "ipython",
    "version": 3
   },
   "file_extension": ".py",
   "mimetype": "text/x-python",
   "name": "python",
   "nbconvert_exporter": "python",
   "pygments_lexer": "ipython3",
   "version": "3.6.4"
  }
 },
 "nbformat": 4,
 "nbformat_minor": 2
}
