{
 "cells": [
  {
   "cell_type": "markdown",
   "metadata": {},
   "source": [
    "# 正则表达式\n",
    "\n",
    "查找复合特定模式的文本。"
   ]
  },
  {
   "cell_type": "markdown",
   "metadata": {},
   "source": [
    "## 1 查找文本模式\n",
    "\n",
    "假设我们想要查找一个电话号码，格式为：xxx-xxxx-xxxx."
   ]
  },
  {
   "cell_type": "code",
   "execution_count": 7,
   "metadata": {},
   "outputs": [],
   "source": [
    "def phone_number_validator(phone_number):\n",
    "    if len(phone_number) != 13:\n",
    "        return False\n",
    "    \n",
    "    for i in range (0, 3):\n",
    "        if not phone_number[i].isdecimal():\n",
    "            return False\n",
    "    \n",
    "    if phone_number[3] != '-':\n",
    "        return False\n",
    "    \n",
    "    for i in range(4, 8):\n",
    "        if not phone_number[i].isdecimal():\n",
    "            return False\n",
    "    \n",
    "    if phone_number[8] != '-':\n",
    "        return false\n",
    "    \n",
    "    for i in range(9, 13):\n",
    "        if not phone_number[i].isdecimal():\n",
    "            return False\n",
    "\n",
    "    return True"
   ]
  },
  {
   "cell_type": "code",
   "execution_count": 8,
   "metadata": {},
   "outputs": [
    {
     "data": {
      "text/plain": [
       "True"
      ]
     },
     "execution_count": 8,
     "metadata": {},
     "output_type": "execute_result"
    }
   ],
   "source": [
    "phone_number_validator('136-1122-1212')"
   ]
  },
  {
   "cell_type": "code",
   "execution_count": 9,
   "metadata": {},
   "outputs": [
    {
     "data": {
      "text/plain": [
       "False"
      ]
     },
     "execution_count": 9,
     "metadata": {},
     "output_type": "execute_result"
    }
   ],
   "source": [
    "phone_number_validator('136-112-21212')"
   ]
  },
  {
   "cell_type": "code",
   "execution_count": 10,
   "metadata": {},
   "outputs": [
    {
     "data": {
      "text/plain": [
       "False"
      ]
     },
     "execution_count": 10,
     "metadata": {},
     "output_type": "execute_result"
    }
   ],
   "source": [
    "phone_number_validator('1361-1221-212')"
   ]
  },
  {
   "cell_type": "code",
   "execution_count": 11,
   "metadata": {},
   "outputs": [
    {
     "data": {
      "text/plain": [
       "False"
      ]
     },
     "execution_count": 11,
     "metadata": {},
     "output_type": "execute_result"
    }
   ],
   "source": [
    "phone_number_validator('021-21029871')"
   ]
  },
  {
   "cell_type": "markdown",
   "metadata": {},
   "source": [
    "如果想在很长的一句话中查找复合格式的字符串，我们需要循环去做。"
   ]
  },
  {
   "cell_type": "code",
   "execution_count": 20,
   "metadata": {},
   "outputs": [],
   "source": [
    "def find_valid_phone_number(phone_number):\n",
    "    is_found = False\n",
    "    for i in range(len(message)):\n",
    "        message_slice = message[i:i+13] # string slicing 超出范围后没有影响\n",
    "        if phone_number_validator(message_slice):\n",
    "            is_found = True\n",
    "            print('Find a valide phone number: ', message_slice)\n",
    "\n",
    "    if not is_found:\n",
    "        print('Nothing found.')"
   ]
  },
  {
   "cell_type": "code",
   "execution_count": 23,
   "metadata": {},
   "outputs": [],
   "source": [
    "import time"
   ]
  },
  {
   "cell_type": "code",
   "execution_count": 24,
   "metadata": {},
   "outputs": [
    {
     "name": "stdout",
     "output_type": "stream",
     "text": [
      "Find a valide phone number:  136-1122-1212\n",
      "0.00041031837463378906\n"
     ]
    }
   ],
   "source": [
    "message = 'Hello, my phone number is 136-1122-1212'\n",
    "\n",
    "start_time = time.time()\n",
    "find_valid_phone_number(message)\n",
    "end_time = time.time()\n",
    "print(end_time - start_time)"
   ]
  },
  {
   "cell_type": "code",
   "execution_count": 22,
   "metadata": {},
   "outputs": [
    {
     "name": "stdout",
     "output_type": "stream",
     "text": [
      "Nothing found.\n"
     ]
    }
   ],
   "source": [
    "message = 'Hello, my phone number is'\n",
    "\n",
    "find_valid_phone_number(message)"
   ]
  },
  {
   "cell_type": "markdown",
   "metadata": {},
   "source": [
    "## 2. 使用正则表达式查找文本"
   ]
  },
  {
   "cell_type": "code",
   "execution_count": 4,
   "metadata": {},
   "outputs": [],
   "source": [
    "import re"
   ]
  },
  {
   "cell_type": "markdown",
   "metadata": {},
   "source": [
    "### 2.1 写正则表达式字符串\n",
    "\n",
    "首先，我们需要写regex，上述的手机号的format 可以看成：\n",
    "- 3个数字 `\\d{3}`\n",
    "- 1个短横杠 `-`\n",
    "- 4个数字 `\\d{4}`\n",
    "- 1个短横杠 `-`\n",
    "- 4个数字 `\\d{4}`\n",
    "\n",
    "所以连接起来就是：\n",
    "\n",
    "`'\\d{3}-\\d{4}-\\d{4}'`\n",
    "\n",
    "注意，这里实际应该是`\\\\d`, 但是因为是raw string，所以只需要一个`\\`即可。"
   ]
  },
  {
   "cell_type": "markdown",
   "metadata": {},
   "source": [
    "### 2.2 compile 正则表达式字符串，创建regex 对象\n",
    "\n",
    "返回一个regex模式对象"
   ]
  },
  {
   "cell_type": "code",
   "execution_count": 32,
   "metadata": {},
   "outputs": [],
   "source": [
    "valide_phone_number_regex = re.compile(r'\\d{3}-\\d{4}-\\d{4}')"
   ]
  },
  {
   "cell_type": "markdown",
   "metadata": {},
   "source": [
    "### 2.3 匹配regex 对象\n",
    "\n",
    "regex 对象的`search()` 方法接受一个字符串作为参数，查找该正则表达式的所有匹配的子字符串。\n",
    "- 如果没有找到，则返回None。\n",
    "- 如果找到了，则返回一个Match 对象。Match 对象有一个group 方法，返回所有匹配的字符串。\n",
    "\n",
    "`search()` 方法只返回第一次匹配的文本，如果想找匹配的所有文本，可以使用`findall()` 方法（后面会介绍）。"
   ]
  },
  {
   "cell_type": "code",
   "execution_count": 37,
   "metadata": {},
   "outputs": [
    {
     "name": "stdout",
     "output_type": "stream",
     "text": [
      "136-1122-1212\n",
      "0.00045680999755859375\n"
     ]
    }
   ],
   "source": [
    "message = 'Hello, my phone number is 136-1122-1212.'\n",
    "# message = 'Hello, my phone number is 136-1122-1212. You can also call me via: 188-1111-2222.'\n",
    "\n",
    "start_time = time.time()\n",
    "mo = valide_phone_number_regex.search(message)\n",
    "print(mo.group())\n",
    "end_time = time.time()\n",
    "print(end_time - start_time)"
   ]
  },
  {
   "cell_type": "code",
   "execution_count": 38,
   "metadata": {},
   "outputs": [
    {
     "ename": "AttributeError",
     "evalue": "'NoneType' object has no attribute 'group'",
     "output_type": "error",
     "traceback": [
      "\u001b[0;31m---------------------------------------------------------------------------\u001b[0m",
      "\u001b[0;31mAttributeError\u001b[0m                            Traceback (most recent call last)",
      "\u001b[0;32m<ipython-input-38-804f262322b7>\u001b[0m in \u001b[0;36m<module>\u001b[0;34m()\u001b[0m\n\u001b[1;32m      1\u001b[0m \u001b[0mmessage2\u001b[0m \u001b[0;34m=\u001b[0m \u001b[0;34m'Hello, I do not have a mobile phone.'\u001b[0m\u001b[0;34m\u001b[0m\u001b[0m\n\u001b[1;32m      2\u001b[0m \u001b[0mmo\u001b[0m \u001b[0;34m=\u001b[0m \u001b[0mvalide_phone_number_regex\u001b[0m\u001b[0;34m.\u001b[0m\u001b[0msearch\u001b[0m\u001b[0;34m(\u001b[0m\u001b[0mmessage2\u001b[0m\u001b[0;34m)\u001b[0m\u001b[0;34m\u001b[0m\u001b[0m\n\u001b[0;32m----> 3\u001b[0;31m \u001b[0mprint\u001b[0m\u001b[0;34m(\u001b[0m\u001b[0mmo\u001b[0m\u001b[0;34m.\u001b[0m\u001b[0mgroup\u001b[0m\u001b[0;34m(\u001b[0m\u001b[0;34m)\u001b[0m\u001b[0;34m)\u001b[0m\u001b[0;34m\u001b[0m\u001b[0m\n\u001b[0m",
      "\u001b[0;31mAttributeError\u001b[0m: 'NoneType' object has no attribute 'group'"
     ]
    }
   ],
   "source": [
    "message2 = 'Hello, I do not have a mobile phone.'\n",
    "mo = valide_phone_number_regex.search(message2)\n",
    "print(mo.group()) "
   ]
  },
  {
   "cell_type": "markdown",
   "metadata": {},
   "source": [
    "从上面的例子可以看出来，因为没有找到，所以Match 对象是一个None，因此无法调用`group()` 方法。"
   ]
  },
  {
   "cell_type": "markdown",
   "metadata": {},
   "source": [
    "下面我们来总结以下使用regex 查找字符串的一般步骤：\n",
    "- 编写regex 字符串\n",
    "- 通过regex 字符串创建regex 对象(`re.compile`)\n",
    "- 调用regex 对象的search 方法，查找字符串，返回Match 对象\n",
    "- 判断Match 对象是否为空，如果不为空，调用`group()` 方法获取匹配结果\n",
    "\n",
    "下面，我们介绍一些regex 的高级用法"
   ]
  },
  {
   "cell_type": "markdown",
   "metadata": {},
   "source": [
    "## 3. Regex 高级用法\n",
    "\n",
    "### 3.1 利用括号分组\n",
    "\n",
    "在前面的例子里，我们想把前三位提取出来，来判断运营商。"
   ]
  },
  {
   "cell_type": "code",
   "execution_count": 5,
   "metadata": {},
   "outputs": [],
   "source": [
    "valide_phone_number_group_regex = re.compile(r'(\\d{3})-(\\d{4}-\\d{4})')  # 第一个括号是第一组，第二个括号是第二组"
   ]
  },
  {
   "cell_type": "code",
   "execution_count": 6,
   "metadata": {},
   "outputs": [
    {
     "name": "stdout",
     "output_type": "stream",
     "text": [
      "136\n",
      "Operator: China Mobile\n",
      "1122-1212\n",
      "136\n",
      "136-1122-1212\n",
      "136-1122-1212\n"
     ]
    }
   ],
   "source": [
    "message = 'Hello, my phone number is 136-1122-1212.'\n",
    "\n",
    "mo = valide_phone_number_group_regex.search(message)\n",
    "print(mo.group(1))\n",
    "if int(mo.group(1)) > 134 and int(mo.group(1)) < 140:\n",
    "    print('Operator: China Mobile')\n",
    "    \n",
    "print(mo.group(2))\n",
    "print(mo.group(1))\n",
    "print(mo.group(0))  # 传入0 或无参数，返回整个匹配文本\n",
    "print(mo.group())"
   ]
  },
  {
   "cell_type": "markdown",
   "metadata": {},
   "source": [
    "#### 使用`groups()` 方法一次返回所以匹配分组\n",
    "\n",
    "返回值是一个tuple"
   ]
  },
  {
   "cell_type": "code",
   "execution_count": 51,
   "metadata": {},
   "outputs": [
    {
     "data": {
      "text/plain": [
       "('136', '1122-1212')"
      ]
     },
     "execution_count": 51,
     "metadata": {},
     "output_type": "execute_result"
    }
   ],
   "source": [
    "mo.groups()"
   ]
  },
  {
   "cell_type": "code",
   "execution_count": 52,
   "metadata": {},
   "outputs": [
    {
     "data": {
      "text/plain": [
       "tuple"
      ]
     },
     "execution_count": 52,
     "metadata": {},
     "output_type": "execute_result"
    }
   ],
   "source": [
    "type(mo.groups())"
   ]
  },
  {
   "cell_type": "markdown",
   "metadata": {},
   "source": [
    "可以看出，括号在正则表达式中有特殊的意义，所以如果在文本中需要匹配括号，需要带转移字符(`'\\('`)。"
   ]
  },
  {
   "cell_type": "code",
   "execution_count": 68,
   "metadata": {},
   "outputs": [
    {
     "name": "stdout",
     "output_type": "stream",
     "text": [
      "Province code:  021\n",
      "Phone number:  2121-2121\n"
     ]
    }
   ],
   "source": [
    "message2 = 'my fix phone is: (021) 2121-2121.'\n",
    "\n",
    "fix_phone_pattern = r'\\((\\d{3})\\) (\\d{4}-\\d{4})'\n",
    "fix_phone_regex = re.compile(fix_phone_pattern)\n",
    "mo = fix_phone_regex.search(message2)\n",
    "print('Province code: ', mo.group(1))\n",
    "print('Phone number: ', mo.group(2))"
   ]
  },
  {
   "cell_type": "markdown",
   "metadata": {},
   "source": [
    "### 3.2 用管道匹配多个分组\n",
    "\n",
    "当我们希望匹配的表达式多于一个时，我们使用管道`|`。\n",
    "\n",
    "例如，在上面的例子里，有的省的区号是四位数字，所以我们可以使用管道，来匹配多种情况。"
   ]
  },
  {
   "cell_type": "code",
   "execution_count": 70,
   "metadata": {},
   "outputs": [
    {
     "name": "stdout",
     "output_type": "stream",
     "text": [
      "Province code:  0991\n",
      "Phone number:  2121-2121\n"
     ]
    }
   ],
   "source": [
    "message1 = 'my fix phone is: (021) 2121-2121.'\n",
    "message2 = 'my fix phone is: (0991) 2121-2121.'\n",
    "\n",
    "fix_phone_pattern = r'\\((\\d{3}|\\d{4})\\) (\\d{4}-\\d{4})'\n",
    "fix_phone_regex = re.compile(fix_phone_pattern)\n",
    "mo = fix_phone_regex.search(message2)\n",
    "print('Province code: ', mo.group(1))\n",
    "print('Phone number: ', mo.group(2))"
   ]
  },
  {
   "cell_type": "code",
   "execution_count": 71,
   "metadata": {},
   "outputs": [
    {
     "name": "stdout",
     "output_type": "stream",
     "text": [
      "Province code:  021\n",
      "Phone number:  2121-2121\n"
     ]
    }
   ],
   "source": [
    "mo = fix_phone_regex.search(message1)\n",
    "print('Province code: ', mo.group(1))\n",
    "print('Phone number: ', mo.group(2))"
   ]
  },
  {
   "cell_type": "markdown",
   "metadata": {},
   "source": [
    "也可以使用管道，来做lemmatization，相同前缀的词可以识别成一样的。"
   ]
  },
  {
   "cell_type": "code",
   "execution_count": 86,
   "metadata": {},
   "outputs": [],
   "source": [
    "suffix_regex = re.compile(r'process(ing|or|ed|es|)')  # 注意，空字符要放在最后"
   ]
  },
  {
   "cell_type": "code",
   "execution_count": 83,
   "metadata": {},
   "outputs": [
    {
     "data": {
      "text/plain": [
       "'processor'"
      ]
     },
     "execution_count": 83,
     "metadata": {},
     "output_type": "execute_result"
    }
   ],
   "source": [
    "mo = suffix_regex.search('this is a processor')\n",
    "mo.group()"
   ]
  },
  {
   "cell_type": "code",
   "execution_count": 84,
   "metadata": {},
   "outputs": [
    {
     "data": {
      "text/plain": [
       "'processing'"
      ]
     },
     "execution_count": 84,
     "metadata": {},
     "output_type": "execute_result"
    }
   ],
   "source": [
    "mo = suffix_regex.search('He is processing the document')\n",
    "mo.group()"
   ]
  },
  {
   "cell_type": "code",
   "execution_count": 85,
   "metadata": {},
   "outputs": [
    {
     "data": {
      "text/plain": [
       "'process'"
      ]
     },
     "execution_count": 85,
     "metadata": {},
     "output_type": "execute_result"
    }
   ],
   "source": [
    "mo = suffix_regex.search('pls. follow the process.')\n",
    "mo.group()"
   ]
  },
  {
   "cell_type": "markdown",
   "metadata": {},
   "source": [
    "### 3.3 用问号实现可选匹配（零次或一次）\n",
    "\n",
    "有的时候，有的匹配是可选的，我们需要用问号`?`来表明它前面的pattern是可选的，即可以出现零次或一次。\n",
    "\n",
    "例如，固定电话，我们可以写成:\n",
    "- (021)21212121\n",
    "- (021) 21212121\n",
    "- (021) 2121-2121\n",
    "- (021)2121-2121\n",
    "\n",
    "我们看出，区号和电话号码之间的空格，以及电话号码前四位和后四位的横线是可选的。因此，我们修改之前的表达式，如下所示。"
   ]
  },
  {
   "cell_type": "code",
   "execution_count": 90,
   "metadata": {},
   "outputs": [],
   "source": [
    "fix_phone_regex = re.compile(r'\\((\\d{3})\\) ?(\\d{4}-?\\d{4})')  # 空格和-均为可选匹配"
   ]
  },
  {
   "cell_type": "code",
   "execution_count": 91,
   "metadata": {},
   "outputs": [
    {
     "name": "stdout",
     "output_type": "stream",
     "text": [
      "Province code:  021\n",
      "Phone number:  2121-2121\n"
     ]
    }
   ],
   "source": [
    "message = 'my fix phone is: (021) 2121-2121.'\n",
    "mo = fix_phone_regex.search(message)\n",
    "print('Province code: ', mo.group(1))\n",
    "print('Phone number: ', mo.group(2))"
   ]
  },
  {
   "cell_type": "code",
   "execution_count": 92,
   "metadata": {},
   "outputs": [
    {
     "name": "stdout",
     "output_type": "stream",
     "text": [
      "Province code:  021\n",
      "Phone number:  2121-2121\n"
     ]
    }
   ],
   "source": [
    "message = 'my fix phone is: (021)2121-2121.'\n",
    "mo = fix_phone_regex.search(message)\n",
    "print('Province code: ', mo.group(1))\n",
    "print('Phone number: ', mo.group(2))"
   ]
  },
  {
   "cell_type": "code",
   "execution_count": 93,
   "metadata": {},
   "outputs": [
    {
     "name": "stdout",
     "output_type": "stream",
     "text": [
      "Province code:  021\n",
      "Phone number:  21212121\n"
     ]
    }
   ],
   "source": [
    "message = 'my fix phone is: (021)21212121.'\n",
    "mo = fix_phone_regex.search(message)\n",
    "print('Province code: ', mo.group(1))\n",
    "print('Phone number: ', mo.group(2))"
   ]
  },
  {
   "cell_type": "code",
   "execution_count": 94,
   "metadata": {},
   "outputs": [
    {
     "name": "stdout",
     "output_type": "stream",
     "text": [
      "Province code:  021\n",
      "Phone number:  21212121\n"
     ]
    }
   ],
   "source": [
    "message = 'my fix phone is: (021) 21212121.'\n",
    "mo = fix_phone_regex.search(message)\n",
    "print('Province code: ', mo.group(1))\n",
    "print('Phone number: ', mo.group(2))"
   ]
  },
  {
   "cell_type": "markdown",
   "metadata": {},
   "source": [
    "因此，如果需要匹配一个真正的问号，需要使用转义字符。"
   ]
  },
  {
   "cell_type": "markdown",
   "metadata": {},
   "source": [
    "### 3.4 用星号匹配零次或多次"
   ]
  },
  {
   "cell_type": "code",
   "execution_count": 95,
   "metadata": {},
   "outputs": [],
   "source": [
    "fix_phone_regex = re.compile(r'\\((\\d{3})\\) *(\\d{4}-*\\d{4})')  # 空格和-均可出现任意次"
   ]
  },
  {
   "cell_type": "code",
   "execution_count": 98,
   "metadata": {},
   "outputs": [
    {
     "name": "stdout",
     "output_type": "stream",
     "text": [
      "Province code:  021\n",
      "Phone number:  2121--2121\n"
     ]
    }
   ],
   "source": [
    "# 多次\n",
    "message = 'my fix phone is: (021)    2121--2121.'\n",
    "mo = fix_phone_regex.search(message)\n",
    "print('Province code: ', mo.group(1))\n",
    "print('Phone number: ', mo.group(2))"
   ]
  },
  {
   "cell_type": "code",
   "execution_count": 99,
   "metadata": {},
   "outputs": [
    {
     "name": "stdout",
     "output_type": "stream",
     "text": [
      "Province code:  021\n",
      "Phone number:  21212121\n"
     ]
    }
   ],
   "source": [
    "# 零次\n",
    "message = 'my fix phone is: (021)21212121.'\n",
    "mo = fix_phone_regex.search(message)\n",
    "print('Province code: ', mo.group(1))\n",
    "print('Phone number: ', mo.group(2))"
   ]
  },
  {
   "cell_type": "markdown",
   "metadata": {},
   "source": [
    "### 3.5 用加号匹配一次或多次\n"
   ]
  },
  {
   "cell_type": "code",
   "execution_count": 100,
   "metadata": {},
   "outputs": [],
   "source": [
    "fix_phone_regex = re.compile(r'\\((\\d{3})\\) +(\\d{4}-+\\d{4})')  # 空格和-均可出现任意次"
   ]
  },
  {
   "cell_type": "code",
   "execution_count": 101,
   "metadata": {},
   "outputs": [
    {
     "name": "stdout",
     "output_type": "stream",
     "text": [
      "Province code:  021\n",
      "Phone number:  2121--2121\n"
     ]
    }
   ],
   "source": [
    "# 多次\n",
    "message = 'my fix phone is: (021)    2121--2121.'\n",
    "mo = fix_phone_regex.search(message)\n",
    "print('Province code: ', mo.group(1))\n",
    "print('Phone number: ', mo.group(2))"
   ]
  },
  {
   "cell_type": "code",
   "execution_count": 106,
   "metadata": {},
   "outputs": [
    {
     "data": {
      "text/plain": [
       "True"
      ]
     },
     "execution_count": 106,
     "metadata": {},
     "output_type": "execute_result"
    }
   ],
   "source": [
    "# 零次，匹配失败\n",
    "message = 'my fix phone is: (021)21212121.'\n",
    "mo = fix_phone_regex.search(message)\n",
    "mo == None"
   ]
  },
  {
   "cell_type": "markdown",
   "metadata": {},
   "source": [
    "### 3.6 用花括号匹配特定次数\n",
    "\n",
    "这个我们之前讲过了，使用`\\d\\d\\d`匹配三个数字，等同于使用`\\d{3}`。\n",
    "\n",
    "我们可以匹配一个范围，例如`\\d{3,4}`可以匹配三个或四个数字。我们可以修改之前区号匹配的regex.\n"
   ]
  },
  {
   "cell_type": "code",
   "execution_count": 107,
   "metadata": {},
   "outputs": [
    {
     "name": "stdout",
     "output_type": "stream",
     "text": [
      "Province code:  021\n",
      "Phone number:  2121-2121\n",
      "Province code:  0991\n",
      "Phone number:  2121-2121\n"
     ]
    }
   ],
   "source": [
    "message1 = 'my fix phone is: (021) 2121-2121.'\n",
    "message2 = 'my fix phone is: (0991) 2121-2121.'\n",
    "\n",
    "fix_phone_pattern = r'\\((\\d{3,4})\\) (\\d{4}-\\d{4})'\n",
    "fix_phone_regex = re.compile(fix_phone_pattern)\n",
    "\n",
    "mo = fix_phone_regex.search(message1)\n",
    "print('Province code: ', mo.group(1))\n",
    "print('Phone number: ', mo.group(2))\n",
    "\n",
    "mo = fix_phone_regex.search(message2)\n",
    "print('Province code: ', mo.group(1))\n",
    "print('Phone number: ', mo.group(2))"
   ]
  },
  {
   "cell_type": "markdown",
   "metadata": {},
   "source": [
    "- `\\d{3,}`: 匹配至少三个数字\n",
    "- `\\d{,3}`: 匹配最多三个数字"
   ]
  },
  {
   "cell_type": "code",
   "execution_count": 108,
   "metadata": {},
   "outputs": [
    {
     "data": {
      "text/plain": [
       "'haha'"
      ]
     },
     "execution_count": 108,
     "metadata": {},
     "output_type": "execute_result"
    }
   ],
   "source": [
    "ha_pattern = r'(ha){,5}'\n",
    "ha_regex = re.compile(ha_pattern)\n",
    "\n",
    "mo = ha_regex.search('haha')\n",
    "mo.group()"
   ]
  },
  {
   "cell_type": "code",
   "execution_count": 109,
   "metadata": {},
   "outputs": [
    {
     "data": {
      "text/plain": [
       "'hahahahaha'"
      ]
     },
     "execution_count": 109,
     "metadata": {},
     "output_type": "execute_result"
    }
   ],
   "source": [
    "mo = ha_regex.search('hahahahaha')\n",
    "mo.group()"
   ]
  },
  {
   "cell_type": "code",
   "execution_count": 110,
   "metadata": {},
   "outputs": [
    {
     "data": {
      "text/plain": [
       "'hahahahaha'"
      ]
     },
     "execution_count": 110,
     "metadata": {},
     "output_type": "execute_result"
    }
   ],
   "source": [
    "mo = ha_regex.search('hahahahahaha')  # 只能匹配5个ha\n",
    "mo.group()"
   ]
  },
  {
   "cell_type": "markdown",
   "metadata": {},
   "source": [
    "### 3.7. 贪心匹配和非贪心匹配\n",
    "\n",
    "在上面的hahaha 的例子中，默认是贪心匹配的，即如果能匹配五个，就返回五个，否则返回4个，三个，...\n",
    "\n",
    "python 的regex，默认是贪心的，在二义的情况下，会尽可能匹配最常的字符串。\n",
    "\n",
    "如果想用非贪心版本，可以在花括号后加一个问号。"
   ]
  },
  {
   "cell_type": "code",
   "execution_count": 111,
   "metadata": {},
   "outputs": [
    {
     "data": {
      "text/plain": [
       "'hahaha'"
      ]
     },
     "execution_count": 111,
     "metadata": {},
     "output_type": "execute_result"
    }
   ],
   "source": [
    "ha_pattern = r'(ha){3,5}?'\n",
    "ha_regex = re.compile(ha_pattern)\n",
    "mo = ha_regex.search('hahahahaha')\n",
    "mo.group()"
   ]
  },
  {
   "cell_type": "markdown",
   "metadata": {},
   "source": [
    "注意，问号`?` 在正则表达式中有两个含义：\n",
    "- 可选的（出现0或1次）\n",
    "- 非贪心（跟在次数后）"
   ]
  },
  {
   "cell_type": "markdown",
   "metadata": {},
   "source": [
    "### 3.8 `findall()` 方法\n",
    "\n",
    "与`search()`方法不同，`findall()` 方法返回一组字符串，包含所有匹配的字符串。"
   ]
  },
  {
   "cell_type": "code",
   "execution_count": 112,
   "metadata": {},
   "outputs": [
    {
     "data": {
      "text/plain": [
       "'136-1122-1212'"
      ]
     },
     "execution_count": 112,
     "metadata": {},
     "output_type": "execute_result"
    }
   ],
   "source": [
    "message = 'Hello, my phone number is 136-1122-1212. You can also call me via: 188-1111-2222.'\n",
    "\n",
    "valide_phone_number_group_regex = re.compile(r'\\d{3}-\\d{4}-\\d{4}') \n",
    "\n",
    "mo = valide_phone_number_group_regex.search(message)\n",
    "mo.group()"
   ]
  },
  {
   "cell_type": "code",
   "execution_count": 113,
   "metadata": {},
   "outputs": [
    {
     "name": "stdout",
     "output_type": "stream",
     "text": [
      "['136-1122-1212', '188-1111-2222']\n"
     ]
    }
   ],
   "source": [
    "phone_numbers = valide_phone_number_group_regex.findall(message)\n",
    "print(phone_numbers)"
   ]
  },
  {
   "cell_type": "markdown",
   "metadata": {},
   "source": [
    "如果正则表达式中有分组，`findall()` 方法将返回一个tuple 的列表。"
   ]
  },
  {
   "cell_type": "code",
   "execution_count": 114,
   "metadata": {},
   "outputs": [
    {
     "name": "stdout",
     "output_type": "stream",
     "text": [
      "[('136', '1122-1212'), ('188', '1111-2222')]\n"
     ]
    }
   ],
   "source": [
    "valide_phone_number_group_regex = re.compile(r'(\\d{3})-(\\d{4}-\\d{4})') \n",
    "phone_numbers = valide_phone_number_group_regex.findall(message)\n",
    "print(phone_numbers)"
   ]
  },
  {
   "cell_type": "markdown",
   "metadata": {},
   "source": [
    "## 4. 字符的分类\n",
    "\n",
    "前面我们使用`\\d` 来代表一个数字，也就是说，`\\d` 等同于 `(0|1|2|3|4|5|6|7|8|9)`。\n",
    "\n",
    "`\\d` 是一个缩写字符类，下面我们来看一下还有什么其他的分类。\n",
    "\n",
    "| 缩写字符类      | 表示          |\n",
    "| ------------- |:-------------:| \n",
    "| \\d            | 0-9 任何数字字符                        |\n",
    "| \\D            | 除0-9以外的任何字符                      |\n",
    "| \\w            | 任何字母，数字，或下划线（可以认为是匹配单词）|\n",
    "| \\W            | 除字母，数字，下划线以外的任何字符          |\n",
    "| \\s            | 空格，制表符或换行符                      |\n",
    "| \\S            | 除空格，制表符或换行符以外的任何字符        |\n",
    "\n",
    "例如，我们可以使用以下regex 类匹配key-value pair(其中key 是数字，value 是单词)。"
   ]
  },
  {
   "cell_type": "code",
   "execution_count": 116,
   "metadata": {},
   "outputs": [
    {
     "data": {
      "text/plain": [
       "['23:Jordan', '33:Pipen', '30:Currey']"
      ]
     },
     "execution_count": 116,
     "metadata": {},
     "output_type": "execute_result"
    }
   ],
   "source": [
    "text = '23:Jordan, 33:Pipen, 30:Currey, coach:Jackson'\n",
    "\n",
    "key_value_pair_regex = re.compile(r'\\d+:\\w+')\n",
    "key_value_pair_regex.findall(text)"
   ]
  },
  {
   "cell_type": "markdown",
   "metadata": {},
   "source": [
    "从上面我们可以看出，成功找出了球员和相应的号码。"
   ]
  },
  {
   "cell_type": "markdown",
   "metadata": {},
   "source": [
    "### 4.1 建立自己的字符分类\n",
    "\n",
    "例如，我们只想匹配元音，可以将自己想要匹配的字符放在方括号中。注意，方括号中不需要转移字符，因为所有正则表达式符号都不会被解释。"
   ]
  },
  {
   "cell_type": "code",
   "execution_count": 117,
   "metadata": {},
   "outputs": [],
   "source": [
    "vowel_regex = re.compile(r'[aeiouAEIOU]')"
   ]
  },
  {
   "cell_type": "code",
   "execution_count": 119,
   "metadata": {},
   "outputs": [
    {
     "data": {
      "text/plain": [
       "['o', 'a', 'i', 'e', 'u', 'e', 'o', 'a', 'a', 'o']"
      ]
     },
     "execution_count": 119,
     "metadata": {},
     "output_type": "execute_result"
    }
   ],
   "source": [
    "text = '23:Jordan, 33:Pipen, 30:Currey, coach:Jackson'\n",
    "vowel_regex.findall(text)  # 找出一句话中所有的元音"
   ]
  },
  {
   "cell_type": "markdown",
   "metadata": {},
   "source": [
    "### 4.2 非字符类\n",
    "\n",
    "在左方括号前加上`^`, 就可以得到非字符类。"
   ]
  },
  {
   "cell_type": "code",
   "execution_count": 123,
   "metadata": {},
   "outputs": [
    {
     "name": "stdout",
     "output_type": "stream",
     "text": [
      "['2', '3', ':', 'J', 'r', 'd', 'n', ',', ' ', '3', '3', ':', 'P', 'p', 'n', ',', ' ', '3', '0', ':', 'C', 'r', 'r', 'y', ',', ' ', 'c', 'c', 'h', ':', 'J', 'c', 'k', 's', 'n']\n"
     ]
    }
   ],
   "source": [
    "nonvowel_regex = re.compile(r'[^aeiouAEIOU]')  # 非元音\n",
    "text = '23:Jordan, 33:Pipen, 30:Currey, coach:Jackson'\n",
    "print(nonvowel_regex.findall(text))  # 找出一句话中所有的非元音字符（包括辅音和特殊字符）"
   ]
  },
  {
   "cell_type": "markdown",
   "metadata": {},
   "source": [
    "### 4.3 插入字符和美元字符\n",
    "\n",
    "- 插入字符 `^` 表明匹配必须发生在文本开始处\n",
    "- 美元字符 `$` 表明匹配必须发生在文本结束处\n",
    "- 可以同时使用插入字符和美元字符"
   ]
  },
  {
   "cell_type": "code",
   "execution_count": 129,
   "metadata": {},
   "outputs": [
    {
     "name": "stdout",
     "output_type": "stream",
     "text": [
      "<_sre.SRE_Match object; span=(0, 14), match='Hello Michael!'>\n"
     ]
    }
   ],
   "source": [
    "hello_regex = re.compile(r'^Hello \\w+!$')  # 匹配整个字符串，成功\n",
    "\n",
    "text = 'Hello Michael!'\n",
    "print(hello_regex.search(text))"
   ]
  },
  {
   "cell_type": "code",
   "execution_count": 130,
   "metadata": {},
   "outputs": [
    {
     "name": "stdout",
     "output_type": "stream",
     "text": [
      "None\n"
     ]
    }
   ],
   "source": [
    "hello_regex = re.compile(r'^Hello \\w+!$')  # 匹配整个字符串，失败\n",
    "\n",
    "text = 'Hello Michael! How are you?'\n",
    "print(hello_regex.search(text))"
   ]
  },
  {
   "cell_type": "code",
   "execution_count": 132,
   "metadata": {},
   "outputs": [
    {
     "name": "stdout",
     "output_type": "stream",
     "text": [
      "<_sre.SRE_Match object; span=(0, 14), match='Hello Michael!'>\n"
     ]
    }
   ],
   "source": [
    "hello_regex = re.compile(r'^Hello \\w+!')  # 从字符串开始的地方匹配，成功\n",
    "\n",
    "text = 'Hello Michael! How are you?'\n",
    "print(hello_regex.search(text))"
   ]
  },
  {
   "cell_type": "markdown",
   "metadata": {},
   "source": [
    "### 4.4 通配字符\n",
    "\n",
    "#### 句点`.` 匹配除了换行符之外的所有字符。\n",
    "因此，如果要匹配句号，需要转义`\\.`."
   ]
  },
  {
   "cell_type": "code",
   "execution_count": 134,
   "metadata": {},
   "outputs": [
    {
     "data": {
      "text/plain": [
       "['cat', 'hat', 'sat', 'lat', 'mat']"
      ]
     },
     "execution_count": 134,
     "metadata": {},
     "output_type": "execute_result"
    }
   ],
   "source": [
    "at_regex = re.compile(r'.at')\n",
    "at_regex.findall('the cat in the hat sat on the flat mat')"
   ]
  },
  {
   "cell_type": "markdown",
   "metadata": {},
   "source": [
    "#### 点星 `.*` 匹配所有字符 \n",
    "\n",
    "注意，这里点星使用贪婪模式，匹配尽可能多的文本。如果要使用非贪婪模式，可以使用`.*?`"
   ]
  },
  {
   "cell_type": "code",
   "execution_count": 136,
   "metadata": {},
   "outputs": [
    {
     "name": "stdout",
     "output_type": "stream",
     "text": [
      "<some thing here> this is outside>\n",
      "<some thing here>\n"
     ]
    }
   ],
   "source": [
    "text = '<some thing here> this is outside>'\n",
    "\n",
    "# 一个左尖括号，任意字符，右尖括号，贪心匹配。\n",
    "greedy_regex = re.compile(r'<.*>')\n",
    "\n",
    "# 一个左尖括号，任意字符，右尖括号，非贪心匹配。\n",
    "non_greedy_regex = re.compile(r'<.*?>')\n",
    "\n",
    "mo_greedy = greedy_regex.search(text)\n",
    "print(mo_greedy.group())\n",
    "\n",
    "mo_non_greedy = non_greedy_regex.search(text)\n",
    "print(mo_non_greedy.group())"
   ]
  },
  {
   "cell_type": "markdown",
   "metadata": {},
   "source": [
    "#### `re.DOTALL` 匹配换行符\n",
    "\n",
    "将 `re.DOTALL` 作为`re.compile()` 的第二个参数，就可以让dot 匹配所有字符(包括换行符)。"
   ]
  },
  {
   "cell_type": "code",
   "execution_count": 139,
   "metadata": {},
   "outputs": [
    {
     "data": {
      "text/plain": [
       "['cat', 'hat', 'sat', 'lat', 'mat']"
      ]
     },
     "execution_count": 139,
     "metadata": {},
     "output_type": "execute_result"
    }
   ],
   "source": [
    "text = 'the cat in the hat sat on the flat mat.\\nat this moment, my mum come back.'\n",
    "\n",
    "at_regex = re.compile(r'.at')\n",
    "at_regex.findall(text)"
   ]
  },
  {
   "cell_type": "code",
   "execution_count": 140,
   "metadata": {},
   "outputs": [
    {
     "data": {
      "text/plain": [
       "['cat', 'hat', 'sat', 'lat', 'mat', '\\nat']"
      ]
     },
     "execution_count": 140,
     "metadata": {},
     "output_type": "execute_result"
    }
   ],
   "source": [
    "at_regex = re.compile(r'.at', re.DOTALL)\n",
    "at_regex.findall(text)"
   ]
  },
  {
   "cell_type": "markdown",
   "metadata": {},
   "source": [
    "#### `re.IGNORECASE` 或 `re.I` 不区分大小写"
   ]
  },
  {
   "cell_type": "code",
   "execution_count": 141,
   "metadata": {},
   "outputs": [
    {
     "data": {
      "text/plain": [
       "'THE CAT IN THE HAT SAT ON THE FLAT MAT.\\nAT THIS MOMENT, MY MUM COME BACK.'"
      ]
     },
     "execution_count": 141,
     "metadata": {},
     "output_type": "execute_result"
    }
   ],
   "source": [
    "text_upper = text.upper()\n",
    "text_upper"
   ]
  },
  {
   "cell_type": "code",
   "execution_count": 142,
   "metadata": {},
   "outputs": [
    {
     "data": {
      "text/plain": [
       "[]"
      ]
     },
     "execution_count": 142,
     "metadata": {},
     "output_type": "execute_result"
    }
   ],
   "source": [
    "at_regex = re.compile(r'.at')\n",
    "at_regex.findall(text_upper)"
   ]
  },
  {
   "cell_type": "code",
   "execution_count": 143,
   "metadata": {},
   "outputs": [
    {
     "data": {
      "text/plain": [
       "['CAT', 'HAT', 'SAT', 'LAT', 'MAT']"
      ]
     },
     "execution_count": 143,
     "metadata": {},
     "output_type": "execute_result"
    }
   ],
   "source": [
    "at_regex = re.compile(r'.at', re.I)\n",
    "at_regex.findall(text_upper)"
   ]
  },
  {
   "cell_type": "markdown",
   "metadata": {},
   "source": [
    "#### 组合使用\n",
    "\n",
    "如果既想使用DOTALL, 又想使用IGNORECASE, `re.compile()` 只接受一个值作为第二参数。\n",
    "\n",
    "这里，我们可以使用管道，将变量组合起来。"
   ]
  },
  {
   "cell_type": "code",
   "execution_count": 144,
   "metadata": {},
   "outputs": [
    {
     "data": {
      "text/plain": [
       "['cat', 'hat', 'sat', 'lat', 'mat', '\\nAt']"
      ]
     },
     "execution_count": 144,
     "metadata": {},
     "output_type": "execute_result"
    }
   ],
   "source": [
    "at_regex = re.compile(r'.at', re.DOTALL | re.I)\n",
    "\n",
    "# \\nAt\n",
    "text = 'the cat in the hat sat on the flat mat.\\nAt this moment, my mum come back.'\n",
    "at_regex.findall(text)"
   ]
  },
  {
   "cell_type": "markdown",
   "metadata": {},
   "source": [
    "### 4.5 用`sub()`方法替换字符串\n",
    "\n",
    "regex 对象的`sub()` 方法有两个参数：\n",
    "- 第一个参数是匹配后替换的字符串\n",
    "- 第二个参数是被替换的字符串"
   ]
  },
  {
   "cell_type": "code",
   "execution_count": 149,
   "metadata": {},
   "outputs": [
    {
     "data": {
      "text/plain": [
       "'Wang'"
      ]
     },
     "execution_count": 149,
     "metadata": {},
     "output_type": "execute_result"
    }
   ],
   "source": [
    "name_regex = re.compile(r'(Mr.|Ms.|Miss) (\\w+)')\n",
    "\n",
    "text = 'Good morning, Mr. Wang. How are you?'\n",
    "mo = name_regex.search(text)\n",
    "mo.group(2)"
   ]
  },
  {
   "cell_type": "markdown",
   "metadata": {},
   "source": [
    "下面，我们需要隐藏名字。"
   ]
  },
  {
   "cell_type": "code",
   "execution_count": 152,
   "metadata": {},
   "outputs": [
    {
     "data": {
      "text/plain": [
       "'Good morning, Mr.***. How are you?'"
      ]
     },
     "execution_count": 152,
     "metadata": {},
     "output_type": "execute_result"
    }
   ],
   "source": [
    "name_regex.sub(r'\\1***', text)  # 注意，这里是一个raw string"
   ]
  },
  {
   "cell_type": "markdown",
   "metadata": {},
   "source": [
    "我们发现，`\\1` 保留了匹配的第一部分，把剩余部分替换成`***`"
   ]
  },
  {
   "cell_type": "markdown",
   "metadata": {},
   "source": [
    "接下来，我们只想隐藏称呼(性别)，可以显示姓名。"
   ]
  },
  {
   "cell_type": "code",
   "execution_count": 157,
   "metadata": {},
   "outputs": [
    {
     "data": {
      "text/plain": [
       "'Good morning, (title)Wang. How are you?'"
      ]
     },
     "execution_count": 157,
     "metadata": {},
     "output_type": "execute_result"
    }
   ],
   "source": [
    "name_regex.sub(r'(title)\\2', text)"
   ]
  },
  {
   "cell_type": "markdown",
   "metadata": {},
   "source": [
    "### 4.6 管理复杂的正则表达式\n",
    "\n",
    "当正则表达式很长的时候，可以将正则表达式放在多行中(使用多行字符串`\"\"\"...\"\"\"`)，并加上注释。然后使用`re.VERBOSE` 作为第二个参数，忽略字符串中的空白符和注释。\n",
    "\n",
    "这样做的目标是增加可读性。对于很复杂，很长的regex 通常使用这种方法。"
   ]
  },
  {
   "cell_type": "code",
   "execution_count": 146,
   "metadata": {},
   "outputs": [],
   "source": [
    "fix_phone_regex = re.compile(r'''\\((\\d{3,4})\\)  # 区号\n",
    "                        \\s                      # 空格符\n",
    "                        (\\d{4}-\\d{4})           # 电话号码\n",
    "                        ''', re.VERBOSE)        "
   ]
  },
  {
   "cell_type": "code",
   "execution_count": 147,
   "metadata": {},
   "outputs": [
    {
     "name": "stdout",
     "output_type": "stream",
     "text": [
      "Province code:  021\n",
      "Phone number:  2121-2121\n"
     ]
    }
   ],
   "source": [
    "message = 'my fix phone is: (021) 2121-2121.'\n",
    "\n",
    "mo = fix_phone_regex.search(message)\n",
    "print('Province code: ', mo.group(1))\n",
    "print('Phone number: ', mo.group(2))"
   ]
  },
  {
   "cell_type": "markdown",
   "metadata": {},
   "source": [
    "### 4.7 正则表达式符号复习\n",
    "\n",
    "| 正则表达式      | 意义          |\n",
    "| ------------- |:-------------:| \n",
    "| ？            | 0次或1次                        |\n",
    "| +            | 1次或多次                     |\n",
    "| *            | 任意次（0次，1次，多次）|\n",
    "| {n}            | 匹配n次          |\n",
    "| {n,}            | 匹配至少n次                      |\n",
    "| {,n}           | 匹配最多n次        |\n",
    "| {n,m}            | 匹配至少那次，至多m次                        |\n",
    "| {n,m}? / *？/ +？           | 非贪心匹配                      |\n",
    "| ^regex            | 从头匹配|\n",
    "| regex$            | 从尾匹配          |\n",
    "| .            | 匹配所有字符，除了换行符                      |\n",
    "| \\d, \\w, \\s           | 匹配数字，单词和空格        |\n",
    "| \\D, \\W, \\S            | 除数字，单词和空格以外          |\n",
    "| [abc]            | 匹配方括号内的任意字符                    |\n",
    "| [^abc]           | 匹配除了方括号内任意字符        |"
   ]
  },
  {
   "cell_type": "markdown",
   "metadata": {},
   "source": [
    "## 5. Excercises"
   ]
  },
  {
   "cell_type": "markdown",
   "metadata": {},
   "source": [
    "## 5.1 Email 和电话号码提取"
   ]
  },
  {
   "cell_type": "code",
   "execution_count": null,
   "metadata": {},
   "outputs": [],
   "source": []
  }
 ],
 "metadata": {
  "kernelspec": {
   "display_name": "Python 3",
   "language": "python",
   "name": "python3"
  },
  "language_info": {
   "codemirror_mode": {
    "name": "ipython",
    "version": 3
   },
   "file_extension": ".py",
   "mimetype": "text/x-python",
   "name": "python",
   "nbconvert_exporter": "python",
   "pygments_lexer": "ipython3",
   "version": "3.6.4"
  }
 },
 "nbformat": 4,
 "nbformat_minor": 2
}
