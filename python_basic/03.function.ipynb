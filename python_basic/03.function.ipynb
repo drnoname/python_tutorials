{
 "cells": [
  {
   "cell_type": "markdown",
   "metadata": {},
   "source": [
    "# 第三章: 函数\n",
    "\n",
    "函数：用语某种计算的一系列语句的有名称的组合。\n",
    "\n",
    "函数名-参数-返回值\n",
    "\n",
    "模块：包含一组相关函数的文件\n",
    "\n",
    "#### 为什么需要函数？\n",
    "\n",
    "- 给一组代码一个名字：增加可读性\n",
    "- 方便修改：只需要在函数定义的地方修改\n",
    "- 方便调试：divide and conquer 对于大的问题提供解决方法\n",
    "\n",
    "调试：guesswork\n",
    "\n",
    "“当你排除掉所有的可能性，那么剩下的，不管多么不可能，必定是真相。” ———— 福尔摩斯 "
   ]
  },
  {
   "cell_type": "markdown",
   "metadata": {},
   "source": [
    "## 1.内置函数\n",
    "\n",
    "#### 1. 类型转化函数"
   ]
  },
  {
   "cell_type": "code",
   "execution_count": 9,
   "metadata": {},
   "outputs": [
    {
     "name": "stdout",
     "output_type": "stream",
     "text": [
      "32\n"
     ]
    }
   ],
   "source": [
    "print(int('32')) #把Str 转换为Int 的函数"
   ]
  },
  {
   "cell_type": "code",
   "execution_count": 15,
   "metadata": {},
   "outputs": [
    {
     "ename": "ValueError",
     "evalue": "invalid literal for int() with base 10: '3.2'",
     "output_type": "error",
     "traceback": [
      "\u001b[0;31m---------------------------------------------------------------------------\u001b[0m",
      "\u001b[0;31mValueError\u001b[0m                                Traceback (most recent call last)",
      "\u001b[0;32m<ipython-input-15-223ccb774e98>\u001b[0m in \u001b[0;36m<module>\u001b[0;34m()\u001b[0m\n\u001b[0;32m----> 1\u001b[0;31m \u001b[0mprint\u001b[0m\u001b[0;34m(\u001b[0m\u001b[0mint\u001b[0m\u001b[0;34m(\u001b[0m\u001b[0;34m'3.2'\u001b[0m\u001b[0;34m)\u001b[0m\u001b[0;34m)\u001b[0m \u001b[0;31m# Str 不能是浮点数\u001b[0m\u001b[0;34m\u001b[0m\u001b[0m\n\u001b[0m",
      "\u001b[0;31mValueError\u001b[0m: invalid literal for int() with base 10: '3.2'"
     ]
    }
   ],
   "source": [
    "print(int('3.2')) # Str 不能是浮点数"
   ]
  },
  {
   "cell_type": "code",
   "execution_count": 16,
   "metadata": {},
   "outputs": [
    {
     "name": "stdout",
     "output_type": "stream",
     "text": [
      "3\n",
      "-3\n"
     ]
    }
   ],
   "source": [
    "print(int(3.6)) #给定一个浮点数，直接舍弃小数部分，不会四舍五入\n",
    "print(int(-3.6)) "
   ]
  },
  {
   "cell_type": "code",
   "execution_count": 17,
   "metadata": {},
   "outputs": [
    {
     "name": "stdout",
     "output_type": "stream",
     "text": [
      "32.0\n",
      "32\n"
     ]
    }
   ],
   "source": [
    "print(float(32))\n",
    "print(str(32))"
   ]
  },
  {
   "cell_type": "markdown",
   "metadata": {},
   "source": [
    "#### 2. 数学函数"
   ]
  },
  {
   "cell_type": "code",
   "execution_count": 21,
   "metadata": {},
   "outputs": [],
   "source": [
    "import math # 实际创建了一个名为math 的模块对象(module object)"
   ]
  },
  {
   "cell_type": "code",
   "execution_count": 22,
   "metadata": {},
   "outputs": [
    {
     "name": "stdout",
     "output_type": "stream",
     "text": [
      "<module 'math' from '/Users/chenwang/anaconda3/lib/python3.6/lib-dynload/math.cpython-36m-darwin.so'>\n"
     ]
    }
   ],
   "source": [
    "print(math) # 显示这个对象，模块对象包含了该模块中定义的函数和变量。"
   ]
  },
  {
   "cell_type": "code",
   "execution_count": 25,
   "metadata": {},
   "outputs": [
    {
     "data": {
      "text/plain": [
       "2.302585092994046"
      ]
     },
     "execution_count": 25,
     "metadata": {},
     "output_type": "execute_result"
    }
   ],
   "source": [
    "# 使用句点语法(dot notation)来调用某个模块中的函数\n",
    "math.log(10) # 调用math 模块中的log 方法"
   ]
  },
  {
   "cell_type": "code",
   "execution_count": 31,
   "metadata": {},
   "outputs": [
    {
     "name": "stdout",
     "output_type": "stream",
     "text": [
      "1.5707963267948966\n",
      "1.0\n",
      "0.8939966636005579\n"
     ]
    }
   ],
   "source": [
    "degree = 90\n",
    "redians = degree / 180 * math.pi\n",
    "print(redians)\n",
    "print(math.sin(redians)) # 注意sin 的入参，需要用PI 表示\n",
    "print(math.sin(90)) # 注意sin 的入参，需要用PI 表示"
   ]
  },
  {
   "cell_type": "markdown",
   "metadata": {},
   "source": [
    "### 程序设计的核心：将各种小的构建块(Building Block)组合起来。"
   ]
  },
  {
   "cell_type": "markdown",
   "metadata": {},
   "source": [
    "## 2. 自己写函数\n",
    "\n",
    "函数名的命名规则同变量名"
   ]
  },
  {
   "cell_type": "code",
   "execution_count": 37,
   "metadata": {},
   "outputs": [],
   "source": [
    "def say_hello(): # 第一行：函数头 header\n",
    "    # 函数体 body\n",
    "    print ('Hello World!')"
   ]
  },
  {
   "cell_type": "markdown",
   "metadata": {},
   "source": [
    "单引号和多引号差不多，区别是String 本事是否包含单引号,如果字符串本身包含单引号，则可以使用双引号。\n",
    "\n",
    "例如：\"Bill's house.\""
   ]
  },
  {
   "cell_type": "code",
   "execution_count": 38,
   "metadata": {},
   "outputs": [
    {
     "name": "stdout",
     "output_type": "stream",
     "text": [
      "He is Jackie's boy friend.\n"
     ]
    }
   ],
   "source": [
    "print(\"He is Jackie's boy friend.\")"
   ]
  },
  {
   "cell_type": "code",
   "execution_count": 39,
   "metadata": {},
   "outputs": [
    {
     "name": "stdout",
     "output_type": "stream",
     "text": [
      "<function say_hello at 0x10a6f29d8>\n",
      "<class 'function'>\n"
     ]
    }
   ],
   "source": [
    "# 定义一个函数，返回一个对象，其类型是function\n",
    "print(say_hello)\n",
    "print(type(say_hello))"
   ]
  },
  {
   "cell_type": "code",
   "execution_count": 40,
   "metadata": {},
   "outputs": [
    {
     "name": "stdout",
     "output_type": "stream",
     "text": [
      "Hello World!\n"
     ]
    }
   ],
   "source": [
    "# 调用函数\n",
    "say_hello()"
   ]
  },
  {
   "cell_type": "markdown",
   "metadata": {},
   "source": [
    "函数可以调用函数"
   ]
  },
  {
   "cell_type": "code",
   "execution_count": 42,
   "metadata": {},
   "outputs": [],
   "source": [
    "def say_many_hello():\n",
    "    say_hello()\n",
    "    say_hello()"
   ]
  },
  {
   "cell_type": "code",
   "execution_count": 43,
   "metadata": {},
   "outputs": [
    {
     "name": "stdout",
     "output_type": "stream",
     "text": [
      "Hello World!\n",
      "Hello World!\n"
     ]
    }
   ],
   "source": [
    "say_many_hello()"
   ]
  },
  {
   "cell_type": "markdown",
   "metadata": {},
   "source": [
    "#### 顺序问题\n",
    "\n",
    "- 函数调用必须在函数定义之前\n",
    "- 被调用函数(say_bye())无需在调用函数(say_many_bye())之前定义\n",
    "\n",
    "函数内的语句不会被立刻执行，只在函数被调用时执行。\n",
    "\n",
    "阅读代码的时候，要搞清执行流程(flow of execution)阅读，要从上向下顺序读，因为函数可能是一个迂回。"
   ]
  },
  {
   "cell_type": "code",
   "execution_count": 50,
   "metadata": {},
   "outputs": [
    {
     "name": "stdout",
     "output_type": "stream",
     "text": [
      "Bye!\n",
      "Bye!\n"
     ]
    }
   ],
   "source": [
    "def say_many_bye():\n",
    "    say_bye()\n",
    "    say_bye()\n",
    "    \n",
    "def say_bye():\n",
    "    print('Bye!')\n",
    "    \n",
    "# 如果放在首行 会出现以下错误：\n",
    "# name 'say_many_bye' is not defined\n",
    "say_many_bye() "
   ]
  },
  {
   "cell_type": "markdown",
   "metadata": {},
   "source": [
    "## 3. 栈图 Stack Diagram\n",
    "\n",
    "帧：带着函数名的盒子，里面有：\n",
    "- 函数的参数：每个形参指向其对应的值\n",
    "- 变量\n",
    "\n",
    "栈图：各个帧从上倒下排成一个栈，就可以知道哪个函数被哪个函数调用了\n",
    "\n",
    "如果程序在执行过程中出现了错误，会打印这个调用栈，这个过程叫回溯(traceback)。\n",
    "当前调用函数在最底部，和栈图一致。\n",
    "\n",
    "![](fig/cha03_stack_diagram.png)"
   ]
  },
  {
   "cell_type": "markdown",
   "metadata": {},
   "source": [
    "函数可以根据返回值分为：\n",
    "- 有返回值函数(fruitful function) -- 返回值一般赋值给一个变量\n",
    "- 无返回值函数(void function) -- 一般返回一个特殊值None"
   ]
  },
  {
   "cell_type": "code",
   "execution_count": 1,
   "metadata": {},
   "outputs": [
    {
     "name": "stdout",
     "output_type": "stream",
     "text": [
      "<class 'NoneType'>\n"
     ]
    }
   ],
   "source": [
    "print(type(None))"
   ]
  },
  {
   "cell_type": "markdown",
   "metadata": {},
   "source": [
    "## 4. 有返回值的函数(fruitful function)\n",
    "\n",
    "前面我们用的函数都没有返回值（或者说返回值是None）。\n",
    "\n",
    "return 之后的代码永远不可能执行到，因此称为dead code（无效代码）。"
   ]
  },
  {
   "cell_type": "code",
   "execution_count": 2,
   "metadata": {},
   "outputs": [],
   "source": [
    "import math\n",
    "\n",
    "def area(radius):\n",
    "    a = math.pi * radius**2\n",
    "    return a"
   ]
  },
  {
   "cell_type": "code",
   "execution_count": 3,
   "metadata": {},
   "outputs": [
    {
     "data": {
      "text/plain": [
       "50.26548245743669"
      ]
     },
     "execution_count": 3,
     "metadata": {},
     "output_type": "execute_result"
    }
   ],
   "source": [
    "area(4)"
   ]
  },
  {
   "cell_type": "markdown",
   "metadata": {},
   "source": [
    "### 4.1 增量开发\n",
    "\n",
    "每次只增加和测试一小段代码，来避免长时间的调试过程。\n",
    "\n",
    "在做代码调试的时候，事先知道正确的结果是很有用的。\n",
    "\n",
    "调试的代码（例如，print 某些变量），成为脚手架代码（scaffolding），是指在构建过程中很有用，但并不是最终产品的一部分。"
   ]
  },
  {
   "cell_type": "markdown",
   "metadata": {},
   "source": [
    "### 4.2 返回boolean"
   ]
  },
  {
   "cell_type": "code",
   "execution_count": 4,
   "metadata": {},
   "outputs": [],
   "source": [
    "# 判断是否可以整除\n",
    "\n",
    "def is_divisible(x, y):\n",
    "    if x%y == 0:\n",
    "        return True\n",
    "    else:\n",
    "        return False"
   ]
  },
  {
   "cell_type": "code",
   "execution_count": 5,
   "metadata": {},
   "outputs": [
    {
     "data": {
      "text/plain": [
       "True"
      ]
     },
     "execution_count": 5,
     "metadata": {},
     "output_type": "execute_result"
    }
   ],
   "source": [
    "is_divisible(4,2)"
   ]
  },
  {
   "cell_type": "code",
   "execution_count": 6,
   "metadata": {},
   "outputs": [
    {
     "data": {
      "text/plain": [
       "False"
      ]
     },
     "execution_count": 6,
     "metadata": {},
     "output_type": "execute_result"
    }
   ],
   "source": [
    "is_divisible(4,3)"
   ]
  },
  {
   "cell_type": "code",
   "execution_count": 7,
   "metadata": {},
   "outputs": [],
   "source": [
    "def is_divisive_compact (x, y):\n",
    "    return x%y == 0"
   ]
  },
  {
   "cell_type": "code",
   "execution_count": 8,
   "metadata": {},
   "outputs": [
    {
     "data": {
      "text/plain": [
       "True"
      ]
     },
     "execution_count": 8,
     "metadata": {},
     "output_type": "execute_result"
    }
   ],
   "source": [
    "is_divisive_compact(4,2)"
   ]
  },
  {
   "cell_type": "markdown",
   "metadata": {},
   "source": [
    "### 4.3 类型检查\n",
    "\n",
    "也叫守卫（Guardian）\n",
    "\n",
    "下面，我们写一个简单的带有返回值的递归函数：阶乘"
   ]
  },
  {
   "cell_type": "code",
   "execution_count": 9,
   "metadata": {},
   "outputs": [],
   "source": [
    "def factorial (n):\n",
    "    if n == 0:\n",
    "        return 1\n",
    "    else:\n",
    "        return n*factorial(n-1)"
   ]
  },
  {
   "cell_type": "code",
   "execution_count": 10,
   "metadata": {},
   "outputs": [
    {
     "data": {
      "text/plain": [
       "120"
      ]
     },
     "execution_count": 10,
     "metadata": {},
     "output_type": "execute_result"
    }
   ],
   "source": [
    "factorial(5)"
   ]
  },
  {
   "cell_type": "code",
   "execution_count": 11,
   "metadata": {},
   "outputs": [
    {
     "ename": "RecursionError",
     "evalue": "maximum recursion depth exceeded in comparison",
     "output_type": "error",
     "traceback": [
      "\u001b[0;31m---------------------------------------------------------------------------\u001b[0m",
      "\u001b[0;31mRecursionError\u001b[0m                            Traceback (most recent call last)",
      "\u001b[0;32m<ipython-input-11-76683e6cb948>\u001b[0m in \u001b[0;36m<module>\u001b[0;34m()\u001b[0m\n\u001b[0;32m----> 1\u001b[0;31m \u001b[0mfactorial\u001b[0m\u001b[0;34m(\u001b[0m\u001b[0;36m1.5\u001b[0m\u001b[0;34m)\u001b[0m\u001b[0;34m\u001b[0m\u001b[0m\n\u001b[0m",
      "\u001b[0;32m<ipython-input-9-89a985d94ab4>\u001b[0m in \u001b[0;36mfactorial\u001b[0;34m(n)\u001b[0m\n\u001b[1;32m      3\u001b[0m         \u001b[0;32mreturn\u001b[0m \u001b[0;36m1\u001b[0m\u001b[0;34m\u001b[0m\u001b[0m\n\u001b[1;32m      4\u001b[0m     \u001b[0;32melse\u001b[0m\u001b[0;34m:\u001b[0m\u001b[0;34m\u001b[0m\u001b[0m\n\u001b[0;32m----> 5\u001b[0;31m         \u001b[0;32mreturn\u001b[0m \u001b[0mn\u001b[0m\u001b[0;34m*\u001b[0m\u001b[0mfactorial\u001b[0m\u001b[0;34m(\u001b[0m\u001b[0mn\u001b[0m\u001b[0;34m-\u001b[0m\u001b[0;36m1\u001b[0m\u001b[0;34m)\u001b[0m\u001b[0;34m\u001b[0m\u001b[0m\n\u001b[0m",
      "... last 1 frames repeated, from the frame below ...\n",
      "\u001b[0;32m<ipython-input-9-89a985d94ab4>\u001b[0m in \u001b[0;36mfactorial\u001b[0;34m(n)\u001b[0m\n\u001b[1;32m      3\u001b[0m         \u001b[0;32mreturn\u001b[0m \u001b[0;36m1\u001b[0m\u001b[0;34m\u001b[0m\u001b[0m\n\u001b[1;32m      4\u001b[0m     \u001b[0;32melse\u001b[0m\u001b[0;34m:\u001b[0m\u001b[0;34m\u001b[0m\u001b[0m\n\u001b[0;32m----> 5\u001b[0;31m         \u001b[0;32mreturn\u001b[0m \u001b[0mn\u001b[0m\u001b[0;34m*\u001b[0m\u001b[0mfactorial\u001b[0m\u001b[0;34m(\u001b[0m\u001b[0mn\u001b[0m\u001b[0;34m-\u001b[0m\u001b[0;36m1\u001b[0m\u001b[0;34m)\u001b[0m\u001b[0;34m\u001b[0m\u001b[0m\n\u001b[0m",
      "\u001b[0;31mRecursionError\u001b[0m: maximum recursion depth exceeded in comparison"
     ]
    }
   ],
   "source": [
    "factorial(1.5)"
   ]
  },
  {
   "cell_type": "markdown",
   "metadata": {},
   "source": [
    "我们发现，当遇到一个非法输入（小数）的时候，我们遇到了错误。\n",
    "\n",
    "所以我们需要我们的代码更加强健来应付这种问题。"
   ]
  },
  {
   "cell_type": "code",
   "execution_count": 12,
   "metadata": {},
   "outputs": [],
   "source": [
    "def better_factorial(n):\n",
    "    if not isinstance(n, int):\n",
    "        print('n has to be an integer.')\n",
    "        return None\n",
    "    elif n < 0:\n",
    "        print('n has to be a positive interger')\n",
    "        return None\n",
    "    elif n == 0:\n",
    "        return 1\n",
    "    else:\n",
    "        return n*factorial(n-1)"
   ]
  },
  {
   "cell_type": "code",
   "execution_count": 13,
   "metadata": {},
   "outputs": [
    {
     "data": {
      "text/plain": [
       "120"
      ]
     },
     "execution_count": 13,
     "metadata": {},
     "output_type": "execute_result"
    }
   ],
   "source": [
    "better_factorial(5)"
   ]
  },
  {
   "cell_type": "code",
   "execution_count": 14,
   "metadata": {},
   "outputs": [
    {
     "name": "stdout",
     "output_type": "stream",
     "text": [
      "n has to be an integer.\n"
     ]
    }
   ],
   "source": [
    "better_factorial(1.5)"
   ]
  },
  {
   "cell_type": "code",
   "execution_count": 15,
   "metadata": {},
   "outputs": [
    {
     "name": "stdout",
     "output_type": "stream",
     "text": [
      "n has to be a positive interger\n"
     ]
    }
   ],
   "source": [
    "better_factorial(-2)"
   ]
  },
  {
   "cell_type": "code",
   "execution_count": 16,
   "metadata": {},
   "outputs": [
    {
     "name": "stdout",
     "output_type": "stream",
     "text": [
      "n has to be an integer.\n"
     ]
    }
   ],
   "source": [
    "better_factorial('Hello')"
   ]
  },
  {
   "cell_type": "markdown",
   "metadata": {},
   "source": [
    "### 4.4 调试\n",
    "\n",
    "将一个大函数，拆成很多小函数，然后每个函数可以看作一个检查点，大致原因分为：\n",
    "\n",
    "- 函数获得实参有问题：前置条件未满足\n",
    "    - 在函数开始的时候加print 语句打印参数\n",
    "- 函数本身问题：后置条件未满足\n",
    "    - 在函数return 前加print 语句打印返回值\n",
    "- 函数使用方法不对：例如，在条件判断语句中调用了返回str 的函数\n",
    "\n",
    "有效的使用print 函数，搭建脚手架代码\n",
    "\n"
   ]
  },
  {
   "cell_type": "markdown",
   "metadata": {},
   "source": [
    "## 5. 函数接口设计\n",
    "\n",
    "下面我们介绍设计相互配合函数的过程。"
   ]
  },
  {
   "cell_type": "markdown",
   "metadata": {},
   "source": [
    "### 5.1 封装\n",
    "\n",
    "把一段代码用函数包裹起来(encapsulation).\n",
    "下面我们把上面的代码封装在函数中。"
   ]
  },
  {
   "cell_type": "code",
   "execution_count": null,
   "metadata": {},
   "outputs": [],
   "source": [
    "import turtle\n",
    "\n",
    "def square(t, length):\n",
    "    for i in range(4):\n",
    "        t.fd(length)\n",
    "        t.lt(90)\n",
    "    turtle.mainloop()\n",
    "    \n",
    "ben = turtle.Turtle()\n",
    "square(ben, 100)"
   ]
  },
  {
   "cell_type": "markdown",
   "metadata": {},
   "source": [
    "扩展为实现多边形的版本"
   ]
  },
  {
   "cell_type": "markdown",
   "metadata": {},
   "source": [
    "### 5.2 泛化\n",
    "\n",
    "给函数增添参数的过程称为泛化(generalization) -- 使函数变得更通用"
   ]
  },
  {
   "cell_type": "code",
   "execution_count": null,
   "metadata": {},
   "outputs": [],
   "source": []
  },
  {
   "cell_type": "markdown",
   "metadata": {},
   "source": [
    "⚠️ 函数的调用，可以带上形参，例如：\n",
    "\n",
    "> polygon(t=ben, 6, length=100)\n",
    "\n",
    "这时，t和length 被称作关键词参数(keyword arguments)"
   ]
  },
  {
   "cell_type": "markdown",
   "metadata": {},
   "source": [
    "### 5.3. 函数接口设计(API)\n",
    "\n",
    "一个函数的接口要整洁(clean), 是指它能够让调用者完成所想的事情，而不需要处理多余的细节。\n",
    "- 这个函数是做什么的\n",
    "- 有哪些参数\n",
    "- 返回值是什么\n",
    "\n",
    "上面的例子里，degree 不适合放在API 接口里，而radius 适合，原因是radius 定义了所画圆的基本属性，而degree 指明一次画多少（即，如何画圆的具体细节信息）。\n",
    "\n",
    "一般的解决方法是，再写一个函数，调用这种更细节的函数, 参见下面的例子。"
   ]
  },
  {
   "cell_type": "markdown",
   "metadata": {},
   "source": [
    "## 4. 重构\n",
    "\n",
    "重新组织程序，以改善接口，提高代码复用率，称为重构（refactoring）。\n",
    "\n",
    "在开始的时候，我们的问题可能很小，例如：画一个正方形。\n",
    "\n",
    "慢慢的，我们需要解决更多，更大的问题，我们需要画一个多边形，然后画一个圆形。所以我们需要经常重构我们的代码，保证其接口的Clean。\n",
    "\n",
    "下面，我们来重构上面的所有函数。"
   ]
  },
  {
   "cell_type": "markdown",
   "metadata": {},
   "source": [
    "通常，开发计划 Development Plan 由**封装+泛化+重构**组成。\n",
    "\n",
    "使用三个单引号可以定义'''docstring'''（文档字符串），通常在函数开始的时候解释其接口的字符串。\n",
    "\n",
    "通过docstring，我们可以评估一个函数接口的设计是否够好。如果你发现docstring 很复杂，或者很难解释清楚，应该重新设计函数接口。\n",
    "\n",
    "接口，是函数和调用者之间的一个合同。\n",
    "\n",
    "- 前置条件：函数开始前保证为真，这时调用者的责任\n",
    "- 后置条件：函数结束后需要满足的条件，这是函数开发者的责任\n",
    "\n",
    "通过前置条件和后置条件，可以做到debugging 的时候问题定界。"
   ]
  },
  {
   "cell_type": "markdown",
   "metadata": {},
   "source": [
    "## 6. Exercise"
   ]
  },
  {
   "cell_type": "markdown",
   "metadata": {},
   "source": [
    "#### 1: 字符串操作"
   ]
  },
  {
   "cell_type": "code",
   "execution_count": 52,
   "metadata": {},
   "outputs": [
    {
     "name": "stdout",
     "output_type": "stream",
     "text": [
      "                                                                 hello\n",
      "                                                           hello world\n"
     ]
    }
   ],
   "source": [
    "# 练习3-1\n",
    "def right_justify(s):\n",
    "    length_of_string = len(s)\n",
    "    length_of_padding = 70 - length_of_string\n",
    "    \n",
    "    padding = ' '*length_of_padding\n",
    "    result = padding + s\n",
    "    print (result)\n",
    "    \n",
    "right_justify('hello')\n",
    "right_justify('hello world')"
   ]
  },
  {
   "cell_type": "markdown",
   "metadata": {},
   "source": [
    "#### 2: 函数作为参数\n",
    "参照grid.py"
   ]
  },
  {
   "cell_type": "code",
   "execution_count": 53,
   "metadata": {},
   "outputs": [
    {
     "name": "stdout",
     "output_type": "stream",
     "text": [
      "Hello World!\n",
      "Hello World!\n"
     ]
    }
   ],
   "source": [
    "# 练习3-2 \n",
    "def do_twice(f): # 将一个函数作为参数传给另一个函数\n",
    "    f()\n",
    "    f()\n",
    "\n",
    "do_twice(say_hello)"
   ]
  },
  {
   "cell_type": "code",
   "execution_count": 3,
   "metadata": {},
   "outputs": [
    {
     "name": "stdout",
     "output_type": "stream",
     "text": [
      "hello Chen\n",
      "hello Chen\n"
     ]
    }
   ],
   "source": [
    "def do_twice(f,v): # 将一个函数作为参数传给另一个函数\n",
    "    f(v)\n",
    "    f(v)\n",
    "\n",
    "def say_hello_to(s):\n",
    "    print('hello '+s)\n",
    "    \n",
    "do_twice(say_hello_to, 'Chen')"
   ]
  },
  {
   "cell_type": "markdown",
   "metadata": {},
   "source": [
    "#### 3 print 语句\n",
    "参照grid.py"
   ]
  },
  {
   "cell_type": "code",
   "execution_count": 1,
   "metadata": {},
   "outputs": [
    {
     "name": "stdout",
     "output_type": "stream",
     "text": [
      "+ -\n"
     ]
    }
   ],
   "source": [
    "# 在同一行打印多个值，可以用逗号分隔\n",
    "print('+','-')"
   ]
  },
  {
   "cell_type": "code",
   "execution_count": 17,
   "metadata": {},
   "outputs": [
    {
     "name": "stdout",
     "output_type": "stream",
     "text": [
      "+ -*\n",
      "@\n"
     ]
    }
   ],
   "source": [
    "# 默认情况下，print 会自动换行，如果你想改变这一行为，在结尾打一个空格\n",
    "print('+', end=' ')\n",
    "print('-', end='')\n",
    "print('*')\n",
    "print('@')"
   ]
  },
  {
   "cell_type": "markdown",
   "metadata": {},
   "source": [
    "#### 4. 判定回文\n",
    "\n",
    "回文：正向和逆向拼写都相同的单词，例如：noon。\n",
    "\n",
    "判断回文：如果字符串的第一个单词和最后一个单词相同，并且中间的剩余部分也为回文，则该字符串可以判定为回文。"
   ]
  },
  {
   "cell_type": "code",
   "execution_count": 18,
   "metadata": {},
   "outputs": [],
   "source": [
    "def getFirstChar (word):\n",
    "    return word[0]\n",
    "\n",
    "def getLastChar (word):\n",
    "    return word[-1]\n",
    "\n",
    "def getMiddle (word):\n",
    "    return word[1:-1]"
   ]
  },
  {
   "cell_type": "code",
   "execution_count": 19,
   "metadata": {},
   "outputs": [
    {
     "data": {
      "text/plain": [
       "'n'"
      ]
     },
     "execution_count": 19,
     "metadata": {},
     "output_type": "execute_result"
    }
   ],
   "source": [
    "getFirstChar('noon')"
   ]
  },
  {
   "cell_type": "code",
   "execution_count": 20,
   "metadata": {},
   "outputs": [
    {
     "data": {
      "text/plain": [
       "'n'"
      ]
     },
     "execution_count": 20,
     "metadata": {},
     "output_type": "execute_result"
    }
   ],
   "source": [
    "getLastChar('noon')"
   ]
  },
  {
   "cell_type": "code",
   "execution_count": 21,
   "metadata": {},
   "outputs": [
    {
     "data": {
      "text/plain": [
       "'oo'"
      ]
     },
     "execution_count": 21,
     "metadata": {},
     "output_type": "execute_result"
    }
   ],
   "source": [
    "getMiddle('noon')"
   ]
  },
  {
   "cell_type": "code",
   "execution_count": 22,
   "metadata": {},
   "outputs": [],
   "source": [
    "def is_palindrome (word):\n",
    "    if len(word) == 1:\n",
    "        return True\n",
    "    elif len(word) == 2:\n",
    "        return getFirstChar(word) == getLastChar(word)\n",
    "    elif getFirstChar(word) == getLastChar(word) and is_palindrome(getMiddle(word)):\n",
    "        return True\n",
    "    else:\n",
    "        return False"
   ]
  },
  {
   "cell_type": "code",
   "execution_count": 23,
   "metadata": {},
   "outputs": [
    {
     "data": {
      "text/plain": [
       "True"
      ]
     },
     "execution_count": 23,
     "metadata": {},
     "output_type": "execute_result"
    }
   ],
   "source": [
    "is_palindrome('noon')"
   ]
  },
  {
   "cell_type": "code",
   "execution_count": 24,
   "metadata": {},
   "outputs": [
    {
     "data": {
      "text/plain": [
       "True"
      ]
     },
     "execution_count": 24,
     "metadata": {},
     "output_type": "execute_result"
    }
   ],
   "source": [
    "is_palindrome('redivider')"
   ]
  },
  {
   "cell_type": "code",
   "execution_count": 25,
   "metadata": {},
   "outputs": [
    {
     "data": {
      "text/plain": [
       "True"
      ]
     },
     "execution_count": 25,
     "metadata": {},
     "output_type": "execute_result"
    }
   ],
   "source": [
    "is_palindrome('redivvider')"
   ]
  },
  {
   "cell_type": "code",
   "execution_count": 26,
   "metadata": {},
   "outputs": [
    {
     "data": {
      "text/plain": [
       "False"
      ]
     },
     "execution_count": 26,
     "metadata": {},
     "output_type": "execute_result"
    }
   ],
   "source": [
    "is_palindrome('redivier')"
   ]
  },
  {
   "cell_type": "markdown",
   "metadata": {},
   "source": [
    "#### 5. 判定一个数是否是另一个数的乘方\n",
    "\n",
    "如果a 是b的乘方，则a/b 也是b的乘方"
   ]
  },
  {
   "cell_type": "code",
   "execution_count": 27,
   "metadata": {},
   "outputs": [],
   "source": [
    "def is_power (a, b):\n",
    "    if not a % b == 0:\n",
    "        return False\n",
    "    elif a == b:\n",
    "        return True\n",
    "    else:\n",
    "        return is_power(a/b, b)"
   ]
  },
  {
   "cell_type": "code",
   "execution_count": 28,
   "metadata": {},
   "outputs": [
    {
     "data": {
      "text/plain": [
       "True"
      ]
     },
     "execution_count": 28,
     "metadata": {},
     "output_type": "execute_result"
    }
   ],
   "source": [
    "is_power(4,2)"
   ]
  },
  {
   "cell_type": "code",
   "execution_count": 29,
   "metadata": {},
   "outputs": [
    {
     "data": {
      "text/plain": [
       "True"
      ]
     },
     "execution_count": 29,
     "metadata": {},
     "output_type": "execute_result"
    }
   ],
   "source": [
    "is_power(8,2)"
   ]
  },
  {
   "cell_type": "code",
   "execution_count": 30,
   "metadata": {},
   "outputs": [
    {
     "data": {
      "text/plain": [
       "False"
      ]
     },
     "execution_count": 30,
     "metadata": {},
     "output_type": "execute_result"
    }
   ],
   "source": [
    "is_power(129,2)"
   ]
  },
  {
   "cell_type": "code",
   "execution_count": 31,
   "metadata": {},
   "outputs": [
    {
     "data": {
      "text/plain": [
       "True"
      ]
     },
     "execution_count": 31,
     "metadata": {},
     "output_type": "execute_result"
    }
   ],
   "source": [
    "is_power(4,-2)"
   ]
  },
  {
   "cell_type": "code",
   "execution_count": 32,
   "metadata": {},
   "outputs": [
    {
     "data": {
      "text/plain": [
       "True"
      ]
     },
     "execution_count": 32,
     "metadata": {},
     "output_type": "execute_result"
    }
   ],
   "source": [
    "is_power(-8,-2)"
   ]
  },
  {
   "cell_type": "markdown",
   "metadata": {},
   "source": [
    "## Keywords: \n",
    "\n",
    "- header / body \n",
    "- parameter / argument\n",
    "- fruitful function / void function (有无返回值)\n",
    "- module / module object (e.g., numpy)\n",
    "- dot notation: module.func\n",
    "- flow of execution / stack diagram / traceback\n",
    "- incremental development\n",
    "- scaffolding\n",
    "- Guardian\n",
    "- incremental development\n",
    "- scaffolding\n",
    "- Guardian\n",
    "- encapsulation / generalization / refactoring\n",
    "- keyword argument\n",
    "- docstring"
   ]
  },
  {
   "cell_type": "code",
   "execution_count": null,
   "metadata": {},
   "outputs": [],
   "source": []
  }
 ],
 "metadata": {
  "kernelspec": {
   "display_name": "Python 3",
   "language": "python",
   "name": "python3"
  },
  "language_info": {
   "codemirror_mode": {
    "name": "ipython",
    "version": 3
   },
   "file_extension": ".py",
   "mimetype": "text/x-python",
   "name": "python",
   "nbconvert_exporter": "python",
   "pygments_lexer": "ipython3",
   "version": "3.6.4"
  }
 },
 "nbformat": 4,
 "nbformat_minor": 2
}
