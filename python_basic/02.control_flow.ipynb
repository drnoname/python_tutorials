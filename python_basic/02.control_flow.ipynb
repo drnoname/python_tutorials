{
 "cells": [
  {
   "cell_type": "markdown",
   "metadata": {},
   "source": [
    "# 条件，循环，和递归\n",
    "\n",
    "本章讲if表达式"
   ]
  },
  {
   "cell_type": "markdown",
   "metadata": {},
   "source": [
    "## 1. 条件执行\n",
    "\n",
    "### 1.1 向下取整(floor division)和求模操作(modulus operator)\n",
    "\n"
   ]
  },
  {
   "cell_type": "code",
   "execution_count": 3,
   "metadata": {},
   "outputs": [
    {
     "name": "stdout",
     "output_type": "stream",
     "text": [
      "3.5\n",
      "3\n"
     ]
    }
   ],
   "source": [
    "print(7/2)\n",
    "print(7//2)"
   ]
  },
  {
   "cell_type": "code",
   "execution_count": 5,
   "metadata": {},
   "outputs": [
    {
     "name": "stdout",
     "output_type": "stream",
     "text": [
      "-3.5\n",
      "-4\n"
     ]
    }
   ],
   "source": [
    "print(7/-2)\n",
    "print(7//-2) # ⚠️当值为负数时，是向下取整，不是丢弃小数部分"
   ]
  },
  {
   "cell_type": "markdown",
   "metadata": {},
   "source": [
    "#### 余数作用1：\n",
    "\n",
    "可以直接拿到一个数的后几位数字，例如：\n",
    "\n",
    "a = 123\n",
    "\n",
    "a%100 =23 (后两位数字)\n",
    "\n",
    "#### 余数作用2：\n",
    "\n",
    "看一个数是否为另一个数的倍数，例如：\n",
    "\n",
    "a%b==0\n",
    "\n",
    "#### 对于负数的余数\n",
    "\n",
    "有两种可能：\n",
    "- 7 = 3*-2+(-1) -- 余数-1\n",
    "- 7 = 4*-2+1 -- 余数1\n",
    "\n",
    "#### 负数的余数\n",
    "\n",
    "- a%b = a - b*(a//b)\n",
    "\n",
    "***例如：***\n",
    "\n",
    "> 17%(-3)  \n",
    "\n",
    "- 17//(-3) = -6\n",
    "- 17/-3的余数 = 17 - (-3)*(-6) = -1\n",
    "\n",
    "> (-17)%3\n",
    "\n",
    "- -17 // 3 = -6\n",
    "- -17/3的余数 = -17 - 3*(-6) = 1"
   ]
  },
  {
   "cell_type": "code",
   "execution_count": 14,
   "metadata": {},
   "outputs": [
    {
     "name": "stdout",
     "output_type": "stream",
     "text": [
      "17%3:  2\n",
      "17//3:  5\n",
      "17%-3:  -1\n",
      "17//-3:  -6\n",
      "-17%3:  1\n",
      "-17//3:  -6\n",
      "-17%-3:  -2\n",
      "-17//-3:  5\n"
     ]
    }
   ],
   "source": [
    "print('17%3: ', 17%3)\n",
    "print('17//3: ', 17//3)\n",
    "print('17%-3: ', 17%-3)\n",
    "print('17//-3: ', 17//-3)\n",
    "print('-17%3: ', -17%3)\n",
    "print('-17//3: ', -17//3)\n",
    "print('-17%-3: ', -17%-3)\n",
    "print('-17//-3: ', -17//-3)"
   ]
  },
  {
   "cell_type": "markdown",
   "metadata": {},
   "source": [
    "### 1.2. 布尔表达式\n",
    "\n",
    "表示不等于的两种方法"
   ]
  },
  {
   "cell_type": "code",
   "execution_count": 7,
   "metadata": {},
   "outputs": [
    {
     "data": {
      "text/plain": [
       "True"
      ]
     },
     "execution_count": 7,
     "metadata": {},
     "output_type": "execute_result"
    }
   ],
   "source": [
    "1!=2 # 使用\"不等于\"布尔表达式"
   ]
  },
  {
   "cell_type": "code",
   "execution_count": 8,
   "metadata": {},
   "outputs": [
    {
     "data": {
      "text/plain": [
       "True"
      ]
     },
     "execution_count": 8,
     "metadata": {},
     "output_type": "execute_result"
    }
   ],
   "source": [
    "not 1==2 # 使用not 逻辑操作符"
   ]
  },
  {
   "cell_type": "markdown",
   "metadata": {},
   "source": [
    "not 的区别在于，可以否定一个非等于的布尔表达式，例如：\n",
    "\n",
    "> if not (x > y)"
   ]
  },
  {
   "cell_type": "markdown",
   "metadata": {},
   "source": [
    "### 1.3. 条件执行\n",
    "\n",
    "和函数一样，条件执行是一个复合语句\n",
    "\n",
    "#### 选择执行\n",
    "\n",
    "> if: ... else: ...\n",
    "\n",
    "#### 条件链\n",
    "\n",
    "> if: ... elseif: ... else: ...\n",
    "\n",
    "条件语句可以嵌套，但嵌套条件语句会很快随着嵌套层次的增多而变得非常难以阅读，应尽量避免。\n",
    "\n",
    "可以使用逻辑操作符简化嵌套语句。"
   ]
  },
  {
   "cell_type": "markdown",
   "metadata": {},
   "source": [
    "如果if 条件为真，什么都不做，可以使用pass 关键字。"
   ]
  },
  {
   "cell_type": "code",
   "execution_count": 9,
   "metadata": {},
   "outputs": [
    {
     "name": "stdout",
     "output_type": "stream",
     "text": [
      "Hello World.\n"
     ]
    }
   ],
   "source": [
    "a=1\n",
    "\n",
    "if a>0:\n",
    "    pass\n",
    "\n",
    "print(\"Hello World.\")"
   ]
  },
  {
   "cell_type": "markdown",
   "metadata": {},
   "source": [
    "## 2. 递归\n",
    "\n"
   ]
  },
  {
   "cell_type": "code",
   "execution_count": 10,
   "metadata": {},
   "outputs": [],
   "source": [
    "def countdown(n):\n",
    "    if n <= 0:\n",
    "        print('Blastoff!')\n",
    "    else:\n",
    "        print(n)\n",
    "        countdown(n-1)"
   ]
  },
  {
   "cell_type": "code",
   "execution_count": 11,
   "metadata": {},
   "outputs": [
    {
     "name": "stdout",
     "output_type": "stream",
     "text": [
      "3\n",
      "2\n",
      "1\n",
      "Blastoff!\n"
     ]
    }
   ],
   "source": [
    "countdown(3)"
   ]
  },
  {
   "cell_type": "markdown",
   "metadata": {},
   "source": [
    "有时，循环很难写，所以需要递归"
   ]
  },
  {
   "cell_type": "code",
   "execution_count": 15,
   "metadata": {},
   "outputs": [],
   "source": [
    "# 打印一个string n次\n",
    "def print_n(s, n):\n",
    "    if n <= 0:\n",
    "        return\n",
    "    else:\n",
    "        print(s)\n",
    "        print_n(s, n-1)"
   ]
  },
  {
   "cell_type": "code",
   "execution_count": 16,
   "metadata": {},
   "outputs": [
    {
     "name": "stdout",
     "output_type": "stream",
     "text": [
      "hello\n",
      "hello\n",
      "hello\n"
     ]
    }
   ],
   "source": [
    "print_n('hello', 3)"
   ]
  },
  {
   "cell_type": "markdown",
   "metadata": {},
   "source": [
    "## 3. 迭代 Iteration\n",
    "\n",
    "计算机擅长自动化处理某些相同或相似的任务。迭代是指，重复运行一段代码的能力。\n",
    "- for 循环\n",
    "- 递归\n",
    "- while 循坏"
   ]
  },
  {
   "cell_type": "markdown",
   "metadata": {},
   "source": [
    "### 3.1 While 循环"
   ]
  },
  {
   "cell_type": "code",
   "execution_count": 1,
   "metadata": {},
   "outputs": [],
   "source": [
    "def countdown(n):\n",
    "    while n > 0:\n",
    "        print(n)\n",
    "        n = n - 1\n",
    "    print('Blastoff!')"
   ]
  },
  {
   "cell_type": "code",
   "execution_count": 2,
   "metadata": {},
   "outputs": [
    {
     "name": "stdout",
     "output_type": "stream",
     "text": [
      "10\n",
      "9\n",
      "8\n",
      "7\n",
      "6\n",
      "5\n",
      "4\n",
      "3\n",
      "2\n",
      "1\n",
      "Blastoff!\n"
     ]
    }
   ],
   "source": [
    "countdown(10)"
   ]
  },
  {
   "cell_type": "markdown",
   "metadata": {},
   "source": [
    "可以通过break 语句，将条件判断放在迭代的任意地方，而不是顶上。\n",
    "\n",
    "区别在于：\n",
    "- 明确知道停止条件：当这样发生时停止循环\n",
    "- 而不是：继续执行，知道那个条件不满足"
   ]
  },
  {
   "cell_type": "code",
   "execution_count": 4,
   "metadata": {},
   "outputs": [],
   "source": [
    "def countdown_new(n):\n",
    "    while True:\n",
    "        if not n > 0:\n",
    "            print('Blastoff!')\n",
    "            break\n",
    "        else:\n",
    "            print(n)\n",
    "            n = n - 1"
   ]
  },
  {
   "cell_type": "code",
   "execution_count": 5,
   "metadata": {},
   "outputs": [
    {
     "name": "stdout",
     "output_type": "stream",
     "text": [
      "10\n",
      "9\n",
      "8\n",
      "7\n",
      "6\n",
      "5\n",
      "4\n",
      "3\n",
      "2\n",
      "1\n",
      "Blastoff!\n"
     ]
    }
   ],
   "source": [
    "countdown_new(10)"
   ]
  },
  {
   "cell_type": "markdown",
   "metadata": {},
   "source": [
    "#### 实例：计算平方根\n",
    "\n",
    "牛顿方法：\n",
    "\n",
    "如果你想知道a 的平方根，假设我们从x 开始估算的话，可以用下面的公式估算一个更好的值：\n",
    "\n",
    "$y = \\frac{x + \\frac{a}{x}}{2}$\n",
    "\n",
    "这里可以使用迭代，当估计值不再变化的时候，停止估算。"
   ]
  },
  {
   "cell_type": "code",
   "execution_count": 6,
   "metadata": {},
   "outputs": [],
   "source": [
    "def estimate_root (a, x):\n",
    "    while True:\n",
    "        print(x)\n",
    "        y = (x + a / x) / 2\n",
    "        if y == x:\n",
    "            break\n",
    "        x = y\n",
    "    return x"
   ]
  },
  {
   "cell_type": "code",
   "execution_count": 7,
   "metadata": {},
   "outputs": [
    {
     "name": "stdout",
     "output_type": "stream",
     "text": [
      "12\n",
      "6.166666666666667\n",
      "3.4076576576576576\n",
      "2.290742245881043\n",
      "2.018450581616493\n",
      "2.000084328039806\n",
      "2.0000000017777295\n",
      "2.0\n"
     ]
    }
   ],
   "source": [
    "root = estimate_root(4, 12)"
   ]
  },
  {
   "cell_type": "code",
   "execution_count": 8,
   "metadata": {},
   "outputs": [
    {
     "name": "stdout",
     "output_type": "stream",
     "text": [
      "2.0\n"
     ]
    }
   ],
   "source": [
    "print(root)"
   ]
  },
  {
   "cell_type": "markdown",
   "metadata": {},
   "source": [
    "一般来说，float 相等用== 判断，精度不够。通常使用的方法是："
   ]
  },
  {
   "cell_type": "code",
   "execution_count": 9,
   "metadata": {},
   "outputs": [
    {
     "name": "stdout",
     "output_type": "stream",
     "text": [
      "False\n",
      "True\n"
     ]
    }
   ],
   "source": [
    "def is_equal (x, y):\n",
    "    epsilon = 0.0000001\n",
    "    return abs(y-x) < epsilon\n",
    "\n",
    "x = 1 / 3\n",
    "y1 = 0.33\n",
    "y2 = 0.333333333333\n",
    "print(is_equal(x, y1))\n",
    "print(is_equal(x, y2))"
   ]
  },
  {
   "cell_type": "markdown",
   "metadata": {},
   "source": [
    "### 3.2. 调试技巧\n",
    "\n",
    "二分调试： debugging by bisection\n",
    "\n",
    "对于100行的函数，如果我们逐行验证，我们需要100次才能判断。\n",
    "\n",
    "我们可以分为两部分，在中间打出一些变量。\n",
    "- 如果变量没问题，那么问题肯定出在后半部分；\n",
    "- 否则，问题出在前半部分。\n",
    "\n",
    "出错信息中，最有用的是：\n",
    "- 错误类型\n",
    "- 错误位置"
   ]
  },
  {
   "cell_type": "code",
   "execution_count": null,
   "metadata": {},
   "outputs": [],
   "source": []
  },
  {
   "cell_type": "code",
   "execution_count": null,
   "metadata": {},
   "outputs": [],
   "source": []
  },
  {
   "cell_type": "markdown",
   "metadata": {},
   "source": [
    "#### 键盘输入"
   ]
  },
  {
   "cell_type": "code",
   "execution_count": 17,
   "metadata": {},
   "outputs": [
    {
     "name": "stdout",
     "output_type": "stream",
     "text": [
      "hello world!\n"
     ]
    }
   ],
   "source": [
    "text = input()"
   ]
  },
  {
   "cell_type": "code",
   "execution_count": 18,
   "metadata": {},
   "outputs": [
    {
     "data": {
      "text/plain": [
       "'hello world!'"
      ]
     },
     "execution_count": 18,
     "metadata": {},
     "output_type": "execute_result"
    }
   ],
   "source": [
    "text"
   ]
  },
  {
   "cell_type": "code",
   "execution_count": 19,
   "metadata": {},
   "outputs": [
    {
     "name": "stdout",
     "output_type": "stream",
     "text": [
      "give me your name.Chen\n"
     ]
    }
   ],
   "source": [
    "name = input('give me your name.\\n')"
   ]
  },
  {
   "cell_type": "code",
   "execution_count": 20,
   "metadata": {},
   "outputs": [
    {
     "data": {
      "text/plain": [
       "'Chen'"
      ]
     },
     "execution_count": 20,
     "metadata": {},
     "output_type": "execute_result"
    }
   ],
   "source": [
    "name"
   ]
  },
  {
   "cell_type": "code",
   "execution_count": 15,
   "metadata": {},
   "outputs": [
    {
     "name": "stdout",
     "output_type": "stream",
     "text": [
      "key in a number:\n",
      "1\n"
     ]
    }
   ],
   "source": [
    "num = input('key in a number:\\n')"
   ]
  },
  {
   "cell_type": "code",
   "execution_count": 16,
   "metadata": {},
   "outputs": [
    {
     "data": {
      "text/plain": [
       "'1'"
      ]
     },
     "execution_count": 16,
     "metadata": {},
     "output_type": "execute_result"
    }
   ],
   "source": [
    "num"
   ]
  },
  {
   "cell_type": "markdown",
   "metadata": {},
   "source": [
    "#### 注意，从键盘输入的变量都是str，如果需要进一步处理需要做类别转换。"
   ]
  },
  {
   "cell_type": "code",
   "execution_count": 17,
   "metadata": {},
   "outputs": [
    {
     "data": {
      "text/plain": [
       "str"
      ]
     },
     "execution_count": 17,
     "metadata": {},
     "output_type": "execute_result"
    }
   ],
   "source": [
    "type(num)"
   ]
  },
  {
   "cell_type": "code",
   "execution_count": 24,
   "metadata": {},
   "outputs": [
    {
     "data": {
      "text/plain": [
       "6"
      ]
     },
     "execution_count": 24,
     "metadata": {},
     "output_type": "execute_result"
    }
   ],
   "source": [
    "int(num) # 转为整形"
   ]
  },
  {
   "cell_type": "markdown",
   "metadata": {},
   "source": [
    "#### 算法是什么\n",
    "\n",
    "两个数相乘，如果是计算乘法口诀，那不是算法。\n",
    "\n",
    "如果我们知道，n和9相乘，其实是n-1放在十位上，10-n放在个位数上，这就是算法了。\n",
    "\n",
    "例如：\n",
    "- n=9\n",
    "- n - 1 = 8\n",
    "- 10 - n = 1\n",
    "\n",
    "所以9*9 = 81"
   ]
  },
  {
   "cell_type": "markdown",
   "metadata": {},
   "source": [
    "## Keywords\n",
    "\n",
    "- floor division / modulus operator \n",
    "- boolean expression / relational operator / logical operator (and, or, not)\n",
    "- conditional statement\n",
    "- chained condition / nested condition\n",
    "- recursion / base case (递归函数的一个条件分支，里面不会再调用自己)"
   ]
  },
  {
   "cell_type": "markdown",
   "metadata": {},
   "source": [
    "## Exercises\n",
    "\n",
    "### 5.1 通过Unix Epoch 时间计算当前时间"
   ]
  },
  {
   "cell_type": "code",
   "execution_count": 18,
   "metadata": {},
   "outputs": [
    {
     "name": "stdout",
     "output_type": "stream",
     "text": [
      "1574251078.528944\n"
     ]
    }
   ],
   "source": [
    "import time\n",
    "now = time.time()\n",
    "print(now)"
   ]
  },
  {
   "cell_type": "code",
   "execution_count": 21,
   "metadata": {},
   "outputs": [
    {
     "name": "stdout",
     "output_type": "stream",
     "text": [
      "18220.0\n"
     ]
    }
   ],
   "source": [
    "# 距1970年1月1日有多少年\n",
    "numberOfDays = now // (24*60*60) \n",
    "print(numberOfDays)"
   ]
  },
  {
   "cell_type": "code",
   "execution_count": 23,
   "metadata": {},
   "outputs": [
    {
     "name": "stdout",
     "output_type": "stream",
     "text": [
      "11.0\n"
     ]
    }
   ],
   "source": [
    "# 现在几点\n",
    "nowHour = now % (60*60*24) // (60*60)\n",
    "print(nowHour)"
   ]
  },
  {
   "cell_type": "code",
   "execution_count": 24,
   "metadata": {},
   "outputs": [
    {
     "name": "stdout",
     "output_type": "stream",
     "text": [
      "57.0\n"
     ]
    }
   ],
   "source": [
    "# 现在几分\n",
    "nowMin = now % (60*60) // 60\n",
    "print(nowMin)"
   ]
  },
  {
   "cell_type": "markdown",
   "metadata": {},
   "source": [
    "### 5.2 验证费马大数定理\n",
    "\n",
    "对于任何大于2的整数n，不存在任何正整数a,b,c 能满足：\n",
    "\n",
    "$$a^n + b^n = c^n $$\n",
    "\n",
    "编写函数，验证费马大数定理。"
   ]
  },
  {
   "cell_type": "code",
   "execution_count": 29,
   "metadata": {},
   "outputs": [],
   "source": [
    "def check_fermat (a, b, c, n):\n",
    "    if a>0 and b>0 and c>0 and n>2:\n",
    "        if a**n + b**n == c**n:\n",
    "            print('OMG! Fermat is wrong!!')\n",
    "        else:\n",
    "            print('Fermat is always right.')\n",
    "    else:\n",
    "        print('a,b,c,n must be positive integers, n must be greater than 2.')\n",
    "        "
   ]
  },
  {
   "cell_type": "code",
   "execution_count": 31,
   "metadata": {},
   "outputs": [
    {
     "name": "stdout",
     "output_type": "stream",
     "text": [
      "Fermat is always right.\n"
     ]
    }
   ],
   "source": [
    "check_fermat(1,2,3,3)"
   ]
  },
  {
   "cell_type": "markdown",
   "metadata": {},
   "source": [
    "### 5.3 验证三角函数\n",
    "\n",
    "如果一个边大于剩下两个边之和，则无法拼成三角形"
   ]
  },
  {
   "cell_type": "code",
   "execution_count": 32,
   "metadata": {},
   "outputs": [],
   "source": [
    "def is_triangle (a, b, c):\n",
    "    if a > b + c or b > a + c or c > a + b:\n",
    "        print ('You cannot make a triangle')\n",
    "    else:\n",
    "        print ('Possible to have a triangle')\n",
    "\n"
   ]
  },
  {
   "cell_type": "code",
   "execution_count": 34,
   "metadata": {},
   "outputs": [
    {
     "name": "stdout",
     "output_type": "stream",
     "text": [
      "You cannot make a triangle\n"
     ]
    }
   ],
   "source": [
    "is_triangle(1,2,4)"
   ]
  },
  {
   "cell_type": "markdown",
   "metadata": {},
   "source": [
    "### 5.4 递归函数"
   ]
  },
  {
   "cell_type": "code",
   "execution_count": 35,
   "metadata": {},
   "outputs": [],
   "source": [
    "def recurse(n, s):\n",
    "    \"\"\" n > 0\n",
    "    \"\"\"\n",
    "    if n == 0:\n",
    "        print(s)\n",
    "    else:\n",
    "        recurse(n-1, n+s)"
   ]
  },
  {
   "cell_type": "code",
   "execution_count": 36,
   "metadata": {},
   "outputs": [
    {
     "name": "stdout",
     "output_type": "stream",
     "text": [
      "6\n"
     ]
    }
   ],
   "source": [
    "recurse(3, 0) # 3 + 2 + 1"
   ]
  },
  {
   "cell_type": "code",
   "execution_count": 37,
   "metadata": {},
   "outputs": [
    {
     "name": "stdout",
     "output_type": "stream",
     "text": [
      "7\n"
     ]
    }
   ],
   "source": [
    "recurse(3, 1) # 3 + 2 + 1 + 1"
   ]
  }
 ],
 "metadata": {
  "kernelspec": {
   "display_name": "Python 3",
   "language": "python",
   "name": "python3"
  },
  "language_info": {
   "codemirror_mode": {
    "name": "ipython",
    "version": 3
   },
   "file_extension": ".py",
   "mimetype": "text/x-python",
   "name": "python",
   "nbconvert_exporter": "python",
   "pygments_lexer": "ipython3",
   "version": "3.6.4"
  }
 },
 "nbformat": 4,
 "nbformat_minor": 2
}
