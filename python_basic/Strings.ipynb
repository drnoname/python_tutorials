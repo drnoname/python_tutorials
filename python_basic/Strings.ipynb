{
 "cells": [
  {
   "cell_type": "markdown",
   "metadata": {},
   "source": [
    "# 字符串操作"
   ]
  },
  {
   "cell_type": "markdown",
   "metadata": {},
   "source": [
    "## 1. 处理字符串\n",
    "\n",
    "### 1.1 字符串字面量\n",
    "\n",
    "python 默认字符串是单引号`'...'`包围的字符，可是如果字符串中包含单引号该怎么办？\n",
    "\n",
    "例如，`'I follow Jack's choice.'` 其中，`s choice` 将会被解析成无效代码部分。"
   ]
  },
  {
   "cell_type": "code",
   "execution_count": 2,
   "metadata": {},
   "outputs": [
    {
     "ename": "SyntaxError",
     "evalue": "invalid syntax (<ipython-input-2-08d85dbd5eaf>, line 1)",
     "output_type": "error",
     "traceback": [
      "\u001b[0;36m  File \u001b[0;32m\"<ipython-input-2-08d85dbd5eaf>\"\u001b[0;36m, line \u001b[0;32m1\u001b[0m\n\u001b[0;31m    sample_str = 'I follow Jack's choice.'\u001b[0m\n\u001b[0m                                ^\u001b[0m\n\u001b[0;31mSyntaxError\u001b[0m\u001b[0;31m:\u001b[0m invalid syntax\n"
     ]
    }
   ],
   "source": [
    "sample_str = 'I follow Jack's choice.'"
   ]
  },
  {
   "cell_type": "markdown",
   "metadata": {},
   "source": [
    "我们有几种方法来处理这种情况。\n",
    "\n",
    "#### 双引号"
   ]
  },
  {
   "cell_type": "code",
   "execution_count": 4,
   "metadata": {},
   "outputs": [
    {
     "data": {
      "text/plain": [
       "\"I follow Jack's choice.\""
      ]
     },
     "execution_count": 4,
     "metadata": {},
     "output_type": "execute_result"
    }
   ],
   "source": [
    "sample_str = \"I follow Jack's choice.\"\n",
    "sample_str"
   ]
  },
  {
   "cell_type": "markdown",
   "metadata": {},
   "source": [
    "#### 转义字符"
   ]
  },
  {
   "cell_type": "code",
   "execution_count": 6,
   "metadata": {},
   "outputs": [
    {
     "data": {
      "text/plain": [
       "\"I follow Jack's choice.\""
      ]
     },
     "execution_count": 6,
     "metadata": {},
     "output_type": "execute_result"
    }
   ],
   "source": [
    "sample_str = 'I follow Jack\\'s choice.'\n",
    "sample_str"
   ]
  },
  {
   "cell_type": "markdown",
   "metadata": {},
   "source": [
    "#### 原始字符串 (raw string)\n",
    "\n",
    "原始字符串忽略所有的转义字符，即打印所有的反斜杠`\\`. 原始字符串在正则表达式中很有用。"
   ]
  },
  {
   "cell_type": "code",
   "execution_count": 8,
   "metadata": {},
   "outputs": [
    {
     "name": "stdout",
     "output_type": "stream",
     "text": [
      "I follow Jack\\'s choice.\n"
     ]
    }
   ],
   "source": [
    "sample_str = r'I follow Jack\\'s choice.'\n",
    "print(sample_str)"
   ]
  },
  {
   "cell_type": "markdown",
   "metadata": {},
   "source": [
    "#### 多行字符串\n",
    "\n",
    "三重引号`'''...'''` 之间的所有引号，制表符，换行都被认为是字符串的一部分。Python 代码块缩进不适用于多行字符串。"
   ]
  },
  {
   "cell_type": "code",
   "execution_count": 11,
   "metadata": {},
   "outputs": [
    {
     "name": "stdout",
     "output_type": "stream",
     "text": [
      "good morning.\n",
      "\n",
      "I follow Jack's choice.\n",
      "\n",
      "            thank you\n"
     ]
    }
   ],
   "source": [
    "sample_str = '''good morning.\n",
    "\n",
    "I follow Jack's choice.\n",
    "\n",
    "            thank you'''\n",
    "\n",
    "print(sample_str)"
   ]
  },
  {
   "cell_type": "markdown",
   "metadata": {},
   "source": [
    "### 1.2 多行注释\n",
    "\n",
    "使用三个双引号 `\"\"\"...\"\"\"`"
   ]
  },
  {
   "cell_type": "code",
   "execution_count": 12,
   "metadata": {},
   "outputs": [
    {
     "name": "stdout",
     "output_type": "stream",
     "text": [
      "Hi.\n"
     ]
    }
   ],
   "source": [
    "\"\"\"\n",
    "This is comments.\n",
    "whatever you type here,\n",
    "does not matter...\n",
    "\"\"\"\n",
    "print('Hi.')"
   ]
  },
  {
   "cell_type": "markdown",
   "metadata": {},
   "source": [
    "### 1.3 String as a list"
   ]
  },
  {
   "cell_type": "markdown",
   "metadata": {},
   "source": [
    "#### 字符串切片\n",
    "\n",
    "`sample_string[0:5]` 包含从第0个字符到第4个字符的子字符串。"
   ]
  },
  {
   "cell_type": "code",
   "execution_count": 15,
   "metadata": {},
   "outputs": [
    {
     "data": {
      "text/plain": [
       "\"good morning.\\n\\nI follow Jack's choice.\\n\\n            thank you\""
      ]
     },
     "execution_count": 15,
     "metadata": {},
     "output_type": "execute_result"
    }
   ],
   "source": [
    "sample_str"
   ]
  },
  {
   "cell_type": "code",
   "execution_count": 17,
   "metadata": {},
   "outputs": [
    {
     "data": {
      "text/plain": [
       "'g'"
      ]
     },
     "execution_count": 17,
     "metadata": {},
     "output_type": "execute_result"
    }
   ],
   "source": [
    "sample_str[0]"
   ]
  },
  {
   "cell_type": "code",
   "execution_count": 18,
   "metadata": {},
   "outputs": [
    {
     "data": {
      "text/plain": [
       "'good '"
      ]
     },
     "execution_count": 18,
     "metadata": {},
     "output_type": "execute_result"
    }
   ],
   "source": [
    "sample_str[:5]"
   ]
  },
  {
   "cell_type": "code",
   "execution_count": 19,
   "metadata": {},
   "outputs": [
    {
     "data": {
      "text/plain": [
       "'u'"
      ]
     },
     "execution_count": 19,
     "metadata": {},
     "output_type": "execute_result"
    }
   ],
   "source": [
    "sample_str[-1]"
   ]
  },
  {
   "cell_type": "code",
   "execution_count": 21,
   "metadata": {},
   "outputs": [
    {
     "data": {
      "text/plain": [
       "'           thank you'"
      ]
     },
     "execution_count": 21,
     "metadata": {},
     "output_type": "execute_result"
    }
   ],
   "source": [
    "sample_str[-20:]"
   ]
  },
  {
   "cell_type": "markdown",
   "metadata": {},
   "source": [
    "注意，字符串是不可修改数据类型，切片后对原来的string 没有影响。"
   ]
  },
  {
   "cell_type": "markdown",
   "metadata": {},
   "source": [
    "#### 判断是否包含子字符串: 使用 `in` 和 `not in`"
   ]
  },
  {
   "cell_type": "code",
   "execution_count": 22,
   "metadata": {},
   "outputs": [
    {
     "data": {
      "text/plain": [
       "False"
      ]
     },
     "execution_count": 22,
     "metadata": {},
     "output_type": "execute_result"
    }
   ],
   "source": [
    "'hello' in sample_str"
   ]
  },
  {
   "cell_type": "code",
   "execution_count": 23,
   "metadata": {},
   "outputs": [
    {
     "data": {
      "text/plain": [
       "True"
      ]
     },
     "execution_count": 23,
     "metadata": {},
     "output_type": "execute_result"
    }
   ],
   "source": [
    "'good' in sample_str"
   ]
  },
  {
   "cell_type": "code",
   "execution_count": 24,
   "metadata": {},
   "outputs": [
    {
     "data": {
      "text/plain": [
       "True"
      ]
     },
     "execution_count": 24,
     "metadata": {},
     "output_type": "execute_result"
    }
   ],
   "source": [
    "'' in sample_str # 空字符串返回True"
   ]
  },
  {
   "cell_type": "code",
   "execution_count": 25,
   "metadata": {},
   "outputs": [
    {
     "data": {
      "text/plain": [
       "True"
      ]
     },
     "execution_count": 25,
     "metadata": {},
     "output_type": "execute_result"
    }
   ],
   "source": [
    "'' in ''"
   ]
  },
  {
   "cell_type": "code",
   "execution_count": 27,
   "metadata": {},
   "outputs": [
    {
     "data": {
      "text/plain": [
       "True"
      ]
     },
     "execution_count": 27,
     "metadata": {},
     "output_type": "execute_result"
    }
   ],
   "source": [
    "'hello' not in sample_str"
   ]
  },
  {
   "cell_type": "markdown",
   "metadata": {},
   "source": [
    "## 2 字符串方法"
   ]
  },
  {
   "cell_type": "markdown",
   "metadata": {},
   "source": [
    "### 2.1 `upper()`, `lower()`, `isupper()`, `islower()`"
   ]
  },
  {
   "cell_type": "code",
   "execution_count": 28,
   "metadata": {},
   "outputs": [],
   "source": [
    "sample_str = 'Good morning Jack.'"
   ]
  },
  {
   "cell_type": "code",
   "execution_count": 33,
   "metadata": {},
   "outputs": [
    {
     "data": {
      "text/plain": [
       "'GOOD MORNING JACK.'"
      ]
     },
     "execution_count": 33,
     "metadata": {},
     "output_type": "execute_result"
    }
   ],
   "source": [
    "sample_str_upper = sample_str.upper() # 注意，这个方法并不改变字符串本身，而是返回了一个新的字符串\n",
    "sample_str_upper"
   ]
  },
  {
   "cell_type": "code",
   "execution_count": 32,
   "metadata": {},
   "outputs": [
    {
     "data": {
      "text/plain": [
       "'good morning jack.'"
      ]
     },
     "execution_count": 32,
     "metadata": {},
     "output_type": "execute_result"
    }
   ],
   "source": [
    "sample_str_lower = sample_str.lower()\n",
    "sample_str_lower"
   ]
  },
  {
   "cell_type": "code",
   "execution_count": 34,
   "metadata": {},
   "outputs": [
    {
     "data": {
      "text/plain": [
       "True"
      ]
     },
     "execution_count": 34,
     "metadata": {},
     "output_type": "execute_result"
    }
   ],
   "source": [
    "sample_str_upper.isupper() # 全为大写返回True"
   ]
  },
  {
   "cell_type": "code",
   "execution_count": 35,
   "metadata": {},
   "outputs": [
    {
     "data": {
      "text/plain": [
       "False"
      ]
     },
     "execution_count": 35,
     "metadata": {},
     "output_type": "execute_result"
    }
   ],
   "source": [
    "sample_str_upper.islower() # 全为小写返回True"
   ]
  },
  {
   "cell_type": "code",
   "execution_count": 36,
   "metadata": {},
   "outputs": [
    {
     "data": {
      "text/plain": [
       "False"
      ]
     },
     "execution_count": 36,
     "metadata": {},
     "output_type": "execute_result"
    }
   ],
   "source": [
    "sample_str_lower.isupper()"
   ]
  },
  {
   "cell_type": "code",
   "execution_count": 37,
   "metadata": {},
   "outputs": [
    {
     "data": {
      "text/plain": [
       "True"
      ]
     },
     "execution_count": 37,
     "metadata": {},
     "output_type": "execute_result"
    }
   ],
   "source": [
    "sample_str_lower.islower()"
   ]
  },
  {
   "cell_type": "markdown",
   "metadata": {},
   "source": [
    "上面这些方法，因为都返回一个字符串，所以可以串联调用。"
   ]
  },
  {
   "cell_type": "code",
   "execution_count": 40,
   "metadata": {},
   "outputs": [
    {
     "data": {
      "text/plain": [
       "True"
      ]
     },
     "execution_count": 40,
     "metadata": {},
     "output_type": "execute_result"
    }
   ],
   "source": [
    "'Good morning Jack.'.lower().islower()"
   ]
  },
  {
   "cell_type": "markdown",
   "metadata": {},
   "source": [
    "### 2.2 `isX` 方法\n",
    "\n",
    "除了`islower()` 和`isupper()` 方法，我们还常用以下几种`isX()` 方法：\n",
    "- `isalpha()`: 只包含字母，并且非空，返回True;\n",
    "- `isalnum()`: 只包含字母和数字，并且非空，返回True;\n",
    "- `isdecimal()`: 只包含数字，并且非空，返回True;\n",
    "- `isspace()`: 只包含空格，制表符，换行符，并且非空，返回True;\n",
    "- `istitle()`: 只包含以大写字母开头，后面都是小写字母的单词，并且非空，返回True;"
   ]
  },
  {
   "cell_type": "code",
   "execution_count": 62,
   "metadata": {},
   "outputs": [],
   "source": [
    "test_str_list = ['helloworld', 'helloworld2', '123', '123.1', '127.0.0.1', ' \\t', 'Hello World']"
   ]
  },
  {
   "cell_type": "code",
   "execution_count": 63,
   "metadata": {},
   "outputs": [
    {
     "name": "stdout",
     "output_type": "stream",
     "text": [
      "\n",
      "=========helloworld=========\n",
      "\n",
      "isalpha() True\n",
      "isalnum() True\n",
      "isdecimal() False\n",
      "isspace() False\n",
      "istitle() False\n",
      "\n",
      "=========helloworld2=========\n",
      "\n",
      "isalpha() False\n",
      "isalnum() True\n",
      "isdecimal() False\n",
      "isspace() False\n",
      "istitle() False\n",
      "\n",
      "=========123=========\n",
      "\n",
      "isalpha() False\n",
      "isalnum() True\n",
      "isdecimal() True\n",
      "isspace() False\n",
      "istitle() False\n",
      "\n",
      "=========123.1=========\n",
      "\n",
      "isalpha() False\n",
      "isalnum() False\n",
      "isdecimal() False\n",
      "isspace() False\n",
      "istitle() False\n",
      "\n",
      "=========127.0.0.1=========\n",
      "\n",
      "isalpha() False\n",
      "isalnum() False\n",
      "isdecimal() False\n",
      "isspace() False\n",
      "istitle() False\n",
      "\n",
      "========= \t=========\n",
      "\n",
      "isalpha() False\n",
      "isalnum() False\n",
      "isdecimal() False\n",
      "isspace() True\n",
      "istitle() False\n",
      "\n",
      "=========Hello World=========\n",
      "\n",
      "isalpha() False\n",
      "isalnum() False\n",
      "isdecimal() False\n",
      "isspace() False\n",
      "istitle() True\n"
     ]
    }
   ],
   "source": [
    "for string in test_str_list:\n",
    "    print('\\n========={}=========\\n'.format(string))\n",
    "    print('isalpha()', string.isalpha())\n",
    "    print('isalnum()', string.isalnum())\n",
    "    print('isdecimal()', string.isdecimal())\n",
    "    print('isspace()', string.isspace())\n",
    "    print('istitle()', string.istitle())\n"
   ]
  },
  {
   "cell_type": "code",
   "execution_count": null,
   "metadata": {},
   "outputs": [],
   "source": []
  }
 ],
 "metadata": {
  "kernelspec": {
   "display_name": "Python 3",
   "language": "python",
   "name": "python3"
  },
  "language_info": {
   "codemirror_mode": {
    "name": "ipython",
    "version": 3
   },
   "file_extension": ".py",
   "mimetype": "text/x-python",
   "name": "python",
   "nbconvert_exporter": "python",
   "pygments_lexer": "ipython3",
   "version": "3.7.4"
  }
 },
 "nbformat": 4,
 "nbformat_minor": 2
}
