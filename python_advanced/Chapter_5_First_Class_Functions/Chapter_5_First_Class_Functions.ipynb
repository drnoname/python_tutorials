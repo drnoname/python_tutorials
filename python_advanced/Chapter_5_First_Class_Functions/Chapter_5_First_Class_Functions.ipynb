{
 "cells": [
  {
   "cell_type": "markdown",
   "metadata": {},
   "source": [
    "# Chapter 5: 一等函数\n",
    "\n",
    "Python 并不是functional programming language --- python 之父Guido Van Rossum\n",
    "\n",
    "Function 在python 中是first-class objects.\n",
    "\n",
    "**一等对象**的定义:\n",
    "- 在运行时创建\n",
    "- 能复制给变量或数据结构中的元素\n",
    "- 能作为参数传给函数\n",
    "- 能作为函数返回结果\n",
    "\n",
    "在Python 中，函数是一种一等对象，类似于整数，字符串，字典等。\n",
    "\n",
    "\"treating functions as objects\"."
   ]
  },
  {
   "cell_type": "markdown",
   "metadata": {},
   "source": [
    "## 1. 把函数视为对象\n",
    "\n",
    "下面，我们首先定义一个函数，然后通过type 命令看出，这个函数是一个function 类的示例。"
   ]
  },
  {
   "cell_type": "code",
   "execution_count": 4,
   "metadata": {},
   "outputs": [],
   "source": [
    "def factorial(n):\n",
    "    '''returns n'''\n",
    "    return 1 if n < 2 else n * factorial(n - 1)"
   ]
  },
  {
   "cell_type": "code",
   "execution_count": 5,
   "metadata": {},
   "outputs": [
    {
     "data": {
      "text/plain": [
       "1405006117752879898543142606244511569936384000000000"
      ]
     },
     "execution_count": 5,
     "metadata": {},
     "output_type": "execute_result"
    }
   ],
   "source": [
    "factorial(42)"
   ]
  },
  {
   "cell_type": "markdown",
   "metadata": {},
   "source": [
    "下面我们来看，一个function 其实是一个对象。\n",
    "- 调用其`__doc__`方法: used to generate the **help text** of an object.\n",
    "- 查看type"
   ]
  },
  {
   "cell_type": "code",
   "execution_count": 6,
   "metadata": {},
   "outputs": [
    {
     "name": "stdout",
     "output_type": "stream",
     "text": [
      "returns n\n"
     ]
    }
   ],
   "source": [
    "print(factorial.__doc__)"
   ]
  },
  {
   "cell_type": "code",
   "execution_count": 7,
   "metadata": {},
   "outputs": [
    {
     "name": "stdout",
     "output_type": "stream",
     "text": [
      "<class 'function'>\n"
     ]
    }
   ],
   "source": [
    "print(type(factorial))"
   ]
  },
  {
   "cell_type": "markdown",
   "metadata": {},
   "source": [
    "下面，我们来展示函数对象的一等特性\n",
    "#### 赋值给变量"
   ]
  },
  {
   "cell_type": "code",
   "execution_count": 8,
   "metadata": {},
   "outputs": [
    {
     "name": "stdout",
     "output_type": "stream",
     "text": [
      "<function factorial at 0x10fabe400>\n"
     ]
    }
   ],
   "source": [
    "fact = factorial\n",
    "print(fact)"
   ]
  },
  {
   "cell_type": "code",
   "execution_count": 9,
   "metadata": {},
   "outputs": [
    {
     "data": {
      "text/plain": [
       "1405006117752879898543142606244511569936384000000000"
      ]
     },
     "execution_count": 9,
     "metadata": {},
     "output_type": "execute_result"
    }
   ],
   "source": [
    "fact(42)"
   ]
  },
  {
   "cell_type": "markdown",
   "metadata": {},
   "source": [
    "#### 作为参数传参"
   ]
  },
  {
   "cell_type": "code",
   "execution_count": 10,
   "metadata": {},
   "outputs": [
    {
     "data": {
      "text/plain": [
       "[0, 1, 2, 3, 4, 5, 6, 7, 8, 9]"
      ]
     },
     "execution_count": 10,
     "metadata": {},
     "output_type": "execute_result"
    }
   ],
   "source": [
    "lst = [i for i in range(10)]\n",
    "lst"
   ]
  },
  {
   "cell_type": "code",
   "execution_count": 11,
   "metadata": {},
   "outputs": [
    {
     "data": {
      "text/plain": [
       "[1, 1, 2, 6, 24, 120, 720, 5040, 40320, 362880]"
      ]
     },
     "execution_count": 11,
     "metadata": {},
     "output_type": "execute_result"
    }
   ],
   "source": [
    "list(map(factorial, lst))"
   ]
  },
  {
   "cell_type": "markdown",
   "metadata": {},
   "source": [
    "`map` 方法返回一个iterable：每个元素都是第一个参数（方法）应用在第二个参数的每个元素上的结果。\n",
    "\n",
    "上述操作可以描述为：对每一个lst 中的元素，使用factorial 方法。\n",
    "\n",
    "要现实一个iterable，要将其转化为list."
   ]
  },
  {
   "cell_type": "markdown",
   "metadata": {},
   "source": [
    "## 2. 高阶函数 (Higher Order Functions)\n",
    "\n",
    "有了一等函数，就可以使用函数式风格编程。函数式编程的特点之一就是使用高阶函数。\n",
    "\n",
    "#### 高阶函数（Higher-Order Function）: 接受函数为参数，或者把函数作为结果返回的函数。\n",
    "\n",
    "上面的map 函数就是一个例子。还有一个普遍使用的例子是sorted, 接受一个函数作为key，表明排序的依据。例如，下面我们根据长度对字符串进行排序。"
   ]
  },
  {
   "cell_type": "code",
   "execution_count": 12,
   "metadata": {},
   "outputs": [
    {
     "data": {
      "text/plain": [
       "['apple', 'orange', 'respberry']"
      ]
     },
     "execution_count": 12,
     "metadata": {},
     "output_type": "execute_result"
    }
   ],
   "source": [
    "fruits = ['apple', 'orange', 'respberry']\n",
    "sorted(fruits, key=len)"
   ]
  },
  {
   "cell_type": "markdown",
   "metadata": {},
   "source": [
    "同样，我们可以根据reversed spelling 排序"
   ]
  },
  {
   "cell_type": "code",
   "execution_count": 13,
   "metadata": {},
   "outputs": [],
   "source": [
    "def reverse(word):\n",
    "    return word[::-1]"
   ]
  },
  {
   "cell_type": "code",
   "execution_count": 14,
   "metadata": {},
   "outputs": [
    {
     "data": {
      "text/plain": [
       "'cba'"
      ]
     },
     "execution_count": 14,
     "metadata": {},
     "output_type": "execute_result"
    }
   ],
   "source": [
    "reverse('abc')"
   ]
  },
  {
   "cell_type": "code",
   "execution_count": 16,
   "metadata": {},
   "outputs": [
    {
     "data": {
      "text/plain": [
       "['orange', 'apple', 'respberry']"
      ]
     },
     "execution_count": 16,
     "metadata": {},
     "output_type": "execute_result"
    }
   ],
   "source": [
    "sorted(fruits, key=reverse)  # sorted by reversed spelling"
   ]
  },
  {
   "cell_type": "markdown",
   "metadata": {},
   "source": [
    "最常用的高阶函数有：\n",
    "- map\n",
    "- filter\n",
    "- reduce\n",
    "- apply (Python 3 已经移除)\n",
    "    - function with dynamic set of arguments\n",
    "    - before: `apply(fn, args, kwargs)`\n",
    "    - now: `fn(*args, **kwargs)`\n",
    "\n",
    "`map` 和 `filter` 的功能可以由列表推导式和生成器表达式替代。使用列表推倒式的好处是：可读性更好。\n",
    "\n",
    "例如，下面我们来看列表推导式和map, filter 的区别。"
   ]
  },
  {
   "cell_type": "code",
   "execution_count": 17,
   "metadata": {},
   "outputs": [
    {
     "data": {
      "text/plain": [
       "[1, 1, 2, 6, 24, 120, 720, 5040, 40320, 362880]"
      ]
     },
     "execution_count": 17,
     "metadata": {},
     "output_type": "execute_result"
    }
   ],
   "source": [
    "list(map(factorial, lst))  # map "
   ]
  },
  {
   "cell_type": "code",
   "execution_count": 18,
   "metadata": {},
   "outputs": [
    {
     "data": {
      "text/plain": [
       "[1, 1, 2, 6, 24, 120, 720, 5040, 40320, 362880]"
      ]
     },
     "execution_count": 18,
     "metadata": {},
     "output_type": "execute_result"
    }
   ],
   "source": [
    "[factorial(n) for n in lst]  # 列表推导式 "
   ]
  },
  {
   "cell_type": "code",
   "execution_count": 19,
   "metadata": {},
   "outputs": [
    {
     "data": {
      "text/plain": [
       "[1, 6, 120, 5040, 362880]"
      ]
     },
     "execution_count": 19,
     "metadata": {},
     "output_type": "execute_result"
    }
   ],
   "source": [
    "list(map(factorial, filter(lambda n : n % 2, lst)))  # filter"
   ]
  },
  {
   "cell_type": "code",
   "execution_count": 20,
   "metadata": {},
   "outputs": [
    {
     "data": {
      "text/plain": [
       "[1, 6, 120, 5040, 362880]"
      ]
     },
     "execution_count": 20,
     "metadata": {},
     "output_type": "execute_result"
    }
   ],
   "source": [
    "[factorial(n) for n in lst if n % 2]  # 列表推导式"
   ]
  },
  {
   "cell_type": "markdown",
   "metadata": {},
   "source": [
    "Python 3 中map 和filter 返回一个生成器，所以需要用list 方法获取全量的元素。\n",
    "\n",
    "`reduce` 函数在python 2中是内置函数，在python 3中放在了`functools` package 中。"
   ]
  },
  {
   "cell_type": "code",
   "execution_count": 19,
   "metadata": {},
   "outputs": [
    {
     "data": {
      "text/plain": [
       "45"
      ]
     },
     "execution_count": 19,
     "metadata": {},
     "output_type": "execute_result"
    }
   ],
   "source": [
    "from functools import reduce\n",
    "from operator import add\n",
    "reduce(add, lst)"
   ]
  },
  {
   "cell_type": "code",
   "execution_count": 21,
   "metadata": {},
   "outputs": [
    {
     "data": {
      "text/plain": [
       "45"
      ]
     },
     "execution_count": 21,
     "metadata": {},
     "output_type": "execute_result"
    }
   ],
   "source": [
    "sum(lst)  # 上述操作等同于sum 求和"
   ]
  },
  {
   "cell_type": "markdown",
   "metadata": {},
   "source": [
    "#### 规约函数\n",
    "- all: 如果iterable 的每个元素都是真值，返回True\n",
    "    - `all([])` 返回True\n",
    "- any: 如果iterable 中有元素是真值，返回True\n",
    "    - `any([])` 返回False\n",
    "    \n",
    "⚠️ 第14章会介绍可迭代对象以及规约函数，第10章会详细介绍reduce 函数。"
   ]
  },
  {
   "cell_type": "markdown",
   "metadata": {},
   "source": [
    "## 3. 匿名函数\n",
    "\n",
    "有时创建小的一次性(small and one-off function) 的函数十分遍历，这就是匿名函数，`lambda`\n",
    "\n",
    "注意，lambda 的定义中不能赋值，不能使用while，try，等python 语句。\n",
    "\n",
    "**匿名函数的最佳使用场景**: lambda 常用与函数的参数中. \n",
    "\n",
    "Lambda 函数的limitation：\n",
    "- 因为只能使用pure expression，因此表述力不高\n",
    "- 可读性不好\n",
    "\n",
    "因此lambda 函数在其他场景下很少使用。"
   ]
  },
  {
   "cell_type": "code",
   "execution_count": 21,
   "metadata": {},
   "outputs": [
    {
     "data": {
      "text/plain": [
       "['orange', 'apple', 'respberry']"
      ]
     },
     "execution_count": 21,
     "metadata": {},
     "output_type": "execute_result"
    }
   ],
   "source": [
    "sorted(fruits, key=lambda word: word[::-1])  # 反转之后排序"
   ]
  },
  {
   "cell_type": "markdown",
   "metadata": {},
   "source": [
    "## 4. 可调用对象\n",
    "\n",
    "使用lambda 和def 都会创建一个函数对象。函数对象是一种可调用对象。Python 一共有7种可调用（callable）对象：\n",
    "- 用户定义函数：`def` / `lambda`\n",
    "- 内置函数：使用C语言实现的函数，例如`len`\n",
    "- 内置方法：使用C语言实现的方法，例如`dict.get`\n",
    "- 方法：在类中定义的函数\n",
    "- 类：先调用`__new__`方法创建实例，再调用`__init__`方法初始化实例\n",
    "- 类的实例：如果类定义了`__call__`方法，那么它的实例可以作为函数调用 --- 参见Part 5\n",
    "- 生成器函数：yield 关键字定义的函数或方法，返回生成器对象(generator object)。\n",
    "    - 生成器函数还可以作为协程，参见16章\n",
    "\n",
    "#### what is the difference between method and function?\n",
    "方法是指在类中定义的函数。"
   ]
  },
  {
   "cell_type": "markdown",
   "metadata": {},
   "source": [
    "## 5. 用户定义的可调用类型\n",
    "\n",
    "通过实现`__call__` 方法，可以让对象表现的像函数。**function-like object**"
   ]
  },
  {
   "cell_type": "code",
   "execution_count": 23,
   "metadata": {},
   "outputs": [],
   "source": [
    "class Student:\n",
    "    def __init__(self, first_name, last_name, age, department):\n",
    "        self._first_name = first_name\n",
    "        self._last_name = last_name\n",
    "        self._age = age\n",
    "        self._department = department\n",
    "        \n",
    "    def get_name(self):\n",
    "        return self._first_name + ' ' + self._last_name\n",
    "    \n",
    "    def __call__(self):\n",
    "        return self.get_name()  "
   ]
  },
  {
   "cell_type": "code",
   "execution_count": 25,
   "metadata": {},
   "outputs": [
    {
     "name": "stdout",
     "output_type": "stream",
     "text": [
      "Chen Wang\n",
      "Chen Wang\n"
     ]
    }
   ],
   "source": [
    "stu = Student('Chen', 'Wang', 35, 'CS')\n",
    "print(stu.get_name())\n",
    "print(stu())"
   ]
  },
  {
   "cell_type": "code",
   "execution_count": 26,
   "metadata": {},
   "outputs": [
    {
     "data": {
      "text/plain": [
       "True"
      ]
     },
     "execution_count": 26,
     "metadata": {},
     "output_type": "execute_result"
    }
   ],
   "source": [
    "callable(stu)  # 通过内置的callable 方法判定它是否为可调用对象"
   ]
  },
  {
   "cell_type": "markdown",
   "metadata": {},
   "source": [
    "上面的例子，名字可能会被修改，这样我们在每次调用`stu()`的时候可能返回不同的结果。相当于是一个有状态的function。类似的还有修饰器(decorator) 和闭包(clusure). 会在第7章介绍。"
   ]
  },
  {
   "cell_type": "markdown",
   "metadata": {},
   "source": [
    "## 6. 函数内省（Function Introspection）\n",
    "\n",
    "下面我们介绍另一个把函数作为对象的方面，runtime introspection.\n",
    "\n",
    "前面我们已经介绍过函数作为对象的`__doc__` 属性，下面，我们使用`dir()`方法来看看函数作为对象的所有属性。"
   ]
  },
  {
   "cell_type": "code",
   "execution_count": 27,
   "metadata": {},
   "outputs": [
    {
     "data": {
      "text/plain": [
       "['__annotations__',\n",
       " '__call__',\n",
       " '__class__',\n",
       " '__closure__',\n",
       " '__code__',\n",
       " '__defaults__',\n",
       " '__delattr__',\n",
       " '__dict__',\n",
       " '__dir__',\n",
       " '__doc__',\n",
       " '__eq__',\n",
       " '__format__',\n",
       " '__ge__',\n",
       " '__get__',\n",
       " '__getattribute__',\n",
       " '__globals__',\n",
       " '__gt__',\n",
       " '__hash__',\n",
       " '__init__',\n",
       " '__init_subclass__',\n",
       " '__kwdefaults__',\n",
       " '__le__',\n",
       " '__lt__',\n",
       " '__module__',\n",
       " '__name__',\n",
       " '__ne__',\n",
       " '__new__',\n",
       " '__qualname__',\n",
       " '__reduce__',\n",
       " '__reduce_ex__',\n",
       " '__repr__',\n",
       " '__setattr__',\n",
       " '__sizeof__',\n",
       " '__str__',\n",
       " '__subclasshook__']"
      ]
     },
     "execution_count": 27,
     "metadata": {},
     "output_type": "execute_result"
    }
   ],
   "source": [
    "dir(factorial)"
   ]
  },
  {
   "cell_type": "markdown",
   "metadata": {},
   "source": [
    "大多数是Python 对象共有的属性，下面我们着重讲一些与函数对象特有的属性。我们首先获取函数的属性集合，然后获取一般对象的属性集合，最后做一个差值。"
   ]
  },
  {
   "cell_type": "code",
   "execution_count": 29,
   "metadata": {},
   "outputs": [
    {
     "data": {
      "text/plain": [
       "['__annotations__',\n",
       " '__closure__',\n",
       " '__code__',\n",
       " '__defaults__',\n",
       " '__get__',\n",
       " '__globals__',\n",
       " '__kwdefaults__',\n",
       " '__name__',\n",
       " '__qualname__']"
      ]
     },
     "execution_count": 29,
     "metadata": {},
     "output_type": "execute_result"
    }
   ],
   "source": [
    "sorted(set(dir(factorial)) - set(dir(Student)))"
   ]
  },
  {
   "cell_type": "markdown",
   "metadata": {},
   "source": [
    "我们汇总一下，一共有以下几种方法，我们后面会陆续介绍。\n",
    "\n",
    "| 名称 | 类型 | 说明 |\n",
    "|------|------|------|\n",
    "|__annotations__| dict | Parameter and return annotations|\n",
    "|__call__| method-wrapper | Implementation of the () operator; a.k.a. the callable object protocol|\n",
    "|__closure__| tuple | The function closure, i.e., bindings for free variables (often is None)|\n",
    "|__code__| code | Function metadata and function body compiled into bytecode|\n",
    "|__defaults__| tuple | Default values for the formal parameters|\n",
    "|__get__| method-wrapper | Implementation of the read-only descriptor protocol (see Chapter 20)|\n",
    "|__globals__| dict | Global variables of the module where the function is defined|\n",
    "|__kwdefaults__| dict | Default values for the keyword-only formal parameters|\n",
    "|__name__| str | The function name|\n",
    "|__qualname__| str | The qualified function name, e.g., Random.choice (see PEP-3155)|"
   ]
  },
  {
   "cell_type": "markdown",
   "metadata": {},
   "source": [
    "## 7. 从定位参数到仅限关键字参数（From Positional to Keyword-Only Parameters）\n",
    "\n",
    "Python 的一个强大的地方是：flexible parameter handling mechanism, enhanced with keyword-only arguments.\n",
    "\n",
    "Python 的函数有两类参数：\n",
    "- **positional parameters**: must be included in the correct order. \n",
    "- **keyword only parameters**: included with a keyword and equals sign\n",
    "\n",
    "假设我们有一个函数签名\n",
    "\n",
    "```python\n",
    "def my_func(name, *content, cls=None, **attrs)\n",
    "```\n",
    "\n",
    "- `my_func('a name')` - single positional argument 匹配第一个参数name\n",
    "- `my_func('a name', 'hello', 'world')` - 从第二个positional argument 被`*content` 捕获, 作为tuple\n",
    "- `my_func('a name', 'hello', id=01)` - Keyword arguments not explicitly named in function signature are captured by `**attrs` as a dict.\n",
    "- `my_func('a name', 'hello', 'world', cls='sidebar')` - The cls parameter can only be passed as a keyword argument.\n",
    "- `my_func(content='testing', name=\"img\")` - 第一个positional argument 也可以作为keyword \n",
    "- `my_func(*my_dict)` - 如果有named parameter 则被捕获，否则被attr 捕获\n",
    "\n",
    "可以理解成：\n",
    "- `*content`: 捕获多个positional parameters\n",
    "- `**attrs`: 捕获多个unnamed keyword parameters"
   ]
  },
  {
   "cell_type": "markdown",
   "metadata": {},
   "source": [
    "#### 使用一个* "
   ]
  },
  {
   "cell_type": "code",
   "execution_count": 28,
   "metadata": {},
   "outputs": [],
   "source": [
    "def f(a, *, b):\n",
    "    return a, b"
   ]
  },
  {
   "cell_type": "code",
   "execution_count": 30,
   "metadata": {},
   "outputs": [
    {
     "ename": "TypeError",
     "evalue": "f() takes 1 positional argument but 2 were given",
     "output_type": "error",
     "traceback": [
      "\u001b[0;31m---------------------------------------------------------------------------\u001b[0m",
      "\u001b[0;31mTypeError\u001b[0m                                 Traceback (most recent call last)",
      "\u001b[0;32m<ipython-input-30-c9c271413adf>\u001b[0m in \u001b[0;36m<module>\u001b[0;34m\u001b[0m\n\u001b[0;32m----> 1\u001b[0;31m \u001b[0mf\u001b[0m\u001b[0;34m(\u001b[0m\u001b[0;36m1\u001b[0m\u001b[0;34m,\u001b[0m \u001b[0;36m2\u001b[0m\u001b[0;34m)\u001b[0m\u001b[0;34m\u001b[0m\u001b[0;34m\u001b[0m\u001b[0m\n\u001b[0m",
      "\u001b[0;31mTypeError\u001b[0m: f() takes 1 positional argument but 2 were given"
     ]
    }
   ],
   "source": [
    "f(1, 2)"
   ]
  },
  {
   "cell_type": "code",
   "execution_count": 31,
   "metadata": {},
   "outputs": [
    {
     "data": {
      "text/plain": [
       "(1, 2)"
      ]
     },
     "execution_count": 31,
     "metadata": {},
     "output_type": "execute_result"
    }
   ],
   "source": [
    "f(1, b=2)"
   ]
  },
  {
   "cell_type": "code",
   "execution_count": 32,
   "metadata": {},
   "outputs": [
    {
     "ename": "TypeError",
     "evalue": "f() takes 1 positional argument but 2 positional arguments (and 1 keyword-only argument) were given",
     "output_type": "error",
     "traceback": [
      "\u001b[0;31m---------------------------------------------------------------------------\u001b[0m",
      "\u001b[0;31mTypeError\u001b[0m                                 Traceback (most recent call last)",
      "\u001b[0;32m<ipython-input-32-1b83477c542a>\u001b[0m in \u001b[0;36m<module>\u001b[0;34m\u001b[0m\n\u001b[0;32m----> 1\u001b[0;31m \u001b[0mf\u001b[0m\u001b[0;34m(\u001b[0m\u001b[0;36m1\u001b[0m\u001b[0;34m,\u001b[0m\u001b[0;36m2\u001b[0m\u001b[0;34m,\u001b[0m\u001b[0mb\u001b[0m\u001b[0;34m=\u001b[0m\u001b[0;36m3\u001b[0m\u001b[0;34m)\u001b[0m\u001b[0;34m\u001b[0m\u001b[0;34m\u001b[0m\u001b[0m\n\u001b[0m",
      "\u001b[0;31mTypeError\u001b[0m: f() takes 1 positional argument but 2 positional arguments (and 1 keyword-only argument) were given"
     ]
    }
   ],
   "source": [
    "f(1,2,b=3)"
   ]
  },
  {
   "cell_type": "markdown",
   "metadata": {},
   "source": [
    "## 8. Retrieving Information About Parameters\n",
    "\n",
    "Bobo is a light-weight framework for creating WSGI web applications."
   ]
  },
  {
   "cell_type": "code",
   "execution_count": 50,
   "metadata": {},
   "outputs": [],
   "source": [
    "def my_func(a, b=2, *c, d=3, **e):\n",
    "    local_var = 0\n",
    "    return a, b, c, d, e, local_var"
   ]
  },
  {
   "cell_type": "markdown",
   "metadata": {},
   "source": [
    "#### `__defaults__` positional and keyword arguments"
   ]
  },
  {
   "cell_type": "code",
   "execution_count": 51,
   "metadata": {},
   "outputs": [
    {
     "data": {
      "text/plain": [
       "(2,)"
      ]
     },
     "execution_count": 51,
     "metadata": {},
     "output_type": "execute_result"
    }
   ],
   "source": [
    "my_func.__defaults__"
   ]
  },
  {
   "cell_type": "markdown",
   "metadata": {},
   "source": [
    "#### `__kwdefaults__` keyword-only arguments\n"
   ]
  },
  {
   "cell_type": "code",
   "execution_count": 52,
   "metadata": {},
   "outputs": [
    {
     "data": {
      "text/plain": [
       "{'d': 3}"
      ]
     },
     "execution_count": 52,
     "metadata": {},
     "output_type": "execute_result"
    }
   ],
   "source": [
    "my_func.__kwdefaults__"
   ]
  },
  {
   "cell_type": "code",
   "execution_count": 53,
   "metadata": {},
   "outputs": [
    {
     "data": {
      "text/plain": [
       "<code object my_func at 0x10fabf8a0, file \"<ipython-input-50-82b0069dfb89>\", line 1>"
      ]
     },
     "execution_count": 53,
     "metadata": {},
     "output_type": "execute_result"
    }
   ],
   "source": [
    "my_func.__code__"
   ]
  },
  {
   "cell_type": "code",
   "execution_count": 54,
   "metadata": {},
   "outputs": [
    {
     "data": {
      "text/plain": [
       "('a', 'b', 'd', 'c', 'e', 'local_var')"
      ]
     },
     "execution_count": 54,
     "metadata": {},
     "output_type": "execute_result"
    }
   ],
   "source": [
    "my_func.__code__.co_varnames"
   ]
  },
  {
   "cell_type": "markdown",
   "metadata": {},
   "source": [
    "可以看出，同时保留了函数创建的本地变量`local_var`."
   ]
  },
  {
   "cell_type": "code",
   "execution_count": 55,
   "metadata": {},
   "outputs": [
    {
     "data": {
      "text/plain": [
       "2"
      ]
     },
     "execution_count": 55,
     "metadata": {},
     "output_type": "execute_result"
    }
   ],
   "source": [
    "my_func.__code__.co_argcount"
   ]
  },
  {
   "cell_type": "markdown",
   "metadata": {},
   "source": [
    "## 9. 函数注解(Function Annotations)\n"
   ]
  },
  {
   "cell_type": "code",
   "execution_count": 5,
   "metadata": {},
   "outputs": [],
   "source": [
    "def add_two_num(a, b=10):\n",
    "    return a+b"
   ]
  },
  {
   "cell_type": "code",
   "execution_count": 6,
   "metadata": {},
   "outputs": [
    {
     "data": {
      "text/plain": [
       "3"
      ]
     },
     "execution_count": 6,
     "metadata": {},
     "output_type": "execute_result"
    }
   ],
   "source": [
    "add_two_num(1,2)"
   ]
  },
  {
   "cell_type": "code",
   "execution_count": 7,
   "metadata": {},
   "outputs": [
    {
     "data": {
      "text/plain": [
       "11"
      ]
     },
     "execution_count": 7,
     "metadata": {},
     "output_type": "execute_result"
    }
   ],
   "source": [
    "add_two_num(1)"
   ]
  },
  {
   "cell_type": "markdown",
   "metadata": {},
   "source": [
    "下面我们为上述函数添加注释。\n",
    "- 每个参数可以在\":\"后添加注解表达式\n",
    "- 如果有默认值，直接表达式放在参数名和=之间\n",
    "- 直接返回值，在) 和: 直接加一个->\n",
    "\n",
    "注解表达式通常为：\n",
    "- 类（例如str，int 等）\n",
    "- 字符串（例如int >0 等）"
   ]
  },
  {
   "cell_type": "code",
   "execution_count": 9,
   "metadata": {},
   "outputs": [],
   "source": [
    "def another_add_two_num(a:int, b:int=10) -> int:\n",
    "    return a+b"
   ]
  },
  {
   "cell_type": "code",
   "execution_count": 10,
   "metadata": {},
   "outputs": [
    {
     "data": {
      "text/plain": [
       "3"
      ]
     },
     "execution_count": 10,
     "metadata": {},
     "output_type": "execute_result"
    }
   ],
   "source": [
    "another_add_two_num(1,2)"
   ]
  },
  {
   "cell_type": "code",
   "execution_count": 11,
   "metadata": {},
   "outputs": [
    {
     "data": {
      "text/plain": [
       "11"
      ]
     },
     "execution_count": 11,
     "metadata": {},
     "output_type": "execute_result"
    }
   ],
   "source": [
    "another_add_two_num(1)"
   ]
  },
  {
   "cell_type": "markdown",
   "metadata": {},
   "source": [
    "注解只是愿数据，编译器什么都不会做。annotation 不会做特殊处理，只会在函数的`__annotation__` 属性中。"
   ]
  },
  {
   "cell_type": "code",
   "execution_count": 12,
   "metadata": {},
   "outputs": [
    {
     "data": {
      "text/plain": [
       "{'a': int, 'b': int, 'return': int}"
      ]
     },
     "execution_count": 12,
     "metadata": {},
     "output_type": "execute_result"
    }
   ],
   "source": [
    "another_add_two_num.__annotations__"
   ]
  },
  {
   "cell_type": "code",
   "execution_count": 13,
   "metadata": {},
   "outputs": [
    {
     "data": {
      "text/plain": [
       "{}"
      ]
     },
     "execution_count": 13,
     "metadata": {},
     "output_type": "execute_result"
    }
   ],
   "source": [
    "add_two_num.__annotations__"
   ]
  },
  {
   "cell_type": "markdown",
   "metadata": {},
   "source": [
    "函数注解最大的用处在于，为IDE 等工具提供静态类型检查等额外信息。"
   ]
  },
  {
   "cell_type": "markdown",
   "metadata": {},
   "source": [
    "## 10. Packages for Functional Programming (支持函数式编程的包)\n",
    "\n",
    "### 10.1 Operator 模块"
   ]
  },
  {
   "cell_type": "code",
   "execution_count": 14,
   "metadata": {},
   "outputs": [],
   "source": [
    "from functools import reduce\n",
    "\n",
    "def fact(n):\n",
    "    return reduce(lambda a, b: a*b, range(1, n+1))"
   ]
  },
  {
   "cell_type": "code",
   "execution_count": 15,
   "metadata": {},
   "outputs": [
    {
     "data": {
      "text/plain": [
       "6"
      ]
     },
     "execution_count": 15,
     "metadata": {},
     "output_type": "execute_result"
    }
   ],
   "source": [
    "fact(3)"
   ]
  },
  {
   "cell_type": "code",
   "execution_count": 16,
   "metadata": {},
   "outputs": [],
   "source": [
    "from functools import reduce\n",
    "from operator import mul\n",
    "\n",
    "def fact(n):\n",
    "    return reduce(mul, range(1, n+1))"
   ]
  },
  {
   "cell_type": "code",
   "execution_count": 17,
   "metadata": {},
   "outputs": [
    {
     "data": {
      "text/plain": [
       "6"
      ]
     },
     "execution_count": 17,
     "metadata": {},
     "output_type": "execute_result"
    }
   ],
   "source": [
    "fact(3)"
   ]
  },
  {
   "cell_type": "markdown",
   "metadata": {},
   "source": [
    "## 11. Chapter Summary"
   ]
  },
  {
   "cell_type": "code",
   "execution_count": null,
   "metadata": {},
   "outputs": [],
   "source": []
  }
 ],
 "metadata": {
  "kernelspec": {
   "display_name": "Python 3",
   "language": "python",
   "name": "python3"
  },
  "language_info": {
   "codemirror_mode": {
    "name": "ipython",
    "version": 3
   },
   "file_extension": ".py",
   "mimetype": "text/x-python",
   "name": "python",
   "nbconvert_exporter": "python",
   "pygments_lexer": "ipython3",
   "version": "3.6.4"
  }
 },
 "nbformat": 4,
 "nbformat_minor": 2
}
