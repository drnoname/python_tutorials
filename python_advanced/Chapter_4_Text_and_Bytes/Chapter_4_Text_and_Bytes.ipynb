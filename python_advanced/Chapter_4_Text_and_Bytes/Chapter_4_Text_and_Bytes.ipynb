{
 "cells": [
  {
   "cell_type": "markdown",
   "metadata": {},
   "source": [
    "# Chapter 4: Text and Bytes\n",
    "\n",
    "Humans use text. Computers speak bytes.\n",
    "\n",
    "Python 3 introduced a sharp distinction between strings of human text and sequences of raw bytes (这也是一个和Python 2主要的不同).\n",
    "\n",
    "本章主要介绍：\n",
    "- unicode strings\n",
    "- binary sequences\n",
    "- encodings used to convert between them"
   ]
  },
  {
   "cell_type": "markdown",
   "metadata": {},
   "source": [
    "## 1. Character Issues\n",
    "\n",
    "a string is a sequence of characters. 那么问题来了：什么是character?\n",
    "\n",
    "Unicode: 区分**identity of characters** 和**specific byte representations**:\n",
    "- the identity of character - **code point**\n",
    "    - 一个U+4～6个16进制数：U+20AC (euro sign): \n",
    "    - About 10% of the valid code points have characters assigned to them\n",
    "    - unicode str 可以被看作\"human text\"\n",
    "\n",
    "- byte representation - **encoding**:\n",
    "    - an algorithm that converts code points to byte sequences and vice versa.\n",
    "    - Converting from code points to bytes is encoding. we **encode** str to bytes for storage or transmission\n",
    "    - converting from bytes to code points is decoding. we **decode** bytes to str to get human-readable text"
   ]
  },
  {
   "cell_type": "code",
   "execution_count": 1,
   "metadata": {},
   "outputs": [
    {
     "data": {
      "text/plain": [
       "4"
      ]
     },
     "execution_count": 1,
     "metadata": {},
     "output_type": "execute_result"
    }
   ],
   "source": [
    "s = 'café'\n",
    "len(s) # 4 unicode char"
   ]
  },
  {
   "cell_type": "code",
   "execution_count": 7,
   "metadata": {},
   "outputs": [
    {
     "data": {
      "text/plain": [
       "b'caf\\xc3\\xa9'"
      ]
     },
     "execution_count": 7,
     "metadata": {},
     "output_type": "execute_result"
    }
   ],
   "source": [
    "b = s.encode('utf8')  # Encoder using UTF-8\n",
    "b"
   ]
  },
  {
   "cell_type": "code",
   "execution_count": 8,
   "metadata": {},
   "outputs": [
    {
     "data": {
      "text/plain": [
       "5"
      ]
     },
     "execution_count": 8,
     "metadata": {},
     "output_type": "execute_result"
    }
   ],
   "source": [
    "len(b)  # é 在unicode 中是1个character，在utf-8 中是两个characters，因此长度为5."
   ]
  },
  {
   "cell_type": "code",
   "execution_count": 9,
   "metadata": {},
   "outputs": [
    {
     "data": {
      "text/plain": [
       "'café'"
      ]
     },
     "execution_count": 9,
     "metadata": {},
     "output_type": "execute_result"
    }
   ],
   "source": [
    "b.decode('utf8')  # decode utf-8 bytes to str using UTF-8"
   ]
  },
  {
   "cell_type": "markdown",
   "metadata": {},
   "source": [
    "#### how to print the code points?"
   ]
  },
  {
   "cell_type": "markdown",
   "metadata": {},
   "source": [
    "## 2. Byte Essentials\n",
    "\n",
    "上面我们介绍了，将一个code point 转换为byte(s) 的过程称为编码(encoding).下面我们介绍byte.\n",
    "\n",
    "Python 3 有两个basic built-in types for **binary sequences**:\n",
    "- immutable **bytes**\n",
    "- mutable **bytearray**\n",
    "\n",
    "Each item in **bytes** or **bytearray** is an integer from 0 to 255.\n",
    "\n",
    "a slice of a binary sequence always produces a binary sequence of the same type. 这一点和列表很像。例如，列表的元素是integer，带式列表的slice 还是一个列表，即使这个slice 只有一个元素。"
   ]
  },
  {
   "cell_type": "code",
   "execution_count": 10,
   "metadata": {},
   "outputs": [
    {
     "data": {
      "text/plain": [
       "b'caf\\xc3\\xa9'"
      ]
     },
     "execution_count": 10,
     "metadata": {},
     "output_type": "execute_result"
    }
   ],
   "source": [
    "cafe = bytes('café', encoding='utf_8')  # 通过str 构建byte，需要指明encoding\n",
    "cafe"
   ]
  },
  {
   "cell_type": "code",
   "execution_count": 11,
   "metadata": {},
   "outputs": [
    {
     "data": {
      "text/plain": [
       "5"
      ]
     },
     "execution_count": 11,
     "metadata": {},
     "output_type": "execute_result"
    }
   ],
   "source": [
    "len(cafe)  # 5个items"
   ]
  },
  {
   "cell_type": "code",
   "execution_count": 12,
   "metadata": {},
   "outputs": [
    {
     "name": "stdout",
     "output_type": "stream",
     "text": [
      "99\n",
      "97\n",
      "102\n",
      "195\n",
      "169\n"
     ]
    }
   ],
   "source": [
    "for c in cafe:  # 每个item 是一个0～255 的数字\n",
    "    print(c)"
   ]
  },
  {
   "cell_type": "code",
   "execution_count": 13,
   "metadata": {},
   "outputs": [
    {
     "data": {
      "text/plain": [
       "99"
      ]
     },
     "execution_count": 13,
     "metadata": {},
     "output_type": "execute_result"
    }
   ],
   "source": [
    "cafe[0]  # retrieves an int"
   ]
  },
  {
   "cell_type": "code",
   "execution_count": 14,
   "metadata": {},
   "outputs": [
    {
     "data": {
      "text/plain": [
       "b'c'"
      ]
     },
     "execution_count": 14,
     "metadata": {},
     "output_type": "execute_result"
    }
   ],
   "source": [
    "cafe[:1]  # Slices of bytes are also bytes — even slices of a single byte.\n"
   ]
  },
  {
   "cell_type": "code",
   "execution_count": 15,
   "metadata": {},
   "outputs": [
    {
     "data": {
      "text/plain": [
       "True"
      ]
     },
     "execution_count": 15,
     "metadata": {},
     "output_type": "execute_result"
    }
   ],
   "source": [
    "cafe[:1] == cafe[:1]  # 相同"
   ]
  },
  {
   "cell_type": "code",
   "execution_count": 16,
   "metadata": {},
   "outputs": [
    {
     "data": {
      "text/plain": [
       "bytearray(b'caf\\xc3\\xa9')"
      ]
     },
     "execution_count": 16,
     "metadata": {},
     "output_type": "execute_result"
    }
   ],
   "source": [
    "cafe_arr = bytearray(cafe)  # There is no literal syntax for bytearray\n",
    "cafe_arr"
   ]
  },
  {
   "cell_type": "markdown",
   "metadata": {},
   "source": [
    "#### what is a literal syntax?"
   ]
  },
  {
   "cell_type": "code",
   "execution_count": 17,
   "metadata": {},
   "outputs": [
    {
     "data": {
      "text/plain": [
       "bytearray(b'\\xa9')"
      ]
     },
     "execution_count": 17,
     "metadata": {},
     "output_type": "execute_result"
    }
   ],
   "source": [
    "bytearray(b'caf\\xc3\\xa9')  # bytearray 的slice 还是bytearray\n",
    "cafe_arr[-1:]"
   ]
  },
  {
   "cell_type": "markdown",
   "metadata": {},
   "source": [
    "从上面的例子可以看出，一个byte 其实是一个整数序列，但是我们显示的时候，并没有直接显示整数。对于一个byte，有三种展示方法：\n",
    "1. printable ASCII range (从空格到～): 直接显示ASCII character\n",
    "2. tab，newline，carriage return \\: use escape \\t, \\r, \\n, \\\\\n",
    "3. 其他: 16进制转义字符"
   ]
  },
  {
   "cell_type": "markdown",
   "metadata": {},
   "source": [
    "Bytes 支持str 绝大多数的方法：\n",
    "- 除了 casefold, isdecimal, isidentifier, isnumeric, isprintable\n",
    "- 可以使用 endswith, replace, strip, translate, upper, 除此以外，还可以使用re\n",
    "\n",
    "除此以外，binary sequence 多一个str 不支持的方法：\n",
    "- fromhex"
   ]
  },
  {
   "cell_type": "code",
   "execution_count": 23,
   "metadata": {},
   "outputs": [
    {
     "data": {
      "text/plain": [
       "b'1K\\xce\\xa9'"
      ]
     },
     "execution_count": 23,
     "metadata": {},
     "output_type": "execute_result"
    }
   ],
   "source": [
    "bytes.fromhex('31 4B CE A9')"
   ]
  },
  {
   "cell_type": "markdown",
   "metadata": {},
   "source": [
    "除此以外，还可以通过调用constructors 来构建一个bytes 或者bytearray."
   ]
  },
  {
   "cell_type": "code",
   "execution_count": 18,
   "metadata": {},
   "outputs": [
    {
     "name": "stdout",
     "output_type": "stream",
     "text": [
      "b'\\xfe\\xff\\xff\\xff\\x00\\x00\\x01\\x00\\x02\\x00'\n"
     ]
    }
   ],
   "source": [
    "import array\n",
    "\n",
    "numbers = array.array('h', [-2, -1, 0, 1, 2])  # Typecode 'h' creates an array of short integers (16 bits).\n",
    "octets = bytes(numbers)\n",
    "print(octets)  # These are the 10 bytes that represent the five short integers\n"
   ]
  },
  {
   "cell_type": "markdown",
   "metadata": {},
   "source": [
    "Creating a bytes or bytearray object from any buffer-like source will always **copy** the bytes. In contrast, memoryview objects let you **share** memory between binary data structures."
   ]
  },
  {
   "cell_type": "markdown",
   "metadata": {},
   "source": [
    "### 2.1 Memory view class: \n",
    "https://docs.python.org/3/library/stdtypes.html#memory-views\n",
    "\n",
    "Memoryview provides shared memory access to slices of data from\n",
    "other binary sequences, packed arrays, and buffers.\n",
    "\n",
    "The great thing about it is that it uses the **buffer protocol** beneath the covers to avoid copies and just juggle pointers to data. \n",
    "\n"
   ]
  },
  {
   "cell_type": "code",
   "execution_count": 43,
   "metadata": {},
   "outputs": [
    {
     "name": "stdout",
     "output_type": "stream",
     "text": [
      "Before update: bytearray(b'XYZ')\n",
      "<memory at 0x104d8d7c8>\n",
      "Memory view: b'XYJ'\n",
      "After update: bytearray(b'XYJ')\n"
     ]
    }
   ],
   "source": [
    "byte_array = bytearray('XYZ', 'utf-8') \n",
    "print('Before update:', byte_array) \n",
    "  \n",
    "mem_view = memoryview(byte_array) \n",
    "print(mem_view)\n",
    "\n",
    "# update 2nd index of mem_view to J  \n",
    "mem_view[2]= 74\n",
    "print('Memory view:', bytes(mem_view)) \n",
    "print('After update:', byte_array) "
   ]
  },
  {
   "cell_type": "markdown",
   "metadata": {},
   "source": [
    "从上面的例子可以看出，mem_view 和byte_array 两个变量其实是共享了一个内存。当我们修改mem_view 时，byte_array 同时也会被修改。\n",
    "\n",
    "当我们尝试打印一个memory_view 的时候，我们可以到打印的是一个内存的地址。\n",
    "\n",
    "但是，这个特性对于普通的array reference 赋值也可以实现。"
   ]
  },
  {
   "cell_type": "code",
   "execution_count": 26,
   "metadata": {},
   "outputs": [
    {
     "data": {
      "text/plain": [
       "['X', 'Y', 'Z']"
      ]
     },
     "execution_count": 26,
     "metadata": {},
     "output_type": "execute_result"
    }
   ],
   "source": [
    "char_lst1 = list('XYZ')\n",
    "char_lst1"
   ]
  },
  {
   "cell_type": "code",
   "execution_count": 27,
   "metadata": {},
   "outputs": [
    {
     "name": "stdout",
     "output_type": "stream",
     "text": [
      "char_lst1:  ['X', 'Y', 'W']\n",
      "char_lst2:  ['X', 'Y', 'W']\n"
     ]
    }
   ],
   "source": [
    "char_lst2 = char_lst1\n",
    "char_lst2[-1] = 'W'\n",
    "\n",
    "print('char_lst1: ', char_lst1)\n",
    "print('char_lst2: ', char_lst2)"
   ]
  },
  {
   "cell_type": "markdown",
   "metadata": {},
   "source": [
    "Memory View 真正的价值在于，每次创建一个slice 的时候不需要重新copy 数据。看下面这个例子："
   ]
  },
  {
   "cell_type": "code",
   "execution_count": 30,
   "metadata": {},
   "outputs": [
    {
     "name": "stdout",
     "output_type": "stream",
     "text": [
      "4377569928 ['Y', 'W']\n",
      "4377570376 ['Y', 'W']\n"
     ]
    }
   ],
   "source": [
    "char_slice1 = char_lst1[1:]\n",
    "char_slice2 = char_lst1[1:]\n",
    "\n",
    "print(id(char_slice1), char_slice1)\n",
    "print(id(char_slice2), char_slice2)"
   ]
  },
  {
   "cell_type": "code",
   "execution_count": 31,
   "metadata": {},
   "outputs": [
    {
     "name": "stdout",
     "output_type": "stream",
     "text": [
      "4377569928 ['Z', 'W']\n",
      "4377570376 ['Y', 'W']\n"
     ]
    }
   ],
   "source": [
    "char_slice1[0] = 'Z'\n",
    "\n",
    "print(id(char_slice1), char_slice1)\n",
    "print(id(char_slice2), char_slice2)"
   ]
  },
  {
   "cell_type": "markdown",
   "metadata": {},
   "source": [
    "我们首先创建两个相同的slice，然后修改其中一个，我们可以看出，另一个没有被修改。即当我们创建一个slice 的时候，实际上是对slice 的数据进行copy，然后创建一个新的list 变量。这在处理大型数据库的时候很慢。\n",
    "\n",
    "下面我们看看memory view 是怎样处理的。\n"
   ]
  },
  {
   "cell_type": "code",
   "execution_count": 41,
   "metadata": {},
   "outputs": [
    {
     "name": "stdout",
     "output_type": "stream",
     "text": [
      "4376287368 <memory at 0x104d8d888> b'YJ'\n",
      "4376287560 <memory at 0x104d8d948> b'YJ'\n"
     ]
    }
   ],
   "source": [
    "byte_arr_slice1 = mem_view[1:]\n",
    "byte_arr_slice2 = mem_view[1:]\n",
    "\n",
    "print(id(byte_arr_slice1), byte_arr_slice1, bytes(byte_arr_slice1))\n",
    "print(id(byte_arr_slice2), byte_arr_slice2, bytes(byte_arr_slice2))"
   ]
  },
  {
   "cell_type": "code",
   "execution_count": 42,
   "metadata": {},
   "outputs": [
    {
     "name": "stdout",
     "output_type": "stream",
     "text": [
      "4376287368 <memory at 0x104d8d888> b'Yd'\n",
      "4376287560 <memory at 0x104d8d948> b'Yd'\n",
      "b'XYd'\n"
     ]
    }
   ],
   "source": [
    "byte_arr_slice1[1] = 100\n",
    "\n",
    "print(id(byte_arr_slice1), byte_arr_slice1, bytes(byte_arr_slice1))\n",
    "print(id(byte_arr_slice2), byte_arr_slice2, bytes(byte_arr_slice2))\n",
    "print(bytes(mem_view))"
   ]
  },
  {
   "cell_type": "markdown",
   "metadata": {},
   "source": [
    "⚠️ 我们可以看出，memory view 实际上没有copy，而是直接指向内存的地址，所以修改了一个变量，我们可以看出，其他变量也修改了，因为他们指向同一个内存地址。"
   ]
  },
  {
   "cell_type": "markdown",
   "metadata": {},
   "source": [
    "下面，我们来看在处理一个较大的数据集时，使用mem_view 可以提升性能。\n",
    "It can yield large performance gains when operating on large objects since it doesn’t create a copy when slicing."
   ]
  },
  {
   "cell_type": "code",
   "execution_count": 25,
   "metadata": {},
   "outputs": [
    {
     "name": "stdout",
     "output_type": "stream",
     "text": [
      "bytes 100000 0.27358317375183105\n",
      "bytes 200000 1.2130539417266846\n",
      "bytes 300000 2.9604148864746094\n",
      "bytes 400000 5.418951034545898\n",
      "memoryview 100000 0.01489877700805664\n",
      "memoryview 200000 0.02967095375061035\n",
      "memoryview 300000 0.04642605781555176\n",
      "memoryview 400000 0.059120893478393555\n"
     ]
    }
   ],
   "source": [
    "import time\n",
    "for n in (100000, 200000, 300000, 400000):\n",
    "    data = bytes('x'*n, encoding='utf_8')\n",
    "    start = time.time()\n",
    "    b = data\n",
    "    while b:\n",
    "        b = b[1:]  # repeat slicing\n",
    "    print ('bytes', n, time.time()-start)\n",
    "\n",
    "for n in (100000, 200000, 300000, 400000):\n",
    "    data = bytes('x'*n, encoding='utf_8')\n",
    "    start = time.time()\n",
    "    b = memoryview(data)\n",
    "    while b:\n",
    "        b = b[1:]  # repeat slicing\n",
    "    print ('memoryview', n, time.time()-start)\n",
    "    "
   ]
  },
  {
   "cell_type": "markdown",
   "metadata": {},
   "source": [
    "You can clearly see quadratic complexity of the repeated string slicing. By using memory view, the complexity is reduced to linear."
   ]
  },
  {
   "cell_type": "markdown",
   "metadata": {},
   "source": [
    "### 2.2 Structs and Memory Views\n",
    "https://docs.python.org/3/library/struct.html\n",
    "\n",
    "#### Struct module:\n",
    "to extract structured information from binary sequences\n",
    "\n",
    "The struct module provides functions to parse packed bytes into a tuple of fields of different types and to perform the opposite conversion, from a tuple into packed bytes.\n",
    "\n",
    "struct is used with bytes, bytearray, and **memoryview** objects."
   ]
  },
  {
   "cell_type": "code",
   "execution_count": 46,
   "metadata": {},
   "outputs": [
    {
     "data": {
      "text/plain": [
       "(b'GIF', b'89a', 555, 230)"
      ]
     },
     "execution_count": 46,
     "metadata": {},
     "output_type": "execute_result"
    }
   ],
   "source": [
    "import struct\n",
    "\n",
    "header = b'GIF89a+\\x02\\xe6\\x00'  # 10字节\n",
    "\n",
    "\"\"\"\n",
    "结构体格式：\n",
    "    - <: 小写字节序\n",
    "    - 3s3s: 3字节序列\n",
    "    - HH: 两个16进制整数\n",
    "\"\"\"\n",
    "\n",
    "fmt = '<3s3sHH'\n",
    "\n",
    "struct.unpack(fmt, header)"
   ]
  },
  {
   "cell_type": "markdown",
   "metadata": {},
   "source": [
    "⚠️ 如果你需要频繁的读取和修改binary file，参见mmap (Memory Mapped File Support)."
   ]
  },
  {
   "cell_type": "markdown",
   "metadata": {},
   "source": [
    "## 3. Basic Encoders / Decoders"
   ]
  },
  {
   "cell_type": "code",
   "execution_count": null,
   "metadata": {},
   "outputs": [],
   "source": []
  },
  {
   "cell_type": "code",
   "execution_count": null,
   "metadata": {},
   "outputs": [],
   "source": []
  },
  {
   "cell_type": "code",
   "execution_count": null,
   "metadata": {},
   "outputs": [],
   "source": []
  },
  {
   "cell_type": "code",
   "execution_count": null,
   "metadata": {},
   "outputs": [],
   "source": []
  },
  {
   "cell_type": "code",
   "execution_count": null,
   "metadata": {},
   "outputs": [],
   "source": []
  },
  {
   "cell_type": "code",
   "execution_count": null,
   "metadata": {},
   "outputs": [],
   "source": []
  },
  {
   "cell_type": "code",
   "execution_count": null,
   "metadata": {},
   "outputs": [],
   "source": []
  },
  {
   "cell_type": "markdown",
   "metadata": {},
   "source": [
    "## 4. Understanding Encoder / Decoder Problems"
   ]
  },
  {
   "cell_type": "markdown",
   "metadata": {},
   "source": [
    "## 5. handling Text Files"
   ]
  },
  {
   "cell_type": "markdown",
   "metadata": {},
   "source": [
    "## 6. Normalizing Unicode for Saner Comparisons"
   ]
  },
  {
   "cell_type": "markdown",
   "metadata": {},
   "source": [
    "## 7. Sorting Unicode Text"
   ]
  },
  {
   "cell_type": "markdown",
   "metadata": {},
   "source": [
    "## 8. The Unicode Database"
   ]
  },
  {
   "cell_type": "markdown",
   "metadata": {},
   "source": [
    "## 9. Dual-Mode str and bytes APIs"
   ]
  },
  {
   "cell_type": "markdown",
   "metadata": {},
   "source": [
    "## 10. Chapter Summary"
   ]
  },
  {
   "cell_type": "code",
   "execution_count": null,
   "metadata": {},
   "outputs": [],
   "source": []
  }
 ],
 "metadata": {
  "kernelspec": {
   "display_name": "Python 3",
   "language": "python",
   "name": "python3"
  },
  "language_info": {
   "codemirror_mode": {
    "name": "ipython",
    "version": 3
   },
   "file_extension": ".py",
   "mimetype": "text/x-python",
   "name": "python",
   "nbconvert_exporter": "python",
   "pygments_lexer": "ipython3",
   "version": "3.6.4"
  }
 },
 "nbformat": 4,
 "nbformat_minor": 2
}
