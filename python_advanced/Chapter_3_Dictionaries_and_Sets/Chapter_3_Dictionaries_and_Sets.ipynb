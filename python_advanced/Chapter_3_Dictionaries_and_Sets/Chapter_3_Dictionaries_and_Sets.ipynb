{
 "cells": [
  {
   "cell_type": "markdown",
   "metadata": {},
   "source": [
    "# Chapter 3: Dictionaries and Sets\n",
    "\n",
    "Dict 在python 中使用很广，因此highly optimized. \n",
    "\n",
    "set 和dict 同样，都是基于hash table 实现的。"
   ]
  },
  {
   "cell_type": "markdown",
   "metadata": {},
   "source": [
    "## 1. Generic Mapping Types\n",
    "\n",
    "字典本质上是一个mapping. \n",
    "\n",
    "<img src=\"figures/mapping_uml.png\" width=\"600\"/>\n",
    "\n",
    "\n",
    "\n",
    "创建自己的mapping 类，通常是继承`dict`和`collections.UserDict`类，而不是上面的这些基类。\n",
    "\n",
    "上面这些基类主要的作用是：\n",
    "- 标准化接口\n",
    "- isinstance test"
   ]
  },
  {
   "cell_type": "code",
   "execution_count": 3,
   "metadata": {},
   "outputs": [
    {
     "data": {
      "text/plain": [
       "True"
      ]
     },
     "execution_count": 3,
     "metadata": {},
     "output_type": "execute_result"
    }
   ],
   "source": [
    "from collections import abc\n",
    "\n",
    "my_dict = {}\n",
    "isinstance(my_dict, abc.Mapping)"
   ]
  },
  {
   "cell_type": "markdown",
   "metadata": {},
   "source": [
    "### Hashable keys\n",
    "\n",
    "所有dict 的key 必须是**hashable**的.\n",
    "\n",
    "#### Hashable data type:\n",
    "\n",
    "- 所有primitive type 都是hashable 的\n",
    "    - str\n",
    "    - bytes\n",
    "    - numeric values\n",
    "- frozen set\n",
    "- tuple -- only if all elements are hashable\n",
    "    - `('a'. [1,2])` is not hashable \n",
    "- user-defined types - 返回id()\n",
    "    - 因此所有对象都不是equal\n",
    "    - 实现`__eq__`方法来基于内容判断\n"
   ]
  },
  {
   "cell_type": "markdown",
   "metadata": {},
   "source": [
    "## 2. Dict Comprehension\n"
   ]
  },
  {
   "cell_type": "markdown",
   "metadata": {},
   "source": [
    "#### 初始化dict\n",
    "\n",
    "\n",
    "以下几种构建dict 的方法是等效的。"
   ]
  },
  {
   "cell_type": "code",
   "execution_count": 4,
   "metadata": {},
   "outputs": [
    {
     "data": {
      "text/plain": [
       "True"
      ]
     },
     "execution_count": 4,
     "metadata": {},
     "output_type": "execute_result"
    }
   ],
   "source": [
    "a = dict(one=1, two=2, three=3)\n",
    "b = {'one': 1, 'two': 2, 'three': 3}\n",
    "c = dict(zip(['one', 'two', 'three'], [1, 2, 3]))\n",
    "d = dict([('two', 2), ('one', 1), ('three', 3)])\n",
    "e = dict({'three': 3, 'one': 1, 'two': 2})\n",
    "a == b == c == d == e"
   ]
  },
  {
   "cell_type": "markdown",
   "metadata": {},
   "source": [
    "除了上述的方法，与list 相同，我们还可以使用dict comprehensions 来构建dictionaries. A dictcomp builds a\n",
    "dict instance by producing key:value pair from any iterable."
   ]
  },
  {
   "cell_type": "code",
   "execution_count": 13,
   "metadata": {},
   "outputs": [],
   "source": [
    "# list of tuples --- iterable that can be used for dict comprehension\n",
    "\n",
    "\n",
    "DIAL_CODES = [\n",
    "    (86, 'China'),\n",
    "    (91, 'India'),\n",
    "    (1, 'United States'),\n",
    "    (62, 'Indonesia'),\n",
    "    (55, 'Brazil'),\n",
    "    (92, 'Pakistan'),\n",
    "    (880, 'Bangladesh'),\n",
    "    (234, 'Nigeria'),\n",
    "    (7, 'Russia'),\n",
    "    (81, 'Japan')\n",
    "    ]"
   ]
  },
  {
   "cell_type": "code",
   "execution_count": 14,
   "metadata": {},
   "outputs": [
    {
     "data": {
      "text/plain": [
       "{'Bangladesh': 880,\n",
       " 'Brazil': 55,\n",
       " 'China': 86,\n",
       " 'India': 91,\n",
       " 'Indonesia': 62,\n",
       " 'Japan': 81,\n",
       " 'Nigeria': 234,\n",
       " 'Pakistan': 92,\n",
       " 'Russia': 7,\n",
       " 'United States': 1}"
      ]
     },
     "execution_count": 14,
     "metadata": {},
     "output_type": "execute_result"
    }
   ],
   "source": [
    "country_code = {country: code for code, country in DIAL_CODES}\n",
    "country_code"
   ]
  },
  {
   "cell_type": "code",
   "execution_count": 16,
   "metadata": {},
   "outputs": [
    {
     "data": {
      "text/plain": [
       "{81: 'JAPAN',\n",
       " 86: 'CHINA',\n",
       " 91: 'INDIA',\n",
       " 92: 'PAKISTAN',\n",
       " 234: 'NIGERIA',\n",
       " 880: 'BANGLADESH'}"
      ]
     },
     "execution_count": 16,
     "metadata": {},
     "output_type": "execute_result"
    }
   ],
   "source": [
    "# 显示代码大于66的国家\n",
    "\n",
    "country_code2 = {code: country.upper() for country, code in country_code.items() if code > 66}\n",
    "country_code2"
   ]
  },
  {
   "cell_type": "markdown",
   "metadata": {},
   "source": [
    "## 3. Overview of Common Mapping Methods\n",
    "\n",
    "The basic API for mappings is quite rich. 我们通常使用的三个dict 类：`dict`, `defaultdict` and `OrderedDict` (后面两个数据类型位于collections模块内).\n",
    "\n",
    "<img src=\"figures/mapping_apis.png\" width=\"500\"/>"
   ]
  },
  {
   "cell_type": "markdown",
   "metadata": {},
   "source": [
    "### 3.1 Handling Missing Keys with `setdefault`\n",
    "\n",
    "当我们使用`d[k]`来查询字典d中键值为k的值的时候，当k不存在的时候，会得到一个KeyError. \n",
    "通常的一个解决方法是，`d.get(k, default)` 来返回一个default值。\n",
    "\n",
    "这个方法的一个问题是，当我们更新一个value 的时候，很低效。请参照下面这个例子。"
   ]
  },
  {
   "cell_type": "code",
   "execution_count": 18,
   "metadata": {},
   "outputs": [
    {
     "name": "stdout",
     "output_type": "stream",
     "text": [
      "line number:  1\n",
      "line:  Get the list of occurrences for word, or [] if not found.\n",
      "\n",
      "line number:  2\n",
      "line:  Append new location to occurrences.\n",
      "\n",
      "line number:  3\n",
      "line:  Put changed occurrences into index dict; this entails a second search through the index.\n",
      "\n",
      "line number:  4\n",
      "line:  In the key= argument of sorted I am not calling str.upper, just passing a reference to that method so the sorted function can use it to normalize the words for sorting\n",
      "\n",
      "=====Word index:===== \n",
      "a [(3, 55), (4, 73)]\n",
      "am [(4, 34)]\n",
      "Append [(2, 1)]\n",
      "argument [(4, 13)]\n",
      "calling [(4, 41)]\n",
      "can [(4, 123)]\n",
      "changed [(3, 5)]\n",
      "dict [(3, 36)]\n",
      "entails [(3, 47)]\n",
      "for [(1, 29), (4, 157)]\n",
      "found [(1, 52)]\n",
      "function [(4, 114)]\n",
      "Get [(1, 1)]\n",
      "I [(4, 32)]\n",
      "if [(1, 45)]\n",
      "In [(4, 1)]\n",
      "index [(3, 30), (3, 83)]\n",
      "into [(3, 25)]\n",
      "it [(4, 131)]\n",
      "just [(4, 60)]\n",
      "key [(4, 8)]\n",
      "list [(1, 9)]\n",
      "location [(2, 12)]\n",
      "method [(4, 93)]\n",
      "new [(2, 8)]\n",
      "normalize [(4, 137)]\n",
      "not [(1, 48), (4, 37)]\n",
      "occurrences [(1, 17), (2, 24), (3, 13)]\n",
      "of [(1, 14), (4, 22)]\n",
      "or [(1, 39)]\n",
      "passing [(4, 65)]\n",
      "Put [(3, 1)]\n",
      "reference [(4, 75)]\n",
      "search [(3, 64)]\n",
      "second [(3, 57)]\n",
      "so [(4, 100)]\n",
      "sorted [(4, 25), (4, 107)]\n",
      "sorting [(4, 161)]\n",
      "str [(4, 49)]\n",
      "that [(4, 88)]\n",
      "the [(1, 5), (3, 79), (4, 4), (4, 103), (4, 147)]\n",
      "this [(3, 42)]\n",
      "through [(3, 71)]\n",
      "to [(2, 21), (4, 85), (4, 134)]\n",
      "upper [(4, 53)]\n",
      "use [(4, 127)]\n",
      "word [(1, 33)]\n",
      "words [(4, 151)]\n"
     ]
    }
   ],
   "source": [
    "import sys\n",
    "import re\n",
    "\n",
    "WORD_RE = re.compile(r'\\w+')\n",
    "file_name = 'test.txt'\n",
    "\n",
    "\n",
    "index = {}\n",
    "with open(file_name, encoding='utf-8') as fp:\n",
    "    for line_no, line in enumerate(fp, 1):\n",
    "        print('line number: ', line_no)\n",
    "        print('line: ', line)\n",
    "\n",
    "        for match in WORD_RE.finditer(line):\n",
    "            word = match.group()\n",
    "            column_no = match.start()+1\n",
    "            location = (line_no, column_no)  # 字典中每一个value 是一个tuple，表明这个词出现的行号和列号\n",
    "            # this is ugly; coded like this to make a point\n",
    "            \"\"\"\n",
    "            第一次查找\n",
    "            \"\"\"\n",
    "            occurrences = index.get(word, [])  # get the list of occurrences for word, 如果没有找到，返回一个空数组[]\n",
    "            occurrences.append(location)       # 把当前单词的位置加入到上面的数组中\n",
    "            \"\"\"\n",
    "            第二次超着：put 操作，相当于还要search 一次，即：找到-更新\n",
    "            \"\"\"\n",
    "            index[word] = occurrences          # 更新更改了之后的accurance -- 因为可能之前没有现在有了，所以必须有更新的步骤\n",
    "\n",
    "# print in alphabetical order\n",
    "print(\"\\n=====Word index:===== \")\n",
    "for word in sorted(index, key=str.upper):  # <4>\n",
    "    print(word, index[word])"
   ]
  },
  {
   "cell_type": "markdown",
   "metadata": {},
   "source": [
    "从上面可以看出，对于需要更新的场景，我们需要对字典进行两次查询，第一次查询出value，更新好之后，put 方法还要再查找一次。下面我们介绍如何使用setdefault方法来更优雅的解决这个问题。"
   ]
  },
  {
   "cell_type": "code",
   "execution_count": 19,
   "metadata": {},
   "outputs": [
    {
     "name": "stdout",
     "output_type": "stream",
     "text": [
      "line number:  1\n",
      "line:  Get the list of occurrences for word, or [] if not found.\n",
      "\n",
      "line number:  2\n",
      "line:  Append new location to occurrences.\n",
      "\n",
      "line number:  3\n",
      "line:  Put changed occurrences into index dict; this entails a second search through the index.\n",
      "\n",
      "line number:  4\n",
      "line:  In the key= argument of sorted I am not calling str.upper, just passing a reference to that method so the sorted function can use it to normalize the words for sorting\n",
      "\n",
      "=====Word index:===== \n",
      "a [(3, 55), (4, 73)]\n",
      "am [(4, 34)]\n",
      "Append [(2, 1)]\n",
      "argument [(4, 13)]\n",
      "calling [(4, 41)]\n",
      "can [(4, 123)]\n",
      "changed [(3, 5)]\n",
      "dict [(3, 36)]\n",
      "entails [(3, 47)]\n",
      "for [(1, 29), (4, 157)]\n",
      "found [(1, 52)]\n",
      "function [(4, 114)]\n",
      "Get [(1, 1)]\n",
      "I [(4, 32)]\n",
      "if [(1, 45)]\n",
      "In [(4, 1)]\n",
      "index [(3, 30), (3, 83)]\n",
      "into [(3, 25)]\n",
      "it [(4, 131)]\n",
      "just [(4, 60)]\n",
      "key [(4, 8)]\n",
      "list [(1, 9)]\n",
      "location [(2, 12)]\n",
      "method [(4, 93)]\n",
      "new [(2, 8)]\n",
      "normalize [(4, 137)]\n",
      "not [(1, 48), (4, 37)]\n",
      "occurrences [(1, 17), (2, 24), (3, 13)]\n",
      "of [(1, 14), (4, 22)]\n",
      "or [(1, 39)]\n",
      "passing [(4, 65)]\n",
      "Put [(3, 1)]\n",
      "reference [(4, 75)]\n",
      "search [(3, 64)]\n",
      "second [(3, 57)]\n",
      "so [(4, 100)]\n",
      "sorted [(4, 25), (4, 107)]\n",
      "sorting [(4, 161)]\n",
      "str [(4, 49)]\n",
      "that [(4, 88)]\n",
      "the [(1, 5), (3, 79), (4, 4), (4, 103), (4, 147)]\n",
      "this [(3, 42)]\n",
      "through [(3, 71)]\n",
      "to [(2, 21), (4, 85), (4, 134)]\n",
      "upper [(4, 53)]\n",
      "use [(4, 127)]\n",
      "word [(1, 33)]\n",
      "words [(4, 151)]\n"
     ]
    }
   ],
   "source": [
    "import sys\n",
    "import re\n",
    "\n",
    "WORD_RE = re.compile(r'\\w+')\n",
    "file_name = 'test.txt'\n",
    "\n",
    "index = {}\n",
    "with open(file_name, encoding='utf-8') as fp:\n",
    "    for line_no, line in enumerate(fp, 1):\n",
    "        print('line number: ', line_no)\n",
    "        print('line: ', line)\n",
    "\n",
    "        for match in WORD_RE.finditer(line):\n",
    "            word = match.group()\n",
    "            column_no = match.start()+1\n",
    "            location = (line_no, column_no)  # 字典中每一个value 是一个tuple，表明这个词出现的行号和列号\n",
    "            # this is ugly; coded like this to make a point\n",
    "            \"\"\"\n",
    "            下面三行代码可以用setdefault 替换\n",
    "            it can be updated without requiring a second search\n",
    "            \"\"\"\n",
    "#             occurrences = index.get(word, [])  # get the list of occurrences for word, 如果没有找到，返回一个空数组[]\n",
    "#             occurrences.append(location)       # 把当前单词的位置加入到上面的数组中\n",
    "#             index[word] = occurrences          # 更新更改了之后的accurance -- 因为可能之前没有现在有了，所以必须有更新的步骤\n",
    "            index.setdefault(word, []).append(location)\n",
    "    \n",
    "# print in alphabetical order\n",
    "print(\"\\n=====Word index:===== \")\n",
    "for word in sorted(index, key=str.upper):  # <4>\n",
    "    print(word, index[word])"
   ]
  },
  {
   "cell_type": "markdown",
   "metadata": {},
   "source": [
    "```python\n",
    "index.setdefault(word, []).append(location)\n",
    "```\n",
    "\n",
    "等同于\n",
    "\n",
    "```python\n",
    "if key not in my_dict:\n",
    "    my_dict[key] = []\n",
    "    my_dict[key].append(new_value)\n",
    "```\n",
    "\n",
    "只是下面这段代码要找两次，如果key 不存在，要找三次。而上面的一行代码只要找一次。\n",
    "\n",
    "上面主要是在insert 的时候key 不存在的场景，下面我们介绍一下missing keys on any lookup."
   ]
  },
  {
   "cell_type": "markdown",
   "metadata": {},
   "source": [
    "## 4. Mapping with Flexible Key Lookup\n",
    "\n",
    "当搜索一个不存在的key 的时候，通常的一个做法是返回一个\"人造的\"默认值。通常有两个方法：\n",
    "- 使用defaultdict\n",
    "- 事项一个dict 或其他mapping 的子类，然后在子类中实现`__missing__` 方法。"
   ]
  },
  {
   "cell_type": "markdown",
   "metadata": {},
   "source": [
    "### 4.1 defaultdict\n",
    "\n",
    "A defaultdict is configured to create items on demand whenever a missing key is searched.\n",
    "\n",
    "Here is how it works: when instantiating a defaultdict, you provide a callable that is used to produce a default value whenever `__getitem__` is passed a nonexistent key argument.\n",
    "\n",
    "例如，我们创建了如下一个defaultdict：`dd = defaultdict(list)`，当我们访问一个不存在的key (new-key)时：\n",
    "- Calls list() to create a new list.\n",
    "- Inserts the list into dd using 'new-key' as key.\n",
    "- Returns a reference to that list."
   ]
  },
  {
   "cell_type": "code",
   "execution_count": null,
   "metadata": {},
   "outputs": [],
   "source": [
    "import sys\n",
    "import re\n",
    "import collections\n",
    "\n",
    "WORD_RE = re.compile(r'\\w+')\n",
    "\n",
    "\"\"\"\n",
    "Create a defaultdict with the list constructor as default_factory\n",
    "\"\"\"\n",
    "index = collections.defaultdict(list)     \n",
    "\n",
    "with open(sys.argv[1], encoding='utf-8') as fp:\n",
    "    for line_no, line in enumerate(fp, 1):\n",
    "        for match in WORD_RE.finditer(line):\n",
    "            word = match.group()\n",
    "            column_no = match.start()+1\n",
    "            location = (line_no, column_no)\n",
    "            index[word].append(location)  # return an empty list --- 可以调用append 方法\n",
    "\n",
    "# print in alphabetical order\n",
    "for word in sorted(index, key=str.upper):\n",
    "    print(word, index[word])\n",
    "# END INDEX_DEFAULT"
   ]
  },
  {
   "cell_type": "markdown",
   "metadata": {},
   "source": [
    "注意，default_factory 只能在调用`__getitem__`时触发，对于其他方法，例如`d.get(k)`，仍然返回`None`.\n",
    "\n",
    "default_factory 背后的原理是实现了`__missing__` 方法。"
   ]
  },
  {
   "cell_type": "markdown",
   "metadata": {},
   "source": [
    "### 4.2 The `__missing__` Method\n",
    "\n",
    "`__getitem__` 如果没有找到key，会调用`__missing__`方法，如果`__missing__`方法没有定义，会raise KeyError.\n",
    "\n",
    "注意，`__missing__` 方法只会被`__getitem__`方法调用，对其他方法并没有影响，例如`__contain__`."
   ]
  },
  {
   "cell_type": "code",
   "execution_count": 22,
   "metadata": {},
   "outputs": [],
   "source": [
    "d = {'2':'two', '4':'four'}"
   ]
  },
  {
   "cell_type": "code",
   "execution_count": 23,
   "metadata": {},
   "outputs": [
    {
     "data": {
      "text/plain": [
       "'two'"
      ]
     },
     "execution_count": 23,
     "metadata": {},
     "output_type": "execute_result"
    }
   ],
   "source": [
    "d['2']"
   ]
  },
  {
   "cell_type": "code",
   "execution_count": 24,
   "metadata": {},
   "outputs": [
    {
     "ename": "KeyError",
     "evalue": "2",
     "output_type": "error",
     "traceback": [
      "\u001b[0;31m---------------------------------------------------------------------------\u001b[0m",
      "\u001b[0;31mKeyError\u001b[0m                                  Traceback (most recent call last)",
      "\u001b[0;32m<ipython-input-24-b41cae771af5>\u001b[0m in \u001b[0;36m<module>\u001b[0;34m()\u001b[0m\n\u001b[0;32m----> 1\u001b[0;31m \u001b[0md\u001b[0m\u001b[0;34m[\u001b[0m\u001b[0;36m2\u001b[0m\u001b[0;34m]\u001b[0m\u001b[0;34m\u001b[0m\u001b[0m\n\u001b[0m",
      "\u001b[0;31mKeyError\u001b[0m: 2"
     ]
    }
   ],
   "source": [
    "d[2]"
   ]
  },
  {
   "cell_type": "markdown",
   "metadata": {},
   "source": [
    "下面我们定义一个新的class，当key是一个整数时，我们将其转换成一个str 然后查询其value。"
   ]
  },
  {
   "cell_type": "code",
   "execution_count": 35,
   "metadata": {},
   "outputs": [],
   "source": [
    "class StrKeyDict0(dict):  # inherits from dict.\n",
    "\n",
    "    def __missing__(self, key):\n",
    "        if isinstance(key, str):  # Check whether key is already a str. If it is, and it’s missing, raise KeyError.\n",
    "            raise KeyError(key)\n",
    "        return self[str(key)]  # 如果不是str，转换成str，然后再查询一次\n",
    "\n",
    "    def get(self, key, default=None):\n",
    "        try:\n",
    "            return self[key]  # 重写get，使用d[k] 方法，即调用__getitem__ 方法\n",
    "        except KeyError:\n",
    "            return default  # 找不到，返回default\n",
    "\n",
    "    def __contains__(self, key):\n",
    "        return key in self.keys() or str(key) in self.keys()  # 返回int 或str"
   ]
  },
  {
   "cell_type": "code",
   "execution_count": 26,
   "metadata": {},
   "outputs": [],
   "source": [
    "d = StrKeyDict0([('2', 'two'), ('4', 'four')])"
   ]
  },
  {
   "cell_type": "markdown",
   "metadata": {},
   "source": [
    "#### item retrieval using `d[key]` "
   ]
  },
  {
   "cell_type": "code",
   "execution_count": 27,
   "metadata": {},
   "outputs": [
    {
     "data": {
      "text/plain": [
       "'two'"
      ]
     },
     "execution_count": 27,
     "metadata": {},
     "output_type": "execute_result"
    }
   ],
   "source": [
    "d['2']"
   ]
  },
  {
   "cell_type": "code",
   "execution_count": 28,
   "metadata": {},
   "outputs": [
    {
     "data": {
      "text/plain": [
       "'two'"
      ]
     },
     "execution_count": 28,
     "metadata": {},
     "output_type": "execute_result"
    }
   ],
   "source": [
    "d[2]"
   ]
  },
  {
   "cell_type": "code",
   "execution_count": 36,
   "metadata": {},
   "outputs": [
    {
     "ename": "KeyError",
     "evalue": "'1'",
     "output_type": "error",
     "traceback": [
      "\u001b[0;31m---------------------------------------------------------------------------\u001b[0m",
      "\u001b[0;31mKeyError\u001b[0m                                  Traceback (most recent call last)",
      "\u001b[0;32m<ipython-input-36-1b5cd46bd019>\u001b[0m in \u001b[0;36m<module>\u001b[0;34m()\u001b[0m\n\u001b[0;32m----> 1\u001b[0;31m \u001b[0md\u001b[0m\u001b[0;34m[\u001b[0m\u001b[0;36m1\u001b[0m\u001b[0;34m]\u001b[0m  \u001b[0;31m# 报错，不存在key\u001b[0m\u001b[0;34m\u001b[0m\u001b[0m\n\u001b[0m",
      "\u001b[0;32m<ipython-input-25-2b16c93147a1>\u001b[0m in \u001b[0;36m__missing__\u001b[0;34m(self, key)\u001b[0m\n\u001b[1;32m      4\u001b[0m         \u001b[0;32mif\u001b[0m \u001b[0misinstance\u001b[0m\u001b[0;34m(\u001b[0m\u001b[0mkey\u001b[0m\u001b[0;34m,\u001b[0m \u001b[0mstr\u001b[0m\u001b[0;34m)\u001b[0m\u001b[0;34m:\u001b[0m  \u001b[0;31m# <2>\u001b[0m\u001b[0;34m\u001b[0m\u001b[0m\n\u001b[1;32m      5\u001b[0m             \u001b[0;32mraise\u001b[0m \u001b[0mKeyError\u001b[0m\u001b[0;34m(\u001b[0m\u001b[0mkey\u001b[0m\u001b[0;34m)\u001b[0m\u001b[0;34m\u001b[0m\u001b[0m\n\u001b[0;32m----> 6\u001b[0;31m         \u001b[0;32mreturn\u001b[0m \u001b[0mself\u001b[0m\u001b[0;34m[\u001b[0m\u001b[0mstr\u001b[0m\u001b[0;34m(\u001b[0m\u001b[0mkey\u001b[0m\u001b[0;34m)\u001b[0m\u001b[0;34m]\u001b[0m  \u001b[0;31m# <3>\u001b[0m\u001b[0;34m\u001b[0m\u001b[0m\n\u001b[0m\u001b[1;32m      7\u001b[0m \u001b[0;34m\u001b[0m\u001b[0m\n\u001b[1;32m      8\u001b[0m     \u001b[0;32mdef\u001b[0m \u001b[0mget\u001b[0m\u001b[0;34m(\u001b[0m\u001b[0mself\u001b[0m\u001b[0;34m,\u001b[0m \u001b[0mkey\u001b[0m\u001b[0;34m,\u001b[0m \u001b[0mdefault\u001b[0m\u001b[0;34m=\u001b[0m\u001b[0;32mNone\u001b[0m\u001b[0;34m)\u001b[0m\u001b[0;34m:\u001b[0m\u001b[0;34m\u001b[0m\u001b[0m\n",
      "\u001b[0;32m<ipython-input-25-2b16c93147a1>\u001b[0m in \u001b[0;36m__missing__\u001b[0;34m(self, key)\u001b[0m\n\u001b[1;32m      3\u001b[0m     \u001b[0;32mdef\u001b[0m \u001b[0m__missing__\u001b[0m\u001b[0;34m(\u001b[0m\u001b[0mself\u001b[0m\u001b[0;34m,\u001b[0m \u001b[0mkey\u001b[0m\u001b[0;34m)\u001b[0m\u001b[0;34m:\u001b[0m\u001b[0;34m\u001b[0m\u001b[0m\n\u001b[1;32m      4\u001b[0m         \u001b[0;32mif\u001b[0m \u001b[0misinstance\u001b[0m\u001b[0;34m(\u001b[0m\u001b[0mkey\u001b[0m\u001b[0;34m,\u001b[0m \u001b[0mstr\u001b[0m\u001b[0;34m)\u001b[0m\u001b[0;34m:\u001b[0m  \u001b[0;31m# <2>\u001b[0m\u001b[0;34m\u001b[0m\u001b[0m\n\u001b[0;32m----> 5\u001b[0;31m             \u001b[0;32mraise\u001b[0m \u001b[0mKeyError\u001b[0m\u001b[0;34m(\u001b[0m\u001b[0mkey\u001b[0m\u001b[0;34m)\u001b[0m\u001b[0;34m\u001b[0m\u001b[0m\n\u001b[0m\u001b[1;32m      6\u001b[0m         \u001b[0;32mreturn\u001b[0m \u001b[0mself\u001b[0m\u001b[0;34m[\u001b[0m\u001b[0mstr\u001b[0m\u001b[0;34m(\u001b[0m\u001b[0mkey\u001b[0m\u001b[0;34m)\u001b[0m\u001b[0;34m]\u001b[0m  \u001b[0;31m# <3>\u001b[0m\u001b[0;34m\u001b[0m\u001b[0m\n\u001b[1;32m      7\u001b[0m \u001b[0;34m\u001b[0m\u001b[0m\n",
      "\u001b[0;31mKeyError\u001b[0m: '1'"
     ]
    }
   ],
   "source": [
    "d[1]  # 报错，不存在key"
   ]
  },
  {
   "cell_type": "markdown",
   "metadata": {},
   "source": [
    "#### item retrieval using `d.get(key)`"
   ]
  },
  {
   "cell_type": "code",
   "execution_count": 30,
   "metadata": {},
   "outputs": [
    {
     "data": {
      "text/plain": [
       "'two'"
      ]
     },
     "execution_count": 30,
     "metadata": {},
     "output_type": "execute_result"
    }
   ],
   "source": [
    "d.get('2')"
   ]
  },
  {
   "cell_type": "code",
   "execution_count": 31,
   "metadata": {},
   "outputs": [
    {
     "data": {
      "text/plain": [
       "'two'"
      ]
     },
     "execution_count": 31,
     "metadata": {},
     "output_type": "execute_result"
    }
   ],
   "source": [
    "d.get(2)"
   ]
  },
  {
   "cell_type": "code",
   "execution_count": 32,
   "metadata": {},
   "outputs": [
    {
     "data": {
      "text/plain": [
       "'N/A'"
      ]
     },
     "execution_count": 32,
     "metadata": {},
     "output_type": "execute_result"
    }
   ],
   "source": [
    "d.get(1, 'N/A')"
   ]
  },
  {
   "cell_type": "markdown",
   "metadata": {},
   "source": [
    "#### the `in` operator"
   ]
  },
  {
   "cell_type": "code",
   "execution_count": 33,
   "metadata": {},
   "outputs": [
    {
     "data": {
      "text/plain": [
       "True"
      ]
     },
     "execution_count": 33,
     "metadata": {},
     "output_type": "execute_result"
    }
   ],
   "source": [
    "2 in d"
   ]
  },
  {
   "cell_type": "code",
   "execution_count": 34,
   "metadata": {},
   "outputs": [
    {
     "data": {
      "text/plain": [
       "False"
      ]
     },
     "execution_count": 34,
     "metadata": {},
     "output_type": "execute_result"
    }
   ],
   "source": [
    "1 in d"
   ]
  },
  {
   "cell_type": "markdown",
   "metadata": {},
   "source": [
    "#### 注意，infinite recursion\n",
    "\n",
    "在实现这些方法的时候，有可能掉入infinite recursion 陷阱 (ref: page 74)"
   ]
  },
  {
   "cell_type": "markdown",
   "metadata": {},
   "source": [
    "`k in d.keys()` 很快。\n",
    "dict.keys() returns a view, which is similar to a set, and containment checks in sets are as fast as in dictionaries."
   ]
  },
  {
   "cell_type": "markdown",
   "metadata": {},
   "source": [
    "## 5. Variations of dict"
   ]
  },
  {
   "cell_type": "markdown",
   "metadata": {},
   "source": [
    "## 6. Subclassing UserDict\n",
    "\n",
    "A better way to create a user-defined mapping type is to sub class collections.UserDict instead of dict."
   ]
  },
  {
   "cell_type": "code",
   "execution_count": null,
   "metadata": {},
   "outputs": [],
   "source": []
  }
 ],
 "metadata": {
  "kernelspec": {
   "display_name": "Python 3",
   "language": "python",
   "name": "python3"
  },
  "language_info": {
   "codemirror_mode": {
    "name": "ipython",
    "version": 3
   },
   "file_extension": ".py",
   "mimetype": "text/x-python",
   "name": "python",
   "nbconvert_exporter": "python",
   "pygments_lexer": "ipython3",
   "version": "3.6.4"
  }
 },
 "nbformat": 4,
 "nbformat_minor": 2
}
