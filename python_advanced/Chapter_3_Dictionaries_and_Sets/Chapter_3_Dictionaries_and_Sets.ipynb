{
 "cells": [
  {
   "cell_type": "markdown",
   "metadata": {},
   "source": [
    "# Chapter 3: Dictionaries and Sets\n",
    "\n",
    "Dict 在python 中使用很广，因此highly optimized. \n",
    "\n",
    "set 和dict 同样，都是基于hash table 实现的。"
   ]
  },
  {
   "cell_type": "markdown",
   "metadata": {},
   "source": [
    "## 1. Generic Mapping Types\n",
    "\n",
    "字典本质上是一个mapping. \n",
    "\n",
    "<img src=\"figures/mapping_uml.png\" width=\"600\"/>\n",
    "\n",
    "\n",
    "\n",
    "创建自己的mapping 类，通常是继承`dict`和`collections.UserDict`类，而不是上面的这些基类。\n",
    "\n",
    "上面这些基类主要的作用是：\n",
    "- 标准化接口\n",
    "- isinstance test"
   ]
  },
  {
   "cell_type": "code",
   "execution_count": 3,
   "metadata": {},
   "outputs": [
    {
     "data": {
      "text/plain": [
       "True"
      ]
     },
     "execution_count": 3,
     "metadata": {},
     "output_type": "execute_result"
    }
   ],
   "source": [
    "from collections import abc\n",
    "\n",
    "my_dict = {}\n",
    "isinstance(my_dict, abc.Mapping)"
   ]
  },
  {
   "cell_type": "markdown",
   "metadata": {},
   "source": [
    "### Hashable keys\n",
    "\n",
    "所有dict 的key 必须是**hashable**的.\n",
    "\n",
    "#### Hashable data type:\n",
    "\n",
    "- 所有primitive type 都是hashable 的\n",
    "    - str\n",
    "    - bytes\n",
    "    - numeric values\n",
    "- frozen set\n",
    "- tuple -- only if all elements are hashable\n",
    "    - `('a'. [1,2])` is not hashable \n",
    "- user-defined types - 返回id()\n",
    "    - 因此所有对象都不是equal\n",
    "    - 实现`__eq__`方法来基于内容判断\n"
   ]
  },
  {
   "cell_type": "markdown",
   "metadata": {},
   "source": [
    "## 2. Dict Comprehension\n"
   ]
  },
  {
   "cell_type": "markdown",
   "metadata": {},
   "source": [
    "#### 初始化dict\n",
    "\n",
    "\n",
    "以下几种构建dict 的方法是等效的。"
   ]
  },
  {
   "cell_type": "code",
   "execution_count": 4,
   "metadata": {},
   "outputs": [
    {
     "data": {
      "text/plain": [
       "True"
      ]
     },
     "execution_count": 4,
     "metadata": {},
     "output_type": "execute_result"
    }
   ],
   "source": [
    "a = dict(one=1, two=2, three=3)\n",
    "b = {'one': 1, 'two': 2, 'three': 3}\n",
    "c = dict(zip(['one', 'two', 'three'], [1, 2, 3]))\n",
    "d = dict([('two', 2), ('one', 1), ('three', 3)])\n",
    "e = dict({'three': 3, 'one': 1, 'two': 2})\n",
    "a == b == c == d == e"
   ]
  },
  {
   "cell_type": "markdown",
   "metadata": {},
   "source": [
    "除了上述的方法，与list 相同，我们还可以使用dict comprehensions 来构建dictionaries. A dictcomp builds a\n",
    "dict instance by producing key:value pair from any iterable."
   ]
  },
  {
   "cell_type": "code",
   "execution_count": 13,
   "metadata": {},
   "outputs": [],
   "source": [
    "# list of tuples --- iterable that can be used for dict comprehension\n",
    "\n",
    "\n",
    "DIAL_CODES = [\n",
    "    (86, 'China'),\n",
    "    (91, 'India'),\n",
    "    (1, 'United States'),\n",
    "    (62, 'Indonesia'),\n",
    "    (55, 'Brazil'),\n",
    "    (92, 'Pakistan'),\n",
    "    (880, 'Bangladesh'),\n",
    "    (234, 'Nigeria'),\n",
    "    (7, 'Russia'),\n",
    "    (81, 'Japan')\n",
    "    ]"
   ]
  },
  {
   "cell_type": "code",
   "execution_count": 14,
   "metadata": {},
   "outputs": [
    {
     "data": {
      "text/plain": [
       "{'Bangladesh': 880,\n",
       " 'Brazil': 55,\n",
       " 'China': 86,\n",
       " 'India': 91,\n",
       " 'Indonesia': 62,\n",
       " 'Japan': 81,\n",
       " 'Nigeria': 234,\n",
       " 'Pakistan': 92,\n",
       " 'Russia': 7,\n",
       " 'United States': 1}"
      ]
     },
     "execution_count": 14,
     "metadata": {},
     "output_type": "execute_result"
    }
   ],
   "source": [
    "country_code = {country: code for code, country in DIAL_CODES}\n",
    "country_code"
   ]
  },
  {
   "cell_type": "code",
   "execution_count": 16,
   "metadata": {},
   "outputs": [
    {
     "data": {
      "text/plain": [
       "{81: 'JAPAN',\n",
       " 86: 'CHINA',\n",
       " 91: 'INDIA',\n",
       " 92: 'PAKISTAN',\n",
       " 234: 'NIGERIA',\n",
       " 880: 'BANGLADESH'}"
      ]
     },
     "execution_count": 16,
     "metadata": {},
     "output_type": "execute_result"
    }
   ],
   "source": [
    "# 显示代码大于66的国家\n",
    "\n",
    "country_code2 = {code: country.upper() for country, code in country_code.items() if code > 66}\n",
    "country_code2"
   ]
  },
  {
   "cell_type": "markdown",
   "metadata": {},
   "source": [
    "## 3. Overview of Common Mapping Methods\n",
    "\n",
    "The basic API for mappings is quite rich. 我们通常使用的三个dict 类：`dict`, `defaultdict` and `OrderedDict` (后面两个数据类型位于collections模块内).\n",
    "\n",
    "<img src=\"figures/mapping_apis.png\" width=\"500\"/>"
   ]
  },
  {
   "cell_type": "markdown",
   "metadata": {},
   "source": [
    "### 3.1 Handling Missing Keys with `setdefault`\n",
    "\n",
    "当我们使用`d[k]`来查询字典d中键值为k的值的时候，当k不存在的时候，会得到一个KeyError. \n",
    "通常的一个解决方法是，`d.get(k, default)` 来返回一个default值。\n",
    "\n",
    "这个方法的一个问题是，当我们更新一个value 的时候，很低效。请参照下面这个例子。"
   ]
  },
  {
   "cell_type": "code",
   "execution_count": 18,
   "metadata": {},
   "outputs": [
    {
     "name": "stdout",
     "output_type": "stream",
     "text": [
      "line number:  1\n",
      "line:  Get the list of occurrences for word, or [] if not found.\n",
      "\n",
      "line number:  2\n",
      "line:  Append new location to occurrences.\n",
      "\n",
      "line number:  3\n",
      "line:  Put changed occurrences into index dict; this entails a second search through the index.\n",
      "\n",
      "line number:  4\n",
      "line:  In the key= argument of sorted I am not calling str.upper, just passing a reference to that method so the sorted function can use it to normalize the words for sorting\n",
      "\n",
      "=====Word index:===== \n",
      "a [(3, 55), (4, 73)]\n",
      "am [(4, 34)]\n",
      "Append [(2, 1)]\n",
      "argument [(4, 13)]\n",
      "calling [(4, 41)]\n",
      "can [(4, 123)]\n",
      "changed [(3, 5)]\n",
      "dict [(3, 36)]\n",
      "entails [(3, 47)]\n",
      "for [(1, 29), (4, 157)]\n",
      "found [(1, 52)]\n",
      "function [(4, 114)]\n",
      "Get [(1, 1)]\n",
      "I [(4, 32)]\n",
      "if [(1, 45)]\n",
      "In [(4, 1)]\n",
      "index [(3, 30), (3, 83)]\n",
      "into [(3, 25)]\n",
      "it [(4, 131)]\n",
      "just [(4, 60)]\n",
      "key [(4, 8)]\n",
      "list [(1, 9)]\n",
      "location [(2, 12)]\n",
      "method [(4, 93)]\n",
      "new [(2, 8)]\n",
      "normalize [(4, 137)]\n",
      "not [(1, 48), (4, 37)]\n",
      "occurrences [(1, 17), (2, 24), (3, 13)]\n",
      "of [(1, 14), (4, 22)]\n",
      "or [(1, 39)]\n",
      "passing [(4, 65)]\n",
      "Put [(3, 1)]\n",
      "reference [(4, 75)]\n",
      "search [(3, 64)]\n",
      "second [(3, 57)]\n",
      "so [(4, 100)]\n",
      "sorted [(4, 25), (4, 107)]\n",
      "sorting [(4, 161)]\n",
      "str [(4, 49)]\n",
      "that [(4, 88)]\n",
      "the [(1, 5), (3, 79), (4, 4), (4, 103), (4, 147)]\n",
      "this [(3, 42)]\n",
      "through [(3, 71)]\n",
      "to [(2, 21), (4, 85), (4, 134)]\n",
      "upper [(4, 53)]\n",
      "use [(4, 127)]\n",
      "word [(1, 33)]\n",
      "words [(4, 151)]\n"
     ]
    }
   ],
   "source": [
    "import sys\n",
    "import re\n",
    "\n",
    "WORD_RE = re.compile(r'\\w+')\n",
    "file_name = 'test.txt'\n",
    "\n",
    "\n",
    "index = {}\n",
    "with open(file_name, encoding='utf-8') as fp:\n",
    "    for line_no, line in enumerate(fp, 1):\n",
    "        print('line number: ', line_no)\n",
    "        print('line: ', line)\n",
    "\n",
    "        for match in WORD_RE.finditer(line):\n",
    "            word = match.group()\n",
    "            column_no = match.start()+1\n",
    "            location = (line_no, column_no)  # 字典中每一个value 是一个tuple，表明这个词出现的行号和列号\n",
    "            # this is ugly; coded like this to make a point\n",
    "            \"\"\"\n",
    "            第一次查找\n",
    "            \"\"\"\n",
    "            occurrences = index.get(word, [])  # get the list of occurrences for word, 如果没有找到，返回一个空数组[]\n",
    "            occurrences.append(location)       # 把当前单词的位置加入到上面的数组中\n",
    "            \"\"\"\n",
    "            第二次超着：put 操作，相当于还要search 一次，即：找到-更新\n",
    "            \"\"\"\n",
    "            index[word] = occurrences          # 更新更改了之后的accurance -- 因为可能之前没有现在有了，所以必须有更新的步骤\n",
    "\n",
    "# print in alphabetical order\n",
    "print(\"\\n=====Word index:===== \")\n",
    "for word in sorted(index, key=str.upper):  # <4>\n",
    "    print(word, index[word])"
   ]
  },
  {
   "cell_type": "markdown",
   "metadata": {},
   "source": [
    "从上面可以看出，对于需要更新的场景，我们需要对字典进行两次查询，第一次查询出value，更新好之后，put 方法还要再查找一次。下面我们介绍如何使用setdefault方法来更优雅的解决这个问题。"
   ]
  },
  {
   "cell_type": "code",
   "execution_count": 19,
   "metadata": {},
   "outputs": [
    {
     "name": "stdout",
     "output_type": "stream",
     "text": [
      "line number:  1\n",
      "line:  Get the list of occurrences for word, or [] if not found.\n",
      "\n",
      "line number:  2\n",
      "line:  Append new location to occurrences.\n",
      "\n",
      "line number:  3\n",
      "line:  Put changed occurrences into index dict; this entails a second search through the index.\n",
      "\n",
      "line number:  4\n",
      "line:  In the key= argument of sorted I am not calling str.upper, just passing a reference to that method so the sorted function can use it to normalize the words for sorting\n",
      "\n",
      "=====Word index:===== \n",
      "a [(3, 55), (4, 73)]\n",
      "am [(4, 34)]\n",
      "Append [(2, 1)]\n",
      "argument [(4, 13)]\n",
      "calling [(4, 41)]\n",
      "can [(4, 123)]\n",
      "changed [(3, 5)]\n",
      "dict [(3, 36)]\n",
      "entails [(3, 47)]\n",
      "for [(1, 29), (4, 157)]\n",
      "found [(1, 52)]\n",
      "function [(4, 114)]\n",
      "Get [(1, 1)]\n",
      "I [(4, 32)]\n",
      "if [(1, 45)]\n",
      "In [(4, 1)]\n",
      "index [(3, 30), (3, 83)]\n",
      "into [(3, 25)]\n",
      "it [(4, 131)]\n",
      "just [(4, 60)]\n",
      "key [(4, 8)]\n",
      "list [(1, 9)]\n",
      "location [(2, 12)]\n",
      "method [(4, 93)]\n",
      "new [(2, 8)]\n",
      "normalize [(4, 137)]\n",
      "not [(1, 48), (4, 37)]\n",
      "occurrences [(1, 17), (2, 24), (3, 13)]\n",
      "of [(1, 14), (4, 22)]\n",
      "or [(1, 39)]\n",
      "passing [(4, 65)]\n",
      "Put [(3, 1)]\n",
      "reference [(4, 75)]\n",
      "search [(3, 64)]\n",
      "second [(3, 57)]\n",
      "so [(4, 100)]\n",
      "sorted [(4, 25), (4, 107)]\n",
      "sorting [(4, 161)]\n",
      "str [(4, 49)]\n",
      "that [(4, 88)]\n",
      "the [(1, 5), (3, 79), (4, 4), (4, 103), (4, 147)]\n",
      "this [(3, 42)]\n",
      "through [(3, 71)]\n",
      "to [(2, 21), (4, 85), (4, 134)]\n",
      "upper [(4, 53)]\n",
      "use [(4, 127)]\n",
      "word [(1, 33)]\n",
      "words [(4, 151)]\n"
     ]
    }
   ],
   "source": [
    "import sys\n",
    "import re\n",
    "\n",
    "WORD_RE = re.compile(r'\\w+')\n",
    "file_name = 'test.txt'\n",
    "\n",
    "index = {}\n",
    "with open(file_name, encoding='utf-8') as fp:\n",
    "    for line_no, line in enumerate(fp, 1):\n",
    "        print('line number: ', line_no)\n",
    "        print('line: ', line)\n",
    "\n",
    "        for match in WORD_RE.finditer(line):\n",
    "            word = match.group()\n",
    "            column_no = match.start()+1\n",
    "            location = (line_no, column_no)  # 字典中每一个value 是一个tuple，表明这个词出现的行号和列号\n",
    "            # this is ugly; coded like this to make a point\n",
    "            \"\"\"\n",
    "            下面三行代码可以用setdefault 替换\n",
    "            it can be updated without requiring a second search\n",
    "            \"\"\"\n",
    "#             occurrences = index.get(word, [])  # get the list of occurrences for word, 如果没有找到，返回一个空数组[]\n",
    "#             occurrences.append(location)       # 把当前单词的位置加入到上面的数组中\n",
    "#             index[word] = occurrences          # 更新更改了之后的accurance -- 因为可能之前没有现在有了，所以必须有更新的步骤\n",
    "            index.setdefault(word, []).append(location)\n",
    "    \n",
    "# print in alphabetical order\n",
    "print(\"\\n=====Word index:===== \")\n",
    "for word in sorted(index, key=str.upper):  # <4>\n",
    "    print(word, index[word])"
   ]
  },
  {
   "cell_type": "markdown",
   "metadata": {},
   "source": [
    "```python\n",
    "index.setdefault(word, []).append(location)\n",
    "```\n",
    "\n",
    "等同于\n",
    "\n",
    "```python\n",
    "if key not in my_dict:\n",
    "    my_dict[key] = []\n",
    "    my_dict[key].append(new_value)\n",
    "```\n",
    "\n",
    "只是下面这段代码要找两次，如果key 不存在，要找三次。而上面的一行代码只要找一次。\n",
    "\n",
    "上面主要是在insert 的时候key 不存在的场景，下面我们介绍一下missing keys on any lookup."
   ]
  },
  {
   "cell_type": "markdown",
   "metadata": {},
   "source": [
    "## 4. Mapping with Flexible Key Lookup\n",
    "\n",
    "当搜索一个不存在的key 的时候，通常的一个做法是返回一个\"人造的\"默认值。通常有两个方法：\n",
    "- 使用defaultdict\n",
    "- 事项一个dict 或其他mapping 的子类，然后在子类中实现`__missing__` 方法。"
   ]
  },
  {
   "cell_type": "markdown",
   "metadata": {},
   "source": [
    "### 4.1 defaultdict\n",
    "\n",
    "A defaultdict is configured to create items on demand whenever a missing key is searched.\n",
    "\n",
    "`collections.defaultdict([default_factory[, ...]])`\n",
    "\n",
    "- The first argument provides the initial value for the **default_factory** attribute; it defaults to **None**. \n",
    "    - This attribute is used by the __missing__() method;\n",
    "- All remaining arguments are treated the same as if they were passed to the dict constructor, including keyword arguments.\n",
    "\n",
    "\n",
    "Here is how it works: when instantiating a defaultdict, you provide a callable that is used to produce a default value whenever `__getitem__` is passed a nonexistent key argument.\n",
    "\n",
    "例如，我们创建了如下一个defaultdict：`dd = defaultdict(list)`，当我们访问一个不存在的key (new-key)时：\n",
    "- Calls list() to create a new list.\n",
    "- Inserts the list into dd using 'new-key' as key.\n",
    "- Returns a reference to that list."
   ]
  },
  {
   "cell_type": "code",
   "execution_count": 172,
   "metadata": {},
   "outputs": [
    {
     "name": "stdout",
     "output_type": "stream",
     "text": [
      "a [(3, 55), (4, 73)]\n",
      "am [(4, 34)]\n",
      "Append [(2, 1)]\n",
      "argument [(4, 13)]\n",
      "calling [(4, 41)]\n",
      "can [(4, 123)]\n",
      "changed [(3, 5)]\n",
      "dict [(3, 36)]\n",
      "entails [(3, 47)]\n",
      "for [(1, 29), (4, 157)]\n",
      "found [(1, 52)]\n",
      "function [(4, 114)]\n",
      "Get [(1, 1)]\n",
      "I [(4, 32)]\n",
      "if [(1, 45)]\n",
      "In [(4, 1)]\n",
      "index [(3, 30), (3, 83)]\n",
      "into [(3, 25)]\n",
      "it [(4, 131)]\n",
      "just [(4, 60)]\n",
      "key [(4, 8)]\n",
      "list [(1, 9)]\n",
      "location [(2, 12)]\n",
      "method [(4, 93)]\n",
      "new [(2, 8)]\n",
      "normalize [(4, 137)]\n",
      "not [(1, 48), (4, 37)]\n",
      "occurrences [(1, 17), (2, 24), (3, 13)]\n",
      "of [(1, 14), (4, 22)]\n",
      "or [(1, 39)]\n",
      "passing [(4, 65)]\n",
      "Put [(3, 1)]\n",
      "reference [(4, 75)]\n",
      "search [(3, 64)]\n",
      "second [(3, 57)]\n",
      "so [(4, 100)]\n",
      "sorted [(4, 25), (4, 107)]\n",
      "sorting [(4, 161)]\n",
      "str [(4, 49)]\n",
      "that [(4, 88)]\n",
      "the [(1, 5), (3, 79), (4, 4), (4, 103), (4, 147)]\n",
      "this [(3, 42)]\n",
      "through [(3, 71)]\n",
      "to [(2, 21), (4, 85), (4, 134)]\n",
      "upper [(4, 53)]\n",
      "use [(4, 127)]\n",
      "word [(1, 33)]\n",
      "words [(4, 151)]\n"
     ]
    }
   ],
   "source": [
    "import sys\n",
    "import re\n",
    "import collections\n",
    "\n",
    "WORD_RE = re.compile(r'\\w+')\n",
    "file_name = 'test.txt'\n",
    "\n",
    "\"\"\"\n",
    "Create a defaultdict with the list constructor as default_factory\n",
    "\"\"\"\n",
    "index = collections.defaultdict(list)     \n",
    "\n",
    "with open(file_name, encoding='utf-8') as fp:\n",
    "    for line_no, line in enumerate(fp, 1):\n",
    "        for match in WORD_RE.finditer(line):\n",
    "            word = match.group()\n",
    "            column_no = match.start()+1\n",
    "            location = (line_no, column_no)\n",
    "            index[word].append(location)  # return an empty list --- 可以调用append 方法\n",
    "\n",
    "# print in alphabetical order\n",
    "for word in sorted(index, key=str.upper):\n",
    "    print(word, index[word])\n",
    "# END INDEX_DEFAULT"
   ]
  },
  {
   "cell_type": "markdown",
   "metadata": {},
   "source": [
    "注意，default_factory 只能在调用`__getitem__`时触发，对于其他方法，例如`d.get(k)`，仍然返回`None`.\n",
    "\n",
    "default_factory 背后的原理是实现了`__missing__` 方法。"
   ]
  },
  {
   "cell_type": "markdown",
   "metadata": {},
   "source": [
    "Setting the default_factory to int makes the defaultdict useful for counting (like a bag or multiset in other languages):"
   ]
  },
  {
   "cell_type": "code",
   "execution_count": 175,
   "metadata": {},
   "outputs": [
    {
     "data": {
      "text/plain": [
       "[('i', 4), ('m', 1), ('p', 2), ('s', 4)]"
      ]
     },
     "execution_count": 175,
     "metadata": {},
     "output_type": "execute_result"
    }
   ],
   "source": [
    "from collections import defaultdict  # 参照第5部分，counter\n",
    "\n",
    "s = 'mississippi'\n",
    "d = defaultdict(int)\n",
    "for k in s:\n",
    "    d[k] += 1\n",
    "sorted(d.items())"
   ]
  },
  {
   "cell_type": "markdown",
   "metadata": {},
   "source": [
    "#### 返回常量"
   ]
  },
  {
   "cell_type": "code",
   "execution_count": 176,
   "metadata": {},
   "outputs": [],
   "source": [
    "def constant_factory(value):\n",
    "    return lambda: value"
   ]
  },
  {
   "cell_type": "code",
   "execution_count": 182,
   "metadata": {},
   "outputs": [
    {
     "data": {
      "text/plain": [
       "defaultdict(<function __main__.constant_factory.<locals>.<lambda>>,\n",
       "            {'action': 'ran', 'name': 'John'})"
      ]
     },
     "execution_count": 182,
     "metadata": {},
     "output_type": "execute_result"
    }
   ],
   "source": [
    "d = defaultdict(constant_factory('<missing>'))\n",
    "d.update(name='John', action='ran')\n",
    "d"
   ]
  },
  {
   "cell_type": "code",
   "execution_count": 183,
   "metadata": {},
   "outputs": [
    {
     "name": "stdout",
     "output_type": "stream",
     "text": [
      "John ran to <missing>\n"
     ]
    }
   ],
   "source": [
    "print('{} {} to {}'.format(d['name'], d['action'], d['object'])) \n"
   ]
  },
  {
   "cell_type": "code",
   "execution_count": 184,
   "metadata": {},
   "outputs": [
    {
     "data": {
      "text/plain": [
       "'John ran to <missing>'"
      ]
     },
     "execution_count": 184,
     "metadata": {},
     "output_type": "execute_result"
    }
   ],
   "source": [
    "'%(name)s %(action)s to %(object)s' % d"
   ]
  },
  {
   "cell_type": "markdown",
   "metadata": {},
   "source": [
    "### 4.2 The `__missing__` Method\n",
    "\n",
    "`__getitem__` 如果没有找到key，会调用`__missing__`方法，如果`__missing__`方法没有定义，会raise KeyError.\n",
    "\n",
    "注意，`__missing__` 方法只会被`__getitem__`方法调用，对其他方法并没有影响，例如`__contain__`."
   ]
  },
  {
   "cell_type": "code",
   "execution_count": 22,
   "metadata": {},
   "outputs": [],
   "source": [
    "d = {'2':'two', '4':'four'}"
   ]
  },
  {
   "cell_type": "code",
   "execution_count": 23,
   "metadata": {},
   "outputs": [
    {
     "data": {
      "text/plain": [
       "'two'"
      ]
     },
     "execution_count": 23,
     "metadata": {},
     "output_type": "execute_result"
    }
   ],
   "source": [
    "d['2']"
   ]
  },
  {
   "cell_type": "code",
   "execution_count": 24,
   "metadata": {},
   "outputs": [
    {
     "ename": "KeyError",
     "evalue": "2",
     "output_type": "error",
     "traceback": [
      "\u001b[0;31m---------------------------------------------------------------------------\u001b[0m",
      "\u001b[0;31mKeyError\u001b[0m                                  Traceback (most recent call last)",
      "\u001b[0;32m<ipython-input-24-b41cae771af5>\u001b[0m in \u001b[0;36m<module>\u001b[0;34m()\u001b[0m\n\u001b[0;32m----> 1\u001b[0;31m \u001b[0md\u001b[0m\u001b[0;34m[\u001b[0m\u001b[0;36m2\u001b[0m\u001b[0;34m]\u001b[0m\u001b[0;34m\u001b[0m\u001b[0m\n\u001b[0m",
      "\u001b[0;31mKeyError\u001b[0m: 2"
     ]
    }
   ],
   "source": [
    "d[2]"
   ]
  },
  {
   "cell_type": "markdown",
   "metadata": {},
   "source": [
    "下面我们定义一个新的class，当key是一个整数时，我们将其转换成一个str 然后查询其value。"
   ]
  },
  {
   "cell_type": "code",
   "execution_count": 35,
   "metadata": {},
   "outputs": [],
   "source": [
    "class StrKeyDict0(dict):  # inherits from dict.\n",
    "\n",
    "    def __missing__(self, key):\n",
    "        if isinstance(key, str):  # Check whether key is already a str. If it is, and it’s missing, raise KeyError.\n",
    "            raise KeyError(key)\n",
    "        return self[str(key)]  # 如果不是str，转换成str，然后再查询一次\n",
    "\n",
    "    def get(self, key, default=None):\n",
    "        try:\n",
    "            return self[key]  # 重写get，使用d[k] 方法，即调用__getitem__ 方法\n",
    "        except KeyError:\n",
    "            return default  # 找不到，返回default\n",
    "\n",
    "    def __contains__(self, key):\n",
    "        return key in self.keys() or str(key) in self.keys()  # 返回int 或str"
   ]
  },
  {
   "cell_type": "code",
   "execution_count": 26,
   "metadata": {},
   "outputs": [],
   "source": [
    "d = StrKeyDict0([('2', 'two'), ('4', 'four')])"
   ]
  },
  {
   "cell_type": "markdown",
   "metadata": {},
   "source": [
    "#### item retrieval using `d[key]` "
   ]
  },
  {
   "cell_type": "code",
   "execution_count": 27,
   "metadata": {},
   "outputs": [
    {
     "data": {
      "text/plain": [
       "'two'"
      ]
     },
     "execution_count": 27,
     "metadata": {},
     "output_type": "execute_result"
    }
   ],
   "source": [
    "d['2']"
   ]
  },
  {
   "cell_type": "code",
   "execution_count": 28,
   "metadata": {},
   "outputs": [
    {
     "data": {
      "text/plain": [
       "'two'"
      ]
     },
     "execution_count": 28,
     "metadata": {},
     "output_type": "execute_result"
    }
   ],
   "source": [
    "d[2]"
   ]
  },
  {
   "cell_type": "code",
   "execution_count": 36,
   "metadata": {},
   "outputs": [
    {
     "ename": "KeyError",
     "evalue": "'1'",
     "output_type": "error",
     "traceback": [
      "\u001b[0;31m---------------------------------------------------------------------------\u001b[0m",
      "\u001b[0;31mKeyError\u001b[0m                                  Traceback (most recent call last)",
      "\u001b[0;32m<ipython-input-36-1b5cd46bd019>\u001b[0m in \u001b[0;36m<module>\u001b[0;34m()\u001b[0m\n\u001b[0;32m----> 1\u001b[0;31m \u001b[0md\u001b[0m\u001b[0;34m[\u001b[0m\u001b[0;36m1\u001b[0m\u001b[0;34m]\u001b[0m  \u001b[0;31m# 报错，不存在key\u001b[0m\u001b[0;34m\u001b[0m\u001b[0m\n\u001b[0m",
      "\u001b[0;32m<ipython-input-25-2b16c93147a1>\u001b[0m in \u001b[0;36m__missing__\u001b[0;34m(self, key)\u001b[0m\n\u001b[1;32m      4\u001b[0m         \u001b[0;32mif\u001b[0m \u001b[0misinstance\u001b[0m\u001b[0;34m(\u001b[0m\u001b[0mkey\u001b[0m\u001b[0;34m,\u001b[0m \u001b[0mstr\u001b[0m\u001b[0;34m)\u001b[0m\u001b[0;34m:\u001b[0m  \u001b[0;31m# <2>\u001b[0m\u001b[0;34m\u001b[0m\u001b[0m\n\u001b[1;32m      5\u001b[0m             \u001b[0;32mraise\u001b[0m \u001b[0mKeyError\u001b[0m\u001b[0;34m(\u001b[0m\u001b[0mkey\u001b[0m\u001b[0;34m)\u001b[0m\u001b[0;34m\u001b[0m\u001b[0m\n\u001b[0;32m----> 6\u001b[0;31m         \u001b[0;32mreturn\u001b[0m \u001b[0mself\u001b[0m\u001b[0;34m[\u001b[0m\u001b[0mstr\u001b[0m\u001b[0;34m(\u001b[0m\u001b[0mkey\u001b[0m\u001b[0;34m)\u001b[0m\u001b[0;34m]\u001b[0m  \u001b[0;31m# <3>\u001b[0m\u001b[0;34m\u001b[0m\u001b[0m\n\u001b[0m\u001b[1;32m      7\u001b[0m \u001b[0;34m\u001b[0m\u001b[0m\n\u001b[1;32m      8\u001b[0m     \u001b[0;32mdef\u001b[0m \u001b[0mget\u001b[0m\u001b[0;34m(\u001b[0m\u001b[0mself\u001b[0m\u001b[0;34m,\u001b[0m \u001b[0mkey\u001b[0m\u001b[0;34m,\u001b[0m \u001b[0mdefault\u001b[0m\u001b[0;34m=\u001b[0m\u001b[0;32mNone\u001b[0m\u001b[0;34m)\u001b[0m\u001b[0;34m:\u001b[0m\u001b[0;34m\u001b[0m\u001b[0m\n",
      "\u001b[0;32m<ipython-input-25-2b16c93147a1>\u001b[0m in \u001b[0;36m__missing__\u001b[0;34m(self, key)\u001b[0m\n\u001b[1;32m      3\u001b[0m     \u001b[0;32mdef\u001b[0m \u001b[0m__missing__\u001b[0m\u001b[0;34m(\u001b[0m\u001b[0mself\u001b[0m\u001b[0;34m,\u001b[0m \u001b[0mkey\u001b[0m\u001b[0;34m)\u001b[0m\u001b[0;34m:\u001b[0m\u001b[0;34m\u001b[0m\u001b[0m\n\u001b[1;32m      4\u001b[0m         \u001b[0;32mif\u001b[0m \u001b[0misinstance\u001b[0m\u001b[0;34m(\u001b[0m\u001b[0mkey\u001b[0m\u001b[0;34m,\u001b[0m \u001b[0mstr\u001b[0m\u001b[0;34m)\u001b[0m\u001b[0;34m:\u001b[0m  \u001b[0;31m# <2>\u001b[0m\u001b[0;34m\u001b[0m\u001b[0m\n\u001b[0;32m----> 5\u001b[0;31m             \u001b[0;32mraise\u001b[0m \u001b[0mKeyError\u001b[0m\u001b[0;34m(\u001b[0m\u001b[0mkey\u001b[0m\u001b[0;34m)\u001b[0m\u001b[0;34m\u001b[0m\u001b[0m\n\u001b[0m\u001b[1;32m      6\u001b[0m         \u001b[0;32mreturn\u001b[0m \u001b[0mself\u001b[0m\u001b[0;34m[\u001b[0m\u001b[0mstr\u001b[0m\u001b[0;34m(\u001b[0m\u001b[0mkey\u001b[0m\u001b[0;34m)\u001b[0m\u001b[0;34m]\u001b[0m  \u001b[0;31m# <3>\u001b[0m\u001b[0;34m\u001b[0m\u001b[0m\n\u001b[1;32m      7\u001b[0m \u001b[0;34m\u001b[0m\u001b[0m\n",
      "\u001b[0;31mKeyError\u001b[0m: '1'"
     ]
    }
   ],
   "source": [
    "d[1]  # 报错，不存在key"
   ]
  },
  {
   "cell_type": "markdown",
   "metadata": {},
   "source": [
    "#### item retrieval using `d.get(key)`"
   ]
  },
  {
   "cell_type": "code",
   "execution_count": 30,
   "metadata": {},
   "outputs": [
    {
     "data": {
      "text/plain": [
       "'two'"
      ]
     },
     "execution_count": 30,
     "metadata": {},
     "output_type": "execute_result"
    }
   ],
   "source": [
    "d.get('2')"
   ]
  },
  {
   "cell_type": "code",
   "execution_count": 31,
   "metadata": {},
   "outputs": [
    {
     "data": {
      "text/plain": [
       "'two'"
      ]
     },
     "execution_count": 31,
     "metadata": {},
     "output_type": "execute_result"
    }
   ],
   "source": [
    "d.get(2)"
   ]
  },
  {
   "cell_type": "code",
   "execution_count": 32,
   "metadata": {},
   "outputs": [
    {
     "data": {
      "text/plain": [
       "'N/A'"
      ]
     },
     "execution_count": 32,
     "metadata": {},
     "output_type": "execute_result"
    }
   ],
   "source": [
    "d.get(1, 'N/A')"
   ]
  },
  {
   "cell_type": "markdown",
   "metadata": {},
   "source": [
    "#### the `in` operator"
   ]
  },
  {
   "cell_type": "code",
   "execution_count": 33,
   "metadata": {},
   "outputs": [
    {
     "data": {
      "text/plain": [
       "True"
      ]
     },
     "execution_count": 33,
     "metadata": {},
     "output_type": "execute_result"
    }
   ],
   "source": [
    "2 in d"
   ]
  },
  {
   "cell_type": "code",
   "execution_count": 34,
   "metadata": {},
   "outputs": [
    {
     "data": {
      "text/plain": [
       "False"
      ]
     },
     "execution_count": 34,
     "metadata": {},
     "output_type": "execute_result"
    }
   ],
   "source": [
    "1 in d"
   ]
  },
  {
   "cell_type": "markdown",
   "metadata": {},
   "source": [
    "#### 注意，infinite recursion\n",
    "\n",
    "在实现这些方法的时候，有可能掉入infinite recursion 陷阱 (ref: page 74)"
   ]
  },
  {
   "cell_type": "markdown",
   "metadata": {},
   "source": [
    "`k in d.keys()` 很快。\n",
    "dict.keys() returns a view, which is similar to a set, and containment checks in sets are as fast as in dictionaries."
   ]
  },
  {
   "cell_type": "markdown",
   "metadata": {},
   "source": [
    "## 5. Variations of dict\n",
    "\n",
    "### 5.1 `collections.OrderedDict`\n",
    "\n",
    "和dict 一样，只是多了排序功能。Python 3.7 之后，dict class 也具有排序功能，所以现在没有之前那么重要了。下面列举dict 和OrderedDict 的区别。\n",
    "\n",
    "OrderedDict 常用方法：\n",
    "- `popitem`\n",
    "- `move_to_end`"
   ]
  },
  {
   "cell_type": "code",
   "execution_count": 142,
   "metadata": {},
   "outputs": [],
   "source": [
    "from collections import OrderedDict"
   ]
  },
  {
   "cell_type": "code",
   "execution_count": 162,
   "metadata": {},
   "outputs": [
    {
     "data": {
      "text/plain": [
       "OrderedDict([('a', None), ('b', None), ('c', None), ('d', None), ('e', None)])"
      ]
     },
     "execution_count": 162,
     "metadata": {},
     "output_type": "execute_result"
    }
   ],
   "source": [
    "d = OrderedDict.fromkeys('abcde')\n",
    "d"
   ]
  },
  {
   "cell_type": "code",
   "execution_count": 163,
   "metadata": {},
   "outputs": [
    {
     "data": {
      "text/plain": [
       "odict_keys(['a', 'b', 'c', 'd', 'e'])"
      ]
     },
     "execution_count": 163,
     "metadata": {},
     "output_type": "execute_result"
    }
   ],
   "source": [
    "d.keys()"
   ]
  },
  {
   "cell_type": "code",
   "execution_count": 164,
   "metadata": {},
   "outputs": [
    {
     "data": {
      "text/plain": [
       "odict_keys(['a', 'c', 'd', 'e', 'b'])"
      ]
     },
     "execution_count": 164,
     "metadata": {},
     "output_type": "execute_result"
    }
   ],
   "source": [
    "d.move_to_end('b')  # 调整顺序\n",
    "d.keys()"
   ]
  },
  {
   "cell_type": "code",
   "execution_count": 165,
   "metadata": {},
   "outputs": [
    {
     "data": {
      "text/plain": [
       "odict_keys(['b', 'a', 'c', 'd', 'e'])"
      ]
     },
     "execution_count": 165,
     "metadata": {},
     "output_type": "execute_result"
    }
   ],
   "source": [
    "d.move_to_end('b', last=False)\n",
    "d.keys()"
   ]
  },
  {
   "cell_type": "code",
   "execution_count": 166,
   "metadata": {},
   "outputs": [
    {
     "data": {
      "text/plain": [
       "odict_keys(['b', 'a', 'c', 'd'])"
      ]
     },
     "execution_count": 166,
     "metadata": {},
     "output_type": "execute_result"
    }
   ],
   "source": [
    "d.popitem()  # 弹出最后一个元素\n",
    "d.keys()"
   ]
  },
  {
   "cell_type": "code",
   "execution_count": 167,
   "metadata": {},
   "outputs": [
    {
     "data": {
      "text/plain": [
       "odict_keys(['a', 'c', 'd'])"
      ]
     },
     "execution_count": 167,
     "metadata": {},
     "output_type": "execute_result"
    }
   ],
   "source": [
    "d.popitem(last=False)  # 弹出第一个元素\n",
    "d.keys()"
   ]
  },
  {
   "cell_type": "markdown",
   "metadata": {},
   "source": [
    "#### `reversed()`"
   ]
  },
  {
   "cell_type": "code",
   "execution_count": 168,
   "metadata": {},
   "outputs": [
    {
     "name": "stdout",
     "output_type": "stream",
     "text": [
      "d\n",
      "c\n",
      "a\n"
     ]
    }
   ],
   "source": [
    "for key in reversed(d):\n",
    "    print(key)"
   ]
  },
  {
   "cell_type": "markdown",
   "metadata": {},
   "source": [
    "order is retained for keyword arguments passed to the OrderedDict constructor and its update() method."
   ]
  },
  {
   "cell_type": "markdown",
   "metadata": {},
   "source": [
    "#### Use cases:\n",
    "- LRU: OrderedDict can handle frequent reordering operations better than dict. This makes it suitable for **tracking recent accesses** (for example in an LRU cache)\n",
    "\n",
    "```python\n",
    "class LRU(OrderedDict):\n",
    "    'Limit size, evicting the least recently looked-up key when full'\n",
    "\n",
    "    def __init__(self, maxsize=128, *args, **kwds):\n",
    "        self.maxsize = maxsize\n",
    "        super().__init__(*args, **kwds)\n",
    "\n",
    "    def __getitem__(self, key):\n",
    "        value = super().__getitem__(key)\n",
    "        self.move_to_end(key)\n",
    "        return value\n",
    "\n",
    "    def __setitem__(self, key, value):\n",
    "        super().__setitem__(key, value)\n",
    "        if len(self) > self.maxsize:\n",
    "            oldest = next(iter(self))\n",
    "            del self[oldest]\n",
    "```"
   ]
  },
  {
   "cell_type": "code",
   "execution_count": 111,
   "metadata": {},
   "outputs": [],
   "source": [
    "from collections import ChainMap"
   ]
  },
  {
   "cell_type": "code",
   "execution_count": 115,
   "metadata": {},
   "outputs": [
    {
     "data": {
      "text/plain": [
       "['music', 'art', 'opera']"
      ]
     },
     "execution_count": 115,
     "metadata": {},
     "output_type": "execute_result"
    }
   ],
   "source": [
    "baseline = {'music': 'bach', 'art': 'rembrandt'}\n",
    "adjustments = {'art': 'van gogh', 'opera': 'carmen'}\n",
    "cm = ChainMap(adjustments, baseline)\n",
    "list(cm)"
   ]
  },
  {
   "cell_type": "markdown",
   "metadata": {},
   "source": [
    "上述代码等同于以下代码"
   ]
  },
  {
   "cell_type": "code",
   "execution_count": 113,
   "metadata": {},
   "outputs": [
    {
     "data": {
      "text/plain": [
       "['music', 'art', 'opera']"
      ]
     },
     "execution_count": 113,
     "metadata": {},
     "output_type": "execute_result"
    }
   ],
   "source": [
    "combined = baseline.copy()\n",
    "combined.update(adjustments)\n",
    "list(combined)"
   ]
  },
  {
   "cell_type": "code",
   "execution_count": 116,
   "metadata": {},
   "outputs": [
    {
     "data": {
      "text/plain": [
       "KeysView(ChainMap({'art': 'van gogh', 'opera': 'carmen'}, {'music': 'bach', 'art': 'rembrandt'}))"
      ]
     },
     "execution_count": 116,
     "metadata": {},
     "output_type": "execute_result"
    }
   ],
   "source": [
    "cm.keys()"
   ]
  },
  {
   "cell_type": "code",
   "execution_count": 117,
   "metadata": {},
   "outputs": [
    {
     "data": {
      "text/plain": [
       "ValuesView(ChainMap({'art': 'van gogh', 'opera': 'carmen'}, {'music': 'bach', 'art': 'rembrandt'}))"
      ]
     },
     "execution_count": 117,
     "metadata": {},
     "output_type": "execute_result"
    }
   ],
   "source": [
    "cm.values()"
   ]
  },
  {
   "cell_type": "code",
   "execution_count": 118,
   "metadata": {},
   "outputs": [
    {
     "data": {
      "text/plain": [
       "True"
      ]
     },
     "execution_count": 118,
     "metadata": {},
     "output_type": "execute_result"
    }
   ],
   "source": [
    "'music' in cm.keys()"
   ]
  },
  {
   "cell_type": "code",
   "execution_count": 119,
   "metadata": {},
   "outputs": [
    {
     "data": {
      "text/plain": [
       "False"
      ]
     },
     "execution_count": 119,
     "metadata": {},
     "output_type": "execute_result"
    }
   ],
   "source": [
    "'musique' in cm.keys()"
   ]
  },
  {
   "cell_type": "code",
   "execution_count": 121,
   "metadata": {},
   "outputs": [
    {
     "data": {
      "text/plain": [
       "'van gogh'"
      ]
     },
     "execution_count": 121,
     "metadata": {},
     "output_type": "execute_result"
    }
   ],
   "source": [
    "cm['art']  # 在第一个map 找到，返回"
   ]
  },
  {
   "cell_type": "code",
   "execution_count": 122,
   "metadata": {},
   "outputs": [],
   "source": [
    "cm['sport'] = 'Jordan'  # 插入第一个map"
   ]
  },
  {
   "cell_type": "code",
   "execution_count": 123,
   "metadata": {},
   "outputs": [
    {
     "data": {
      "text/plain": [
       "ChainMap({'art': 'van gogh', 'opera': 'carmen', 'sport': 'Jordan'}, {'music': 'bach', 'art': 'rembrandt'})"
      ]
     },
     "execution_count": 123,
     "metadata": {},
     "output_type": "execute_result"
    }
   ],
   "source": [
    "cm "
   ]
  },
  {
   "cell_type": "code",
   "execution_count": 124,
   "metadata": {},
   "outputs": [
    {
     "data": {
      "text/plain": [
       "ChainMap({'art': 'Davincci', 'opera': 'carmen', 'sport': 'Jordan'}, {'music': 'bach', 'art': 'rembrandt'})"
      ]
     },
     "execution_count": 124,
     "metadata": {},
     "output_type": "execute_result"
    }
   ],
   "source": [
    "cm['art'] = 'Davincci'  # 修改第一个map\n",
    "cm"
   ]
  },
  {
   "cell_type": "code",
   "execution_count": 125,
   "metadata": {},
   "outputs": [],
   "source": [
    "del cm['art']  # 从第一个map 中删除"
   ]
  },
  {
   "cell_type": "code",
   "execution_count": 126,
   "metadata": {},
   "outputs": [
    {
     "data": {
      "text/plain": [
       "ChainMap({'opera': 'carmen', 'sport': 'Jordan'}, {'music': 'bach', 'art': 'rembrandt'})"
      ]
     },
     "execution_count": 126,
     "metadata": {},
     "output_type": "execute_result"
    }
   ],
   "source": [
    "cm"
   ]
  },
  {
   "cell_type": "markdown",
   "metadata": {},
   "source": [
    "#### maps: 返回一个list of mappings. "
   ]
  },
  {
   "cell_type": "code",
   "execution_count": 135,
   "metadata": {},
   "outputs": [
    {
     "data": {
      "text/plain": [
       "[{'opera': 'carmen', 'sport': 'Jordan'}, {'art': 'rembrandt', 'music': 'bach'}]"
      ]
     },
     "execution_count": 135,
     "metadata": {},
     "output_type": "execute_result"
    }
   ],
   "source": [
    "cm.maps"
   ]
  },
  {
   "cell_type": "markdown",
   "metadata": {},
   "source": [
    "#### new_child(m)  \n",
    "- m 也是一个dict，放在chainmap 的第一个"
   ]
  },
  {
   "cell_type": "code",
   "execution_count": 138,
   "metadata": {},
   "outputs": [
    {
     "data": {
      "text/plain": [
       "ChainMap({}, {'opera': 'carmen', 'sport': 'Jordan'}, {'music': 'bach', 'art': 'rembrandt'})"
      ]
     },
     "execution_count": 138,
     "metadata": {},
     "output_type": "execute_result"
    }
   ],
   "source": [
    "cm.new_child()  # 返回一个新的ChainMap，在里面添加了一个empty map"
   ]
  },
  {
   "cell_type": "code",
   "execution_count": 140,
   "metadata": {},
   "outputs": [],
   "source": [
    "dd = {'sport':'Jordan'}  "
   ]
  },
  {
   "cell_type": "code",
   "execution_count": 141,
   "metadata": {},
   "outputs": [
    {
     "data": {
      "text/plain": [
       "ChainMap({'sport': 'Jordan'}, {'opera': 'carmen', 'sport': 'Jordan'}, {'music': 'bach', 'art': 'rembrandt'})"
      ]
     },
     "execution_count": 141,
     "metadata": {},
     "output_type": "execute_result"
    }
   ],
   "source": [
    "cm.new_child(dd)  # 第一个dict"
   ]
  },
  {
   "cell_type": "markdown",
   "metadata": {},
   "source": [
    "#### parents\n",
    "\n",
    "返回一个新的ChainMap，包含了除了一个map 之外所有的maps"
   ]
  },
  {
   "cell_type": "code",
   "execution_count": 134,
   "metadata": {},
   "outputs": [
    {
     "data": {
      "text/plain": [
       "ChainMap({'music': 'bach', 'art': 'rembrandt'})"
      ]
     },
     "execution_count": 134,
     "metadata": {},
     "output_type": "execute_result"
    }
   ],
   "source": [
    "cm.parents  # cm 有两个map，返回第二个map"
   ]
  },
  {
   "cell_type": "markdown",
   "metadata": {},
   "source": [
    "#### Example\n",
    "\n",
    "ChainMap 常用的场景是Python interpreter 变量分析，例如，局部变量，全局变量等。"
   ]
  },
  {
   "cell_type": "markdown",
   "metadata": {},
   "source": [
    "### 5.3 `collections.Counter`\n",
    "\n",
    "A Counter is a dict subclass for counting hashable objects. A mapping that holds an integer count for each key. \n",
    "\n",
    "通常被用于实现一个multiset (or bag)，记录不同元素的个数。\n",
    "\n",
    "\n",
    "reference: https://docs.python.org/3/library/collections.html#counter-objects"
   ]
  },
  {
   "cell_type": "code",
   "execution_count": 88,
   "metadata": {},
   "outputs": [],
   "source": [
    "from collections import Counter"
   ]
  },
  {
   "cell_type": "code",
   "execution_count": 89,
   "metadata": {},
   "outputs": [
    {
     "data": {
      "text/plain": [
       "Counter({'a': 5, 'b': 2, 'c': 1, 'd': 1, 'r': 2})"
      ]
     },
     "execution_count": 89,
     "metadata": {},
     "output_type": "execute_result"
    }
   ],
   "source": [
    "ct = Counter('abracadabra')\n",
    "ct"
   ]
  },
  {
   "cell_type": "code",
   "execution_count": 41,
   "metadata": {},
   "outputs": [
    {
     "data": {
      "text/plain": [
       "Counter({'a': 10, 'b': 2, 'c': 1, 'd': 1, 'r': 2, 'z': 3})"
      ]
     },
     "execution_count": 41,
     "metadata": {},
     "output_type": "execute_result"
    }
   ],
   "source": [
    "ct.update('aaaaazzz')\n",
    "ct"
   ]
  },
  {
   "cell_type": "code",
   "execution_count": 42,
   "metadata": {},
   "outputs": [
    {
     "data": {
      "text/plain": [
       "[('a', 10), ('z', 3)]"
      ]
     },
     "execution_count": 42,
     "metadata": {},
     "output_type": "execute_result"
    }
   ],
   "source": [
    "ct.most_common(2)"
   ]
  },
  {
   "cell_type": "code",
   "execution_count": 45,
   "metadata": {},
   "outputs": [
    {
     "data": {
      "text/plain": [
       "['get',\n",
       " 'the',\n",
       " 'list',\n",
       " 'of',\n",
       " 'occurrences',\n",
       " 'for',\n",
       " 'word',\n",
       " 'or',\n",
       " 'if',\n",
       " 'not',\n",
       " 'found',\n",
       " 'append',\n",
       " 'new',\n",
       " 'location',\n",
       " 'to',\n",
       " 'occurrences',\n",
       " 'put',\n",
       " 'changed',\n",
       " 'occurrences',\n",
       " 'into',\n",
       " 'index',\n",
       " 'dict',\n",
       " 'this',\n",
       " 'entails',\n",
       " 'a',\n",
       " 'second',\n",
       " 'search',\n",
       " 'through',\n",
       " 'the',\n",
       " 'index',\n",
       " 'in',\n",
       " 'the',\n",
       " 'key',\n",
       " 'argument',\n",
       " 'of',\n",
       " 'sorted',\n",
       " 'i',\n",
       " 'am',\n",
       " 'not',\n",
       " 'calling',\n",
       " 'str',\n",
       " 'upper',\n",
       " 'just',\n",
       " 'passing',\n",
       " 'a',\n",
       " 'reference',\n",
       " 'to',\n",
       " 'that',\n",
       " 'method',\n",
       " 'so',\n",
       " 'the',\n",
       " 'sorted',\n",
       " 'function',\n",
       " 'can',\n",
       " 'use',\n",
       " 'it',\n",
       " 'to',\n",
       " 'normalize',\n",
       " 'the',\n",
       " 'words',\n",
       " 'for',\n",
       " 'sorting']"
      ]
     },
     "execution_count": 45,
     "metadata": {},
     "output_type": "execute_result"
    }
   ],
   "source": [
    "words = re.findall(r'\\w+', open('test.txt').read().lower())  # 读取文件，获取所有tokens\n",
    "words"
   ]
  },
  {
   "cell_type": "code",
   "execution_count": 48,
   "metadata": {},
   "outputs": [
    {
     "data": {
      "text/plain": [
       "Counter({'a': 2,\n",
       "         'am': 1,\n",
       "         'append': 1,\n",
       "         'argument': 1,\n",
       "         'calling': 1,\n",
       "         'can': 1,\n",
       "         'changed': 1,\n",
       "         'dict': 1,\n",
       "         'entails': 1,\n",
       "         'for': 2,\n",
       "         'found': 1,\n",
       "         'function': 1,\n",
       "         'get': 1,\n",
       "         'i': 1,\n",
       "         'if': 1,\n",
       "         'in': 1,\n",
       "         'index': 2,\n",
       "         'into': 1,\n",
       "         'it': 1,\n",
       "         'just': 1,\n",
       "         'key': 1,\n",
       "         'list': 1,\n",
       "         'location': 1,\n",
       "         'method': 1,\n",
       "         'new': 1,\n",
       "         'normalize': 1,\n",
       "         'not': 2,\n",
       "         'occurrences': 3,\n",
       "         'of': 2,\n",
       "         'or': 1,\n",
       "         'passing': 1,\n",
       "         'put': 1,\n",
       "         'reference': 1,\n",
       "         'search': 1,\n",
       "         'second': 1,\n",
       "         'so': 1,\n",
       "         'sorted': 2,\n",
       "         'sorting': 1,\n",
       "         'str': 1,\n",
       "         'that': 1,\n",
       "         'the': 5,\n",
       "         'this': 1,\n",
       "         'through': 1,\n",
       "         'to': 3,\n",
       "         'upper': 1,\n",
       "         'use': 1,\n",
       "         'word': 1,\n",
       "         'words': 1})"
      ]
     },
     "execution_count": 48,
     "metadata": {},
     "output_type": "execute_result"
    }
   ],
   "source": [
    "ct_words = Counter(words)  # 基于单词列表，生成一个token 计数器 -- counter 传入的必须是一个iterable 或者一个mapping\n",
    "ct_words"
   ]
  },
  {
   "cell_type": "code",
   "execution_count": 50,
   "metadata": {},
   "outputs": [
    {
     "data": {
      "text/plain": [
       "[('the', 5), ('occurrences', 3)]"
      ]
     },
     "execution_count": 50,
     "metadata": {},
     "output_type": "execute_result"
    }
   ],
   "source": [
    "ct_words.most_common(2)  # 查看出现次数最多的2个token"
   ]
  },
  {
   "cell_type": "markdown",
   "metadata": {},
   "source": [
    "注意：Counts are allowed to be any integer value including zero or **negative** counts.\n"
   ]
  },
  {
   "cell_type": "markdown",
   "metadata": {},
   "source": [
    "#### return a zero count for missing items instead of raising a KeyError"
   ]
  },
  {
   "cell_type": "code",
   "execution_count": 51,
   "metadata": {},
   "outputs": [
    {
     "data": {
      "text/plain": [
       "0"
      ]
     },
     "execution_count": 51,
     "metadata": {},
     "output_type": "execute_result"
    }
   ],
   "source": [
    "ct_words['Hello']"
   ]
  },
  {
   "cell_type": "markdown",
   "metadata": {},
   "source": [
    "#### Setting a count to zero does not remove an element from a counter. Use del to remove it entirely"
   ]
  },
  {
   "cell_type": "code",
   "execution_count": 52,
   "metadata": {},
   "outputs": [
    {
     "data": {
      "text/plain": [
       "dict_keys(['get', 'the', 'list', 'of', 'occurrences', 'for', 'word', 'or', 'if', 'not', 'found', 'append', 'new', 'location', 'to', 'put', 'changed', 'into', 'index', 'dict', 'this', 'entails', 'a', 'second', 'search', 'through', 'in', 'key', 'argument', 'sorted', 'i', 'am', 'calling', 'str', 'upper', 'just', 'passing', 'reference', 'that', 'method', 'so', 'function', 'can', 'use', 'it', 'normalize', 'words', 'sorting'])"
      ]
     },
     "execution_count": 52,
     "metadata": {},
     "output_type": "execute_result"
    }
   ],
   "source": [
    "ct_words.keys()"
   ]
  },
  {
   "cell_type": "code",
   "execution_count": 53,
   "metadata": {},
   "outputs": [
    {
     "data": {
      "text/plain": [
       "1"
      ]
     },
     "execution_count": 53,
     "metadata": {},
     "output_type": "execute_result"
    }
   ],
   "source": [
    "ct_words['get']"
   ]
  },
  {
   "cell_type": "code",
   "execution_count": 55,
   "metadata": {},
   "outputs": [],
   "source": [
    "ct_words['get'] = 0"
   ]
  },
  {
   "cell_type": "code",
   "execution_count": 56,
   "metadata": {},
   "outputs": [
    {
     "data": {
      "text/plain": [
       "0"
      ]
     },
     "execution_count": 56,
     "metadata": {},
     "output_type": "execute_result"
    }
   ],
   "source": [
    "ct_words['get'] "
   ]
  },
  {
   "cell_type": "code",
   "execution_count": 57,
   "metadata": {},
   "outputs": [
    {
     "data": {
      "text/plain": [
       "dict_keys(['get', 'the', 'list', 'of', 'occurrences', 'for', 'word', 'or', 'if', 'not', 'found', 'append', 'new', 'location', 'to', 'put', 'changed', 'into', 'index', 'dict', 'this', 'entails', 'a', 'second', 'search', 'through', 'in', 'key', 'argument', 'sorted', 'i', 'am', 'calling', 'str', 'upper', 'just', 'passing', 'reference', 'that', 'method', 'so', 'function', 'can', 'use', 'it', 'normalize', 'words', 'sorting'])"
      ]
     },
     "execution_count": 57,
     "metadata": {},
     "output_type": "execute_result"
    }
   ],
   "source": [
    "ct_words.keys()"
   ]
  },
  {
   "cell_type": "code",
   "execution_count": 58,
   "metadata": {},
   "outputs": [],
   "source": [
    "del ct_words['get'] "
   ]
  },
  {
   "cell_type": "code",
   "execution_count": 59,
   "metadata": {},
   "outputs": [
    {
     "data": {
      "text/plain": [
       "dict_keys(['the', 'list', 'of', 'occurrences', 'for', 'word', 'or', 'if', 'not', 'found', 'append', 'new', 'location', 'to', 'put', 'changed', 'into', 'index', 'dict', 'this', 'entails', 'a', 'second', 'search', 'through', 'in', 'key', 'argument', 'sorted', 'i', 'am', 'calling', 'str', 'upper', 'just', 'passing', 'reference', 'that', 'method', 'so', 'function', 'can', 'use', 'it', 'normalize', 'words', 'sorting'])"
      ]
     },
     "execution_count": 59,
     "metadata": {},
     "output_type": "execute_result"
    }
   ],
   "source": [
    "ct_words.keys()  # 我们可以看出，get 已经被完全删除了"
   ]
  },
  {
   "cell_type": "markdown",
   "metadata": {},
   "source": [
    "#### Counter 支持三个新的API"
   ]
  },
  {
   "cell_type": "markdown",
   "metadata": {},
   "source": [
    "#### `elements()`: 返回平铺的所有元素\n",
    "- counter 为0或负数时，忽略"
   ]
  },
  {
   "cell_type": "code",
   "execution_count": 64,
   "metadata": {},
   "outputs": [
    {
     "data": {
      "text/plain": [
       "['a', 'a', 'a', 'a', 'b', 'b']"
      ]
     },
     "execution_count": 64,
     "metadata": {},
     "output_type": "execute_result"
    }
   ],
   "source": [
    "c = collections.Counter(a=4, b=2, c=0, d=-2)\n",
    "sorted(c.elements())"
   ]
  },
  {
   "cell_type": "markdown",
   "metadata": {},
   "source": [
    "#### `most_common(n)`: 返回次数最多的n 个元素"
   ]
  },
  {
   "cell_type": "code",
   "execution_count": 65,
   "metadata": {},
   "outputs": [
    {
     "data": {
      "text/plain": [
       "[('a', 5), ('b', 2), ('r', 2)]"
      ]
     },
     "execution_count": 65,
     "metadata": {},
     "output_type": "execute_result"
    }
   ],
   "source": [
    "collections.Counter('abracadabra').most_common(3)"
   ]
  },
  {
   "cell_type": "markdown",
   "metadata": {},
   "source": [
    "#### `subtract([iterable-or-mapping])`"
   ]
  },
  {
   "cell_type": "code",
   "execution_count": 70,
   "metadata": {},
   "outputs": [
    {
     "data": {
      "text/plain": [
       "Counter({'a': 3, 'b': 0, 'c': -3, 'd': -6, 'e': 3, 'f': -2})"
      ]
     },
     "execution_count": 70,
     "metadata": {},
     "output_type": "execute_result"
    }
   ],
   "source": [
    "c = collections.Counter(a=4, b=2, c=0, d=-2, e=3)\n",
    "d = collections.Counter(a=1, b=2, c=3, d=4, f=2)\n",
    "c.subtract(d)\n",
    "c"
   ]
  },
  {
   "cell_type": "markdown",
   "metadata": {},
   "source": [
    "#### `update([iterable-or-mapping])`"
   ]
  },
  {
   "cell_type": "code",
   "execution_count": 69,
   "metadata": {},
   "outputs": [
    {
     "data": {
      "text/plain": [
       "Counter({'a': 5, 'b': 4, 'c': 3, 'd': 2, 'e': 3, 'f': 2})"
      ]
     },
     "execution_count": 69,
     "metadata": {},
     "output_type": "execute_result"
    }
   ],
   "source": [
    "c = collections.Counter(a=4, b=2, c=0, d=-2, e=3)\n",
    "d = collections.Counter(a=1, b=2, c=3, d=4, f=2)\n",
    "c.update(d)\n",
    "c"
   ]
  },
  {
   "cell_type": "markdown",
   "metadata": {},
   "source": [
    "#### Operations"
   ]
  },
  {
   "cell_type": "code",
   "execution_count": 77,
   "metadata": {},
   "outputs": [],
   "source": [
    "ct = collections.Counter({'a': 3, 'b': 0, 'c': -3, 'd': -6, 'e': 3, 'f': -2})"
   ]
  },
  {
   "cell_type": "code",
   "execution_count": 78,
   "metadata": {},
   "outputs": [
    {
     "data": {
      "text/plain": [
       "Counter({'a': 3, 'e': 3})"
      ]
     },
     "execution_count": 78,
     "metadata": {},
     "output_type": "execute_result"
    }
   ],
   "source": [
    "+c # remove zero or negative counters"
   ]
  },
  {
   "cell_type": "code",
   "execution_count": 79,
   "metadata": {},
   "outputs": [
    {
     "data": {
      "text/plain": [
       "-5"
      ]
     },
     "execution_count": 79,
     "metadata": {},
     "output_type": "execute_result"
    }
   ],
   "source": [
    "sum(c.values())  #total counts "
   ]
  },
  {
   "cell_type": "code",
   "execution_count": 80,
   "metadata": {},
   "outputs": [
    {
     "data": {
      "text/plain": [
       "['a', 'b', 'c', 'd', 'e', 'f']"
      ]
     },
     "execution_count": 80,
     "metadata": {},
     "output_type": "execute_result"
    }
   ],
   "source": [
    "list(c)  # list unique elements"
   ]
  },
  {
   "cell_type": "code",
   "execution_count": 81,
   "metadata": {},
   "outputs": [
    {
     "data": {
      "text/plain": [
       "{'a', 'b', 'c', 'd', 'e', 'f'}"
      ]
     },
     "execution_count": 81,
     "metadata": {},
     "output_type": "execute_result"
    }
   ],
   "source": [
    "set(c)  # convert to set"
   ]
  },
  {
   "cell_type": "code",
   "execution_count": 82,
   "metadata": {},
   "outputs": [
    {
     "data": {
      "text/plain": [
       "{'a': 3, 'b': 0, 'c': -3, 'd': -6, 'e': 3, 'f': -2}"
      ]
     },
     "execution_count": 82,
     "metadata": {},
     "output_type": "execute_result"
    }
   ],
   "source": [
    "dict(c)  # convert to a regular dictionary"
   ]
  },
  {
   "cell_type": "code",
   "execution_count": 83,
   "metadata": {},
   "outputs": [
    {
     "data": {
      "text/plain": [
       "dict_items([('a', 3), ('b', 0), ('c', -3), ('d', -6), ('e', 3), ('f', -2)])"
      ]
     },
     "execution_count": 83,
     "metadata": {},
     "output_type": "execute_result"
    }
   ],
   "source": [
    "c.items()  # convert to a list of (elem, cnt) pairs"
   ]
  },
  {
   "cell_type": "code",
   "execution_count": 85,
   "metadata": {},
   "outputs": [
    {
     "data": {
      "text/plain": [
       "[('d', -6), ('c', -3)]"
      ]
     },
     "execution_count": 85,
     "metadata": {},
     "output_type": "execute_result"
    }
   ],
   "source": [
    "n=2\n",
    "c.most_common()[:-n-1:-1]       # n least common elements"
   ]
  },
  {
   "cell_type": "markdown",
   "metadata": {},
   "source": [
    "#### math operations"
   ]
  },
  {
   "cell_type": "code",
   "execution_count": 90,
   "metadata": {},
   "outputs": [],
   "source": [
    "c = Counter(a=3, b=1)\n",
    "d = Counter(a=1, b=2)"
   ]
  },
  {
   "cell_type": "code",
   "execution_count": 91,
   "metadata": {},
   "outputs": [
    {
     "data": {
      "text/plain": [
       "Counter({'a': 4, 'b': 3})"
      ]
     },
     "execution_count": 91,
     "metadata": {},
     "output_type": "execute_result"
    }
   ],
   "source": [
    "c + d"
   ]
  },
  {
   "cell_type": "code",
   "execution_count": 92,
   "metadata": {},
   "outputs": [
    {
     "data": {
      "text/plain": [
       "Counter({'a': 2})"
      ]
     },
     "execution_count": 92,
     "metadata": {},
     "output_type": "execute_result"
    }
   ],
   "source": [
    "c - d  # 忽略b，因为counter 小于0"
   ]
  },
  {
   "cell_type": "code",
   "execution_count": 93,
   "metadata": {},
   "outputs": [
    {
     "data": {
      "text/plain": [
       "Counter({'b': 1})"
      ]
     },
     "execution_count": 93,
     "metadata": {},
     "output_type": "execute_result"
    }
   ],
   "source": [
    "d - c  # 忽略a，因为counter 小于0"
   ]
  },
  {
   "cell_type": "code",
   "execution_count": 94,
   "metadata": {},
   "outputs": [
    {
     "data": {
      "text/plain": [
       "Counter({'a': 1, 'b': 1})"
      ]
     },
     "execution_count": 94,
     "metadata": {},
     "output_type": "execute_result"
    }
   ],
   "source": [
    "c & d  # intersection:  min(c[x], d[x]) "
   ]
  },
  {
   "cell_type": "code",
   "execution_count": 95,
   "metadata": {},
   "outputs": [
    {
     "data": {
      "text/plain": [
       "Counter({'a': 3, 'b': 2})"
      ]
     },
     "execution_count": 95,
     "metadata": {},
     "output_type": "execute_result"
    }
   ],
   "source": [
    "c | d # union:  max(c[x], d[x])"
   ]
  },
  {
   "cell_type": "markdown",
   "metadata": {},
   "source": [
    "unary addition (一元) addition and subtraction 相当于加(减)了一个empty counter"
   ]
  },
  {
   "cell_type": "code",
   "execution_count": 97,
   "metadata": {},
   "outputs": [],
   "source": [
    "ct = Counter({'a': 3, 'b': 0, 'c': -3, 'd': -6, 'e': 3, 'f': -2})"
   ]
  },
  {
   "cell_type": "code",
   "execution_count": 98,
   "metadata": {},
   "outputs": [
    {
     "data": {
      "text/plain": [
       "Counter({'a': 3, 'e': 3})"
      ]
     },
     "execution_count": 98,
     "metadata": {},
     "output_type": "execute_result"
    }
   ],
   "source": [
    "+ct"
   ]
  },
  {
   "cell_type": "code",
   "execution_count": 101,
   "metadata": {},
   "outputs": [
    {
     "data": {
      "text/plain": [
       "Counter({'c': 3, 'd': 6, 'f': 2})"
      ]
     },
     "execution_count": 101,
     "metadata": {},
     "output_type": "execute_result"
    }
   ],
   "source": [
    "-ct  # 减一个负数相当于一个正数"
   ]
  },
  {
   "cell_type": "markdown",
   "metadata": {},
   "source": [
    "#### Notes:\n",
    "- value 可以存储任何值\n",
    "- most_common() 要求values 时可以被排序的\n",
    "- multiset: 所有的counter 都是positive values (>0)\n",
    "- elements(): requires integer counts"
   ]
  },
  {
   "cell_type": "code",
   "execution_count": 106,
   "metadata": {},
   "outputs": [],
   "source": [
    "ct = Counter({'a': 3.5, 'b': 1, 'c': -3.5})"
   ]
  },
  {
   "cell_type": "code",
   "execution_count": 107,
   "metadata": {},
   "outputs": [
    {
     "data": {
      "text/plain": [
       "[('a', 3.5), ('b', 1)]"
      ]
     },
     "execution_count": 107,
     "metadata": {},
     "output_type": "execute_result"
    }
   ],
   "source": [
    "ct.most_common(2)"
   ]
  },
  {
   "cell_type": "code",
   "execution_count": 109,
   "metadata": {},
   "outputs": [
    {
     "data": {
      "text/plain": [
       "<itertools.chain at 0x10889c978>"
      ]
     },
     "execution_count": 109,
     "metadata": {},
     "output_type": "execute_result"
    }
   ],
   "source": [
    "ct.elements()  # integer counts"
   ]
  },
  {
   "cell_type": "markdown",
   "metadata": {},
   "source": [
    "### 5.4 `collections.UserDict`: \n",
    "主要是用来在创建自己的mapping 类型时继承的"
   ]
  },
  {
   "cell_type": "markdown",
   "metadata": {},
   "source": [
    "## 6. Subclassing UserDict\n",
    "\n",
    "A better way to create a user-defined mapping type is to sub class collections.UserDict instead of dict. 通常继承UserDict 比dict 要更简单。\n",
    "\n",
    "Note that **UserDict** does not inherit from dict, but has an internal **dict** instance, called **data**, which holds the actual items.\n",
    "\n",
    "UserDict <- MutableMapping <- Mapping\n",
    "\n",
    "所以UserDict 具有父类所有的方法，例如：\n",
    "- `MutableMapping.update` \n",
    "\n",
    "- `Mapping.get`"
   ]
  },
  {
   "cell_type": "code",
   "execution_count": 185,
   "metadata": {},
   "outputs": [],
   "source": [
    "import collections\n",
    "\n",
    "class StrKeyDict(collections.UserDict):  # 继承UserDict\n",
    "\n",
    "    def __missing__(self, key):  # 与StrKeyDict 相同\n",
    "        if isinstance(key, str):\n",
    "            raise KeyError(key)\n",
    "        return self[str(key)]\n",
    "\n",
    "    def __contains__(self, key):\n",
    "        return str(key) in self.data  # simpler\n",
    "        # return key in self.keys() or str(key) in self.keys()\n",
    "        \n",
    "    def __setitem__(self, key, item):\n",
    "        self.data[str(key)] = item   # converts any key to a str"
   ]
  },
  {
   "cell_type": "markdown",
   "metadata": {},
   "source": [
    "## 7. Immutable Mappings\n",
    "\n",
    "guarantee that a user cannot change a mapping by mistake.\n",
    "\n",
    "mappingproxy: a read-only but dynamic view of the original mapping. 原始的mapping 如果修改了，可以从mappingproxy 看出来，但是mappingproxy 本身不能被修改。"
   ]
  },
  {
   "cell_type": "code",
   "execution_count": 186,
   "metadata": {},
   "outputs": [
    {
     "data": {
      "text/plain": [
       "mappingproxy({1: 'A'})"
      ]
     },
     "execution_count": 186,
     "metadata": {},
     "output_type": "execute_result"
    }
   ],
   "source": [
    "from types import MappingProxyType\n",
    "\n",
    "d = {1: 'A'}\n",
    "d_proxy = MappingProxyType(d)\n",
    "d_proxy"
   ]
  },
  {
   "cell_type": "code",
   "execution_count": 188,
   "metadata": {},
   "outputs": [
    {
     "data": {
      "text/plain": [
       "'A'"
      ]
     },
     "execution_count": 188,
     "metadata": {},
     "output_type": "execute_result"
    }
   ],
   "source": [
    "d_proxy[1]"
   ]
  },
  {
   "cell_type": "code",
   "execution_count": 189,
   "metadata": {},
   "outputs": [
    {
     "ename": "TypeError",
     "evalue": "'mappingproxy' object does not support item assignment",
     "output_type": "error",
     "traceback": [
      "\u001b[0;31m---------------------------------------------------------------------------\u001b[0m",
      "\u001b[0;31mTypeError\u001b[0m                                 Traceback (most recent call last)",
      "\u001b[0;32m<ipython-input-189-e5e23937cfcf>\u001b[0m in \u001b[0;36m<module>\u001b[0;34m()\u001b[0m\n\u001b[0;32m----> 1\u001b[0;31m \u001b[0md_proxy\u001b[0m\u001b[0;34m[\u001b[0m\u001b[0;36m1\u001b[0m\u001b[0;34m]\u001b[0m \u001b[0;34m=\u001b[0m \u001b[0;36m2\u001b[0m  \u001b[0;31m# 修改报错\u001b[0m\u001b[0;34m\u001b[0m\u001b[0m\n\u001b[0m",
      "\u001b[0;31mTypeError\u001b[0m: 'mappingproxy' object does not support item assignment"
     ]
    }
   ],
   "source": [
    "d_proxy[1] = 2  # 修改报错"
   ]
  },
  {
   "cell_type": "code",
   "execution_count": 190,
   "metadata": {},
   "outputs": [],
   "source": [
    "d[1] = 2"
   ]
  },
  {
   "cell_type": "code",
   "execution_count": 192,
   "metadata": {},
   "outputs": [
    {
     "data": {
      "text/plain": [
       "mappingproxy({1: 2})"
      ]
     },
     "execution_count": 192,
     "metadata": {},
     "output_type": "execute_result"
    }
   ],
   "source": [
    "d_proxy  # 修改d，d_proxy 也同样被修改了"
   ]
  },
  {
   "cell_type": "markdown",
   "metadata": {},
   "source": [
    "我们已经介绍了绝大多数mapping types，下面我们介绍set types."
   ]
  },
  {
   "cell_type": "markdown",
   "metadata": {},
   "source": [
    "## 8. Set Theory\n",
    "\n",
    "A set is a collection of unique objects. A basic use case is **removing duplication**.\n",
    "- Set elements must be hashable\n",
    "- The set type is not hashable\n",
    "- The frozenset type is hashable"
   ]
  },
  {
   "cell_type": "code",
   "execution_count": 193,
   "metadata": {},
   "outputs": [
    {
     "data": {
      "text/plain": [
       "{'eggs', 'spam'}"
      ]
     },
     "execution_count": 193,
     "metadata": {},
     "output_type": "execute_result"
    }
   ],
   "source": [
    "l = ['spam', 'spam', 'eggs', 'spam']\n",
    "set(l)"
   ]
  },
  {
   "cell_type": "code",
   "execution_count": 194,
   "metadata": {},
   "outputs": [
    {
     "data": {
      "text/plain": [
       "['eggs', 'spam']"
      ]
     },
     "execution_count": 194,
     "metadata": {},
     "output_type": "execute_result"
    }
   ],
   "source": [
    "list(set(l))"
   ]
  },
  {
   "cell_type": "markdown",
   "metadata": {},
   "source": [
    "set 的另一个使用场景是支持set operations, e.g., union, intersection, difference. 使用set operation 有时可以让程序更快，可读性更强。\n",
    "\n",
    "例如：**membership test**"
   ]
  },
  {
   "cell_type": "code",
   "execution_count": 203,
   "metadata": {},
   "outputs": [
    {
     "name": "stdout",
     "output_type": "stream",
     "text": [
      "2\n",
      "{1, 3}\n"
     ]
    }
   ],
   "source": [
    "s1 = set([1,2,3,4,5,6,7,8,9,10])\n",
    "s2 = set([1,3,100])\n",
    "\n",
    "intersection = s1 & s2\n",
    "print(len(intersection))  # 相同元素\n",
    "print(intersection)  # 相同元素的个数"
   ]
  },
  {
   "cell_type": "code",
   "execution_count": 197,
   "metadata": {},
   "outputs": [
    {
     "data": {
      "text/plain": [
       "{1, 3}"
      ]
     },
     "execution_count": 197,
     "metadata": {},
     "output_type": "execute_result"
    }
   ],
   "source": [
    "intersection = s1.intersection(s2)\n",
    "intersection"
   ]
  },
  {
   "cell_type": "markdown",
   "metadata": {},
   "source": [
    "如果不用set，我们需要用下面这样的循环嵌套来实现。"
   ]
  },
  {
   "cell_type": "code",
   "execution_count": 199,
   "metadata": {},
   "outputs": [],
   "source": [
    "def cal_intersection(iter1, iter2):\n",
    "    intersections = []\n",
    "    for n in iter1:\n",
    "        if n in iter2:\n",
    "            intersections.append(n)\n",
    "        \n",
    "    return intersections"
   ]
  },
  {
   "cell_type": "code",
   "execution_count": 201,
   "metadata": {},
   "outputs": [
    {
     "data": {
      "text/plain": [
       "[1, 3]"
      ]
     },
     "execution_count": 201,
     "metadata": {},
     "output_type": "execute_result"
    }
   ],
   "source": [
    "intersection = cal_intersection(s1, s2)\n",
    "intersection"
   ]
  },
  {
   "cell_type": "markdown",
   "metadata": {},
   "source": [
    "这种方法的limitation:\n",
    "- 稍慢\n",
    "- 可读性不如set intersection 操作\n",
    "\n",
    "优势：\n",
    "- 不一定是set，例如下面的例子。"
   ]
  },
  {
   "cell_type": "code",
   "execution_count": 202,
   "metadata": {},
   "outputs": [
    {
     "data": {
      "text/plain": [
       "[2, 2, 3, 3, 3]"
      ]
     },
     "execution_count": 202,
     "metadata": {},
     "output_type": "execute_result"
    }
   ],
   "source": [
    "lst1 = [1,2,2,3,3,3]\n",
    "lst2 = [2,3,3,4,4,4]\n",
    "\n",
    "intersection = cal_intersection(lst1, lst2)\n",
    "intersection"
   ]
  },
  {
   "cell_type": "markdown",
   "metadata": {},
   "source": [
    "我们可以看出，其实正确的结果是[2,3,3]\n",
    "\n",
    "todo: 改进"
   ]
  },
  {
   "cell_type": "markdown",
   "metadata": {},
   "source": [
    "### 8.1 Set Literals\n",
    "\n",
    "使用literal syntax 通常比较faster and readable.\n",
    "\n",
    "```python\n",
    "s1 = {1 ,2 ,3} \n",
    "```\n",
    "等同于\n",
    "```python\n",
    "s1 = set([1,2,3])\n",
    "```\n",
    "\n",
    "#### why literal is faster than constructor\n",
    "- literal: 调用`BUILD_SET` byte code\n",
    "- constructor:\n",
    "    - 在namespace 中找到set 的constructor\n",
    "    - build a list\n",
    "    - pass list to constructor\n",
    "\n",
    "下面，我们来验证一下这两种方法的byte code"
   ]
  },
  {
   "cell_type": "code",
   "execution_count": 210,
   "metadata": {},
   "outputs": [],
   "source": [
    "from dis import dis"
   ]
  },
  {
   "cell_type": "code",
   "execution_count": 211,
   "metadata": {},
   "outputs": [
    {
     "name": "stdout",
     "output_type": "stream",
     "text": [
      "  1           0 LOAD_CONST               0 (1)\n",
      "              2 BUILD_SET                1\n",
      "              4 RETURN_VALUE\n"
     ]
    }
   ],
   "source": [
    "dis('{1}')"
   ]
  },
  {
   "cell_type": "code",
   "execution_count": 212,
   "metadata": {},
   "outputs": [
    {
     "name": "stdout",
     "output_type": "stream",
     "text": [
      "  1           0 LOAD_NAME                0 (set)\n",
      "              2 LOAD_CONST               0 (1)\n",
      "              4 BUILD_LIST               1\n",
      "              6 CALL_FUNCTION            1\n",
      "              8 RETURN_VALUE\n"
     ]
    }
   ],
   "source": [
    "dis('set([1])')"
   ]
  },
  {
   "cell_type": "markdown",
   "metadata": {},
   "source": [
    "#### empty set\n",
    "- to create an empty set, you should use the constructor without an argument: set(). \n",
    "- If you write {}, you’re creating an empty dict"
   ]
  },
  {
   "cell_type": "code",
   "execution_count": 205,
   "metadata": {},
   "outputs": [
    {
     "data": {
      "text/plain": [
       "set"
      ]
     },
     "execution_count": 205,
     "metadata": {},
     "output_type": "execute_result"
    }
   ],
   "source": [
    "s1 = {1 ,2 ,3}  # non-empty set, 使用literal set syntax，等同于使用consructor: s1 = set([1,2,3])\n",
    "type(s1)"
   ]
  },
  {
   "cell_type": "code",
   "execution_count": 206,
   "metadata": {},
   "outputs": [
    {
     "data": {
      "text/plain": [
       "dict"
      ]
     },
     "execution_count": 206,
     "metadata": {},
     "output_type": "execute_result"
    }
   ],
   "source": [
    "s2 = {}  # dict\n",
    "type(s2)"
   ]
  },
  {
   "cell_type": "code",
   "execution_count": 208,
   "metadata": {},
   "outputs": [
    {
     "data": {
      "text/plain": [
       "set"
      ]
     },
     "execution_count": 208,
     "metadata": {},
     "output_type": "execute_result"
    }
   ],
   "source": [
    "s3 = set()\n",
    "type(s3)"
   ]
  },
  {
   "cell_type": "code",
   "execution_count": 209,
   "metadata": {},
   "outputs": [
    {
     "data": {
      "text/plain": [
       "set()"
      ]
     },
     "execution_count": 209,
     "metadata": {},
     "output_type": "execute_result"
    }
   ],
   "source": [
    "s3  # empty set"
   ]
  },
  {
   "cell_type": "markdown",
   "metadata": {},
   "source": [
    "#### FrozenSet\n",
    "\n",
    "没有特殊的literals, 必须通过constructor."
   ]
  },
  {
   "cell_type": "code",
   "execution_count": 213,
   "metadata": {},
   "outputs": [
    {
     "data": {
      "text/plain": [
       "frozenset({1, 2, 3})"
      ]
     },
     "execution_count": 213,
     "metadata": {},
     "output_type": "execute_result"
    }
   ],
   "source": [
    "frozenset([1,2,3])"
   ]
  },
  {
   "cell_type": "markdown",
   "metadata": {},
   "source": [
    "### 8.2 Set Comprehension"
   ]
  },
  {
   "cell_type": "code",
   "execution_count": 215,
   "metadata": {},
   "outputs": [
    {
     "data": {
      "text/plain": [
       "[0, 1, 2, 3, 4, 5, 6, 7, 8, 9]"
      ]
     },
     "execution_count": 215,
     "metadata": {},
     "output_type": "execute_result"
    }
   ],
   "source": [
    "lst = list(range(10))\n",
    "lst"
   ]
  },
  {
   "cell_type": "code",
   "execution_count": 217,
   "metadata": {},
   "outputs": [
    {
     "data": {
      "text/plain": [
       "{0, 1, 2}"
      ]
     },
     "execution_count": 217,
     "metadata": {},
     "output_type": "execute_result"
    }
   ],
   "source": [
    "s = {i % 3 for i in lst}  # 除以3的余数\n",
    "s"
   ]
  },
  {
   "cell_type": "markdown",
   "metadata": {},
   "source": [
    "### 8.3 Set Operations\n",
    "\n",
    "<img src=\"figures/set_operations.png\" width=\"600\"/>\n",
    "\n",
    "#### math operations\n",
    "\n",
    "<img src=\"figures/math_operations.png\" width=\"600\"/>\n",
    "\n",
    "#### set predicates\n",
    "\n",
    "<img src=\"figures/set_compare.png\" width=\"600\"/>\n",
    "\n",
    "#### set addition\n",
    "\n",
    "<img src=\"figures/set_addition.png\" width=\"500\"/>\n"
   ]
  },
  {
   "cell_type": "markdown",
   "metadata": {},
   "source": [
    "现在我们知道set 和dict 怎么用，下面我们介绍一下，set 和dict 是如何实现的(hash tables)。"
   ]
  },
  {
   "cell_type": "code",
   "execution_count": null,
   "metadata": {},
   "outputs": [],
   "source": []
  }
 ],
 "metadata": {
  "kernelspec": {
   "display_name": "Python 3",
   "language": "python",
   "name": "python3"
  },
  "language_info": {
   "codemirror_mode": {
    "name": "ipython",
    "version": 3
   },
   "file_extension": ".py",
   "mimetype": "text/x-python",
   "name": "python",
   "nbconvert_exporter": "python",
   "pygments_lexer": "ipython3",
   "version": "3.6.4"
  }
 },
 "nbformat": 4,
 "nbformat_minor": 2
}
