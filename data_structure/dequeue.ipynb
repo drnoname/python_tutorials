{
  "nbformat": 4,
  "nbformat_minor": 0,
  "metadata": {
    "kernelspec": {
      "display_name": "Python 3",
      "language": "python",
      "name": "python3"
    },
    "language_info": {
      "codemirror_mode": {
        "name": "ipython",
        "version": 3
      },
      "file_extension": ".py",
      "mimetype": "text/x-python",
      "name": "python",
      "nbconvert_exporter": "python",
      "pygments_lexer": "ipython3",
      "version": "3.6.4"
    },
    "colab": {
      "name": "dequeue.ipynb",
      "provenance": []
    }
  },
  "cells": [
    {
      "cell_type": "markdown",
      "metadata": {
        "id": "LN_dSJ0GEaPn",
        "colab_type": "text"
      },
      "source": [
        "# Queues\n",
        "\n",
        "- Deque\n",
        "- Queue, LifoQueue, PriorityQueue\n",
        "    - maxsize argument: \n",
        "    - thread safe\n",
        "    "
      ]
    },
    {
      "cell_type": "markdown",
      "metadata": {
        "id": "BBZeH09UEaPo",
        "colab_type": "text"
      },
      "source": [
        "## 1. deque\n",
        "\n",
        "**deque**: double-ended queue\n",
        "\n",
        "Often used to implement a FIFO or LIFO data structure.\n",
        "\n",
        "ref: https://docs.python.org/3/library/collections.html#deque-recipes"
      ]
    },
    {
      "cell_type": "markdown",
      "metadata": {
        "id": "AKtvHlX2EaPp",
        "colab_type": "text"
      },
      "source": [
        "### 1.1 Deque basics"
      ]
    },
    {
      "cell_type": "code",
      "metadata": {
        "id": "RcShOnYjEaPp",
        "colab_type": "code",
        "colab": {}
      },
      "source": [
        "from collections import deque"
      ],
      "execution_count": null,
      "outputs": []
    },
    {
      "cell_type": "code",
      "metadata": {
        "id": "akXPROCrEaPs",
        "colab_type": "code",
        "colab": {}
      },
      "source": [
        "d = deque('ghi')  # 创建一个deque"
      ],
      "execution_count": null,
      "outputs": []
    },
    {
      "cell_type": "code",
      "metadata": {
        "id": "2a9VpBklEaPu",
        "colab_type": "code",
        "colab": {},
        "outputId": "635fdac5-633c-4799-a093-378bce4ec248"
      },
      "source": [
        "for elem in d:  # 遍历一个deque\n",
        "    print(elem.upper())"
      ],
      "execution_count": null,
      "outputs": [
        {
          "output_type": "stream",
          "text": [
            "G\n",
            "H\n",
            "I\n"
          ],
          "name": "stdout"
        }
      ]
    },
    {
      "cell_type": "code",
      "metadata": {
        "id": "fL1p2u3fEaPx",
        "colab_type": "code",
        "colab": {},
        "outputId": "075d60a0-0e85-4712-eeb0-399ebed3d2e8"
      },
      "source": [
        "d.append('j')   # 右侧加入元素\n",
        "d"
      ],
      "execution_count": null,
      "outputs": [
        {
          "output_type": "execute_result",
          "data": {
            "text/plain": [
              "deque(['g', 'h', 'i', 'j'])"
            ]
          },
          "metadata": {
            "tags": []
          },
          "execution_count": 12
        }
      ]
    },
    {
      "cell_type": "code",
      "metadata": {
        "id": "WdxRmVsYEaP0",
        "colab_type": "code",
        "colab": {},
        "outputId": "197e6e39-f422-4e9c-cbc9-94fe60edfe2c"
      },
      "source": [
        "d.appendleft('f')  # 左侧加入元素\n",
        "d"
      ],
      "execution_count": null,
      "outputs": [
        {
          "output_type": "execute_result",
          "data": {
            "text/plain": [
              "deque(['f', 'g', 'h', 'i', 'j'])"
            ]
          },
          "metadata": {
            "tags": []
          },
          "execution_count": 13
        }
      ]
    },
    {
      "cell_type": "code",
      "metadata": {
        "id": "8ylZpIv1EaP2",
        "colab_type": "code",
        "colab": {},
        "outputId": "cd5734a5-3074-4a8d-e594-053e866326b1"
      },
      "source": [
        "d.pop()  # 删除右侧元素"
      ],
      "execution_count": null,
      "outputs": [
        {
          "output_type": "execute_result",
          "data": {
            "text/plain": [
              "'j'"
            ]
          },
          "metadata": {
            "tags": []
          },
          "execution_count": 14
        }
      ]
    },
    {
      "cell_type": "code",
      "metadata": {
        "id": "EBFMFxgGEaP4",
        "colab_type": "code",
        "colab": {},
        "outputId": "349154f7-fc92-45c5-9973-11a1e9d32ee7"
      },
      "source": [
        "d"
      ],
      "execution_count": null,
      "outputs": [
        {
          "output_type": "execute_result",
          "data": {
            "text/plain": [
              "deque(['f', 'g', 'h', 'i'])"
            ]
          },
          "metadata": {
            "tags": []
          },
          "execution_count": 15
        }
      ]
    },
    {
      "cell_type": "code",
      "metadata": {
        "id": "QZ5qkeqXEaP6",
        "colab_type": "code",
        "colab": {},
        "outputId": "9ec050e5-1721-40c0-f99b-9f52668d431a"
      },
      "source": [
        "d.popleft()   # 删除左侧元素"
      ],
      "execution_count": null,
      "outputs": [
        {
          "output_type": "execute_result",
          "data": {
            "text/plain": [
              "'f'"
            ]
          },
          "metadata": {
            "tags": []
          },
          "execution_count": 16
        }
      ]
    },
    {
      "cell_type": "code",
      "metadata": {
        "id": "GP4Xo9zhEaP8",
        "colab_type": "code",
        "colab": {},
        "outputId": "8387aa97-5cb7-4a51-96c8-c22cbb23ab35"
      },
      "source": [
        "d"
      ],
      "execution_count": null,
      "outputs": [
        {
          "output_type": "execute_result",
          "data": {
            "text/plain": [
              "deque(['g', 'h', 'i'])"
            ]
          },
          "metadata": {
            "tags": []
          },
          "execution_count": 17
        }
      ]
    },
    {
      "cell_type": "code",
      "metadata": {
        "id": "PX0NG3r5EaP-",
        "colab_type": "code",
        "colab": {},
        "outputId": "d2a6d769-ae42-4ab8-e6a7-c650fe963668"
      },
      "source": [
        "lst = list(d)  # deque 转化为list\n",
        "lst"
      ],
      "execution_count": null,
      "outputs": [
        {
          "output_type": "execute_result",
          "data": {
            "text/plain": [
              "['g', 'h', 'i']"
            ]
          },
          "metadata": {
            "tags": []
          },
          "execution_count": 18
        }
      ]
    },
    {
      "cell_type": "code",
      "metadata": {
        "id": "PRnLS3a8EaQA",
        "colab_type": "code",
        "colab": {},
        "outputId": "2e2faed9-4ba4-461a-d78b-bc92f1394044"
      },
      "source": [
        "lst_reverse = list(reversed(d))  # reverse\n",
        "lst_reverse"
      ],
      "execution_count": null,
      "outputs": [
        {
          "output_type": "execute_result",
          "data": {
            "text/plain": [
              "['i', 'h', 'g']"
            ]
          },
          "metadata": {
            "tags": []
          },
          "execution_count": 21
        }
      ]
    },
    {
      "cell_type": "code",
      "metadata": {
        "id": "bXPC2hvMEaQD",
        "colab_type": "code",
        "colab": {},
        "outputId": "8d723d96-5b84-4e3e-8033-7790fb913758"
      },
      "source": [
        "d[0]  # 获取deque 的第1个元素"
      ],
      "execution_count": null,
      "outputs": [
        {
          "output_type": "execute_result",
          "data": {
            "text/plain": [
              "'g'"
            ]
          },
          "metadata": {
            "tags": []
          },
          "execution_count": 20
        }
      ]
    },
    {
      "cell_type": "code",
      "metadata": {
        "id": "EXdoNym7EaQF",
        "colab_type": "code",
        "colab": {}
      },
      "source": [
        "d.extend('jkl')  # 右侧加入元素"
      ],
      "execution_count": null,
      "outputs": []
    },
    {
      "cell_type": "code",
      "metadata": {
        "id": "mXHhjHL-EaQH",
        "colab_type": "code",
        "colab": {},
        "outputId": "9a142a55-2d77-4d76-c855-e69533070326"
      },
      "source": [
        "d"
      ],
      "execution_count": null,
      "outputs": [
        {
          "output_type": "execute_result",
          "data": {
            "text/plain": [
              "deque(['g', 'h', 'i', 'j', 'k', 'l'])"
            ]
          },
          "metadata": {
            "tags": []
          },
          "execution_count": 23
        }
      ]
    },
    {
      "cell_type": "code",
      "metadata": {
        "id": "CQzsyCQrEaQJ",
        "colab_type": "code",
        "colab": {},
        "outputId": "d54095bf-7cd9-4c2c-98b6-ca0a00b15229"
      },
      "source": [
        "d.rotate(1) # right rotation\n",
        "d"
      ],
      "execution_count": null,
      "outputs": [
        {
          "output_type": "execute_result",
          "data": {
            "text/plain": [
              "deque(['l', 'g', 'h', 'i', 'j', 'k'])"
            ]
          },
          "metadata": {
            "tags": []
          },
          "execution_count": 24
        }
      ]
    },
    {
      "cell_type": "code",
      "metadata": {
        "id": "yPcxE1MnEaQK",
        "colab_type": "code",
        "colab": {},
        "outputId": "d9a008fb-80db-4101-84cf-72b039197145"
      },
      "source": [
        "d.rotate(-1) # right rotation\n",
        "d"
      ],
      "execution_count": null,
      "outputs": [
        {
          "output_type": "execute_result",
          "data": {
            "text/plain": [
              "deque(['g', 'h', 'i', 'j', 'k', 'l'])"
            ]
          },
          "metadata": {
            "tags": []
          },
          "execution_count": 25
        }
      ]
    },
    {
      "cell_type": "code",
      "metadata": {
        "id": "EnKifHpjEaQM",
        "colab_type": "code",
        "colab": {}
      },
      "source": [
        "d_reverse = deque(reversed(d))  # deque 反向排序"
      ],
      "execution_count": null,
      "outputs": []
    },
    {
      "cell_type": "code",
      "metadata": {
        "id": "pN5W9tfjEaQO",
        "colab_type": "code",
        "colab": {},
        "outputId": "32fd3ebb-1241-4fae-bd6d-6d93cd0a0365"
      },
      "source": [
        "d_reverse"
      ],
      "execution_count": null,
      "outputs": [
        {
          "output_type": "execute_result",
          "data": {
            "text/plain": [
              "deque(['l', 'k', 'j', 'i', 'h', 'g'])"
            ]
          },
          "metadata": {
            "tags": []
          },
          "execution_count": 27
        }
      ]
    },
    {
      "cell_type": "code",
      "metadata": {
        "id": "OiP6_g2AEaQQ",
        "colab_type": "code",
        "colab": {},
        "outputId": "5f0aa476-b1c2-46ef-9fd6-1138888076bc"
      },
      "source": [
        "d.clear()   # 清空deque\n",
        "d"
      ],
      "execution_count": null,
      "outputs": [
        {
          "output_type": "execute_result",
          "data": {
            "text/plain": [
              "deque([])"
            ]
          },
          "metadata": {
            "tags": []
          },
          "execution_count": 28
        }
      ]
    },
    {
      "cell_type": "code",
      "metadata": {
        "id": "11ItaDQUEaQR",
        "colab_type": "code",
        "colab": {},
        "outputId": "5b8d9627-e97f-4626-d0f5-590a80ed03c3"
      },
      "source": [
        "d.pop()  # cannot pop from an empty deque"
      ],
      "execution_count": null,
      "outputs": [
        {
          "output_type": "error",
          "ename": "IndexError",
          "evalue": "pop from an empty deque",
          "traceback": [
            "\u001b[0;31m---------------------------------------------------------------------------\u001b[0m",
            "\u001b[0;31mIndexError\u001b[0m                                Traceback (most recent call last)",
            "\u001b[0;32m<ipython-input-29-c6e7652478ae>\u001b[0m in \u001b[0;36m<module>\u001b[0;34m()\u001b[0m\n\u001b[0;32m----> 1\u001b[0;31m \u001b[0md\u001b[0m\u001b[0;34m.\u001b[0m\u001b[0mpop\u001b[0m\u001b[0;34m(\u001b[0m\u001b[0;34m)\u001b[0m  \u001b[0;31m# cannot pop from an empty deque\u001b[0m\u001b[0;34m\u001b[0m\u001b[0m\n\u001b[0m",
            "\u001b[0;31mIndexError\u001b[0m: pop from an empty deque"
          ]
        }
      ]
    },
    {
      "cell_type": "code",
      "metadata": {
        "id": "gwSQZoAWEaQT",
        "colab_type": "code",
        "colab": {},
        "outputId": "a4b39420-a943-4771-cc9f-09d59907db0b"
      },
      "source": [
        "d.extendleft('abc')  # 左侧加入元素\n",
        "d"
      ],
      "execution_count": null,
      "outputs": [
        {
          "output_type": "execute_result",
          "data": {
            "text/plain": [
              "deque(['c', 'b', 'a'])"
            ]
          },
          "metadata": {
            "tags": []
          },
          "execution_count": 30
        }
      ]
    },
    {
      "cell_type": "markdown",
      "metadata": {
        "id": "A-qUk09YEaQV",
        "colab_type": "text"
      },
      "source": [
        "### 1.2 Deque 使用场景"
      ]
    },
    {
      "cell_type": "markdown",
      "metadata": {
        "id": "lz66MXVoEaQV",
        "colab_type": "text"
      },
      "source": [
        "#### 用途1: Bounded length deques provide functionality similar to the tail filter in Unix"
      ]
    },
    {
      "cell_type": "code",
      "metadata": {
        "id": "OI9rxYu0EaQW",
        "colab_type": "code",
        "colab": {}
      },
      "source": [
        "def tail(filename, n=10):\n",
        "    'Return the last n lines of a file'\n",
        "    with open(filename) as f:\n",
        "        return deque(f, n)"
      ],
      "execution_count": null,
      "outputs": []
    },
    {
      "cell_type": "markdown",
      "metadata": {
        "id": "ZOMqv7W0EaQY",
        "colab_type": "text"
      },
      "source": [
        "#### 用途2: using deques is to maintain a sequence of recently added elements by appending to the right and popping to the left:"
      ]
    },
    {
      "cell_type": "code",
      "metadata": {
        "id": "7QAG7Fd4EaQY",
        "colab_type": "code",
        "colab": {}
      },
      "source": [
        "def moving_average(iterable, n=3):\n",
        "    # moving_average([40, 30, 50, 46, 39, 44]) --> 40.0 42.0 45.0 43.0\n",
        "    # http://en.wikipedia.org/wiki/Moving_average\n",
        "    it = iter(iterable)\n",
        "    d = deque(itertools.islice(it, n-1))\n",
        "    d.appendleft(0)\n",
        "    s = sum(d)\n",
        "    for elem in it:\n",
        "        s += elem - d.popleft()\n",
        "        d.append(elem)\n",
        "        yield s / n"
      ],
      "execution_count": null,
      "outputs": []
    },
    {
      "cell_type": "markdown",
      "metadata": {
        "id": "xt551r9TEaQa",
        "colab_type": "text"
      },
      "source": [
        "#### 3. rotate + pop = delete 任意一个元素\n",
        "\n",
        "因为deque 只能对队列的两边进行操作，如果我们想删除中间的元素，我们可以使用rotate + pop"
      ]
    },
    {
      "cell_type": "code",
      "metadata": {
        "id": "o9z7RX0aEaQa",
        "colab_type": "code",
        "colab": {}
      },
      "source": [
        "def delete_nth(d, n):\n",
        "    print('\\toriginal d -> ',d)\n",
        "    d.rotate(-n)\n",
        "    print('\\trotate d-> ',d)\n",
        "    d.popleft()\n",
        "    print('\\tafter pop d-> ',d)\n",
        "    d.rotate(n)\n",
        "    print('\\tfinal rotate d-> ',d)"
      ],
      "execution_count": null,
      "outputs": []
    },
    {
      "cell_type": "code",
      "metadata": {
        "id": "PMulb2E5EaQc",
        "colab_type": "code",
        "colab": {},
        "outputId": "10c89448-ef2d-46d3-8fd0-6880dd509279"
      },
      "source": [
        "d = deque('hello')\n",
        "print(d)\n",
        "delete_nth(d,3)\n",
        "print(d)"
      ],
      "execution_count": null,
      "outputs": [
        {
          "output_type": "stream",
          "text": [
            "deque(['h', 'e', 'l', 'l', 'o'])\n",
            "\toriginal d ->  deque(['h', 'e', 'l', 'l', 'o'])\n",
            "\trotate d->  deque(['l', 'o', 'h', 'e', 'l'])\n",
            "\tafter pop d->  deque(['o', 'h', 'e', 'l'])\n",
            "\tfinal rotate d->  deque(['h', 'e', 'l', 'o'])\n",
            "deque(['h', 'e', 'l', 'o'])\n"
          ],
          "name": "stdout"
        }
      ]
    },
    {
      "cell_type": "markdown",
      "metadata": {
        "id": "gLhuqcwHEaQe",
        "colab_type": "text"
      },
      "source": [
        "我们使用同样的原理，也可以实现slicing.\n",
        "\n",
        "To implement deque slicing, use a similar approach applying rotate() to bring a target element to the left side of the deque. Remove old entries with popleft(), add new entries with extend(), and then reverse the rotation. With minor variations on that approach, it is easy to implement Forth style stack manipulations such as dup, drop, swap, over, pick, rot, and roll."
      ]
    },
    {
      "cell_type": "markdown",
      "metadata": {
        "id": "oonbVpNxEaQf",
        "colab_type": "text"
      },
      "source": [
        "## 2. Queue\n",
        "\n",
        "it waits until some other thread makes room by taking an item from the queue, which is useful to throttle the number of live threads"
      ]
    },
    {
      "cell_type": "markdown",
      "metadata": {
        "id": "RdMbEOOqEeIN",
        "colab_type": "text"
      },
      "source": [
        "This is a test."
      ]
    },
    {
      "cell_type": "code",
      "metadata": {
        "id": "YvketeQaEaQf",
        "colab_type": "code",
        "colab": {}
      },
      "source": [
        ""
      ],
      "execution_count": null,
      "outputs": []
    }
  ]
}